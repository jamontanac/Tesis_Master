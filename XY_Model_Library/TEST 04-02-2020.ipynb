{
 "cells": [
  {
   "cell_type": "code",
   "execution_count": 1,
   "metadata": {
    "ExecuteTime": {
     "end_time": "2020-02-04T15:40:42.397970Z",
     "start_time": "2020-02-04T15:40:41.361252Z"
    }
   },
   "outputs": [],
   "source": [
    "import numpy as np\n",
    "import matplotlib.pylab as plt\n",
    "import numpy as np\n",
    "import matplotlib.pylab as plt\n",
    "import pandas as pd\n",
    "import pyfftw\n",
    "from scipy.linalg import circulant,toeplitz, hankel, expm\n",
    "from matplotlib import colors\n",
    "import pickle\n",
    "import sys\n",
    "#from scipy.fftpack import fft, ifft,ifftshift,fftshift\n",
    "#from IPython.display import display, HTML\n",
    "\n",
    "\n",
    "class Sampling_Random_State:\n",
    "\n",
    "    #### --------- Definition of variables ------------------------\n",
    "    N_size=50001\n",
    "    Gamma=0.5\n",
    "    Lambda=0.5\n",
    "    num_data = 2000\n",
    "    #### ------------------------------------------------------------\n",
    "\n",
    "\n",
    "    @classmethod\n",
    "    def Alpha(cls,theta:np.float64)-> np.float64:\n",
    "        return cls.Lambda+np.cos(theta)\n",
    "    @classmethod\n",
    "    def Beta(cls,theta:np.float64)-> np.float64:\n",
    "        return cls.Gamma*np.sin(theta)\n",
    "    @classmethod\n",
    "    def Omega(cls,theta:np.float64)-> np.float64:\n",
    "        return np.sqrt(cls.Alpha(theta)**2 + cls.Beta(theta)**2 )\n",
    "    @classmethod\n",
    "    def Phi(cls,theta:np.float64)-> np.float64:\n",
    "        return np.arctan2(cls.Beta(theta),cls.Alpha(theta))\n",
    "\n",
    "\n",
    "\n",
    "    @classmethod\n",
    "    def Fermi_dirac(cls,n:np.int64,mu:np.float64 =0) -> np.float64:\n",
    "        # beta is the inverse thermic energy associated in the system (beta)\n",
    "        # mu corresponds to the chemical potential\n",
    "        # n is the position of the particle\n",
    "        # f=np.exp(T*(Omega(Gamma,Lambda,2.0*(np.pi/N)*n)-mu)) +1\n",
    "        # N corresponds to the size of the system\n",
    "        beta = np.min(cls.Omega(np.linspace(-np.pi,np.pi,int(1000))))\n",
    "        f=np.exp(beta*(cls.Omega(((2.*np.pi)/np.float64(cls.N_size)) * n)-mu)) +1\n",
    "        return 1/f\n",
    "\n",
    "    @classmethod\n",
    "    def Sample_State(cls,Ground:bool =False,mu:np.float64 = 0.0)-> np.ndarray:\n",
    "\n",
    "        if Ground:\n",
    "            x=np.arange(0,(cls.N_size-1)/2+ 1)\n",
    "            m_cos=[-0.5 for i in x]\n",
    "            m_sin=[-0.5 for i in x]\n",
    "            x=np.arange(-(cls.N_size-1)/2,(cls.N_size-1)/2+1)\n",
    "            M_minous=[((m_cos[np.abs(int(i))]-m_sin[np.abs(int(i))])*0.5*np.exp(1.j*np.sign((2.0*np.pi/cls.N_size) * i)*cls.Phi(np.abs((2.0*np.pi/cls.N_size) * i)))) for i in x]\n",
    "            M_plus = [((m_cos[np.abs(int(i))]+m_sin[np.abs(int(i))])*0.5*np.exp(1.j*np.sign((2.0*np.pi/cls.N_size) * i)*cls.Phi(np.abs((2.0*np.pi/cls.N_size) * i)))) for i in x]\n",
    "            Mminousband=np.array(M_minous)\n",
    "            Mplusband=np.array(M_plus)\n",
    "        else:\n",
    "            x=np.arange(0,(cls.N_size-1)/2+ 1)\n",
    "            m_cos=[-0.5 if np.random.random()>cls.Fermi_dirac(mu=mu,n=i) else 0.5 for i in x]\n",
    "            m_sin=[-0.5 if np.random.random()>cls.Fermi_dirac(mu=mu,n=i) else 0.5 for i in x]\n",
    "            x=np.arange(-(cls.N_size-1)/2,(cls.N_size-1)/2+1)\n",
    "            M_minous=[((m_cos[np.abs(int(i))]-m_sin[np.abs(int(i))])*0.5*np.exp(1.j*np.sign((2.0*np.pi/cls.N_size) * i)*cls.Phi(np.abs((2.0*np.pi/cls.N_size) * i)))) for i in x]\n",
    "            M_plus = [((m_cos[np.abs(int(i))]+m_sin[np.abs(int(i))])*0.5*np.exp(1.j*np.sign((2.0*np.pi/cls.N_size) * i)*cls.Phi(np.abs((2.0*np.pi/cls.N_size) * i)))) for i in x]\n",
    "            Mminousband=np.array(M_minous)\n",
    "            Mplusband=np.array(M_plus)\n",
    "        return Mminousband,Mplusband\n",
    "\n",
    "    @classmethod\n",
    "    def Get_Bands_Matrix(cls,Ground:bool =False,mu:np.float64 = 0.0)-> np.ndarray:\n",
    "        Mminous, Mplus = cls.Sample_State(Ground=Ground,mu=mu)\n",
    "        x=np.arange(-(cls.N_size-1)/2,(cls.N_size-1)/2+ 1)\n",
    "        M_plus=pyfftw.empty_aligned(cls.N_size, dtype='complex128')\n",
    "        M_plus[:]=np.fft.ifftshift(Mplus)\n",
    "        M_minous=pyfftw.empty_aligned(cls.N_size, dtype='complex128')\n",
    "        M_minous[:]=np.fft.ifftshift(Mminous)\n",
    "        Fourier_minous=pyfftw.interfaces.numpy_fft.fft(M_minous)\n",
    "        Fourier_plus=pyfftw.interfaces.numpy_fft.fft(M_plus)\n",
    "        return Fourier_minous/cls.N_size, Fourier_plus/cls.N_size\n"
   ]
  },
  {
   "cell_type": "code",
   "execution_count": 2,
   "metadata": {
    "ExecuteTime": {
     "end_time": "2020-02-04T15:40:45.611145Z",
     "start_time": "2020-02-04T15:40:45.391111Z"
    }
   },
   "outputs": [
    {
     "data": {
      "text/html": [
       "\n",
       "<style>\n",
       ".output {\n",
       "    display: flex;\n",
       "    align-items: left;\n",
       "    text-align: center;\n",
       "}\n",
       "</style>\n"
      ],
      "text/plain": [
       "<IPython.core.display.HTML object>"
      ]
     },
     "metadata": {},
     "output_type": "display_data"
    }
   ],
   "source": [
    "import numpy as np\n",
    "import matplotlib.pylab as plt\n",
    "import pandas as pd\n",
    "from ipywidgets import interactive\n",
    "import numpy as np\n",
    "import matplotlib.pylab as plt\n",
    "import pandas as pd\n",
    "from ipywidgets import interactive\n",
    "from scipy.fftpack import fft, ifft,ifftshift,fftshift\n",
    "from IPython.display import display, HTML\n",
    "from scipy.linalg import circulant\n",
    "from scipy.linalg import toeplitz, hankel\n",
    "from IPython.display import clear_output\n",
    "from scipy.linalg import expm\n",
    "import pickle\n",
    "from matplotlib import colors\n",
    "import h5py\n",
    "from tqdm import tqdm_notebook as tqdm\n",
    "#### --------- Definition of variables ------------------------\n",
    "\n",
    "N_size=50001 #\n",
    "Gamma=0.5\n",
    "Lambda=0.5\n",
    "num_data=2000\n",
    "#### ------------------------------------------------------------\n",
    "def Fermi_dirac(beta,mu,n,Gamma=Gamma,Lambda=Lambda,N=N_size):\n",
    "    # beta is the inverse thermic energy associated in the system (beta)\n",
    "    # mu corresponds to the chemical potential\n",
    "    # n is the position of the particle\n",
    "    # f=np.exp(T*(Omega(Gamma,Lambda,2.0*(np.pi/N)*n)-mu)) +1\n",
    "    # N corresponds to the size of the system\n",
    "    f=np.exp(beta*(Omega(Gamma,Lambda,((2.*np.pi)/float(N)) * n)-mu)) +1\n",
    "    return 1/f\n",
    "\n",
    "\n",
    "display(HTML(\"\"\"\n",
    "<style>\n",
    ".output {\n",
    "    display: flex;\n",
    "    align-items: left;\n",
    "    text-align: center;\n",
    "}\n",
    "</style>\n",
    "\"\"\"))\n",
    "\n",
    "def Alpha(Gamma,Lambda,theta):\n",
    "    return Lambda+np.cos(theta)\n",
    "def Beta(Gamma,Lambda,theta):\n",
    "    return Gamma*np.sin(theta)\n",
    "def Omega(Gamma,Lambda,theta):\n",
    "    return np.sqrt(Alpha(Gamma,Lambda,theta)**2 + Beta(Gamma,Lambda,theta)**2 )\n",
    "def Phi(Gamma,Lambda,theta):\n",
    "    return np.arctan2(Beta(Gamma,Lambda,theta),Alpha(Gamma,Lambda,theta))\n",
    "\n",
    "\n",
    "def Get_Bands_Matrix(N_size,Gamma=Gamma,Lambda=Lambda,beta=0.40824,mu=0,Ground =False):\n",
    "    if Ground:\n",
    "        x=np.arange(0,(N_size-1)/2+ 1)\n",
    "        m_cos=[-0.5 for i in x]\n",
    "        m_sin=[-0.5 for i in x]\n",
    "        x=np.arange(-(N_size-1)/2,(N_size-1)/2+1)\n",
    "        M_minous=[((m_cos[np.abs(int(i))]-m_sin[np.abs(int(i))])*0.5*np.exp(1.j*np.sign((2.0*np.pi/N_size) * i)*Phi(Gamma,Lambda,np.abs((2.0*np.pi/N_size) * i)))) for i in x]\n",
    "        M_plus = [((m_cos[np.abs(int(i))]+m_sin[np.abs(int(i))])*0.5*np.exp(1.j*np.sign((2.0*np.pi/N_size) * i)*Phi(Gamma,Lambda,np.abs((2.0*np.pi/N_size) * i)))) for i in x]\n",
    "        Mminousband=np.array(M_minous)\n",
    "        Mplusband=np.array(M_plus)\n",
    "        \n",
    "    else:\n",
    "        x=np.arange(0,(N_size-1)/2+ 1)\n",
    "        m_cos=[-0.5 if np.random.random()>Fermi_dirac(beta,mu,n=i) else 0.5 for i in x]\n",
    "        m_sin=[-0.5 if np.random.random()>Fermi_dirac(beta,mu,n=i) else 0.5 for i in x]\n",
    "        x=np.arange(-(N_size-1)/2,(N_size-1)/2+1)\n",
    "\n",
    "        M_minous=[((m_cos[np.abs(int(i))]-m_sin[np.abs(int(i))])*0.5*np.exp(1.j*np.sign((2.0*np.pi/N_size) * i)*Phi(Gamma,Lambda,np.abs((2.0*np.pi/N_size) * i)))) for i in x]\n",
    "        M_plus = [((m_cos[np.abs(int(i))]+m_sin[np.abs(int(i))])*0.5*np.exp(1.j*np.sign((2.0*np.pi/N_size) * i)*Phi(Gamma,Lambda,np.abs((2.0*np.pi/N_size) * i)))) for i in x]\n",
    "        Mminousband=np.array(M_minous)\n",
    "        Mplusband=np.array(M_plus)\n",
    "    return Mminousband,Mplusband  \n",
    "    #x=np.arange(-(N_size-1)/2,(N_size-1)/2+ 1)\n",
    "    #Fourier_plus=fft(ifftshift(Mplusband))\n",
    "    #Fourier_minous=fft(ifftshift(Mminousband))\n",
    "    #return Fourier_plus/N_size,Fourier_minous/N_size\n"
   ]
  },
  {
   "cell_type": "code",
   "execution_count": null,
   "metadata": {
    "ExecuteTime": {
     "end_time": "2020-02-04T15:41:25.351375Z",
     "start_time": "2020-02-04T15:41:25.346473Z"
    }
   },
   "outputs": [],
   "source": []
  },
  {
   "cell_type": "code",
   "execution_count": null,
   "metadata": {
    "ExecuteTime": {
     "end_time": "2020-02-04T15:41:30.966161Z",
     "start_time": "2020-02-04T15:41:25.623806Z"
    }
   },
   "outputs": [],
   "source": []
  },
  {
   "cell_type": "code",
   "execution_count": null,
   "metadata": {
    "ExecuteTime": {
     "end_time": "2020-02-04T15:41:36.553794Z",
     "start_time": "2020-02-04T15:41:34.849953Z"
    }
   },
   "outputs": [],
   "source": []
  },
  {
   "cell_type": "code",
   "execution_count": null,
   "metadata": {
    "ExecuteTime": {
     "end_time": "2020-02-04T15:38:11.837160Z",
     "start_time": "2020-02-04T15:38:11.816773Z"
    }
   },
   "outputs": [],
   "source": []
  },
  {
   "cell_type": "code",
   "execution_count": null,
   "metadata": {
    "ExecuteTime": {
     "end_time": "2020-02-04T15:38:14.194922Z",
     "start_time": "2020-02-04T15:38:14.179272Z"
    }
   },
   "outputs": [],
   "source": []
  },
  {
   "cell_type": "code",
   "execution_count": null,
   "metadata": {
    "ExecuteTime": {
     "end_time": "2020-02-04T15:43:22.287700Z",
     "start_time": "2020-02-04T15:43:22.280937Z"
    }
   },
   "outputs": [],
   "source": []
  },
  {
   "cell_type": "code",
   "execution_count": null,
   "metadata": {
    "ExecuteTime": {
     "end_time": "2020-02-04T15:43:54.542503Z",
     "start_time": "2020-02-04T15:43:54.535620Z"
    }
   },
   "outputs": [],
   "source": []
  },
  {
   "cell_type": "code",
   "execution_count": null,
   "metadata": {},
   "outputs": [],
   "source": []
  }
 ],
 "metadata": {
  "kernelspec": {
   "display_name": "Python 3",
   "language": "python",
   "name": "python3"
  },
  "language_info": {
   "codemirror_mode": {
    "name": "ipython",
    "version": 3
   },
   "file_extension": ".py",
   "mimetype": "text/x-python",
   "name": "python",
   "nbconvert_exporter": "python",
   "pygments_lexer": "ipython3",
   "version": "3.7.6"
  },
  "toc": {
   "base_numbering": 1,
   "nav_menu": {},
   "number_sections": true,
   "sideBar": true,
   "skip_h1_title": false,
   "title_cell": "Table of Contents",
   "title_sidebar": "Contents",
   "toc_cell": false,
   "toc_position": {},
   "toc_section_display": true,
   "toc_window_display": false
  },
  "varInspector": {
   "cols": {
    "lenName": 16,
    "lenType": 16,
    "lenVar": 40
   },
   "kernels_config": {
    "python": {
     "delete_cmd_postfix": "",
     "delete_cmd_prefix": "del ",
     "library": "var_list.py",
     "varRefreshCmd": "print(var_dic_list())"
    },
    "r": {
     "delete_cmd_postfix": ") ",
     "delete_cmd_prefix": "rm(",
     "library": "var_list.r",
     "varRefreshCmd": "cat(var_dic_list()) "
    }
   },
   "types_to_exclude": [
    "module",
    "function",
    "builtin_function_or_method",
    "instance",
    "_Feature"
   ],
   "window_display": false
  }
 },
 "nbformat": 4,
 "nbformat_minor": 4
}
