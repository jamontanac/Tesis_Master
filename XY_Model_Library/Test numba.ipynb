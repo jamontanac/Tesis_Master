{
 "cells": [
  {
   "cell_type": "code",
   "execution_count": 15,
   "metadata": {
    "ExecuteTime": {
     "end_time": "2020-02-04T03:01:46.672245Z",
     "start_time": "2020-02-04T03:01:46.667458Z"
    }
   },
   "outputs": [],
   "source": [
    "import numpy as np\n",
    "import matplotlib.pylab as plt\n",
    "import pandas as pd\n",
    "from scipy.fftpack import ifftshift,fftshift,fft,ifft\n",
    "from scipy.linalg import circulant,toeplitz, hankel, expm\n",
    "from matplotlib import colors\n",
    "import pickle\n",
    "import sys\n",
    "from numba import jit\n"
   ]
  },
  {
   "cell_type": "code",
   "execution_count": 6,
   "metadata": {
    "ExecuteTime": {
     "end_time": "2020-02-03T19:51:59.375055Z",
     "start_time": "2020-02-03T19:51:59.351192Z"
    }
   },
   "outputs": [],
   "source": [
    "class Sampling_Random_State:\n",
    "    #### --------- Definition of variables ------------------------\n",
    "    N_size=500001\n",
    "    Gamma=0.5\n",
    "    Lambda=0.5\n",
    "    num_data = 2000\n",
    "    #### ------------------------------------------------------------\n",
    "\n",
    "\n",
    "    @classmethod\n",
    "    def Alpha(cls,theta:np.float64)-> np.float64:\n",
    "        return cls.Lambda+np.cos(theta)\n",
    "    @classmethod\n",
    "    def Beta(cls,theta:np.float64)-> np.float64:\n",
    "        return cls.Gamma*np.sin(theta)\n",
    "    @classmethod\n",
    "    def Omega(cls,theta:np.float64)-> np.float64:\n",
    "        return np.sqrt(cls.Alpha(theta)**2 + cls.Beta(theta)**2 )\n",
    "    @classmethod\n",
    "    def Phi(cls,theta:np.float64)-> np.float64:\n",
    "        return np.arctan2(cls.Beta(theta),cls.Alpha(theta))\n",
    "\n",
    "\n",
    "\n",
    "    @classmethod\n",
    "    def Fermi_dirac(cls,n:np.int64,mu:np.float64 =0) -> np.float64:\n",
    "        # beta is the inverse thermic energy associated in the system (beta)\n",
    "        # mu corresponds to the chemical potential\n",
    "        # n is the position of the particle\n",
    "        # f=np.exp(T*(Omega(Gamma,Lambda,2.0*(np.pi/N)*n)-mu)) +1\n",
    "        # N corresponds to the size of the system\n",
    "        beta = np.min(cls.Omega(np.linspace(-np.pi,np.pi,int(1000))))\n",
    "        f=np.exp(beta*(cls.Omega(((2.*np.pi)/np.float64(cls.N_size)) * n)-mu)) +1\n",
    "        return 1/f\n",
    "\n",
    "    @classmethod\n",
    "    def Sample_State(cls,Ground:bool =False,mu:np.float64 = 0.0)-> np.ndarray:\n",
    "\n",
    "        if Ground:\n",
    "            x=np.arange(0,(cls.N_size-1)/2+ 1)\n",
    "            m_cos=[-0.5 for i in x]\n",
    "            m_sin=[-0.5 for i in x]\n",
    "            x=np.arange(-(cls.N_size-1)/2,(cls.N_size-1)/2+1)\n",
    "            M_minous=[((m_cos[np.abs(int(i))]-m_sin[np.abs(int(i))])*0.5*np.exp(1.j*np.sign((2.0*np.pi/cls.N_size) * i)*cls.Phi(np.abs((2.0*np.pi/cls.N_size) * i)))) for i in x]\n",
    "            M_plus = [((m_cos[np.abs(int(i))]+m_sin[np.abs(int(i))])*0.5*np.exp(1.j*np.sign((2.0*np.pi/cls.N_size) * i)*cls.Phi(np.abs((2.0*np.pi/cls.N_size) * i)))) for i in x]\n",
    "            Mminousband=np.array(M_minous)\n",
    "            Mplusband=np.array(M_plus)\n",
    "        else:\n",
    "            x=np.arange(0,(cls.N_size-1)/2+ 1)\n",
    "            m_cos=[-0.5 if np.random.random()>cls.Fermi_dirac(mu=mu,n=i) else 0.5 for i in x]\n",
    "            m_sin=[-0.5 if np.random.random()>cls.Fermi_dirac(mu=mu,n=i) else 0.5 for i in x]\n",
    "            x=np.arange(-(cls.N_size-1)/2,(cls.N_size-1)/2+1)\n",
    "            M_minous=[((m_cos[np.abs(int(i))]-m_sin[np.abs(int(i))])*0.5*np.exp(1.j*np.sign((2.0*np.pi/cls.N_size) * i)*cls.Phi(np.abs((2.0*np.pi/cls.N_size) * i)))) for i in x]\n",
    "            M_plus = [((m_cos[np.abs(int(i))]+m_sin[np.abs(int(i))])*0.5*np.exp(1.j*np.sign((2.0*np.pi/cls.N_size) * i)*cls.Phi(np.abs((2.0*np.pi/cls.N_size) * i)))) for i in x]\n",
    "            Mminousband=np.array(M_minous)\n",
    "            Mplusband=np.array(M_plus)\n",
    "        return Mminousband,Mplusband"
   ]
  },
  {
   "cell_type": "code",
   "execution_count": null,
   "metadata": {},
   "outputs": [],
   "source": [
    "@jit(nopython=True)"
   ]
  },
  {
   "cell_type": "code",
   "execution_count": 5,
   "metadata": {
    "ExecuteTime": {
     "end_time": "2020-02-03T19:51:37.671961Z",
     "start_time": "2020-02-03T19:51:37.667331Z"
    }
   },
   "outputs": [],
   "source": [
    "a= Sampling_Random_State()"
   ]
  },
  {
   "cell_type": "code",
   "execution_count": null,
   "metadata": {
    "ExecuteTime": {
     "end_time": "2020-02-03T20:52:44.712155Z",
     "start_time": "2020-02-03T20:52:44.696123Z"
    }
   },
   "outputs": [],
   "source": []
  },
  {
   "cell_type": "code",
   "execution_count": 89,
   "metadata": {
    "ExecuteTime": {
     "end_time": "2020-02-03T20:52:34.067018Z",
     "start_time": "2020-02-03T20:52:29.162885Z"
    }
   },
   "outputs": [
    {
     "name": "stdout",
     "output_type": "stream",
     "text": [
      "6.08 ms ± 635 µs per loop (mean ± std. dev. of 7 runs, 100 loops each)\n"
     ]
    }
   ],
   "source": [
    "%%timeit \n",
    "a.Sample_State()"
   ]
  },
  {
   "cell_type": "code",
   "execution_count": 77,
   "metadata": {
    "ExecuteTime": {
     "end_time": "2020-02-03T20:49:02.734098Z",
     "start_time": "2020-02-03T20:49:02.723854Z"
    }
   },
   "outputs": [],
   "source": [
    "N_size=5001\n",
    "#N_size=51\n",
    "Lambda=0.5\n",
    "Gamma=0.5\n",
    "@jit(nopython=True)\n",
    "def Alpha(theta:np.float64)-> np.float64:\n",
    "    return Lambda+np.cos(theta)\n",
    "@jit(nopython=True)\n",
    "def Beta(theta:np.float64)-> np.float64:\n",
    "    return Gamma*np.sin(theta)\n",
    "@jit(nopython=True)\n",
    "def Omega(theta:np.float64)-> np.float64:\n",
    "    return np.sqrt(Alpha(theta)**2 + Beta(theta)**2 )\n",
    "@jit(nopython=True)\n",
    "def Phi(theta:np.float64)-> np.float64:\n",
    "    return np.arctan2(Beta(theta),Alpha(theta))\n",
    "@jit(nopython=True)\n",
    "def Fermi_dirac(n:np.int64,mu:np.float64 =0) -> np.float64:\n",
    "        # beta is the inverse thermic energy associated in the system (beta)\n",
    "        # mu corresponds to the chemical potential\n",
    "        # n is the position of the particle\n",
    "        # f=np.exp(T*(Omega(Gamma,Lambda,2.0*(np.pi/N)*n)-mu)) +1\n",
    "        # N corresponds to the size of the system\n",
    "        beta = np.min(Omega(np.linspace(-np.pi,np.pi,int(1000))))\n",
    "        f=np.exp(beta*(Omega(((2.*np.pi)/np.float64(N_size)) * n)-mu)) +1\n",
    "        return 1/f"
   ]
  },
  {
   "cell_type": "code",
   "execution_count": 64,
   "metadata": {
    "ExecuteTime": {
     "end_time": "2020-02-03T20:42:52.226407Z",
     "start_time": "2020-02-03T20:42:52.221423Z"
    }
   },
   "outputs": [
    {
     "data": {
      "text/plain": [
       "32"
      ]
     },
     "execution_count": 64,
     "metadata": {},
     "output_type": "execute_result"
    }
   ],
   "source": [
    "np.int64(32)"
   ]
  },
  {
   "cell_type": "code",
   "execution_count": 83,
   "metadata": {
    "ExecuteTime": {
     "end_time": "2020-02-03T20:50:34.556358Z",
     "start_time": "2020-02-03T20:50:34.545091Z"
    }
   },
   "outputs": [],
   "source": [
    "N_size=500001\n",
    "@jit(nopython=True,parallel=True,fastmath = True)\n",
    "def test():\n",
    "    m_cos = np.zeros((N_size-1)//2+1,dtype=np.float64)\n",
    "    m_sin = np.zeros((N_size-1)//2+1,dtype=np.float64)\n",
    "    for index,i in enumerate(range(int((N_size-1)//2)+1)):\n",
    "        randoms = np.random.random(2)\n",
    "        if randoms[0] > Fermi_dirac(mu=0,n=np.int64(i)):\n",
    "            m_cos[index]=-0.5 \n",
    "        else:\n",
    "            m_cos[index]=0.5\n",
    "        if randoms[1] > Fermi_dirac(mu=0,n=np.int64(i)):\n",
    "            m_sin[index]=-0.5\n",
    "        else:\n",
    "            m_sin[index]=0.5\n",
    "    return m_sin, m_cos\n",
    "    #Mplus= np.zeros(N_size,dtype=np.complex)\n",
    "    #Mminous= np.zeros(N_size,dtype=np.complex)\n",
    "    #for index,i in enumerate(np.arange(-(N_size-1)/2,(N_size-1)/2+1)):\n",
    "    #    Mplus[index] = 0.5*(m_cos[np.abs(int(i))] + m_sin[np.abs(int(i))])*np.exp(1.j*np.sign((2.0*np.pi/N_size) * i)*Phi(np.abs((2.0*np.pi/N_size) * i)))\n",
    "    #    Mminous[index] = 0.5*(m_cos[np.abs(int(i))] - m_sin[np.abs(int(i))])*np.exp(1.j*np.sign((2.0*np.pi/N_size) * i)*Phi(np.abs((2.0*np.pi/N_size) * i)))\n",
    "    #return Mplus,Mminous\n",
    "    \n",
    "    \n",
    "        "
   ]
  },
  {
   "cell_type": "code",
   "execution_count": 84,
   "metadata": {
    "ExecuteTime": {
     "end_time": "2020-02-03T20:50:35.764337Z",
     "start_time": "2020-02-03T20:50:35.761144Z"
    }
   },
   "outputs": [],
   "source": [
    "import time"
   ]
  },
  {
   "cell_type": "code",
   "execution_count": 86,
   "metadata": {
    "ExecuteTime": {
     "end_time": "2020-02-03T20:51:01.652294Z",
     "start_time": "2020-02-03T20:50:42.335814Z"
    }
   },
   "outputs": [
    {
     "name": "stdout",
     "output_type": "stream",
     "text": [
      "Elapsed (with compilation) = 19.312328100204468\n"
     ]
    }
   ],
   "source": [
    "start = time.time()\n",
    "test()\n",
    "end = time.time()\n",
    "print(\"Elapsed (with compilation) = %s\" % (end - start))"
   ]
  },
  {
   "cell_type": "code",
   "execution_count": 87,
   "metadata": {
    "ExecuteTime": {
     "end_time": "2020-02-03T20:51:26.094059Z",
     "start_time": "2020-02-03T20:51:07.585166Z"
    }
   },
   "outputs": [],
   "source": [
    "# NOW THE FUNCTION IS COMPILED, RE-TIME IT EXECUTING FROM CACHE\n",
    "start = time.time()\n",
    "test()\n",
    "end = time.time()"
   ]
  },
  {
   "cell_type": "code",
   "execution_count": null,
   "metadata": {
    "ExecuteTime": {
     "end_time": "2020-02-03T20:51:56.618336Z",
     "start_time": "2020-02-03T20:51:56.613423Z"
    }
   },
   "outputs": [],
   "source": []
  },
  {
   "cell_type": "code",
   "execution_count": 13,
   "metadata": {
    "ExecuteTime": {
     "end_time": "2020-02-03T19:12:40.073517Z",
     "start_time": "2020-02-03T19:12:40.069090Z"
    }
   },
   "outputs": [],
   "source": [
    "x=np.arange(0,(500001-1)/2+ 1)\n",
    "cosa=map(a.Fermi_dirac,x)"
   ]
  },
  {
   "cell_type": "code",
   "execution_count": 17,
   "metadata": {
    "ExecuteTime": {
     "end_time": "2020-02-03T19:13:51.651533Z",
     "start_time": "2020-02-03T19:13:51.645812Z"
    }
   },
   "outputs": [],
   "source": []
  },
  {
   "cell_type": "code",
   "execution_count": 28,
   "metadata": {
    "ExecuteTime": {
     "end_time": "2020-02-03T19:16:08.256115Z",
     "start_time": "2020-02-03T19:16:08.252193Z"
    }
   },
   "outputs": [],
   "source": [
    "algo=map(a.Fermi_dirac,x)"
   ]
  },
  {
   "cell_type": "code",
   "execution_count": 29,
   "metadata": {
    "ExecuteTime": {
     "end_time": "2020-02-03T19:16:46.998467Z",
     "start_time": "2020-02-03T19:16:08.513385Z"
    }
   },
   "outputs": [
    {
     "data": {
      "text/plain": [
       "array([0.44914523, 0.44914523, 0.44914523, ..., 0.44914523, 0.44914523,\n",
       "       0.44914523])"
      ]
     },
     "execution_count": 29,
     "metadata": {},
     "output_type": "execute_result"
    }
   ],
   "source": [
    "np.array(list(algo))"
   ]
  },
  {
   "cell_type": "code",
   "execution_count": null,
   "metadata": {
    "ExecuteTime": {
     "end_time": "2020-02-03T19:58:38.492411Z",
     "start_time": "2020-02-03T19:58:38.487369Z"
    }
   },
   "outputs": [],
   "source": []
  },
  {
   "cell_type": "code",
   "execution_count": 12,
   "metadata": {
    "ExecuteTime": {
     "end_time": "2020-02-03T19:58:41.832057Z",
     "start_time": "2020-02-03T19:58:41.827372Z"
    }
   },
   "outputs": [
    {
     "data": {
      "text/plain": [
       "21"
      ]
     },
     "execution_count": 12,
     "metadata": {},
     "output_type": "execute_result"
    }
   ],
   "source": [
    "len(x)"
   ]
  },
  {
   "cell_type": "code",
   "execution_count": 10,
   "metadata": {
    "ExecuteTime": {
     "end_time": "2020-02-03T19:53:52.617711Z",
     "start_time": "2020-02-03T19:53:52.609544Z"
    }
   },
   "outputs": [
    {
     "name": "stdout",
     "output_type": "stream",
     "text": [
      "-10.0\n",
      "-9.0\n",
      "-8.0\n",
      "-7.0\n",
      "-6.0\n",
      "-5.0\n",
      "-4.0\n",
      "-3.0\n",
      "-2.0\n",
      "-1.0\n",
      "0.0\n",
      "1.0\n",
      "2.0\n",
      "3.0\n",
      "4.0\n",
      "5.0\n",
      "6.0\n",
      "7.0\n",
      "8.0\n",
      "9.0\n",
      "10.0\n"
     ]
    }
   ],
   "source": [
    "for i in x:\n",
    "    print(i)"
   ]
  },
  {
   "cell_type": "code",
   "execution_count": 40,
   "metadata": {
    "ExecuteTime": {
     "end_time": "2020-02-03T19:26:01.146359Z",
     "start_time": "2020-02-03T19:26:01.140238Z"
    }
   },
   "outputs": [
    {
     "data": {
      "text/plain": [
       "array([  0.,   1.,   2.,   3.,   4.,   5.,   6.,   7.,   8.,   9.,  10.,\n",
       "       -10.,  -9.,  -8.,  -7.,  -6.,  -5.,  -4.,  -3.,  -2.,  -1.])"
      ]
     },
     "execution_count": 40,
     "metadata": {},
     "output_type": "execute_result"
    }
   ],
   "source": [
    "np.roll(x,(21-1)//2 + 1)"
   ]
  },
  {
   "cell_type": "code",
   "execution_count": 35,
   "metadata": {
    "ExecuteTime": {
     "end_time": "2020-02-03T19:24:54.547494Z",
     "start_time": "2020-02-03T19:24:54.541392Z"
    }
   },
   "outputs": [
    {
     "data": {
      "text/plain": [
       "array([  0.,   1.,   2.,   3.,   4.,   5.,   6.,   7.,   8.,   9.,  10.,\n",
       "       -10.,  -9.,  -8.,  -7.,  -6.,  -5.,  -4.,  -3.,  -2.,  -1.])"
      ]
     },
     "execution_count": 35,
     "metadata": {},
     "output_type": "execute_result"
    }
   ],
   "source": [
    "ifftshift(x)"
   ]
  },
  {
   "cell_type": "code",
   "execution_count": 41,
   "metadata": {
    "ExecuteTime": {
     "end_time": "2020-02-03T19:26:22.534148Z",
     "start_time": "2020-02-03T19:26:22.527298Z"
    }
   },
   "outputs": [
    {
     "data": {
      "text/plain": [
       "array([  0.,   1.,   2.,   3.,   4.,   5.,   6.,   7.,   8.,   9.,  10.,\n",
       "       -10.,  -9.,  -8.,  -7.,  -6.,  -5.,  -4.,  -3.,  -2.,  -1.])"
      ]
     },
     "execution_count": 41,
     "metadata": {},
     "output_type": "execute_result"
    }
   ],
   "source": [
    "np.roll(x,-(21-1)//2 )"
   ]
  },
  {
   "cell_type": "code",
   "execution_count": 42,
   "metadata": {
    "ExecuteTime": {
     "end_time": "2020-02-03T19:38:19.799864Z",
     "start_time": "2020-02-03T19:38:19.796115Z"
    }
   },
   "outputs": [],
   "source": [
    "a=True"
   ]
  },
  {
   "cell_type": "code",
   "execution_count": 43,
   "metadata": {
    "ExecuteTime": {
     "end_time": "2020-02-03T19:38:22.384240Z",
     "start_time": "2020-02-03T19:38:22.378325Z"
    }
   },
   "outputs": [
    {
     "data": {
      "text/plain": [
       "bool"
      ]
     },
     "execution_count": 43,
     "metadata": {},
     "output_type": "execute_result"
    }
   ],
   "source": [
    "type(True)"
   ]
  },
  {
   "cell_type": "code",
   "execution_count": 14,
   "metadata": {
    "ExecuteTime": {
     "end_time": "2020-02-03T20:08:50.252569Z",
     "start_time": "2020-02-03T20:08:50.247745Z"
    }
   },
   "outputs": [
    {
     "data": {
      "text/plain": [
       "7"
      ]
     },
     "execution_count": 14,
     "metadata": {},
     "output_type": "execute_result"
    }
   ],
   "source": [
    "15//2"
   ]
  },
  {
   "cell_type": "code",
   "execution_count": 1,
   "metadata": {
    "ExecuteTime": {
     "end_time": "2020-02-04T03:02:57.867435Z",
     "start_time": "2020-02-04T03:02:57.854480Z"
    }
   },
   "outputs": [],
   "source": [
    "from scipy.fftpack import ifftshift,fftshift,fft,ifft\n",
    "import numpy as np"
   ]
  },
  {
   "cell_type": "code",
   "execution_count": 2,
   "metadata": {
    "ExecuteTime": {
     "end_time": "2020-02-04T03:02:58.901238Z",
     "start_time": "2020-02-04T03:02:58.876262Z"
    }
   },
   "outputs": [],
   "source": [
    "N_size=5000001\n",
    "x=np.arange(-(N_size-1)/2,(N_size-1)/2+1)"
   ]
  },
  {
   "cell_type": "code",
   "execution_count": 3,
   "metadata": {
    "ExecuteTime": {
     "end_time": "2020-02-04T03:03:14.176989Z",
     "start_time": "2020-02-04T03:03:00.334590Z"
    }
   },
   "outputs": [
    {
     "name": "stdout",
     "output_type": "stream",
     "text": [
      "1.72 s ± 8.64 ms per loop (mean ± std. dev. of 7 runs, 1 loop each)\n"
     ]
    }
   ],
   "source": [
    "%%timeit\n",
    "np.fft.fft(np.roll(x,-(N_size-1)//2))"
   ]
  },
  {
   "cell_type": "code",
   "execution_count": 4,
   "metadata": {
    "ExecuteTime": {
     "end_time": "2020-02-04T03:12:15.358540Z",
     "start_time": "2020-02-04T03:03:20.979906Z"
    }
   },
   "outputs": [
    {
     "name": "stdout",
     "output_type": "stream",
     "text": [
      "1min 6s ± 2.04 s per loop (mean ± std. dev. of 7 runs, 1 loop each)\n"
     ]
    }
   ],
   "source": [
    "%%timeit\n",
    "fft(ifftshift(x))"
   ]
  },
  {
   "cell_type": "code",
   "execution_count": 5,
   "metadata": {
    "ExecuteTime": {
     "end_time": "2020-02-04T03:12:29.973508Z",
     "start_time": "2020-02-04T03:12:15.395919Z"
    }
   },
   "outputs": [
    {
     "name": "stdout",
     "output_type": "stream",
     "text": [
      "1.82 s ± 155 ms per loop (mean ± std. dev. of 7 runs, 1 loop each)\n"
     ]
    }
   ],
   "source": [
    "%%timeit\n",
    "np.fft.fft(ifftshift(x))"
   ]
  },
  {
   "cell_type": "code",
   "execution_count": null,
   "metadata": {
    "ExecuteTime": {
     "start_time": "2020-02-04T03:04:24.121Z"
    }
   },
   "outputs": [],
   "source": [
    "%%timeit\n",
    "fft(np.roll(x,-(N_size-1)//2))"
   ]
  },
  {
   "cell_type": "markdown",
   "metadata": {},
   "source": [
    "# Timing the different options"
   ]
  },
  {
   "cell_type": "code",
   "execution_count": 9,
   "metadata": {
    "ExecuteTime": {
     "end_time": "2020-02-04T05:00:38.745978Z",
     "start_time": "2020-02-04T05:00:38.725715Z"
    }
   },
   "outputs": [],
   "source": [
    "import numpy as np\n",
    "from scipy.fftpack import ifftshift,fftshift,fft,ifft\n",
    "class Sampling_Random_State:\n",
    "    #### --------- Definition of variables ------------------------\n",
    "    N_size=500001\n",
    "    Gamma=0.5\n",
    "    Lambda=0.5\n",
    "    num_data = 2000\n",
    "    #### ------------------------------------------------------------\n",
    "\n",
    "\n",
    "    @classmethod\n",
    "    def Alpha(cls,theta:np.float64)-> np.float64:\n",
    "        return cls.Lambda+np.cos(theta)\n",
    "    @classmethod\n",
    "    def Beta(cls,theta:np.float64)-> np.float64:\n",
    "        return cls.Gamma*np.sin(theta)\n",
    "    @classmethod\n",
    "    def Omega(cls,theta:np.float64)-> np.float64:\n",
    "        return np.sqrt(cls.Alpha(theta)**2 + cls.Beta(theta)**2 )\n",
    "    @classmethod\n",
    "    def Phi(cls,theta:np.float64)-> np.float64:\n",
    "        return np.arctan2(cls.Beta(theta),cls.Alpha(theta))\n",
    "\n",
    "\n",
    "\n",
    "    @classmethod\n",
    "    def Fermi_dirac(cls,n:np.int64,mu:np.float64 =0) -> np.float64:\n",
    "        # beta is the inverse thermic energy associated in the system (beta)\n",
    "        # mu corresponds to the chemical potential\n",
    "        # n is the position of the particle\n",
    "        # f=np.exp(T*(Omega(Gamma,Lambda,2.0*(np.pi/N)*n)-mu)) +1\n",
    "        # N corresponds to the size of the system\n",
    "        beta = np.min(cls.Omega(np.linspace(-np.pi,np.pi,int(1000))))\n",
    "        f=np.exp(beta*(cls.Omega(((2.*np.pi)/np.float64(cls.N_size)) * n)-mu)) +1\n",
    "        return 1/f\n",
    "\n",
    "    @classmethod\n",
    "    def Sample_State(cls,Ground:bool =False,mu:np.float64 = 0.0)-> np.ndarray:\n",
    "        x=np.arange(0,(cls.N_size-1)/2+ 1)\n",
    "        if Ground:\n",
    "            m_cos=[-0.5 for i in x]\n",
    "            m_sin=[-0.5 for i in x]\n",
    "        else:\n",
    "            m_cos=[-0.5 if np.random.random()>cls.Fermi_dirac(mu=mu,n=i) else 0.5 for i in x]\n",
    "            m_sin=[-0.5 if np.random.random()>cls.Fermi_dirac(mu=mu,n=i) else 0.5 for i in x]\n",
    "        x=np.arange(-(cls.N_size-1)/2,(cls.N_size-1)/2+1)\n",
    "        M_minous=[((m_cos[np.abs(int(i))]-m_sin[np.abs(int(i))])*0.5*np.exp(1.j*np.sign((2.0*np.pi/cls.N_size) * i)*cls.Phi(np.abs((2.0*np.pi/cls.N_size) * i)))) for i in x]\n",
    "        M_plus = [((m_cos[np.abs(int(i))]+m_sin[np.abs(int(i))])*0.5*np.exp(1.j*np.sign((2.0*np.pi/cls.N_size) * i)*cls.Phi(np.abs((2.0*np.pi/cls.N_size) * i)))) for i in x]\n",
    "        Mminousband=np.array(M_minous)\n",
    "        Mplusband=np.array(M_plus)\n",
    "        return Mminousband,Mplusband"
   ]
  },
  {
   "cell_type": "code",
   "execution_count": null,
   "metadata": {
    "ExecuteTime": {
     "start_time": "2020-02-04T05:00:40.004Z"
    }
   },
   "outputs": [],
   "source": [
    "a=Sampling_Random_State()\n",
    "M_m, M_p = a.Sample_State()"
   ]
  },
  {
   "cell_type": "code",
   "execution_count": 12,
   "metadata": {
    "ExecuteTime": {
     "end_time": "2020-02-04T03:23:52.902476Z",
     "start_time": "2020-02-04T03:17:29.749302Z"
    }
   },
   "outputs": [
    {
     "name": "stdout",
     "output_type": "stream",
     "text": [
      "47.9 s ± 95.1 ms per loop (mean ± std. dev. of 7 runs, 1 loop each)\n"
     ]
    }
   ],
   "source": [
    "%%timeit\n",
    "M_m, M_p = a.Sample_State()"
   ]
  },
  {
   "cell_type": "code",
   "execution_count": null,
   "metadata": {
    "ExecuteTime": {
     "start_time": "2020-02-04T03:27:51.940Z"
    }
   },
   "outputs": [],
   "source": [
    "%%timeit\n",
    "fft(ifftshift(M_p))"
   ]
  },
  {
   "cell_type": "code",
   "execution_count": null,
   "metadata": {
    "ExecuteTime": {
     "start_time": "2020-02-04T03:27:55.092Z"
    }
   },
   "outputs": [],
   "source": [
    "%%timeit\n",
    "np.fft.fft(np.roll(M_p,-(a.N_size-1)//2))"
   ]
  },
  {
   "cell_type": "code",
   "execution_count": null,
   "metadata": {
    "ExecuteTime": {
     "end_time": "2020-02-04T03:26:42.444889Z",
     "start_time": "2020-02-04T03:26:42.434652Z"
    }
   },
   "outputs": [],
   "source": []
  },
  {
   "cell_type": "code",
   "execution_count": 2,
   "metadata": {
    "ExecuteTime": {
     "end_time": "2020-02-04T03:43:53.000970Z",
     "start_time": "2020-02-04T03:43:52.994069Z"
    }
   },
   "outputs": [
    {
     "data": {
      "text/plain": [
       "array([  0.,   1.,   2.,   3.,   4.,   5.,   6.,   7.,   8.,   9.,  10.,\n",
       "        11.,  12.,  13.,  14.,  15.,  16.,  17.,  18.,  19.,  20.,  21.,\n",
       "        22.,  23.,  24.,  25., -25., -24., -23., -22., -21., -20., -19.,\n",
       "       -18., -17., -16., -15., -14., -13., -12., -11., -10.,  -9.,  -8.,\n",
       "        -7.,  -6.,  -5.,  -4.,  -3.,  -2.,  -1.])"
      ]
     },
     "execution_count": 2,
     "metadata": {},
     "output_type": "execute_result"
    }
   ],
   "source": [
    "N_size=51\n",
    "x=np.arange(-(N_size-1)/2,(N_size-1)/2+1)\n",
    "np.fft.ifftshift(x)"
   ]
  },
  {
   "cell_type": "code",
   "execution_count": 6,
   "metadata": {
    "ExecuteTime": {
     "end_time": "2020-02-04T05:00:17.902660Z",
     "start_time": "2020-02-04T05:00:17.899092Z"
    }
   },
   "outputs": [],
   "source": [
    "from pyfftw.interfaces import scipy_fftpack"
   ]
  },
  {
   "cell_type": "code",
   "execution_count": 7,
   "metadata": {
    "ExecuteTime": {
     "end_time": "2020-02-04T05:00:18.835500Z",
     "start_time": "2020-02-04T05:00:18.826992Z"
    }
   },
   "outputs": [
    {
     "ename": "NameError",
     "evalue": "name 'M_p' is not defined",
     "output_type": "error",
     "traceback": [
      "\u001b[0;31m---------------------------------------------------------------------------\u001b[0m",
      "\u001b[0;31mNameError\u001b[0m                                 Traceback (most recent call last)",
      "\u001b[0;32m<ipython-input-7-3e552e6150d5>\u001b[0m in \u001b[0;36m<module>\u001b[0;34m\u001b[0m\n\u001b[0;32m----> 1\u001b[0;31m \u001b[0mscipy_fftpack\u001b[0m\u001b[0;34m.\u001b[0m\u001b[0mfft\u001b[0m\u001b[0;34m(\u001b[0m\u001b[0mM_p\u001b[0m\u001b[0;34m)\u001b[0m\u001b[0;34m\u001b[0m\u001b[0;34m\u001b[0m\u001b[0m\n\u001b[0m",
      "\u001b[0;31mNameError\u001b[0m: name 'M_p' is not defined"
     ]
    }
   ],
   "source": [
    "scipy_fftpack.fft(M_p)"
   ]
  },
  {
   "cell_type": "code",
   "execution_count": null,
   "metadata": {},
   "outputs": [],
   "source": []
  },
  {
   "cell_type": "code",
   "execution_count": null,
   "metadata": {},
   "outputs": [],
   "source": []
  }
 ],
 "metadata": {
  "kernelspec": {
   "display_name": "Python 3",
   "language": "python",
   "name": "python3"
  },
  "language_info": {
   "codemirror_mode": {
    "name": "ipython",
    "version": 3
   },
   "file_extension": ".py",
   "mimetype": "text/x-python",
   "name": "python",
   "nbconvert_exporter": "python",
   "pygments_lexer": "ipython3",
   "version": "3.7.6"
  },
  "toc": {
   "base_numbering": 1,
   "nav_menu": {},
   "number_sections": true,
   "sideBar": true,
   "skip_h1_title": false,
   "title_cell": "Table of Contents",
   "title_sidebar": "Contents",
   "toc_cell": false,
   "toc_position": {},
   "toc_section_display": true,
   "toc_window_display": false
  },
  "varInspector": {
   "cols": {
    "lenName": 16,
    "lenType": 16,
    "lenVar": 40
   },
   "kernels_config": {
    "python": {
     "delete_cmd_postfix": "",
     "delete_cmd_prefix": "del ",
     "library": "var_list.py",
     "varRefreshCmd": "print(var_dic_list())"
    },
    "r": {
     "delete_cmd_postfix": ") ",
     "delete_cmd_prefix": "rm(",
     "library": "var_list.r",
     "varRefreshCmd": "cat(var_dic_list()) "
    }
   },
   "types_to_exclude": [
    "module",
    "function",
    "builtin_function_or_method",
    "instance",
    "_Feature"
   ],
   "window_display": false
  }
 },
 "nbformat": 4,
 "nbformat_minor": 4
}
