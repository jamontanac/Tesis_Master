{
 "cells": [
  {
   "cell_type": "code",
   "execution_count": 2,
   "metadata": {
    "ExecuteTime": {
     "end_time": "2020-02-04T15:01:54.541939Z",
     "start_time": "2020-02-04T15:01:54.497710Z"
    }
   },
   "outputs": [],
   "source": [
    "import numpy as np\n",
    "import scipy\n",
    "class Sampling_Random_State:\n",
    "    #### --------- Definition of variables ------------------------\n",
    "    N_size=500001\n",
    "    Gamma=0.5\n",
    "    Lambda=0.5\n",
    "    num_data = 2000\n",
    "    #### ------------------------------------------------------------\n",
    "\n",
    "\n",
    "    @classmethod\n",
    "    def Alpha(cls,theta:np.float64)-> np.float64:\n",
    "        return cls.Lambda+np.cos(theta)\n",
    "    @classmethod\n",
    "    def Beta(cls,theta:np.float64)-> np.float64:\n",
    "        return cls.Gamma*np.sin(theta)\n",
    "    @classmethod\n",
    "    def Omega(cls,theta:np.float64)-> np.float64:\n",
    "        return np.sqrt(cls.Alpha(theta)**2 + cls.Beta(theta)**2 )\n",
    "    @classmethod\n",
    "    def Phi(cls,theta:np.float64)-> np.float64:\n",
    "        return np.arctan2(cls.Beta(theta),cls.Alpha(theta))\n",
    "\n",
    "\n",
    "\n",
    "    @classmethod\n",
    "    def Fermi_dirac(cls,n:np.int64,mu:np.float64 =0) -> np.float64:\n",
    "        # beta is the inverse thermic energy associated in the system (beta)\n",
    "        # mu corresponds to the chemical potential\n",
    "        # n is the position of the particle\n",
    "        # f=np.exp(T*(Omega(Gamma,Lambda,2.0*(np.pi/N)*n)-mu)) +1\n",
    "        # N corresponds to the size of the system\n",
    "        beta = np.min(cls.Omega(np.linspace(-np.pi,np.pi,int(1000))))\n",
    "        f=np.exp(beta*(cls.Omega(((2.*np.pi)/np.float64(cls.N_size)) * n)-mu)) +1\n",
    "        return 1/f\n",
    "\n",
    "    @classmethod\n",
    "    def Sample_State(cls,Ground:bool =False,mu:np.float64 = 0.0)-> np.ndarray:\n",
    "        x=np.arange(0,(cls.N_size-1)/2+ 1)\n",
    "        if Ground:\n",
    "            m_cos=[-0.5 for i in x]\n",
    "            m_sin=[-0.5 for i in x]\n",
    "        else:\n",
    "            m_cos=[-0.5 if np.random.random()>cls.Fermi_dirac(mu=mu,n=i) else 0.5 for i in x]\n",
    "            m_sin=[-0.5 if np.random.random()>cls.Fermi_dirac(mu=mu,n=i) else 0.5 for i in x]\n",
    "        x=np.arange(-(cls.N_size-1)/2,(cls.N_size-1)/2+1)\n",
    "        M_minous=[((m_cos[np.abs(int(i))]-m_sin[np.abs(int(i))])*0.5*np.exp(1.j*np.sign((2.0*np.pi/cls.N_size) * i)*cls.Phi(np.abs((2.0*np.pi/cls.N_size) * i)))) for i in x]\n",
    "        M_plus = [((m_cos[np.abs(int(i))]+m_sin[np.abs(int(i))])*0.5*np.exp(1.j*np.sign((2.0*np.pi/cls.N_size) * i)*cls.Phi(np.abs((2.0*np.pi/cls.N_size) * i)))) for i in x]\n",
    "        Mminousband=np.array(M_minous)\n",
    "        Mplusband=np.array(M_plus)\n",
    "        return Mminousband,Mplusband"
   ]
  },
  {
   "cell_type": "code",
   "execution_count": 3,
   "metadata": {
    "ExecuteTime": {
     "end_time": "2020-02-04T15:02:50.480096Z",
     "start_time": "2020-02-04T15:01:57.766610Z"
    }
   },
   "outputs": [],
   "source": [
    "a=Sampling_Random_State()\n",
    "M_m, M_p = a.Sample_State()"
   ]
  },
  {
   "cell_type": "code",
   "execution_count": 4,
   "metadata": {
    "ExecuteTime": {
     "end_time": "2020-02-04T03:39:36.930509Z",
     "start_time": "2020-02-04T03:38:53.339565Z"
    }
   },
   "outputs": [
    {
     "name": "stdout",
     "output_type": "stream",
     "text": [
      "5.35 s ± 163 ms per loop (mean ± std. dev. of 7 runs, 1 loop each)\n"
     ]
    }
   ],
   "source": [
    "%%timeit\n",
    "M_m, M_p = a.Sample_State()"
   ]
  },
  {
   "cell_type": "code",
   "execution_count": 18,
   "metadata": {
    "ExecuteTime": {
     "end_time": "2020-02-04T04:02:11.048466Z",
     "start_time": "2020-02-04T04:02:04.290259Z"
    }
   },
   "outputs": [
    {
     "name": "stdout",
     "output_type": "stream",
     "text": [
      "83.2 ms ± 1.82 ms per loop (mean ± std. dev. of 7 runs, 10 loops each)\n"
     ]
    }
   ],
   "source": [
    "%%timeit\n",
    "np.fft.fft(np.roll(M_p,-(a.N_size-1)//2))"
   ]
  },
  {
   "cell_type": "code",
   "execution_count": null,
   "metadata": {
    "ExecuteTime": {
     "start_time": "2020-02-04T04:03:10.243Z"
    }
   },
   "outputs": [],
   "source": [
    "%%timeit\n",
    "fft(ifftshift(M_p))"
   ]
  },
  {
   "cell_type": "code",
   "execution_count": 10,
   "metadata": {
    "ExecuteTime": {
     "end_time": "2020-02-04T03:41:21.675574Z",
     "start_time": "2020-02-04T03:41:16.535407Z"
    }
   },
   "outputs": [
    {
     "name": "stdout",
     "output_type": "stream",
     "text": [
      "63.4 ms ± 1.18 ms per loop (mean ± std. dev. of 7 runs, 10 loops each)\n"
     ]
    }
   ],
   "source": [
    "%%timeit\n",
    "fft(np.roll(M_p,-(a.N_size-1)//2))"
   ]
  },
  {
   "cell_type": "code",
   "execution_count": 19,
   "metadata": {
    "ExecuteTime": {
     "end_time": "2020-02-04T04:02:32.102389Z",
     "start_time": "2020-02-04T04:02:25.051448Z"
    }
   },
   "outputs": [
    {
     "name": "stdout",
     "output_type": "stream",
     "text": [
      "87.3 ms ± 6.08 ms per loop (mean ± std. dev. of 7 runs, 10 loops each)\n"
     ]
    }
   ],
   "source": [
    "%%timeit\n",
    "np.fft.fft(np.fft.ifftshift(M_p))"
   ]
  },
  {
   "cell_type": "code",
   "execution_count": 3,
   "metadata": {
    "ExecuteTime": {
     "end_time": "2020-02-04T04:09:25.422763Z",
     "start_time": "2020-02-04T04:07:09.742547Z"
    }
   },
   "outputs": [
    {
     "data": {
      "text/plain": [
       "array([-2.48928917e+04-2.37395722e-15j, -3.81619661e+04-5.39124551e-13j,\n",
       "        6.54036924e+02+8.28519179e-13j, ...,\n",
       "       -1.28741304e+01-4.97809182e-15j, -3.83518975e+02-4.31023688e-14j,\n",
       "       -1.20962596e+04-7.47043723e-13j])"
      ]
     },
     "execution_count": 3,
     "metadata": {},
     "output_type": "execute_result"
    }
   ],
   "source": [
    "fft(ifftshift(M_p))"
   ]
  },
  {
   "cell_type": "code",
   "execution_count": 4,
   "metadata": {
    "ExecuteTime": {
     "end_time": "2020-02-04T04:09:47.954474Z",
     "start_time": "2020-02-04T04:09:47.807136Z"
    }
   },
   "outputs": [
    {
     "data": {
      "text/plain": [
       "array([-2.48928917e+04-1.03739239e-12j, -3.81619661e+04-1.40232270e-12j,\n",
       "        6.54036924e+02-1.68358383e-13j, ...,\n",
       "       -1.28741304e+01+8.32134600e-13j, -3.83518975e+02-7.40293243e-14j,\n",
       "       -1.20962596e+04-3.59032248e-13j])"
      ]
     },
     "execution_count": 4,
     "metadata": {},
     "output_type": "execute_result"
    }
   ],
   "source": [
    "np.fft.fft(np.fft.ifftshift(M_p))"
   ]
  },
  {
   "cell_type": "code",
   "execution_count": 4,
   "metadata": {
    "ExecuteTime": {
     "end_time": "2020-02-04T15:03:27.670291Z",
     "start_time": "2020-02-04T15:03:27.283333Z"
    }
   },
   "outputs": [],
   "source": [
    "from pyfftw.interfaces import scipy_fftpack"
   ]
  },
  {
   "cell_type": "code",
   "execution_count": 5,
   "metadata": {
    "ExecuteTime": {
     "end_time": "2020-02-04T15:03:33.786490Z",
     "start_time": "2020-02-04T15:03:28.649646Z"
    }
   },
   "outputs": [
    {
     "name": "stdout",
     "output_type": "stream",
     "text": [
      "62.5 ms ± 998 µs per loop (mean ± std. dev. of 7 runs, 10 loops each)\n"
     ]
    }
   ],
   "source": [
    "%%timeit\n",
    "scipy_fftpack.fft(np.fft.ifftshift(M_p))"
   ]
  },
  {
   "cell_type": "code",
   "execution_count": null,
   "metadata": {
    "ExecuteTime": {
     "end_time": "2020-02-04T15:03:36.080932Z",
     "start_time": "2020-02-04T15:03:35.990495Z"
    }
   },
   "outputs": [],
   "source": []
  },
  {
   "cell_type": "code",
   "execution_count": 7,
   "metadata": {
    "ExecuteTime": {
     "end_time": "2020-02-04T15:03:38.746587Z",
     "start_time": "2020-02-04T15:03:38.742629Z"
    }
   },
   "outputs": [],
   "source": [
    "import pyfftw"
   ]
  },
  {
   "cell_type": "code",
   "execution_count": null,
   "metadata": {
    "ExecuteTime": {
     "end_time": "2020-02-04T15:06:44.894783Z",
     "start_time": "2020-02-04T15:06:44.889034Z"
    }
   },
   "outputs": [],
   "source": []
  },
  {
   "cell_type": "code",
   "execution_count": 17,
   "metadata": {
    "ExecuteTime": {
     "end_time": "2020-02-04T15:07:43.342687Z",
     "start_time": "2020-02-04T15:07:39.163330Z"
    }
   },
   "outputs": [
    {
     "name": "stdout",
     "output_type": "stream",
     "text": [
      "50.9 ms ± 1.02 ms per loop (mean ± std. dev. of 7 runs, 10 loops each)\n"
     ]
    }
   ],
   "source": [
    "%%timeit \n",
    "cosa = pyfftw.empty_aligned(a.N_size, dtype='complex128')\n",
    "fft = pyfftw.builders.fft(cosa)\n",
    "cosa[:] = np.fft.ifftshift(M_p)\n",
    "fft() "
   ]
  },
  {
   "cell_type": "code",
   "execution_count": 18,
   "metadata": {
    "ExecuteTime": {
     "end_time": "2020-02-04T15:08:17.409075Z",
     "start_time": "2020-02-04T15:08:17.347051Z"
    }
   },
   "outputs": [
    {
     "data": {
      "text/plain": [
       "array([238733.89209364+1.60017555e-11j, -37136.96096592-5.30504871e+04j,\n",
       "        -7831.79538166-2.12202000e+04j, ...,\n",
       "        -3386.91153668+1.36415577e+04j,  -7831.79538166+2.12202000e+04j,\n",
       "       -37136.96096592+5.30504871e+04j])"
      ]
     },
     "execution_count": 18,
     "metadata": {},
     "output_type": "execute_result"
    }
   ],
   "source": [
    "fft()"
   ]
  },
  {
   "cell_type": "code",
   "execution_count": 19,
   "metadata": {
    "ExecuteTime": {
     "end_time": "2020-02-04T15:08:31.014126Z",
     "start_time": "2020-02-04T15:08:30.933518Z"
    }
   },
   "outputs": [
    {
     "data": {
      "text/plain": [
       "array([-25212.88579807-1.63424829e-12j, -37893.93624878-2.70297673e-12j,\n",
       "          327.07879383+9.59267388e-14j, ...,\n",
       "          276.08458093-1.58936745e-14j,    514.31141796-1.37255486e-13j,\n",
       "       -12447.58796894-6.69353462e-13j])"
      ]
     },
     "execution_count": 19,
     "metadata": {},
     "output_type": "execute_result"
    }
   ],
   "source": [
    "scipy_fftpack.fft(np.fft.ifftshift(M_p))"
   ]
  },
  {
   "cell_type": "code",
   "execution_count": 20,
   "metadata": {
    "ExecuteTime": {
     "end_time": "2020-02-04T15:10:05.143521Z",
     "start_time": "2020-02-04T15:10:04.985485Z"
    }
   },
   "outputs": [
    {
     "data": {
      "text/plain": [
       "array([-25212.88579807-9.05941988e-13j, -37893.93624878-1.45786161e-12j,\n",
       "          327.07879383-4.66033462e-14j, ...,\n",
       "          276.08458093+1.01208625e-12j,    514.31141796+6.73419653e-14j,\n",
       "       -12447.58796894-4.09977607e-13j])"
      ]
     },
     "execution_count": 20,
     "metadata": {},
     "output_type": "execute_result"
    }
   ],
   "source": [
    "np.fft.fft(np.fft.ifftshift(M_p))"
   ]
  },
  {
   "cell_type": "code",
   "execution_count": 23,
   "metadata": {
    "ExecuteTime": {
     "end_time": "2020-02-04T15:11:29.161513Z",
     "start_time": "2020-02-04T15:11:28.963275Z"
    }
   },
   "outputs": [
    {
     "data": {
      "text/plain": [
       "True"
      ]
     },
     "execution_count": 23,
     "metadata": {},
     "output_type": "execute_result"
    }
   ],
   "source": [
    "np.allclose(scipy_fftpack.fft(np.fft.ifftshift(M_p)),np.fft.fft(np.fft.ifftshift(M_p)))"
   ]
  },
  {
   "cell_type": "code",
   "execution_count": 30,
   "metadata": {
    "ExecuteTime": {
     "end_time": "2020-02-04T15:17:54.477760Z",
     "start_time": "2020-02-04T15:17:54.474079Z"
    }
   },
   "outputs": [],
   "source": [
    "numpy_arr = pyfftw.empty_aligned(a.N_size, dtype='complex128')"
   ]
  },
  {
   "cell_type": "code",
   "execution_count": 31,
   "metadata": {
    "ExecuteTime": {
     "end_time": "2020-02-04T15:17:55.563022Z",
     "start_time": "2020-02-04T15:17:55.490744Z"
    }
   },
   "outputs": [
    {
     "data": {
      "text/plain": [
       "array([-25212.88579807-1.63424829e-12j, -37893.93624878-2.70297673e-12j,\n",
       "          327.07879383+9.59267388e-14j, ...,\n",
       "          276.08458093-1.58936745e-14j,    514.31141796-1.37255486e-13j,\n",
       "       -12447.58796894-6.69353462e-13j])"
      ]
     },
     "execution_count": 31,
     "metadata": {},
     "output_type": "execute_result"
    }
   ],
   "source": [
    "numpy_arr[:]=np.fft.ifftshift(M_p)\n",
    "pyfftw.interfaces.numpy_fft.fft(numpy_arr)"
   ]
  },
  {
   "cell_type": "code",
   "execution_count": 28,
   "metadata": {
    "ExecuteTime": {
     "end_time": "2020-02-04T15:13:58.676236Z",
     "start_time": "2020-02-04T15:13:54.358046Z"
    }
   },
   "outputs": [
    {
     "name": "stdout",
     "output_type": "stream",
     "text": [
      "51.6 ms ± 2.24 ms per loop (mean ± std. dev. of 7 runs, 10 loops each)\n"
     ]
    }
   ],
   "source": [
    "%%timeit\n",
    "pyfftw.interfaces.numpy_fft.fft(numpy_arr)"
   ]
  },
  {
   "cell_type": "code",
   "execution_count": 32,
   "metadata": {
    "ExecuteTime": {
     "end_time": "2020-02-04T15:17:58.790870Z",
     "start_time": "2020-02-04T15:17:58.784602Z"
    }
   },
   "outputs": [
    {
     "data": {
      "text/plain": [
       "array([-0.5+0.00000000e+00j, -0.5-2.09439091e-06j,  0. +0.00000000e+00j,\n",
       "       ...,  0. +0.00000000e+00j,  0. +0.00000000e+00j,\n",
       "       -0.5+2.09439091e-06j])"
      ]
     },
     "execution_count": 32,
     "metadata": {},
     "output_type": "execute_result"
    }
   ],
   "source": [
    "numpy_arr"
   ]
  },
  {
   "cell_type": "code",
   "execution_count": null,
   "metadata": {},
   "outputs": [],
   "source": []
  },
  {
   "cell_type": "code",
   "execution_count": null,
   "metadata": {},
   "outputs": [],
   "source": []
  },
  {
   "cell_type": "code",
   "execution_count": 20,
   "metadata": {
    "ExecuteTime": {
     "end_time": "2020-02-04T05:07:07.530071Z",
     "start_time": "2020-02-04T05:07:07.448351Z"
    }
   },
   "outputs": [],
   "source": [
    "cosa = pyfftw.empty_aligned(a.N_size, dtype='complex128')\n",
    "fft = pyfftw.builders.fft(cosa)\n",
    "cosa[:] = np.fft.ifftshift(M_p)"
   ]
  },
  {
   "cell_type": "code",
   "execution_count": 21,
   "metadata": {
    "ExecuteTime": {
     "end_time": "2020-02-04T05:07:13.309207Z",
     "start_time": "2020-02-04T05:07:11.541024Z"
    }
   },
   "outputs": [
    {
     "name": "stdout",
     "output_type": "stream",
     "text": [
      "21.1 ms ± 916 µs per loop (mean ± std. dev. of 7 runs, 10 loops each)\n"
     ]
    }
   ],
   "source": [
    "%timeit fft() "
   ]
  },
  {
   "cell_type": "code",
   "execution_count": 22,
   "metadata": {
    "ExecuteTime": {
     "end_time": "2020-02-04T05:08:18.838271Z",
     "start_time": "2020-02-04T05:08:14.266206Z"
    }
   },
   "outputs": [
    {
     "name": "stdout",
     "output_type": "stream",
     "text": [
      "55.6 ms ± 983 µs per loop (mean ± std. dev. of 7 runs, 10 loops each)\n"
     ]
    }
   ],
   "source": [
    "%timeit scipy_fftpack.fft(np.fft.ifftshift(M_p))"
   ]
  },
  {
   "cell_type": "code",
   "execution_count": 23,
   "metadata": {
    "ExecuteTime": {
     "end_time": "2020-02-04T05:08:45.234272Z",
     "start_time": "2020-02-04T05:08:45.227781Z"
    }
   },
   "outputs": [
    {
     "data": {
      "text/plain": [
       "array([-0.5+0.00000000e+00j,  0. +0.00000000e+00j, -0.5-4.18878183e-06j,\n",
       "       ...,  0. +0.00000000e+00j, -0.5+4.18878183e-06j,\n",
       "        0. +0.00000000e+00j])"
      ]
     },
     "execution_count": 23,
     "metadata": {},
     "output_type": "execute_result"
    }
   ],
   "source": [
    "cosa"
   ]
  },
  {
   "cell_type": "code",
   "execution_count": null,
   "metadata": {},
   "outputs": [],
   "source": []
  }
 ],
 "metadata": {
  "kernelspec": {
   "display_name": "Python 3",
   "language": "python",
   "name": "python3"
  },
  "language_info": {
   "codemirror_mode": {
    "name": "ipython",
    "version": 3
   },
   "file_extension": ".py",
   "mimetype": "text/x-python",
   "name": "python",
   "nbconvert_exporter": "python",
   "pygments_lexer": "ipython3",
   "version": "3.7.6"
  },
  "toc": {
   "base_numbering": 1,
   "nav_menu": {},
   "number_sections": true,
   "sideBar": true,
   "skip_h1_title": false,
   "title_cell": "Table of Contents",
   "title_sidebar": "Contents",
   "toc_cell": false,
   "toc_position": {},
   "toc_section_display": true,
   "toc_window_display": false
  },
  "varInspector": {
   "cols": {
    "lenName": 16,
    "lenType": 16,
    "lenVar": 40
   },
   "kernels_config": {
    "python": {
     "delete_cmd_postfix": "",
     "delete_cmd_prefix": "del ",
     "library": "var_list.py",
     "varRefreshCmd": "print(var_dic_list())"
    },
    "r": {
     "delete_cmd_postfix": ") ",
     "delete_cmd_prefix": "rm(",
     "library": "var_list.r",
     "varRefreshCmd": "cat(var_dic_list()) "
    }
   },
   "types_to_exclude": [
    "module",
    "function",
    "builtin_function_or_method",
    "instance",
    "_Feature"
   ],
   "window_display": false
  }
 },
 "nbformat": 4,
 "nbformat_minor": 4
}
