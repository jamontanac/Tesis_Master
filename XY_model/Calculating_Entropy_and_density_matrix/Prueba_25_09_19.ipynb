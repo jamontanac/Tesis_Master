{
 "cells": [
  {
   "cell_type": "code",
   "execution_count": 5,
   "metadata": {
    "ExecuteTime": {
     "end_time": "2019-09-25T20:54:14.426610Z",
     "start_time": "2019-09-25T20:54:14.372737Z"
    }
   },
   "outputs": [
    {
     "data": {
      "text/html": [
       "\n",
       "<style>\n",
       ".output {\n",
       "    display: flex;\n",
       "    align-items: left;\n",
       "    text-align: center;\n",
       "}\n",
       "</style>\n"
      ],
      "text/plain": [
       "<IPython.core.display.HTML object>"
      ]
     },
     "metadata": {},
     "output_type": "display_data"
    }
   ],
   "source": [
    "import numpy as np\n",
    "import matplotlib.pylab as plt\n",
    "import pandas as pd\n",
    "from ipywidgets import interactive\n",
    "from scipy.fftpack import fft, ifft,ifftshift,fftshift\n",
    "from IPython.display import display, HTML\n",
    "from scipy.linalg import circulant\n",
    "\n",
    "\n",
    "\n",
    "#### --------- Definition of variables ------------------------\n",
    "\n",
    "N_size=50001 #\n",
    "Gamma=0.5\n",
    "Lambda=0.5\n",
    "\n",
    "#### ------------------------------------------------------------\n",
    "\n",
    "\n",
    "def Create_circulant_slow(array_elements):\n",
    "    N=len(array_elements)\n",
    "    T=np.zeros((N,N))\n",
    "    for i in range(N-1):\n",
    "        T[i+1,i]=1\n",
    "    T[0,N-1]=1\n",
    "    circulant_matrix=array_elements[0]*np.eye(N)\n",
    "    result=T\n",
    "    for i in range(1,N):\n",
    "        circulant_matrix+=result*array_elements[i]\n",
    "        result=np.matmul(result,T)\n",
    "    return circulant_matrix\n",
    "\n",
    "def Create_circulant(array_elements):\n",
    "    N=len(array_elements)\n",
    "    if N%2==0:\n",
    "        array_elements=np.roll(array_elements,N//2)\n",
    "    else:\n",
    "        array_elements=np.roll(array_elements,N//2+1)\n",
    "    circulant=[]\n",
    "    for i in range(N):\n",
    "        circulant.append(np.roll(array_elements,i))\n",
    "    return np.array(circulant)\n",
    "\n",
    "def Create_anti_circulant(array_elements):\n",
    "    N=len(array_elements)\n",
    "    if N%2==0:\n",
    "        array_elements=np.roll(array_elements,N//2)\n",
    "    else:\n",
    "        array_elements=np.roll(array_elements,N//2+1)\n",
    "    circulant=[]\n",
    "    for i in range(N):\n",
    "        circulant.append(np.roll(array_elements[::-1],-i))\n",
    "    return np.array(circulant)\n",
    "\n",
    "display(HTML(\"\"\"\n",
    "<style>\n",
    ".output {\n",
    "    display: flex;\n",
    "    align-items: left;\n",
    "    text-align: center;\n",
    "}\n",
    "</style>\n",
    "\"\"\"))\n",
    "\n",
    "def Alpha(Gamma,Lambda,theta):\n",
    "    return Lambda+np.cos(theta)\n",
    "def Beta(Gamma,Lambda,theta):\n",
    "    return Gamma*np.sin(theta)\n",
    "def Omega(Gamma,Lambda,theta):\n",
    "    return np.sqrt(Alpha(Gamma,Lambda,theta)**2 + Beta(Gamma,Lambda,theta)**2 )\n",
    "def Phi(Gamma,Lambda,theta):\n",
    "    return np.arctan2(Beta(Gamma,Lambda,theta),Alpha(Gamma,Lambda,theta))\n",
    "\n",
    "\n",
    "\n",
    "### ----------------------- Fourier theoric ----------------------------------\n",
    "\n",
    "def Fourier_theoric(random_numbers_m,Gamma,Lambda,N_size):   \n",
    "    result=np.zeros(N_size)\n",
    "    index_result=0\n",
    "    for w in np.arange(-(N_size-1)/2,(N_size-1)/2 +1):\n",
    "        result[index_result]=random_numbers_m[0]+np.sum([2*random_numbers_m[i]*np.cos(Phi(Gamma,Lambda,2.0*np.pi/N_size * i) - w*2*np.pi/N_size*i) for i in range(1,(N_size-1)//2 +1)]) \n",
    "        index_result+=1\n",
    "    return result\n",
    "\n",
    "## ------------------ My own fourier transform -------------------------------------\n",
    "def FT(x):\n",
    "    N = len(x)\n",
    "    X = np.zeros(N, dtype=complex)\n",
    "    ind_1=0\n",
    "    for k in np.arange(-(N-1)/2,(N-1)/2+1):\n",
    "        X[ind_1] = 0.0j\n",
    "        ind_2=0\n",
    "        for n in np.arange(-(N-1)/2,(N-1)/2+1):\n",
    "            X[ind_1] += x[ind_2] *np.exp(-1.0j*(2.0*np.pi/(N))*k*n) #(np.cos((2.0*np.pi/(N))*k*n))#\n",
    "            #print(n, X[ind_1])\n",
    "            ind_2+=1\n",
    "        #print(k,X[ind_1])\n",
    "        ind_1+=1\n",
    "    return X\n",
    "\n",
    "def Fermi_dirac(beta,mu,n,Gamma=Gamma,Lambda=Lambda,N=N_size):\n",
    "    # beta is the inverse thermic energy associated in the system (beta)\n",
    "    # mu corresponds to the chemical potential\n",
    "    # n is the position of the particle\n",
    "    # f=np.exp(T*(Omega(Gamma,Lambda,2.0*(np.pi/N)*n)-mu)) +1\n",
    "    # N corresponds to the size of the system\n",
    "    f=np.exp(beta*(Omega(Gamma,Lambda,((2.*np.pi)/float(N)) * n)-mu)) +1\n",
    "    return 1/f\n",
    "\n",
    "def plot_interactive(beta,mu):\n",
    "    plt.figure(figsize=(10,7))\n",
    "    n=np.arange(-(N_size-1)/2,(N_size-1)/2+ 1)\n",
    "    plt.subplot(2,1,1)\n",
    "    plt.plot(n,Fermi_dirac(beta,mu,n))\n",
    "    #plt.ylim(-0.05,1.05)\n",
    "    plt.xlabel(\"Position\")\n",
    "    plt.ylabel(\"Probability\")\n",
    "    plt.subplot(2,1,2)\n",
    "    plt.plot(n,Omega(Gamma,Lambda,(2.*np.pi)/float(N_size)*n),label=r\"$\\Omega$\")\n",
    "    plt.show()\n",
    "\n",
    "def Take_portion(matrix,size,copy=True):\n",
    "    if copy:\n",
    "        new_matrix=matrix.copy()\n",
    "        return new_matrix[:size,:size]\n",
    "    else:\n",
    "        return matrix[:size,:size]\n",
    "    \n",
    "def Binary_entropy(x):\n",
    "    result=[]\n",
    "    for i in x:\n",
    "        if np.abs(i-1)<10E-10:\n",
    "            result.append(0)\n",
    "        else:\n",
    "            result.append(-i*np.log(i)-(1-i)*np.log(1-i))\n",
    "    return np.array(result)\n",
    "    \n",
    "def Get_Bands_Matrix(beta,mu,Gamma,Lambda,N_size,Ground =False):\n",
    "    if Ground:\n",
    "        x=np.arange(0,(N_size-1)/2+ 1)\n",
    "        m_cos=[-0.5 for i in x]\n",
    "        m_sin=[-0.5 for i in x]\n",
    "        m_cos=np.array(m_cos[1:][::-1]+m_cos)\n",
    "        m_sin=np.array(m_sin[1:][::-1]+m_sin)\n",
    "        M_plus=(m_cos+m_sin)*0.5\n",
    "        M_minous=(m_cos-m_sin)*0.5\n",
    "        x=np.arange(-(N_size-1)/2,(N_size-1)/2+1)\n",
    "        Mplusband=[np.exp(1.j*np.sign((2.0*np.pi/N_size) * i)*Phi(Gamma,Lambda,np.abs((2.0*np.pi/N_size) * i))) for i in x]\n",
    "        Mplusband=M_plus*np.array(Mplusband)\n",
    "        Mminousband=[np.exp(1.j*np.sign((2.0*np.pi/N_size) * i)*Phi(Gamma,Lambda,np.abs((2.0*np.pi/N_size) * i))) for i in x]\n",
    "        Mminousband=M_minous*np.array(Mminousband)\n",
    "        \n",
    "    else:\n",
    "        x=np.arange(0,(N_size-1)/2+ 1)\n",
    "        m_cos=[-0.5 if np.random.random()>Fermi_dirac(beta,mu,i) else 0.5 for i in x]\n",
    "        m_sin=[-0.5 if np.random.random()>Fermi_dirac(beta,mu,i) else 0.5 for i in x]\n",
    "        m_cos=np.array(m_cos[1:][::-1]+m_cos)\n",
    "        m_sin=np.array(m_sin[1:][::-1]+m_sin)\n",
    "        M_plus=(m_cos+m_sin)*0.5\n",
    "        M_minous=(m_cos-m_sin)*0.5\n",
    "        x=np.arange(-(N_size-1)/2,(N_size-1)/2+1)\n",
    "        Mplusband=[np.exp(1.j*np.sign((2.0*np.pi/N_size) * i)*Phi(Gamma,Lambda,np.abs((2.0*np.pi/N_size) * i))) for i in x]\n",
    "        Mplusband=M_plus*np.array(Mplusband)\n",
    "        Mminousband=[np.exp(1.j*np.sign((2.0*np.pi/N_size) * i)*Phi(Gamma,Lambda,np.abs((2.0*np.pi/N_size) * i))) for i in x]\n",
    "        Mminousband=M_minous*np.array(Mminousband)\n",
    "        \n",
    "    x=np.arange(-(N_size-1)/2,(N_size-1)/2+ 1)\n",
    "    Fourier_plus=fftshift(fft(ifftshift(Mplusband)))\n",
    "    Fourier_minous=fftshift(fft(ifftshift(Mminousband)))\n",
    "    return Fourier_plus,Fourier_minous\n",
    "\n",
    "def Sample_subsystem(L,beta,mu,Gamma,Lambda,N_size,Ground=False):\n",
    "    if Ground:\n",
    "        F_plus, F_minous = Get_Bands_Matrix(beta,mu,Gamma,Lambda,N_size,Ground=Ground)\n",
    "    else:\n",
    "        F_plus, F_minous = Get_Bands_Matrix(beta,mu,Gamma,Lambda,N_size)\n",
    "    return F_plus[(N_size-1)//2-L+1:(N_size-1)//2+L], F_minous[(N_size-1)//2-L+1:(N_size-1)//2+L]\n",
    "\n",
    "def Toeplitz_matrix(array,L):\n",
    "    Toeplitz=np.zeros((L,L),dtype=np.complex)\n",
    "    aux=0\n",
    "    for i in range(L):\n",
    "        #print(array[aux:aux+L][::-1].shape)\n",
    "        Toeplitz[:,i]=array[aux:aux+L][::-1]\n",
    "        aux+=1\n",
    "    return Toeplitz\n",
    "def Covariance_matrix(L,beta,mu,Gamma,Lambda,N_size,Ground=False):\n",
    "    if Ground:\n",
    "        circulant, anticirculant = Sample_subsystem(L,beta,mu,Gamma,Lambda,N_size,Ground=Ground)\n",
    "    else:\n",
    "        circulant, anticirculant = Sample_subsystem(L,beta,mu,Gamma,Lambda,N_size)\n",
    "    return (Toeplitz_matrix(circulant,L)+Toeplitz_matrix(anticirculant,L))/N_size"
   ]
  },
  {
   "cell_type": "markdown",
   "metadata": {},
   "source": [
    "# Test for Ground state"
   ]
  },
  {
   "cell_type": "code",
   "execution_count": 10,
   "metadata": {
    "ExecuteTime": {
     "end_time": "2019-09-25T20:57:54.381033Z",
     "start_time": "2019-09-25T20:57:10.861860Z"
    }
   },
   "outputs": [
    {
     "data": {
      "image/png": "[encoded data removed]",
      "text/plain": [
       "<Figure size 432x288 with 1 Axes>"
      ]
     },
     "metadata": {
      "needs_background": "light"
     },
     "output_type": "display_data"
    }
   ],
   "source": [
    "n=np.arange(-(N_size-1)/2,(N_size-1)/2+ 1)\n",
    "gap_temp=np.min(Omega(Gamma,Lambda,(2.*np.pi)/float(N_size)*n))\n",
    "beta=gap_temp\n",
    "mu=0\n",
    "result=[]\n",
    "for i in range(5, 50):\n",
    "    New_Cov_matrix=Covariance_matrix(i,beta,mu,Lambda,Gamma,N_size,Ground=True)\n",
    "    A,S,B=np.linalg.svd(New_Cov_matrix)\n",
    "    aux=np.sum(Binary_entropy((S+0.5))) \n",
    "    result.append(aux)\n",
    "plt.plot(range(5, 50),result)\n",
    "plt.xlabel(r\"$L$\")\n",
    "plt.ylabel(r\"$Entropy$\")\n",
    "plt.show()"
   ]
  },
  {
   "cell_type": "markdown",
   "metadata": {},
   "source": [
    "# Test for generic state"
   ]
  },
  {
   "cell_type": "code",
   "execution_count": 11,
   "metadata": {
    "ExecuteTime": {
     "end_time": "2019-09-25T20:58:54.515780Z",
     "start_time": "2019-09-25T20:57:54.406937Z"
    }
   },
   "outputs": [
    {
     "data": {
      "image/png": "[encoded data removed]",
      "text/plain": [
       "<Figure size 432x288 with 1 Axes>"
      ]
     },
     "metadata": {
      "needs_background": "light"
     },
     "output_type": "display_data"
    }
   ],
   "source": [
    "n=np.arange(-(N_size-1)/2,(N_size-1)/2+ 1)\n",
    "gap_temp=np.min(Omega(Gamma,Lambda,(2.*np.pi)/float(N_size)*n))\n",
    "beta=gap_temp\n",
    "mu=0\n",
    "result=[]\n",
    "for i in range(5, 50):\n",
    "    New_Cov_matrix=Covariance_matrix(i,beta,mu,Lambda,Gamma,N_size,Ground=False)\n",
    "    A,S,B=np.linalg.svd(New_Cov_matrix)\n",
    "    aux=np.sum(Binary_entropy((S+0.5))) \n",
    "    result.append(aux)\n",
    "plt.plot(range(5, 50),result)\n",
    "plt.xlabel(r\"$L$\")\n",
    "plt.ylabel(r\"$Entropy$\")\n",
    "plt.show()"
   ]
  },
  {
   "cell_type": "markdown",
   "metadata": {
    "ExecuteTime": {
     "end_time": "2019-09-25T20:55:42.232646Z",
     "start_time": "2019-09-25T20:55:42.229669Z"
    }
   },
   "source": [
    "# Prueba Valores singulares"
   ]
  },
  {
   "cell_type": "code",
   "execution_count": 53,
   "metadata": {
    "ExecuteTime": {
     "end_time": "2019-09-25T21:40:03.937242Z",
     "start_time": "2019-09-25T21:40:02.575225Z"
    }
   },
   "outputs": [],
   "source": [
    "L=41\n",
    "N_size=50001\n",
    "gap_temp=np.min(Omega(Gamma,Lambda,(2.*np.pi)/float(N_size)*n))\n",
    "beta=gap_temp\n",
    "A,S,B=np.linalg.svd(Covariance_matrix(L,beta,mu,Gamma,Lambda,N_size,Ground=False))"
   ]
  },
  {
   "cell_type": "code",
   "execution_count": 54,
   "metadata": {
    "ExecuteTime": {
     "end_time": "2019-09-25T21:40:04.740381Z",
     "start_time": "2019-09-25T21:40:04.605688Z"
    }
   },
   "outputs": [
    {
     "data": {
      "image/png": "[encoded data removed]",
      "text/plain": [
       "<Figure size 432x288 with 1 Axes>"
      ]
     },
     "metadata": {
      "needs_background": "light"
     },
     "output_type": "display_data"
    }
   ],
   "source": [
    "n=np.arange(-(L-1)/2,(L-1)/2 +1)\n",
    "array_to_plot=sorted(-S+0.5,reverse=True)\n",
    "plt.plot(array_to_plot,label=\"Singular values\")\n",
    "plt.plot(np.array(sorted(Fermi_dirac(beta,mu,n,N=L),reverse=True)),label=\"Fermi distribution\")\n",
    "plt.legend()\n",
    "#plt.plot(sorted(Fermi_dirac(beta,mu,n,N=L),reverse=True))\n",
    "plt.show()"
   ]
  },
  {
   "cell_type": "code",
   "execution_count": 49,
   "metadata": {
    "ExecuteTime": {
     "end_time": "2019-09-25T21:33:38.490330Z",
     "start_time": "2019-09-25T21:33:37.140382Z"
    }
   },
   "outputs": [],
   "source": [
    "\n",
    "N_size=50001\n",
    "gap_temp=np.min(Omega(Gamma,Lambda,(2.*np.pi)/float(N_size)*n))\n",
    "beta=gap_temp\n",
    "F_plus,F_minous=Get_Bands_Matrix(beta,mu,Gamma,Lambda,N_size)"
   ]
  },
  {
   "cell_type": "code",
   "execution_count": 52,
   "metadata": {
    "ExecuteTime": {
     "end_time": "2019-09-25T21:39:09.261295Z",
     "start_time": "2019-09-25T21:39:09.256336Z"
    }
   },
   "outputs": [],
   "source": [
    "def Sample_from_chain(L,N_size,array_1,array_2):\n",
    "    #Array_1 and Array_2 are 2 arrays with the circulant and the anticirculant part\n",
    "    return array_1[(N_size-1)//2-L+1:(N_size-1)//2+L], array_2[(N_size-1)//2-L+1:(N_size-1)//2+L]\n",
    "def Covariance_matrix_from_sample(L,N_size,array_1,array_2):\n",
    "    Band_L_plus, Band_L_minous = Sample_from_chain(L,N_size,array_1,array_2)\n",
    "    return (Toeplitz_matrix(Band_L_plus,L)+Toeplitz_matrix(Band_L_minous,L))/N_size"
   ]
  },
  {
   "cell_type": "code",
   "execution_count": null,
   "metadata": {},
   "outputs": [],
   "source": []
  }
 ],
 "metadata": {
  "kernelspec": {
   "display_name": "Python 3",
   "language": "python",
   "name": "python3"
  },
  "language_info": {
   "codemirror_mode": {
    "name": "ipython",
    "version": 3
   },
   "file_extension": ".py",
   "mimetype": "text/x-python",
   "name": "python",
   "nbconvert_exporter": "python",
   "pygments_lexer": "ipython3",
   "version": "3.7.1"
  },
  "nbTranslate": {
   "displayLangs": [
    "*"
   ],
   "hotkey": "alt-t",
   "langInMainMenu": true,
   "sourceLang": "en",
   "targetLang": "fr",
   "useGoogleTranslate": true
  },
  "toc": {
   "base_numbering": 1,
   "nav_menu": {},
   "number_sections": true,
   "sideBar": true,
   "skip_h1_title": false,
   "title_cell": "Table of Contents",
   "title_sidebar": "Contents",
   "toc_cell": false,
   "toc_position": {},
   "toc_section_display": true,
   "toc_window_display": false
  },
  "varInspector": {
   "cols": {
    "lenName": 16,
    "lenType": 16,
    "lenVar": 40
   },
   "kernels_config": {
    "python": {
     "delete_cmd_postfix": "",
     "delete_cmd_prefix": "del ",
     "library": "var_list.py",
     "varRefreshCmd": "print(var_dic_list())"
    },
    "r": {
     "delete_cmd_postfix": ") ",
     "delete_cmd_prefix": "rm(",
     "library": "var_list.r",
     "varRefreshCmd": "cat(var_dic_list()) "
    }
   },
   "types_to_exclude": [
    "module",
    "function",
    "builtin_function_or_method",
    "instance",
    "_Feature"
   ],
   "window_display": false
  }
 },
 "nbformat": 4,
 "nbformat_minor": 2
}
