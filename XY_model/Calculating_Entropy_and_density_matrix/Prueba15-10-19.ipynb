{
 "cells": [
  {
   "cell_type": "code",
   "execution_count": 100,
   "metadata": {
    "ExecuteTime": {
     "end_time": "2019-10-16T03:56:24.808065Z",
     "start_time": "2019-10-16T03:56:24.774919Z"
    }
   },
   "outputs": [
    {
     "data": {
      "text/html": [
       "\n",
       "<style>\n",
       ".output {\n",
       "    display: flex;\n",
       "    align-items: left;\n",
       "    text-align: center;\n",
       "}\n",
       "</style>\n"
      ],
      "text/plain": [
       "<IPython.core.display.HTML object>"
      ]
     },
     "metadata": {},
     "output_type": "display_data"
    }
   ],
   "source": [
    "import numpy as np\n",
    "import matplotlib.pylab as plt\n",
    "import pandas as pd\n",
    "from ipywidgets import interactive\n",
    "from scipy.fftpack import fft, ifft,ifftshift,fftshift\n",
    "from IPython.display import display, HTML\n",
    "from scipy.linalg import circulant\n",
    "from scipy.linalg import toeplitz, hankel\n",
    "from IPython.display import clear_output\n",
    "from scipy.linalg import expm\n",
    "\n",
    "\n",
    "#### --------- Definition of variables ------------------------\n",
    "\n",
    "N_size=100001 #\n",
    "Gamma=0.5\n",
    "Lambda=0.5\n",
    "\n",
    "#### ------------------------------------------------------------\n",
    "\n",
    "display(HTML(\"\"\"\n",
    "<style>\n",
    ".output {\n",
    "    display: flex;\n",
    "    align-items: left;\n",
    "    text-align: center;\n",
    "}\n",
    "</style>\n",
    "\"\"\"))\n",
    "\n",
    "def Alpha(Gamma,Lambda,theta):\n",
    "    return Lambda+np.cos(theta)\n",
    "def Beta(Gamma,Lambda,theta):\n",
    "    return Gamma*np.sin(theta)\n",
    "def Omega(Gamma,Lambda,theta):\n",
    "    return np.sqrt(Alpha(Gamma,Lambda,theta)**2 + Beta(Gamma,Lambda,theta)**2 )\n",
    "def Phi(Gamma,Lambda,theta):\n",
    "    return np.arctan2(Beta(Gamma,Lambda,theta),Alpha(Gamma,Lambda,theta))\n",
    "\n",
    "\n",
    "\n",
    "\n",
    "def Fermi_dirac(beta,mu,n,Gamma=Gamma,Lambda=Lambda,N=N_size):\n",
    "    # beta is the inverse thermic energy associated in the system (beta)\n",
    "    # mu corresponds to the chemical potential\n",
    "    # n is the position of the particle\n",
    "    # f=np.exp(T*(Omega(Gamma,Lambda,2.0*(np.pi/N)*n)-mu)) +1\n",
    "    # N corresponds to the size of the system\n",
    "    f=np.exp(beta*(Omega(Gamma,Lambda,((2.*np.pi)/float(N)) * n)-mu)) +1\n",
    "    return 1/f\n",
    "\n",
    "def plot_interactive(beta,mu):\n",
    "    plt.figure(figsize=(10,7))\n",
    "    n=np.arange(-(N_size-1)/2,(N_size-1)/2+ 1)\n",
    "    plt.subplot(2,1,1)\n",
    "    plt.plot(n,Fermi_dirac(beta,mu,n))\n",
    "    #plt.ylim(-0.05,1.05)\n",
    "    plt.xlabel(\"Position\")\n",
    "    plt.ylabel(\"Probability\")\n",
    "    plt.subplot(2,1,2)\n",
    "    plt.plot(n,Omega(Gamma,Lambda,(2.*np.pi)/float(N_size)*n),label=r\"$\\Omega$\")\n",
    "    plt.show()\n",
    "\n",
    "    \n",
    "def Binary_entropy(x):\n",
    "    result=[]\n",
    "    for i in x:\n",
    "        if np.abs(i-1)<10E-10:\n",
    "            result.append(0)\n",
    "        else:\n",
    "            result.append(-i*np.log(i)-(1-i)*np.log(1-i))\n",
    "    return np.array(result)\n",
    "\n",
    "def Get_Bands_Matrix(Gamma=Gamma,Lambda=Lambda,N_size=N_size,beta=0.40824,mu=0,Ground =False):\n",
    "    if Ground:\n",
    "        x=np.arange(0,(N_size-1)/2+ 1)\n",
    "        m_cos=[-0.5 for i in x]\n",
    "        m_sin=[-0.5 for i in x]\n",
    "        \n",
    "        x=np.arange(-(N_size-1)/2,(N_size-1)/2+1)\n",
    "\n",
    "        M_minous=[((m_cos[np.abs(int(i))]-m_sin[np.abs(int(i))])*0.5*np.exp(1.j*np.sign((2.0*np.pi/N_size) * i)*Phi(Gamma,Lambda,np.abs((2.0*np.pi/N_size) * i)))) for i in x]\n",
    "        M_plus = [((m_cos[np.abs(int(i))]+m_sin[np.abs(int(i))])*0.5*np.exp(1.j*np.sign((2.0*np.pi/N_size) * i)*Phi(Gamma,Lambda,np.abs((2.0*np.pi/N_size) * i)))) for i in x]\n",
    "        Mminousband=np.array(M_minous)\n",
    "        Mplusband=np.array(M_plus)\n",
    "        #m_cos=np.array(m_cos[1:][::-1]+m_cos)\n",
    "        #m_sin=np.array(m_sin[1:][::-1]+m_sin)\n",
    "        #M_plus=(m_cos+m_sin)*0.5\n",
    "        #M_minous=(m_cos-m_sin)*0.5\n",
    "        #x=np.arange(-(N_size-1)/2,(N_size-1)/2+1)\n",
    "        #Mplusband=[np.exp(1.j*np.sign((2.0*np.pi/N_size) * i)*Phi(Gamma,Lambda,np.abs((2.0*np.pi/N_size) * i))) for i in x]\n",
    "        #Mplusband=M_plus*np.array(Mplusband)\n",
    "        #Mminousband=[np.exp(1.j*np.sign((2.0*np.pi/N_size) * i)*Phi(Gamma,Lambda,np.abs((2.0*np.pi/N_size) * i))) for i in x]\n",
    "        #Mminousband=M_minous*np.array(Mminousband)\n",
    "        \n",
    "    else:\n",
    "        x=np.arange(0,(N_size-1)/2+ 1)\n",
    "        m_cos=[-0.5 if np.random.random()>Fermi_dirac(beta,mu,n=i) else 0.5 for i in x]\n",
    "        m_sin=[-0.5 if np.random.random()>Fermi_dirac(beta,mu,n=i) else 0.5 for i in x]\n",
    "        x=np.arange(-(N_size-1)/2,(N_size-1)/2+1)\n",
    "\n",
    "        M_minous=[((m_cos[np.abs(int(i))]-m_sin[np.abs(int(i))])*0.5*np.exp(1.j*np.sign((2.0*np.pi/N_size) * i)*Phi(Gamma,Lambda,np.abs((2.0*np.pi/N_size) * i)))) for i in x]\n",
    "        M_plus = [((m_cos[np.abs(int(i))]+m_sin[np.abs(int(i))])*0.5*np.exp(1.j*np.sign((2.0*np.pi/N_size) * i)*Phi(Gamma,Lambda,np.abs((2.0*np.pi/N_size) * i)))) for i in x]\n",
    "        Mminousband=np.array(M_minous)\n",
    "        Mplusband=np.array(M_plus)\n",
    "        \n",
    "        #m_cos=np.array(m_cos[1:][::-1]+m_cos)\n",
    "        #m_sin=np.array(m_sin[1:][::-1]+m_sin)\n",
    "        #M_plus=(m_cos+m_sin)*0.5\n",
    "        #M_minous=(m_cos-m_sin)*0.5\n",
    "        #x=np.arange(-(N_size-1)/2,(N_size-1)/2+1)\n",
    "        #Mplusband=[np.exp(1.j*np.sign((2.0*np.pi/N_size) * i)*Phi(Gamma,Lambda,np.abs((2.0*np.pi/N_size) * i))) for i in x]\n",
    "        #Mplusband=M_plus*np.array(Mplusband)\n",
    "        #Mminousband=[np.exp(1.j*np.sign((2.0*np.pi/N_size) * i)*Phi(Gamma,Lambda,np.abs((2.0*np.pi/N_size) * i))) for i in x]\n",
    "        #Mminousband=M_minous*np.array(Mminousband)\n",
    "        \n",
    "    x=np.arange(-(N_size-1)/2,(N_size-1)/2+ 1)\n",
    "    Fourier_plus=fft(ifftshift(Mplusband))\n",
    "    Fourier_minous=fft(ifftshift(Mminousband))\n",
    "    return Fourier_plus,Fourier_minous\n",
    "def Toeplitz_matrix(Fourier_plus,L):\n",
    "    First_column=np.roll(Fourier_plus,-1)[::-1][:L]\n",
    "    First_row = Fourier_plus[:L]\n",
    "    return toeplitz(First_column,First_row)\n",
    "def Hankel_matrix(Fourier_minous,L):\n",
    "    First_column=Fourier_minous[::-1][:L]\n",
    "    Last_row=np.roll(Fourier_minous,L-1)[::-1][:L]\n",
    "    return hankel(First_column,Last_row)\n",
    "\n",
    "\n",
    "def Covariance_matrix(L,Gamma=Gamma,Lambda=Lambda,beta=0.40824,mu=0,N_size=N_size,Ground=False):\n",
    "    if Ground:\n",
    "        Fourier_plus,Fourier_minous=Get_Bands_Matrix(Gamma=Gamma,Lambda=Lambda,N_size=N_size,beta=beta,mu=mu,Ground=True)\n",
    "    else:\n",
    "        Fourier_plus,Fourier_minous=Get_Bands_Matrix(Gamma=Gamma,Lambda=Lambda,N_size=N_size,beta=beta,mu=mu,Ground=False)\n",
    "    return (Toeplitz_matrix(Fourier_plus,L)+Hankel_matrix(Fourier_minous,L))/N_size\n",
    "\n",
    "def Covariance_matrix_from_sub_sample(Fourier_plus,Fourier_minous,L,N_size=N_size):\n",
    "    return (Toeplitz_matrix(Fourier_plus,L)+Hankel_matrix(Fourier_minous,L))/N_size"
   ]
  },
  {
   "cell_type": "code",
   "execution_count": null,
   "metadata": {
    "ExecuteTime": {
     "end_time": "2019-10-15T17:28:39.288777Z",
     "start_time": "2019-10-15T17:28:38.834960Z"
    }
   },
   "outputs": [],
   "source": []
  },
  {
   "cell_type": "code",
   "execution_count": 26,
   "metadata": {
    "ExecuteTime": {
     "end_time": "2019-10-15T17:29:28.387473Z",
     "start_time": "2019-10-15T17:29:24.160976Z"
    }
   },
   "outputs": [],
   "source": [
    "a,b=Get_Bands_Matrix(Ground=False)"
   ]
  },
  {
   "cell_type": "code",
   "execution_count": 27,
   "metadata": {
    "ExecuteTime": {
     "end_time": "2019-10-15T17:29:28.911873Z",
     "start_time": "2019-10-15T17:29:28.498776Z"
    }
   },
   "outputs": [
    {
     "data": {
      "text/plain": [
       "[<matplotlib.lines.Line2D at 0x16717f494a8>]"
      ]
     },
     "execution_count": 27,
     "metadata": {},
     "output_type": "execute_result"
    },
    {
     "data": {
      "image/png": "[encoded data removed]",
      "text/plain": [
       "<Figure size 432x288 with 1 Axes>"
      ]
     },
     "metadata": {
      "needs_background": "light"
     },
     "output_type": "display_data"
    }
   ],
   "source": [
    "plt.plot(b)"
   ]
  },
  {
   "cell_type": "code",
   "execution_count": null,
   "metadata": {
    "ExecuteTime": {
     "end_time": "2019-10-15T16:23:05.516028Z",
     "start_time": "2019-10-15T16:23:05.510042Z"
    }
   },
   "outputs": [],
   "source": []
  },
  {
   "cell_type": "code",
   "execution_count": null,
   "metadata": {
    "ExecuteTime": {
     "end_time": "2019-10-15T16:23:56.156127Z",
     "start_time": "2019-10-15T16:23:56.149145Z"
    }
   },
   "outputs": [],
   "source": []
  },
  {
   "cell_type": "code",
   "execution_count": null,
   "metadata": {
    "ExecuteTime": {
     "end_time": "2019-10-15T16:15:22.787362Z",
     "start_time": "2019-10-15T16:15:22.781342Z"
    }
   },
   "outputs": [],
   "source": []
  },
  {
   "cell_type": "code",
   "execution_count": 28,
   "metadata": {
    "ExecuteTime": {
     "end_time": "2019-10-15T17:29:40.688635Z",
     "start_time": "2019-10-15T17:29:36.291124Z"
    }
   },
   "outputs": [
    {
     "data": {
      "text/plain": [
       "[<matplotlib.lines.Line2D at 0x16718813828>]"
      ]
     },
     "execution_count": 28,
     "metadata": {},
     "output_type": "execute_result"
    },
    {
     "data": {
      "image/png": "[encoded data removed]",
      "text/plain": [
       "<Figure size 432x288 with 1 Axes>"
      ]
     },
     "metadata": {
      "needs_background": "light"
     },
     "output_type": "display_data"
    }
   ],
   "source": [
    "L=31\n",
    "beta=0.40824\n",
    "mu=0\n",
    "#for test in range(tests):\n",
    "a,b=Get_Bands_Matrix()\n",
    "\n",
    "New_cov_matrix=Covariance_matrix_from_sub_sample(a,b,L)\n",
    "S=np.linalg.svd(New_cov_matrix,compute_uv=False)\n",
    "S=-S+0.5\n",
    "plt.plot(sorted(S,reverse=True))\n",
    "n=np.arange(-(L-1)/2,(L-1)/2+ 1)\n",
    "to_plot=sorted(Fermi_dirac(beta,mu,n,N=L),reverse=True)\n",
    "plt.plot(to_plot)"
   ]
  },
  {
   "cell_type": "markdown",
   "metadata": {},
   "source": [
    "Maybe there's a mistake in doing something here but i'll try it like this and then i'll test to change it"
   ]
  },
  {
   "cell_type": "code",
   "execution_count": 29,
   "metadata": {
    "ExecuteTime": {
     "end_time": "2019-10-15T18:05:54.078841Z",
     "start_time": "2019-10-15T17:29:53.987430Z"
    }
   },
   "outputs": [
    {
     "name": "stdout",
     "output_type": "stream",
     "text": [
      "Here we are in 0 test\n",
      "Here we are in 1 test\n",
      "Here we are in 2 test\n",
      "Here we are in 3 test\n",
      "Here we are in 4 test\n",
      "Here we are in 5 test\n",
      "Here we are in 6 test\n",
      "Here we are in 7 test\n",
      "Here we are in 8 test\n",
      "Here we are in 9 test\n",
      "Here we are in 10 test\n",
      "Here we are in 11 test\n",
      "Here we are in 12 test\n",
      "Here we are in 13 test\n",
      "Here we are in 14 test\n",
      "Here we are in 15 test\n",
      "Here we are in 16 test\n",
      "Here we are in 17 test\n",
      "Here we are in 18 test\n",
      "Here we are in 19 test\n",
      "Here we are in 20 test\n",
      "Here we are in 21 test\n",
      "Here we are in 22 test\n",
      "Here we are in 23 test\n",
      "Here we are in 24 test\n",
      "Here we are in 25 test\n",
      "Here we are in 26 test\n",
      "Here we are in 27 test\n",
      "Here we are in 28 test\n",
      "Here we are in 29 test\n",
      "Here we are in 30 test\n",
      "Here we are in 31 test\n",
      "Here we are in 32 test\n",
      "Here we are in 33 test\n",
      "Here we are in 34 test\n",
      "Here we are in 35 test\n",
      "Here we are in 36 test\n",
      "Here we are in 37 test\n",
      "Here we are in 38 test\n",
      "Here we are in 39 test\n",
      "Here we are in 40 test\n",
      "Here we are in 41 test\n",
      "Here we are in 42 test\n",
      "Here we are in 43 test\n",
      "Here we are in 44 test\n",
      "Here we are in 45 test\n",
      "Here we are in 46 test\n",
      "Here we are in 47 test\n",
      "Here we are in 48 test\n",
      "Here we are in 49 test\n",
      "Here we are in 50 test\n",
      "Here we are in 51 test\n",
      "Here we are in 52 test\n",
      "Here we are in 53 test\n",
      "Here we are in 54 test\n",
      "Here we are in 55 test\n",
      "Here we are in 56 test\n",
      "Here we are in 57 test\n",
      "Here we are in 58 test\n",
      "Here we are in 59 test\n",
      "Here we are in 60 test\n",
      "Here we are in 61 test\n",
      "Here we are in 62 test\n",
      "Here we are in 63 test\n",
      "Here we are in 64 test\n",
      "Here we are in 65 test\n",
      "Here we are in 66 test\n",
      "Here we are in 67 test\n",
      "Here we are in 68 test\n",
      "Here we are in 69 test\n",
      "Here we are in 70 test\n",
      "Here we are in 71 test\n",
      "Here we are in 72 test\n",
      "Here we are in 73 test\n",
      "Here we are in 74 test\n",
      "Here we are in 75 test\n",
      "Here we are in 76 test\n",
      "Here we are in 77 test\n",
      "Here we are in 78 test\n",
      "Here we are in 79 test\n",
      "Here we are in 80 test\n",
      "Here we are in 81 test\n",
      "Here we are in 82 test\n",
      "Here we are in 83 test\n",
      "Here we are in 84 test\n",
      "Here we are in 85 test\n",
      "Here we are in 86 test\n",
      "Here we are in 87 test\n",
      "Here we are in 88 test\n",
      "Here we are in 89 test\n",
      "Here we are in 90 test\n",
      "Here we are in 91 test\n",
      "Here we are in 92 test\n",
      "Here we are in 93 test\n",
      "Here we are in 94 test\n",
      "Here we are in 95 test\n",
      "Here we are in 96 test\n",
      "Here we are in 97 test\n",
      "Here we are in 98 test\n",
      "Here we are in 99 test\n",
      "Here we are in 100 test\n",
      "Here we are in 101 test\n",
      "Here we are in 102 test\n",
      "Here we are in 103 test\n",
      "Here we are in 104 test\n",
      "Here we are in 105 test\n",
      "Here we are in 106 test\n",
      "Here we are in 107 test\n",
      "Here we are in 108 test\n",
      "Here we are in 109 test\n",
      "Here we are in 110 test\n",
      "Here we are in 111 test\n",
      "Here we are in 112 test\n",
      "Here we are in 113 test\n",
      "Here we are in 114 test\n",
      "Here we are in 115 test\n",
      "Here we are in 116 test\n",
      "Here we are in 117 test\n",
      "Here we are in 118 test\n",
      "Here we are in 119 test\n",
      "Here we are in 120 test\n",
      "Here we are in 121 test\n",
      "Here we are in 122 test\n",
      "Here we are in 123 test\n",
      "Here we are in 124 test\n",
      "Here we are in 125 test\n",
      "Here we are in 126 test\n",
      "Here we are in 127 test\n",
      "Here we are in 128 test\n",
      "Here we are in 129 test\n",
      "Here we are in 130 test\n",
      "Here we are in 131 test\n",
      "Here we are in 132 test\n",
      "Here we are in 133 test\n",
      "Here we are in 134 test\n",
      "Here we are in 135 test\n",
      "Here we are in 136 test\n",
      "Here we are in 137 test\n",
      "Here we are in 138 test\n",
      "Here we are in 139 test\n",
      "Here we are in 140 test\n",
      "Here we are in 141 test\n",
      "Here we are in 142 test\n",
      "Here we are in 143 test\n",
      "Here we are in 144 test\n",
      "Here we are in 145 test\n",
      "Here we are in 146 test\n",
      "Here we are in 147 test\n",
      "Here we are in 148 test\n",
      "Here we are in 149 test\n",
      "Here we are in 150 test\n",
      "Here we are in 151 test\n",
      "Here we are in 152 test\n",
      "Here we are in 153 test\n",
      "Here we are in 154 test\n",
      "Here we are in 155 test\n",
      "Here we are in 156 test\n",
      "Here we are in 157 test\n",
      "Here we are in 158 test\n",
      "Here we are in 159 test\n",
      "Here we are in 160 test\n",
      "Here we are in 161 test\n",
      "Here we are in 162 test\n",
      "Here we are in 163 test\n",
      "Here we are in 164 test\n",
      "Here we are in 165 test\n",
      "Here we are in 166 test\n",
      "Here we are in 167 test\n",
      "Here we are in 168 test\n",
      "Here we are in 169 test\n",
      "Here we are in 170 test\n",
      "Here we are in 171 test\n",
      "Here we are in 172 test\n",
      "Here we are in 173 test\n",
      "Here we are in 174 test\n",
      "Here we are in 175 test\n",
      "Here we are in 176 test\n",
      "Here we are in 177 test\n",
      "Here we are in 178 test\n",
      "Here we are in 179 test\n",
      "Here we are in 180 test\n",
      "Here we are in 181 test\n",
      "Here we are in 182 test\n",
      "Here we are in 183 test\n",
      "Here we are in 184 test\n",
      "Here we are in 185 test\n",
      "Here we are in 186 test\n",
      "Here we are in 187 test\n",
      "Here we are in 188 test\n",
      "Here we are in 189 test\n",
      "Here we are in 190 test\n",
      "Here we are in 191 test\n",
      "Here we are in 192 test\n",
      "Here we are in 193 test\n",
      "Here we are in 194 test\n",
      "Here we are in 195 test\n",
      "Here we are in 196 test\n",
      "Here we are in 197 test\n",
      "Here we are in 198 test\n",
      "Here we are in 199 test\n",
      "Here we are in 200 test\n",
      "Here we are in 201 test\n",
      "Here we are in 202 test\n",
      "Here we are in 203 test\n",
      "Here we are in 204 test\n",
      "Here we are in 205 test\n",
      "Here we are in 206 test\n",
      "Here we are in 207 test\n",
      "Here we are in 208 test\n",
      "Here we are in 209 test\n",
      "Here we are in 210 test\n",
      "Here we are in 211 test\n",
      "Here we are in 212 test\n",
      "Here we are in 213 test\n",
      "Here we are in 214 test\n",
      "Here we are in 215 test\n",
      "Here we are in 216 test\n",
      "Here we are in 217 test\n",
      "Here we are in 218 test\n",
      "Here we are in 219 test\n",
      "Here we are in 220 test\n",
      "Here we are in 221 test\n",
      "Here we are in 222 test\n",
      "Here we are in 223 test\n",
      "Here we are in 224 test\n",
      "Here we are in 225 test\n",
      "Here we are in 226 test\n",
      "Here we are in 227 test\n",
      "Here we are in 228 test\n",
      "Here we are in 229 test\n",
      "Here we are in 230 test\n",
      "Here we are in 231 test\n",
      "Here we are in 232 test\n",
      "Here we are in 233 test\n",
      "Here we are in 234 test\n",
      "Here we are in 235 test\n",
      "Here we are in 236 test\n",
      "Here we are in 237 test\n",
      "Here we are in 238 test\n",
      "Here we are in 239 test\n",
      "Here we are in 240 test\n",
      "Here we are in 241 test\n",
      "Here we are in 242 test\n",
      "Here we are in 243 test\n",
      "Here we are in 244 test\n",
      "Here we are in 245 test\n",
      "Here we are in 246 test\n",
      "Here we are in 247 test\n",
      "Here we are in 248 test\n",
      "Here we are in 249 test\n",
      "Here we are in 250 test\n",
      "Here we are in 251 test\n",
      "Here we are in 252 test\n",
      "Here we are in 253 test\n",
      "Here we are in 254 test\n",
      "Here we are in 255 test\n",
      "Here we are in 256 test\n",
      "Here we are in 257 test\n",
      "Here we are in 258 test\n",
      "Here we are in 259 test\n",
      "Here we are in 260 test\n",
      "Here we are in 261 test\n",
      "Here we are in 262 test\n",
      "Here we are in 263 test\n",
      "Here we are in 264 test\n",
      "Here we are in 265 test\n",
      "Here we are in 266 test\n",
      "Here we are in 267 test\n",
      "Here we are in 268 test\n",
      "Here we are in 269 test\n",
      "Here we are in 270 test\n",
      "Here we are in 271 test\n",
      "Here we are in 272 test\n",
      "Here we are in 273 test\n",
      "Here we are in 274 test\n",
      "Here we are in 275 test\n",
      "Here we are in 276 test\n",
      "Here we are in 277 test\n",
      "Here we are in 278 test\n",
      "Here we are in 279 test\n",
      "Here we are in 280 test\n",
      "Here we are in 281 test\n",
      "Here we are in 282 test\n",
      "Here we are in 283 test\n",
      "Here we are in 284 test\n",
      "Here we are in 285 test\n",
      "Here we are in 286 test\n",
      "Here we are in 287 test\n",
      "Here we are in 288 test\n",
      "Here we are in 289 test\n",
      "Here we are in 290 test\n",
      "Here we are in 291 test\n",
      "Here we are in 292 test\n",
      "Here we are in 293 test\n",
      "Here we are in 294 test\n",
      "Here we are in 295 test\n",
      "Here we are in 296 test\n",
      "Here we are in 297 test\n",
      "Here we are in 298 test\n",
      "Here we are in 299 test\n",
      "Here we are in 300 test\n",
      "Here we are in 301 test\n",
      "Here we are in 302 test\n",
      "Here we are in 303 test\n",
      "Here we are in 304 test\n",
      "Here we are in 305 test\n",
      "Here we are in 306 test\n",
      "Here we are in 307 test\n",
      "Here we are in 308 test\n",
      "Here we are in 309 test\n",
      "Here we are in 310 test\n",
      "Here we are in 311 test\n",
      "Here we are in 312 test\n",
      "Here we are in 313 test\n",
      "Here we are in 314 test\n",
      "Here we are in 315 test\n",
      "Here we are in 316 test\n",
      "Here we are in 317 test\n",
      "Here we are in 318 test\n",
      "Here we are in 319 test\n",
      "Here we are in 320 test\n",
      "Here we are in 321 test\n",
      "Here we are in 322 test\n",
      "Here we are in 323 test\n",
      "Here we are in 324 test\n",
      "Here we are in 325 test\n",
      "Here we are in 326 test\n",
      "Here we are in 327 test\n",
      "Here we are in 328 test\n",
      "Here we are in 329 test\n",
      "Here we are in 330 test\n",
      "Here we are in 331 test\n",
      "Here we are in 332 test\n",
      "Here we are in 333 test\n",
      "Here we are in 334 test\n",
      "Here we are in 335 test\n",
      "Here we are in 336 test\n",
      "Here we are in 337 test\n",
      "Here we are in 338 test\n",
      "Here we are in 339 test\n",
      "Here we are in 340 test\n",
      "Here we are in 341 test\n",
      "Here we are in 342 test\n",
      "Here we are in 343 test\n",
      "Here we are in 344 test\n",
      "Here we are in 345 test\n"
     ]
    },
    {
     "name": "stdout",
     "output_type": "stream",
     "text": [
      "Here we are in 346 test\n",
      "Here we are in 347 test\n",
      "Here we are in 348 test\n",
      "Here we are in 349 test\n",
      "Here we are in 350 test\n",
      "Here we are in 351 test\n",
      "Here we are in 352 test\n",
      "Here we are in 353 test\n",
      "Here we are in 354 test\n",
      "Here we are in 355 test\n",
      "Here we are in 356 test\n",
      "Here we are in 357 test\n",
      "Here we are in 358 test\n",
      "Here we are in 359 test\n",
      "Here we are in 360 test\n",
      "Here we are in 361 test\n",
      "Here we are in 362 test\n",
      "Here we are in 363 test\n",
      "Here we are in 364 test\n",
      "Here we are in 365 test\n",
      "Here we are in 366 test\n",
      "Here we are in 367 test\n",
      "Here we are in 368 test\n",
      "Here we are in 369 test\n",
      "Here we are in 370 test\n",
      "Here we are in 371 test\n",
      "Here we are in 372 test\n",
      "Here we are in 373 test\n",
      "Here we are in 374 test\n",
      "Here we are in 375 test\n",
      "Here we are in 376 test\n",
      "Here we are in 377 test\n",
      "Here we are in 378 test\n",
      "Here we are in 379 test\n",
      "Here we are in 380 test\n",
      "Here we are in 381 test\n",
      "Here we are in 382 test\n",
      "Here we are in 383 test\n",
      "Here we are in 384 test\n",
      "Here we are in 385 test\n",
      "Here we are in 386 test\n",
      "Here we are in 387 test\n",
      "Here we are in 388 test\n",
      "Here we are in 389 test\n",
      "Here we are in 390 test\n",
      "Here we are in 391 test\n",
      "Here we are in 392 test\n",
      "Here we are in 393 test\n",
      "Here we are in 394 test\n",
      "Here we are in 395 test\n",
      "Here we are in 396 test\n",
      "Here we are in 397 test\n",
      "Here we are in 398 test\n",
      "Here we are in 399 test\n",
      "Here we are in 400 test\n",
      "Here we are in 401 test\n",
      "Here we are in 402 test\n",
      "Here we are in 403 test\n",
      "Here we are in 404 test\n",
      "Here we are in 405 test\n",
      "Here we are in 406 test\n",
      "Here we are in 407 test\n",
      "Here we are in 408 test\n",
      "Here we are in 409 test\n",
      "Here we are in 410 test\n",
      "Here we are in 411 test\n",
      "Here we are in 412 test\n",
      "Here we are in 413 test\n",
      "Here we are in 414 test\n",
      "Here we are in 415 test\n",
      "Here we are in 416 test\n",
      "Here we are in 417 test\n",
      "Here we are in 418 test\n",
      "Here we are in 419 test\n",
      "Here we are in 420 test\n",
      "Here we are in 421 test\n",
      "Here we are in 422 test\n",
      "Here we are in 423 test\n",
      "Here we are in 424 test\n",
      "Here we are in 425 test\n",
      "Here we are in 426 test\n",
      "Here we are in 427 test\n",
      "Here we are in 428 test\n",
      "Here we are in 429 test\n",
      "Here we are in 430 test\n",
      "Here we are in 431 test\n",
      "Here we are in 432 test\n",
      "Here we are in 433 test\n",
      "Here we are in 434 test\n",
      "Here we are in 435 test\n",
      "Here we are in 436 test\n",
      "Here we are in 437 test\n",
      "Here we are in 438 test\n",
      "Here we are in 439 test\n",
      "Here we are in 440 test\n",
      "Here we are in 441 test\n",
      "Here we are in 442 test\n",
      "Here we are in 443 test\n",
      "Here we are in 444 test\n",
      "Here we are in 445 test\n",
      "Here we are in 446 test\n",
      "Here we are in 447 test\n",
      "Here we are in 448 test\n",
      "Here we are in 449 test\n",
      "Here we are in 450 test\n",
      "Here we are in 451 test\n",
      "Here we are in 452 test\n",
      "Here we are in 453 test\n",
      "Here we are in 454 test\n",
      "Here we are in 455 test\n",
      "Here we are in 456 test\n",
      "Here we are in 457 test\n",
      "Here we are in 458 test\n",
      "Here we are in 459 test\n",
      "Here we are in 460 test\n",
      "Here we are in 461 test\n",
      "Here we are in 462 test\n",
      "Here we are in 463 test\n",
      "Here we are in 464 test\n",
      "Here we are in 465 test\n",
      "Here we are in 466 test\n",
      "Here we are in 467 test\n",
      "Here we are in 468 test\n",
      "Here we are in 469 test\n",
      "Here we are in 470 test\n",
      "Here we are in 471 test\n",
      "Here we are in 472 test\n",
      "Here we are in 473 test\n",
      "Here we are in 474 test\n",
      "Here we are in 475 test\n",
      "Here we are in 476 test\n",
      "Here we are in 477 test\n",
      "Here we are in 478 test\n",
      "Here we are in 479 test\n",
      "Here we are in 480 test\n",
      "Here we are in 481 test\n",
      "Here we are in 482 test\n",
      "Here we are in 483 test\n",
      "Here we are in 484 test\n",
      "Here we are in 485 test\n",
      "Here we are in 486 test\n",
      "Here we are in 487 test\n",
      "Here we are in 488 test\n",
      "Here we are in 489 test\n",
      "Here we are in 490 test\n",
      "Here we are in 491 test\n",
      "Here we are in 492 test\n",
      "Here we are in 493 test\n",
      "Here we are in 494 test\n",
      "Here we are in 495 test\n",
      "Here we are in 496 test\n",
      "Here we are in 497 test\n",
      "Here we are in 498 test\n",
      "Here we are in 499 test\n"
     ]
    }
   ],
   "source": [
    "tests=500\n",
    "L=31\n",
    "results=np.zeros((tests,2*L-1,2))\n",
    "for test in range(tests):\n",
    "    print(\"Here we are in {} test\".format(test))\n",
    "    a,b=Get_Bands_Matrix()\n",
    "    #results[test,:,0]=np.append(np.roll(a,-1)[::-1][:L][::-1].real,a[1:L].real)\n",
    "    #results[test,:,1]=np.append(b[::-1][:L].real,np.roll(b,L-1)[::-1][1:L].real)\n",
    "    "
   ]
  },
  {
   "cell_type": "code",
   "execution_count": 36,
   "metadata": {
    "ExecuteTime": {
     "end_time": "2019-10-15T18:10:12.990388Z",
     "start_time": "2019-10-15T18:10:12.984404Z"
    }
   },
   "outputs": [
    {
     "data": {
      "text/plain": [
       "array([21, 22, 23, 24, 25, 26, 27, 28, 29, 30, 31, 32, 33, 34, 35, 36, 37,\n",
       "       38, 39, 40, 41, 42, 43, 44, 45, 46, 47, 48, 49, 50,  0])"
      ]
     },
     "execution_count": 36,
     "metadata": {},
     "output_type": "execute_result"
    }
   ],
   "source": [
    "a=np.arange(51)\n",
    "np.append(np.roll(a,-1)[::-1][:L][::-1].real,a[1:L].real)[:L]"
   ]
  },
  {
   "cell_type": "code",
   "execution_count": null,
   "metadata": {},
   "outputs": [],
   "source": []
  },
  {
   "cell_type": "code",
   "execution_count": 30,
   "metadata": {
    "ExecuteTime": {
     "end_time": "2019-10-15T18:07:40.848787Z",
     "start_time": "2019-10-15T18:07:40.843768Z"
    }
   },
   "outputs": [],
   "source": [
    "F_plus=results[:,:,0]-results[:,:,0].mean(axis=0)\n",
    "F_minous=results[:,:,1]-results[:,:,1].mean(axis=0)"
   ]
  },
  {
   "cell_type": "code",
   "execution_count": 32,
   "metadata": {
    "ExecuteTime": {
     "end_time": "2019-10-15T18:08:20.911005Z",
     "start_time": "2019-10-15T18:08:20.784660Z"
    }
   },
   "outputs": [
    {
     "data": {
      "text/plain": [
       "[<matplotlib.lines.Line2D at 0x167185e9da0>]"
      ]
     },
     "execution_count": 32,
     "metadata": {},
     "output_type": "execute_result"
    },
    {
     "data": {
      "image/png": "[encoded data removed]",
      "text/plain": [
       "<Figure size 432x288 with 1 Axes>"
      ]
     },
     "metadata": {
      "needs_background": "light"
     },
     "output_type": "display_data"
    }
   ],
   "source": [
    "plt.plot(F_minous[0])"
   ]
  },
  {
   "cell_type": "code",
   "execution_count": 33,
   "metadata": {
    "ExecuteTime": {
     "end_time": "2019-10-15T18:08:58.350137Z",
     "start_time": "2019-10-15T18:08:58.224462Z"
    }
   },
   "outputs": [
    {
     "data": {
      "text/plain": [
       "[<matplotlib.lines.Line2D at 0x167188b0518>]"
      ]
     },
     "execution_count": 33,
     "metadata": {},
     "output_type": "execute_result"
    },
    {
     "data": {
      "image/png": "[encoded data removed]",
      "text/plain": [
       "<Figure size 432x288 with 1 Axes>"
      ]
     },
     "metadata": {
      "needs_background": "light"
     },
     "output_type": "display_data"
    }
   ],
   "source": [
    "plt.plot(F_plus[0])"
   ]
  },
  {
   "cell_type": "code",
   "execution_count": 37,
   "metadata": {
    "ExecuteTime": {
     "end_time": "2019-10-15T18:10:49.381386Z",
     "start_time": "2019-10-15T18:10:49.263703Z"
    }
   },
   "outputs": [
    {
     "data": {
      "text/plain": [
       "[<matplotlib.lines.Line2D at 0x16718f9ed68>]"
      ]
     },
     "execution_count": 37,
     "metadata": {},
     "output_type": "execute_result"
    },
    {
     "data": {
      "image/png": "[encoded data removed]",
      "text/plain": [
       "<Figure size 432x288 with 1 Axes>"
      ]
     },
     "metadata": {
      "needs_background": "light"
     },
     "output_type": "display_data"
    }
   ],
   "source": [
    "plt.plot(results[:,:,1].mean(axis=0))"
   ]
  },
  {
   "cell_type": "code",
   "execution_count": 38,
   "metadata": {
    "ExecuteTime": {
     "end_time": "2019-10-15T18:11:21.740373Z",
     "start_time": "2019-10-15T18:11:21.614791Z"
    }
   },
   "outputs": [
    {
     "data": {
      "text/plain": [
       "[<matplotlib.lines.Line2D at 0x16718fdea90>]"
      ]
     },
     "execution_count": 38,
     "metadata": {},
     "output_type": "execute_result"
    },
    {
     "data": {
      "image/png": "[encoded data removed]",
      "text/plain": [
       "<Figure size 432x288 with 1 Axes>"
      ]
     },
     "metadata": {
      "needs_background": "light"
     },
     "output_type": "display_data"
    }
   ],
   "source": [
    "plt.plot(results[:,:,0].mean(axis=0))"
   ]
  },
  {
   "cell_type": "code",
   "execution_count": 39,
   "metadata": {
    "ExecuteTime": {
     "end_time": "2019-10-15T19:23:41.516823Z",
     "start_time": "2019-10-15T19:15:24.849429Z"
    }
   },
   "outputs": [
    {
     "name": "stdout",
     "output_type": "stream",
     "text": [
      "Here we are in 0 test\n",
      "Here we are in 1 test\n",
      "Here we are in 2 test\n",
      "Here we are in 3 test\n",
      "Here we are in 4 test\n",
      "Here we are in 5 test\n",
      "Here we are in 6 test\n",
      "Here we are in 7 test\n",
      "Here we are in 8 test\n",
      "Here we are in 9 test\n",
      "Here we are in 10 test\n",
      "Here we are in 11 test\n",
      "Here we are in 12 test\n",
      "Here we are in 13 test\n",
      "Here we are in 14 test\n",
      "Here we are in 15 test\n",
      "Here we are in 16 test\n",
      "Here we are in 17 test\n",
      "Here we are in 18 test\n",
      "Here we are in 19 test\n",
      "Here we are in 20 test\n",
      "Here we are in 21 test\n",
      "Here we are in 22 test\n",
      "Here we are in 23 test\n",
      "Here we are in 24 test\n",
      "Here we are in 25 test\n",
      "Here we are in 26 test\n",
      "Here we are in 27 test\n",
      "Here we are in 28 test\n",
      "Here we are in 29 test\n",
      "Here we are in 30 test\n",
      "Here we are in 31 test\n",
      "Here we are in 32 test\n",
      "Here we are in 33 test\n",
      "Here we are in 34 test\n",
      "Here we are in 35 test\n",
      "Here we are in 36 test\n",
      "Here we are in 37 test\n",
      "Here we are in 38 test\n",
      "Here we are in 39 test\n",
      "Here we are in 40 test\n",
      "Here we are in 41 test\n",
      "Here we are in 42 test\n",
      "Here we are in 43 test\n",
      "Here we are in 44 test\n",
      "Here we are in 45 test\n",
      "Here we are in 46 test\n",
      "Here we are in 47 test\n",
      "Here we are in 48 test\n",
      "Here we are in 49 test\n",
      "Here we are in 50 test\n",
      "Here we are in 51 test\n",
      "Here we are in 52 test\n",
      "Here we are in 53 test\n",
      "Here we are in 54 test\n",
      "Here we are in 55 test\n",
      "Here we are in 56 test\n",
      "Here we are in 57 test\n",
      "Here we are in 58 test\n",
      "Here we are in 59 test\n",
      "Here we are in 60 test\n",
      "Here we are in 61 test\n",
      "Here we are in 62 test\n",
      "Here we are in 63 test\n",
      "Here we are in 64 test\n",
      "Here we are in 65 test\n",
      "Here we are in 66 test\n",
      "Here we are in 67 test\n",
      "Here we are in 68 test\n",
      "Here we are in 69 test\n",
      "Here we are in 70 test\n",
      "Here we are in 71 test\n",
      "Here we are in 72 test\n",
      "Here we are in 73 test\n",
      "Here we are in 74 test\n",
      "Here we are in 75 test\n",
      "Here we are in 76 test\n",
      "Here we are in 77 test\n",
      "Here we are in 78 test\n",
      "Here we are in 79 test\n",
      "Here we are in 80 test\n",
      "Here we are in 81 test\n",
      "Here we are in 82 test\n",
      "Here we are in 83 test\n",
      "Here we are in 84 test\n",
      "Here we are in 85 test\n",
      "Here we are in 86 test\n",
      "Here we are in 87 test\n",
      "Here we are in 88 test\n",
      "Here we are in 89 test\n",
      "Here we are in 90 test\n",
      "Here we are in 91 test\n",
      "Here we are in 92 test\n",
      "Here we are in 93 test\n",
      "Here we are in 94 test\n",
      "Here we are in 95 test\n",
      "Here we are in 96 test\n",
      "Here we are in 97 test\n",
      "Here we are in 98 test\n",
      "Here we are in 99 test\n",
      "Here we are in 100 test\n",
      "Here we are in 101 test\n",
      "Here we are in 102 test\n",
      "Here we are in 103 test\n",
      "Here we are in 104 test\n",
      "Here we are in 105 test\n",
      "Here we are in 106 test\n",
      "Here we are in 107 test\n",
      "Here we are in 108 test\n",
      "Here we are in 109 test\n",
      "Here we are in 110 test\n",
      "Here we are in 111 test\n",
      "Here we are in 112 test\n",
      "Here we are in 113 test\n",
      "Here we are in 114 test\n",
      "Here we are in 115 test\n",
      "Here we are in 116 test\n"
     ]
    },
    {
     "ename": "KeyboardInterrupt",
     "evalue": "",
     "output_type": "error",
     "traceback": [
      "\u001b[1;31m---------------------------------------------------------------------------\u001b[0m",
      "\u001b[1;31mKeyboardInterrupt\u001b[0m                         Traceback (most recent call last)",
      "\u001b[1;32m<ipython-input-39-280336ed0560>\u001b[0m in \u001b[0;36m<module>\u001b[1;34m\u001b[0m\n\u001b[0;32m      6\u001b[0m \u001b[1;32mfor\u001b[0m \u001b[0mtest\u001b[0m \u001b[1;32min\u001b[0m \u001b[0mrange\u001b[0m\u001b[1;33m(\u001b[0m\u001b[0mtests\u001b[0m\u001b[1;33m)\u001b[0m\u001b[1;33m:\u001b[0m\u001b[1;33m\u001b[0m\u001b[1;33m\u001b[0m\u001b[0m\n\u001b[0;32m      7\u001b[0m     \u001b[0mprint\u001b[0m\u001b[1;33m(\u001b[0m\u001b[1;34m\"Here we are in {} test\"\u001b[0m\u001b[1;33m.\u001b[0m\u001b[0mformat\u001b[0m\u001b[1;33m(\u001b[0m\u001b[0mtest\u001b[0m\u001b[1;33m)\u001b[0m\u001b[1;33m)\u001b[0m\u001b[1;33m\u001b[0m\u001b[1;33m\u001b[0m\u001b[0m\n\u001b[1;32m----> 8\u001b[1;33m     \u001b[0ma\u001b[0m\u001b[1;33m,\u001b[0m\u001b[0mb\u001b[0m\u001b[1;33m=\u001b[0m\u001b[0mGet_Bands_Matrix\u001b[0m\u001b[1;33m(\u001b[0m\u001b[1;33m)\u001b[0m\u001b[1;33m\u001b[0m\u001b[1;33m\u001b[0m\u001b[0m\n\u001b[0m",
      "\u001b[1;32m<ipython-input-25-6dc7da031eeb>\u001b[0m in \u001b[0;36mGet_Bands_Matrix\u001b[1;34m(Gamma, Lambda, N_size, beta, mu, Ground)\u001b[0m\n\u001b[0;32m     99\u001b[0m         \u001b[0mx\u001b[0m\u001b[1;33m=\u001b[0m\u001b[0mnp\u001b[0m\u001b[1;33m.\u001b[0m\u001b[0marange\u001b[0m\u001b[1;33m(\u001b[0m\u001b[1;33m-\u001b[0m\u001b[1;33m(\u001b[0m\u001b[0mN_size\u001b[0m\u001b[1;33m-\u001b[0m\u001b[1;36m1\u001b[0m\u001b[1;33m)\u001b[0m\u001b[1;33m/\u001b[0m\u001b[1;36m2\u001b[0m\u001b[1;33m,\u001b[0m\u001b[1;33m(\u001b[0m\u001b[0mN_size\u001b[0m\u001b[1;33m-\u001b[0m\u001b[1;36m1\u001b[0m\u001b[1;33m)\u001b[0m\u001b[1;33m/\u001b[0m\u001b[1;36m2\u001b[0m\u001b[1;33m+\u001b[0m\u001b[1;36m1\u001b[0m\u001b[1;33m)\u001b[0m\u001b[1;33m\u001b[0m\u001b[1;33m\u001b[0m\u001b[0m\n\u001b[0;32m    100\u001b[0m \u001b[1;33m\u001b[0m\u001b[0m\n\u001b[1;32m--> 101\u001b[1;33m         \u001b[0mM_minous\u001b[0m\u001b[1;33m=\u001b[0m\u001b[1;33m[\u001b[0m\u001b[1;33m(\u001b[0m\u001b[1;33m(\u001b[0m\u001b[0mm_cos\u001b[0m\u001b[1;33m[\u001b[0m\u001b[0mnp\u001b[0m\u001b[1;33m.\u001b[0m\u001b[0mabs\u001b[0m\u001b[1;33m(\u001b[0m\u001b[0mint\u001b[0m\u001b[1;33m(\u001b[0m\u001b[0mi\u001b[0m\u001b[1;33m)\u001b[0m\u001b[1;33m)\u001b[0m\u001b[1;33m]\u001b[0m\u001b[1;33m-\u001b[0m\u001b[0mm_sin\u001b[0m\u001b[1;33m[\u001b[0m\u001b[0mnp\u001b[0m\u001b[1;33m.\u001b[0m\u001b[0mabs\u001b[0m\u001b[1;33m(\u001b[0m\u001b[0mint\u001b[0m\u001b[1;33m(\u001b[0m\u001b[0mi\u001b[0m\u001b[1;33m)\u001b[0m\u001b[1;33m)\u001b[0m\u001b[1;33m]\u001b[0m\u001b[1;33m)\u001b[0m\u001b[1;33m*\u001b[0m\u001b[1;36m0.5\u001b[0m\u001b[1;33m*\u001b[0m\u001b[0mnp\u001b[0m\u001b[1;33m.\u001b[0m\u001b[0mexp\u001b[0m\u001b[1;33m(\u001b[0m\u001b[1;36m1.j\u001b[0m\u001b[1;33m*\u001b[0m\u001b[0mnp\u001b[0m\u001b[1;33m.\u001b[0m\u001b[0msign\u001b[0m\u001b[1;33m(\u001b[0m\u001b[1;33m(\u001b[0m\u001b[1;36m2.0\u001b[0m\u001b[1;33m*\u001b[0m\u001b[0mnp\u001b[0m\u001b[1;33m.\u001b[0m\u001b[0mpi\u001b[0m\u001b[1;33m/\u001b[0m\u001b[0mN_size\u001b[0m\u001b[1;33m)\u001b[0m \u001b[1;33m*\u001b[0m \u001b[0mi\u001b[0m\u001b[1;33m)\u001b[0m\u001b[1;33m*\u001b[0m\u001b[0mPhi\u001b[0m\u001b[1;33m(\u001b[0m\u001b[0mGamma\u001b[0m\u001b[1;33m,\u001b[0m\u001b[0mLambda\u001b[0m\u001b[1;33m,\u001b[0m\u001b[0mnp\u001b[0m\u001b[1;33m.\u001b[0m\u001b[0mabs\u001b[0m\u001b[1;33m(\u001b[0m\u001b[1;33m(\u001b[0m\u001b[1;36m2.0\u001b[0m\u001b[1;33m*\u001b[0m\u001b[0mnp\u001b[0m\u001b[1;33m.\u001b[0m\u001b[0mpi\u001b[0m\u001b[1;33m/\u001b[0m\u001b[0mN_size\u001b[0m\u001b[1;33m)\u001b[0m \u001b[1;33m*\u001b[0m \u001b[0mi\u001b[0m\u001b[1;33m)\u001b[0m\u001b[1;33m)\u001b[0m\u001b[1;33m)\u001b[0m\u001b[1;33m)\u001b[0m \u001b[1;32mfor\u001b[0m \u001b[0mi\u001b[0m \u001b[1;32min\u001b[0m \u001b[0mx\u001b[0m\u001b[1;33m]\u001b[0m\u001b[1;33m\u001b[0m\u001b[1;33m\u001b[0m\u001b[0m\n\u001b[0m\u001b[0;32m    102\u001b[0m         \u001b[0mM_plus\u001b[0m \u001b[1;33m=\u001b[0m \u001b[1;33m[\u001b[0m\u001b[1;33m(\u001b[0m\u001b[1;33m(\u001b[0m\u001b[0mm_cos\u001b[0m\u001b[1;33m[\u001b[0m\u001b[0mnp\u001b[0m\u001b[1;33m.\u001b[0m\u001b[0mabs\u001b[0m\u001b[1;33m(\u001b[0m\u001b[0mint\u001b[0m\u001b[1;33m(\u001b[0m\u001b[0mi\u001b[0m\u001b[1;33m)\u001b[0m\u001b[1;33m)\u001b[0m\u001b[1;33m]\u001b[0m\u001b[1;33m+\u001b[0m\u001b[0mm_sin\u001b[0m\u001b[1;33m[\u001b[0m\u001b[0mnp\u001b[0m\u001b[1;33m.\u001b[0m\u001b[0mabs\u001b[0m\u001b[1;33m(\u001b[0m\u001b[0mint\u001b[0m\u001b[1;33m(\u001b[0m\u001b[0mi\u001b[0m\u001b[1;33m)\u001b[0m\u001b[1;33m)\u001b[0m\u001b[1;33m]\u001b[0m\u001b[1;33m)\u001b[0m\u001b[1;33m*\u001b[0m\u001b[1;36m0.5\u001b[0m\u001b[1;33m*\u001b[0m\u001b[0mnp\u001b[0m\u001b[1;33m.\u001b[0m\u001b[0mexp\u001b[0m\u001b[1;33m(\u001b[0m\u001b[1;36m1.j\u001b[0m\u001b[1;33m*\u001b[0m\u001b[0mnp\u001b[0m\u001b[1;33m.\u001b[0m\u001b[0msign\u001b[0m\u001b[1;33m(\u001b[0m\u001b[1;33m(\u001b[0m\u001b[1;36m2.0\u001b[0m\u001b[1;33m*\u001b[0m\u001b[0mnp\u001b[0m\u001b[1;33m.\u001b[0m\u001b[0mpi\u001b[0m\u001b[1;33m/\u001b[0m\u001b[0mN_size\u001b[0m\u001b[1;33m)\u001b[0m \u001b[1;33m*\u001b[0m \u001b[0mi\u001b[0m\u001b[1;33m)\u001b[0m\u001b[1;33m*\u001b[0m\u001b[0mPhi\u001b[0m\u001b[1;33m(\u001b[0m\u001b[0mGamma\u001b[0m\u001b[1;33m,\u001b[0m\u001b[0mLambda\u001b[0m\u001b[1;33m,\u001b[0m\u001b[0mnp\u001b[0m\u001b[1;33m.\u001b[0m\u001b[0mabs\u001b[0m\u001b[1;33m(\u001b[0m\u001b[1;33m(\u001b[0m\u001b[1;36m2.0\u001b[0m\u001b[1;33m*\u001b[0m\u001b[0mnp\u001b[0m\u001b[1;33m.\u001b[0m\u001b[0mpi\u001b[0m\u001b[1;33m/\u001b[0m\u001b[0mN_size\u001b[0m\u001b[1;33m)\u001b[0m \u001b[1;33m*\u001b[0m \u001b[0mi\u001b[0m\u001b[1;33m)\u001b[0m\u001b[1;33m)\u001b[0m\u001b[1;33m)\u001b[0m\u001b[1;33m)\u001b[0m \u001b[1;32mfor\u001b[0m \u001b[0mi\u001b[0m \u001b[1;32min\u001b[0m \u001b[0mx\u001b[0m\u001b[1;33m]\u001b[0m\u001b[1;33m\u001b[0m\u001b[1;33m\u001b[0m\u001b[0m\n\u001b[0;32m    103\u001b[0m         \u001b[0mMminousband\u001b[0m\u001b[1;33m=\u001b[0m\u001b[0mnp\u001b[0m\u001b[1;33m.\u001b[0m\u001b[0marray\u001b[0m\u001b[1;33m(\u001b[0m\u001b[0mM_minous\u001b[0m\u001b[1;33m)\u001b[0m\u001b[1;33m\u001b[0m\u001b[1;33m\u001b[0m\u001b[0m\n",
      "\u001b[1;32m<ipython-input-25-6dc7da031eeb>\u001b[0m in \u001b[0;36m<listcomp>\u001b[1;34m(.0)\u001b[0m\n\u001b[0;32m     99\u001b[0m         \u001b[0mx\u001b[0m\u001b[1;33m=\u001b[0m\u001b[0mnp\u001b[0m\u001b[1;33m.\u001b[0m\u001b[0marange\u001b[0m\u001b[1;33m(\u001b[0m\u001b[1;33m-\u001b[0m\u001b[1;33m(\u001b[0m\u001b[0mN_size\u001b[0m\u001b[1;33m-\u001b[0m\u001b[1;36m1\u001b[0m\u001b[1;33m)\u001b[0m\u001b[1;33m/\u001b[0m\u001b[1;36m2\u001b[0m\u001b[1;33m,\u001b[0m\u001b[1;33m(\u001b[0m\u001b[0mN_size\u001b[0m\u001b[1;33m-\u001b[0m\u001b[1;36m1\u001b[0m\u001b[1;33m)\u001b[0m\u001b[1;33m/\u001b[0m\u001b[1;36m2\u001b[0m\u001b[1;33m+\u001b[0m\u001b[1;36m1\u001b[0m\u001b[1;33m)\u001b[0m\u001b[1;33m\u001b[0m\u001b[1;33m\u001b[0m\u001b[0m\n\u001b[0;32m    100\u001b[0m \u001b[1;33m\u001b[0m\u001b[0m\n\u001b[1;32m--> 101\u001b[1;33m         \u001b[0mM_minous\u001b[0m\u001b[1;33m=\u001b[0m\u001b[1;33m[\u001b[0m\u001b[1;33m(\u001b[0m\u001b[1;33m(\u001b[0m\u001b[0mm_cos\u001b[0m\u001b[1;33m[\u001b[0m\u001b[0mnp\u001b[0m\u001b[1;33m.\u001b[0m\u001b[0mabs\u001b[0m\u001b[1;33m(\u001b[0m\u001b[0mint\u001b[0m\u001b[1;33m(\u001b[0m\u001b[0mi\u001b[0m\u001b[1;33m)\u001b[0m\u001b[1;33m)\u001b[0m\u001b[1;33m]\u001b[0m\u001b[1;33m-\u001b[0m\u001b[0mm_sin\u001b[0m\u001b[1;33m[\u001b[0m\u001b[0mnp\u001b[0m\u001b[1;33m.\u001b[0m\u001b[0mabs\u001b[0m\u001b[1;33m(\u001b[0m\u001b[0mint\u001b[0m\u001b[1;33m(\u001b[0m\u001b[0mi\u001b[0m\u001b[1;33m)\u001b[0m\u001b[1;33m)\u001b[0m\u001b[1;33m]\u001b[0m\u001b[1;33m)\u001b[0m\u001b[1;33m*\u001b[0m\u001b[1;36m0.5\u001b[0m\u001b[1;33m*\u001b[0m\u001b[0mnp\u001b[0m\u001b[1;33m.\u001b[0m\u001b[0mexp\u001b[0m\u001b[1;33m(\u001b[0m\u001b[1;36m1.j\u001b[0m\u001b[1;33m*\u001b[0m\u001b[0mnp\u001b[0m\u001b[1;33m.\u001b[0m\u001b[0msign\u001b[0m\u001b[1;33m(\u001b[0m\u001b[1;33m(\u001b[0m\u001b[1;36m2.0\u001b[0m\u001b[1;33m*\u001b[0m\u001b[0mnp\u001b[0m\u001b[1;33m.\u001b[0m\u001b[0mpi\u001b[0m\u001b[1;33m/\u001b[0m\u001b[0mN_size\u001b[0m\u001b[1;33m)\u001b[0m \u001b[1;33m*\u001b[0m \u001b[0mi\u001b[0m\u001b[1;33m)\u001b[0m\u001b[1;33m*\u001b[0m\u001b[0mPhi\u001b[0m\u001b[1;33m(\u001b[0m\u001b[0mGamma\u001b[0m\u001b[1;33m,\u001b[0m\u001b[0mLambda\u001b[0m\u001b[1;33m,\u001b[0m\u001b[0mnp\u001b[0m\u001b[1;33m.\u001b[0m\u001b[0mabs\u001b[0m\u001b[1;33m(\u001b[0m\u001b[1;33m(\u001b[0m\u001b[1;36m2.0\u001b[0m\u001b[1;33m*\u001b[0m\u001b[0mnp\u001b[0m\u001b[1;33m.\u001b[0m\u001b[0mpi\u001b[0m\u001b[1;33m/\u001b[0m\u001b[0mN_size\u001b[0m\u001b[1;33m)\u001b[0m \u001b[1;33m*\u001b[0m \u001b[0mi\u001b[0m\u001b[1;33m)\u001b[0m\u001b[1;33m)\u001b[0m\u001b[1;33m)\u001b[0m\u001b[1;33m)\u001b[0m \u001b[1;32mfor\u001b[0m \u001b[0mi\u001b[0m \u001b[1;32min\u001b[0m \u001b[0mx\u001b[0m\u001b[1;33m]\u001b[0m\u001b[1;33m\u001b[0m\u001b[1;33m\u001b[0m\u001b[0m\n\u001b[0m\u001b[0;32m    102\u001b[0m         \u001b[0mM_plus\u001b[0m \u001b[1;33m=\u001b[0m \u001b[1;33m[\u001b[0m\u001b[1;33m(\u001b[0m\u001b[1;33m(\u001b[0m\u001b[0mm_cos\u001b[0m\u001b[1;33m[\u001b[0m\u001b[0mnp\u001b[0m\u001b[1;33m.\u001b[0m\u001b[0mabs\u001b[0m\u001b[1;33m(\u001b[0m\u001b[0mint\u001b[0m\u001b[1;33m(\u001b[0m\u001b[0mi\u001b[0m\u001b[1;33m)\u001b[0m\u001b[1;33m)\u001b[0m\u001b[1;33m]\u001b[0m\u001b[1;33m+\u001b[0m\u001b[0mm_sin\u001b[0m\u001b[1;33m[\u001b[0m\u001b[0mnp\u001b[0m\u001b[1;33m.\u001b[0m\u001b[0mabs\u001b[0m\u001b[1;33m(\u001b[0m\u001b[0mint\u001b[0m\u001b[1;33m(\u001b[0m\u001b[0mi\u001b[0m\u001b[1;33m)\u001b[0m\u001b[1;33m)\u001b[0m\u001b[1;33m]\u001b[0m\u001b[1;33m)\u001b[0m\u001b[1;33m*\u001b[0m\u001b[1;36m0.5\u001b[0m\u001b[1;33m*\u001b[0m\u001b[0mnp\u001b[0m\u001b[1;33m.\u001b[0m\u001b[0mexp\u001b[0m\u001b[1;33m(\u001b[0m\u001b[1;36m1.j\u001b[0m\u001b[1;33m*\u001b[0m\u001b[0mnp\u001b[0m\u001b[1;33m.\u001b[0m\u001b[0msign\u001b[0m\u001b[1;33m(\u001b[0m\u001b[1;33m(\u001b[0m\u001b[1;36m2.0\u001b[0m\u001b[1;33m*\u001b[0m\u001b[0mnp\u001b[0m\u001b[1;33m.\u001b[0m\u001b[0mpi\u001b[0m\u001b[1;33m/\u001b[0m\u001b[0mN_size\u001b[0m\u001b[1;33m)\u001b[0m \u001b[1;33m*\u001b[0m \u001b[0mi\u001b[0m\u001b[1;33m)\u001b[0m\u001b[1;33m*\u001b[0m\u001b[0mPhi\u001b[0m\u001b[1;33m(\u001b[0m\u001b[0mGamma\u001b[0m\u001b[1;33m,\u001b[0m\u001b[0mLambda\u001b[0m\u001b[1;33m,\u001b[0m\u001b[0mnp\u001b[0m\u001b[1;33m.\u001b[0m\u001b[0mabs\u001b[0m\u001b[1;33m(\u001b[0m\u001b[1;33m(\u001b[0m\u001b[1;36m2.0\u001b[0m\u001b[1;33m*\u001b[0m\u001b[0mnp\u001b[0m\u001b[1;33m.\u001b[0m\u001b[0mpi\u001b[0m\u001b[1;33m/\u001b[0m\u001b[0mN_size\u001b[0m\u001b[1;33m)\u001b[0m \u001b[1;33m*\u001b[0m \u001b[0mi\u001b[0m\u001b[1;33m)\u001b[0m\u001b[1;33m)\u001b[0m\u001b[1;33m)\u001b[0m\u001b[1;33m)\u001b[0m \u001b[1;32mfor\u001b[0m \u001b[0mi\u001b[0m \u001b[1;32min\u001b[0m \u001b[0mx\u001b[0m\u001b[1;33m]\u001b[0m\u001b[1;33m\u001b[0m\u001b[1;33m\u001b[0m\u001b[0m\n\u001b[0;32m    103\u001b[0m         \u001b[0mMminousband\u001b[0m\u001b[1;33m=\u001b[0m\u001b[0mnp\u001b[0m\u001b[1;33m.\u001b[0m\u001b[0marray\u001b[0m\u001b[1;33m(\u001b[0m\u001b[0mM_minous\u001b[0m\u001b[1;33m)\u001b[0m\u001b[1;33m\u001b[0m\u001b[1;33m\u001b[0m\u001b[0m\n",
      "\u001b[1;32m<ipython-input-25-6dc7da031eeb>\u001b[0m in \u001b[0;36mPhi\u001b[1;34m(Gamma, Lambda, theta)\u001b[0m\n\u001b[0;32m     35\u001b[0m     \u001b[1;32mreturn\u001b[0m \u001b[0mnp\u001b[0m\u001b[1;33m.\u001b[0m\u001b[0msqrt\u001b[0m\u001b[1;33m(\u001b[0m\u001b[0mAlpha\u001b[0m\u001b[1;33m(\u001b[0m\u001b[0mGamma\u001b[0m\u001b[1;33m,\u001b[0m\u001b[0mLambda\u001b[0m\u001b[1;33m,\u001b[0m\u001b[0mtheta\u001b[0m\u001b[1;33m)\u001b[0m\u001b[1;33m**\u001b[0m\u001b[1;36m2\u001b[0m \u001b[1;33m+\u001b[0m \u001b[0mBeta\u001b[0m\u001b[1;33m(\u001b[0m\u001b[0mGamma\u001b[0m\u001b[1;33m,\u001b[0m\u001b[0mLambda\u001b[0m\u001b[1;33m,\u001b[0m\u001b[0mtheta\u001b[0m\u001b[1;33m)\u001b[0m\u001b[1;33m**\u001b[0m\u001b[1;36m2\u001b[0m \u001b[1;33m)\u001b[0m\u001b[1;33m\u001b[0m\u001b[1;33m\u001b[0m\u001b[0m\n\u001b[0;32m     36\u001b[0m \u001b[1;32mdef\u001b[0m \u001b[0mPhi\u001b[0m\u001b[1;33m(\u001b[0m\u001b[0mGamma\u001b[0m\u001b[1;33m,\u001b[0m\u001b[0mLambda\u001b[0m\u001b[1;33m,\u001b[0m\u001b[0mtheta\u001b[0m\u001b[1;33m)\u001b[0m\u001b[1;33m:\u001b[0m\u001b[1;33m\u001b[0m\u001b[1;33m\u001b[0m\u001b[0m\n\u001b[1;32m---> 37\u001b[1;33m     \u001b[1;32mreturn\u001b[0m \u001b[0mnp\u001b[0m\u001b[1;33m.\u001b[0m\u001b[0marctan2\u001b[0m\u001b[1;33m(\u001b[0m\u001b[0mBeta\u001b[0m\u001b[1;33m(\u001b[0m\u001b[0mGamma\u001b[0m\u001b[1;33m,\u001b[0m\u001b[0mLambda\u001b[0m\u001b[1;33m,\u001b[0m\u001b[0mtheta\u001b[0m\u001b[1;33m)\u001b[0m\u001b[1;33m,\u001b[0m\u001b[0mAlpha\u001b[0m\u001b[1;33m(\u001b[0m\u001b[0mGamma\u001b[0m\u001b[1;33m,\u001b[0m\u001b[0mLambda\u001b[0m\u001b[1;33m,\u001b[0m\u001b[0mtheta\u001b[0m\u001b[1;33m)\u001b[0m\u001b[1;33m)\u001b[0m\u001b[1;33m\u001b[0m\u001b[1;33m\u001b[0m\u001b[0m\n\u001b[0m\u001b[0;32m     38\u001b[0m \u001b[1;33m\u001b[0m\u001b[0m\n\u001b[0;32m     39\u001b[0m \u001b[1;33m\u001b[0m\u001b[0m\n",
      "\u001b[1;32m<ipython-input-25-6dc7da031eeb>\u001b[0m in \u001b[0;36mAlpha\u001b[1;34m(Gamma, Lambda, theta)\u001b[0m\n\u001b[0;32m     29\u001b[0m \u001b[1;33m\u001b[0m\u001b[0m\n\u001b[0;32m     30\u001b[0m \u001b[1;32mdef\u001b[0m \u001b[0mAlpha\u001b[0m\u001b[1;33m(\u001b[0m\u001b[0mGamma\u001b[0m\u001b[1;33m,\u001b[0m\u001b[0mLambda\u001b[0m\u001b[1;33m,\u001b[0m\u001b[0mtheta\u001b[0m\u001b[1;33m)\u001b[0m\u001b[1;33m:\u001b[0m\u001b[1;33m\u001b[0m\u001b[1;33m\u001b[0m\u001b[0m\n\u001b[1;32m---> 31\u001b[1;33m     \u001b[1;32mreturn\u001b[0m \u001b[0mLambda\u001b[0m\u001b[1;33m+\u001b[0m\u001b[0mnp\u001b[0m\u001b[1;33m.\u001b[0m\u001b[0mcos\u001b[0m\u001b[1;33m(\u001b[0m\u001b[0mtheta\u001b[0m\u001b[1;33m)\u001b[0m\u001b[1;33m\u001b[0m\u001b[1;33m\u001b[0m\u001b[0m\n\u001b[0m\u001b[0;32m     32\u001b[0m \u001b[1;32mdef\u001b[0m \u001b[0mBeta\u001b[0m\u001b[1;33m(\u001b[0m\u001b[0mGamma\u001b[0m\u001b[1;33m,\u001b[0m\u001b[0mLambda\u001b[0m\u001b[1;33m,\u001b[0m\u001b[0mtheta\u001b[0m\u001b[1;33m)\u001b[0m\u001b[1;33m:\u001b[0m\u001b[1;33m\u001b[0m\u001b[1;33m\u001b[0m\u001b[0m\n\u001b[0;32m     33\u001b[0m     \u001b[1;32mreturn\u001b[0m \u001b[0mGamma\u001b[0m\u001b[1;33m*\u001b[0m\u001b[0mnp\u001b[0m\u001b[1;33m.\u001b[0m\u001b[0msin\u001b[0m\u001b[1;33m(\u001b[0m\u001b[0mtheta\u001b[0m\u001b[1;33m)\u001b[0m\u001b[1;33m\u001b[0m\u001b[1;33m\u001b[0m\u001b[0m\n",
      "\u001b[1;31mKeyboardInterrupt\u001b[0m: "
     ]
    }
   ],
   "source": [
    "L=31\n",
    "N_size=50001\n",
    "tests=1000\n",
    "L=31\n",
    "results=np.zeros((tests,2*L-1,2))\n",
    "for test in range(tests):\n",
    "    print(\"Here we are in {} test\".format(test))\n",
    "    a,b=Get_Bands_Matrix()"
   ]
  },
  {
   "cell_type": "code",
   "execution_count": 61,
   "metadata": {
    "ExecuteTime": {
     "end_time": "2019-10-15T19:41:22.022289Z",
     "start_time": "2019-10-15T19:39:47.282792Z"
    }
   },
   "outputs": [
    {
     "name": "stdout",
     "output_type": "stream",
     "text": [
      "51\n",
      "1.6 ms ± 9.36 µs per loop (mean ± std. dev. of 7 runs, 1000 loops each)\n",
      "101\n",
      "3.1 ms ± 12.5 µs per loop (mean ± std. dev. of 7 runs, 100 loops each)\n",
      "501\n",
      "15.2 ms ± 144 µs per loop (mean ± std. dev. of 7 runs, 100 loops each)\n",
      "1001\n",
      "30 ms ± 526 µs per loop (mean ± std. dev. of 7 runs, 10 loops each)\n",
      "5001\n",
      "160 ms ± 1.11 ms per loop (mean ± std. dev. of 7 runs, 10 loops each)\n",
      "10001\n",
      "307 ms ± 1.84 ms per loop (mean ± std. dev. of 7 runs, 1 loop each)\n",
      "50001\n",
      "1.72 s ± 11.6 ms per loop (mean ± std. dev. of 7 runs, 1 loop each)\n",
      "100001\n",
      "4.4 s ± 31.5 ms per loop (mean ± std. dev. of 7 runs, 1 loop each)\n"
     ]
    }
   ],
   "source": [
    "#N_size=5001\n",
    "mean=[]\n",
    "std=[]\n",
    "for N_size in [51,101,501,1001,5001,10001,50001,100001]:\n",
    "    print(N_size)\n",
    "    t=%timeit -o Get_Bands_Matrix(N_size=N_size)\n",
    "    mean.append(np.mean(t.timings))\n",
    "    std.append(np.std(t.timings))"
   ]
  },
  {
   "cell_type": "code",
   "execution_count": null,
   "metadata": {
    "ExecuteTime": {
     "end_time": "2019-10-15T19:41:25.014770Z",
     "start_time": "2019-10-15T19:41:25.008787Z"
    }
   },
   "outputs": [],
   "source": []
  },
  {
   "cell_type": "code",
   "execution_count": 62,
   "metadata": {
    "ExecuteTime": {
     "end_time": "2019-10-15T19:41:22.268632Z",
     "start_time": "2019-10-15T19:41:22.150916Z"
    }
   },
   "outputs": [
    {
     "data": {
      "text/plain": [
       "[<matplotlib.lines.Line2D at 0x167191af470>]"
      ]
     },
     "execution_count": 62,
     "metadata": {},
     "output_type": "execute_result"
    },
    {
     "data": {
      "image/png": "[encoded data removed]",
      "text/plain": [
       "<Figure size 432x288 with 1 Axes>"
      ]
     },
     "metadata": {
      "needs_background": "light"
     },
     "output_type": "display_data"
    }
   ],
   "source": [
    "plt.plot(mean)"
   ]
  },
  {
   "cell_type": "code",
   "execution_count": null,
   "metadata": {
    "ExecuteTime": {
     "end_time": "2019-10-15T19:39:35.781912Z",
     "start_time": "2019-10-15T19:39:35.776920Z"
    }
   },
   "outputs": [],
   "source": []
  },
  {
   "cell_type": "code",
   "execution_count": 65,
   "metadata": {
    "ExecuteTime": {
     "end_time": "2019-10-15T20:00:15.170388Z",
     "start_time": "2019-10-15T19:41:43.214642Z"
    }
   },
   "outputs": [
    {
     "name": "stdout",
     "output_type": "stream",
     "text": [
      "406 µs ± 5.44 µs per loop (mean ± std. dev. of 7 runs, 1000 loops each)\n",
      "15.6 ms ± 109 µs per loop (mean ± std. dev. of 7 runs, 100 loops each)\n",
      "31.5 ms ± 629 µs per loop (mean ± std. dev. of 7 runs, 10 loops each)\n",
      "49.6 ms ± 216 µs per loop (mean ± std. dev. of 7 runs, 10 loops each)\n",
      "71 ms ± 4.58 ms per loop (mean ± std. dev. of 7 runs, 10 loops each)\n",
      "79.9 ms ± 5.16 ms per loop (mean ± std. dev. of 7 runs, 10 loops each)\n",
      "109 ms ± 2.41 ms per loop (mean ± std. dev. of 7 runs, 10 loops each)\n",
      "129 ms ± 1.99 ms per loop (mean ± std. dev. of 7 runs, 10 loops each)\n",
      "122 ms ± 361 µs per loop (mean ± std. dev. of 7 runs, 10 loops each)\n",
      "146 ms ± 1.67 ms per loop (mean ± std. dev. of 7 runs, 10 loops each)\n",
      "204 ms ± 1.9 ms per loop (mean ± std. dev. of 7 runs, 1 loop each)\n",
      "185 ms ± 7.16 ms per loop (mean ± std. dev. of 7 runs, 10 loops each)\n",
      "308 ms ± 27.8 ms per loop (mean ± std. dev. of 7 runs, 1 loop each)\n",
      "220 ms ± 13.1 ms per loop (mean ± std. dev. of 7 runs, 1 loop each)\n",
      "231 ms ± 5.76 ms per loop (mean ± std. dev. of 7 runs, 1 loop each)\n",
      "244 ms ± 3.39 ms per loop (mean ± std. dev. of 7 runs, 1 loop each)\n",
      "381 ms ± 4 ms per loop (mean ± std. dev. of 7 runs, 1 loop each)\n",
      "317 ms ± 15.4 ms per loop (mean ± std. dev. of 7 runs, 1 loop each)\n",
      "451 ms ± 6.4 ms per loop (mean ± std. dev. of 7 runs, 1 loop each)\n",
      "497 ms ± 14.3 ms per loop (mean ± std. dev. of 7 runs, 1 loop each)\n",
      "318 ms ± 1.7 ms per loop (mean ± std. dev. of 7 runs, 1 loop each)\n",
      "336 ms ± 1.57 ms per loop (mean ± std. dev. of 7 runs, 1 loop each)\n",
      "351 ms ± 8.04 ms per loop (mean ± std. dev. of 7 runs, 1 loop each)\n",
      "382 ms ± 7.66 ms per loop (mean ± std. dev. of 7 runs, 1 loop each)\n",
      "698 ms ± 10.6 ms per loop (mean ± std. dev. of 7 runs, 1 loop each)\n",
      "750 ms ± 6.15 ms per loop (mean ± std. dev. of 7 runs, 1 loop each)\n",
      "517 ms ± 16 ms per loop (mean ± std. dev. of 7 runs, 1 loop each)\n",
      "461 ms ± 26.7 ms per loop (mean ± std. dev. of 7 runs, 1 loop each)\n",
      "860 ms ± 6.12 ms per loop (mean ± std. dev. of 7 runs, 1 loop each)\n",
      "469 ms ± 10.4 ms per loop (mean ± std. dev. of 7 runs, 1 loop each)\n",
      "488 ms ± 13.8 ms per loop (mean ± std. dev. of 7 runs, 1 loop each)\n",
      "1.13 s ± 75.6 ms per loop (mean ± std. dev. of 7 runs, 1 loop each)\n",
      "539 ms ± 13.2 ms per loop (mean ± std. dev. of 7 runs, 1 loop each)\n",
      "576 ms ± 23.9 ms per loop (mean ± std. dev. of 7 runs, 1 loop each)\n",
      "1.29 s ± 44.7 ms per loop (mean ± std. dev. of 7 runs, 1 loop each)\n",
      "581 ms ± 10.4 ms per loop (mean ± std. dev. of 7 runs, 1 loop each)\n",
      "597 ms ± 15 ms per loop (mean ± std. dev. of 7 runs, 1 loop each)\n",
      "623 ms ± 23.3 ms per loop (mean ± std. dev. of 7 runs, 1 loop each)\n",
      "806 ms ± 10.7 ms per loop (mean ± std. dev. of 7 runs, 1 loop each)\n",
      "646 ms ± 9.48 ms per loop (mean ± std. dev. of 7 runs, 1 loop each)\n",
      "1.62 s ± 9.62 ms per loop (mean ± std. dev. of 7 runs, 1 loop each)\n",
      "666 ms ± 7.74 ms per loop (mean ± std. dev. of 7 runs, 1 loop each)\n",
      "1.78 s ± 31.6 ms per loop (mean ± std. dev. of 7 runs, 1 loop each)\n",
      "711 ms ± 8.21 ms per loop (mean ± std. dev. of 7 runs, 1 loop each)\n",
      "712 ms ± 2.75 ms per loop (mean ± std. dev. of 7 runs, 1 loop each)\n",
      "1.98 s ± 7.79 ms per loop (mean ± std. dev. of 7 runs, 1 loop each)\n",
      "2.1 s ± 34.1 ms per loop (mean ± std. dev. of 7 runs, 1 loop each)\n",
      "792 ms ± 36.4 ms per loop (mean ± std. dev. of 7 runs, 1 loop each)\n",
      "920 ms ± 75.1 ms per loop (mean ± std. dev. of 7 runs, 1 loop each)\n",
      "849 ms ± 50.4 ms per loop (mean ± std. dev. of 7 runs, 1 loop each)\n",
      "830 ms ± 5.53 ms per loop (mean ± std. dev. of 7 runs, 1 loop each)\n",
      "880 ms ± 22.9 ms per loop (mean ± std. dev. of 7 runs, 1 loop each)\n",
      "859 ms ± 28.2 ms per loop (mean ± std. dev. of 7 runs, 1 loop each)\n",
      "1.28 s ± 51.4 ms per loop (mean ± std. dev. of 7 runs, 1 loop each)\n",
      "2.76 s ± 12 ms per loop (mean ± std. dev. of 7 runs, 1 loop each)\n",
      "938 ms ± 34 ms per loop (mean ± std. dev. of 7 runs, 1 loop each)\n",
      "1.34 s ± 8.11 ms per loop (mean ± std. dev. of 7 runs, 1 loop each)\n",
      "1.11 s ± 29.9 ms per loop (mean ± std. dev. of 7 runs, 1 loop each)\n",
      "1 s ± 35 ms per loop (mean ± std. dev. of 7 runs, 1 loop each)\n",
      "996 ms ± 5.98 ms per loop (mean ± std. dev. of 7 runs, 1 loop each)\n",
      "3.29 s ± 26.1 ms per loop (mean ± std. dev. of 7 runs, 1 loop each)\n",
      "1.07 s ± 2.91 ms per loop (mean ± std. dev. of 7 runs, 1 loop each)\n",
      "1.54 s ± 20.1 ms per loop (mean ± std. dev. of 7 runs, 1 loop each)\n",
      "3.72 s ± 59.5 ms per loop (mean ± std. dev. of 7 runs, 1 loop each)\n",
      "1.05 s ± 13.1 ms per loop (mean ± std. dev. of 7 runs, 1 loop each)\n",
      "1.64 s ± 9 ms per loop (mean ± std. dev. of 7 runs, 1 loop each)\n",
      "1.22 s ± 24.3 ms per loop (mean ± std. dev. of 7 runs, 1 loop each)\n",
      "1.1 s ± 5.96 ms per loop (mean ± std. dev. of 7 runs, 1 loop each)\n",
      "1.29 s ± 37.2 ms per loop (mean ± std. dev. of 7 runs, 1 loop each)\n",
      "4.28 s ± 115 ms per loop (mean ± std. dev. of 7 runs, 1 loop each)\n",
      "1.18 s ± 43.5 ms per loop (mean ± std. dev. of 7 runs, 1 loop each)\n",
      "1.16 s ± 5.53 ms per loop (mean ± std. dev. of 7 runs, 1 loop each)\n",
      "4.52 s ± 34.1 ms per loop (mean ± std. dev. of 7 runs, 1 loop each)\n",
      "1.28 s ± 50 ms per loop (mean ± std. dev. of 7 runs, 1 loop each)\n",
      "1.22 s ± 43.2 ms per loop (mean ± std. dev. of 7 runs, 1 loop each)\n",
      "4.89 s ± 85.9 ms per loop (mean ± std. dev. of 7 runs, 1 loop each)\n",
      "5 s ± 33.9 ms per loop (mean ± std. dev. of 7 runs, 1 loop each)\n",
      "1.29 s ± 25.6 ms per loop (mean ± std. dev. of 7 runs, 1 loop each)\n",
      "1.56 s ± 3.97 ms per loop (mean ± std. dev. of 7 runs, 1 loop each)\n",
      "5.39 s ± 114 ms per loop (mean ± std. dev. of 7 runs, 1 loop each)\n",
      "2.22 s ± 33.7 ms per loop (mean ± std. dev. of 7 runs, 1 loop each)\n",
      "1.47 s ± 29.3 ms per loop (mean ± std. dev. of 7 runs, 1 loop each)\n",
      "5.79 s ± 110 ms per loop (mean ± std. dev. of 7 runs, 1 loop each)\n",
      "1.44 s ± 44.8 ms per loop (mean ± std. dev. of 7 runs, 1 loop each)\n",
      "1.38 s ± 42.9 ms per loop (mean ± std. dev. of 7 runs, 1 loop each)\n",
      "1.66 s ± 28.3 ms per loop (mean ± std. dev. of 7 runs, 1 loop each)\n",
      "1.36 s ± 48.3 ms per loop (mean ± std. dev. of 7 runs, 1 loop each)\n",
      "1.51 s ± 13.6 ms per loop (mean ± std. dev. of 7 runs, 1 loop each)\n",
      "1.57 s ± 10.3 ms per loop (mean ± std. dev. of 7 runs, 1 loop each)\n",
      "1.39 s ± 11.4 ms per loop (mean ± std. dev. of 7 runs, 1 loop each)\n",
      "1.39 s ± 12.9 ms per loop (mean ± std. dev. of 7 runs, 1 loop each)\n",
      "1.47 s ± 20.8 ms per loop (mean ± std. dev. of 7 runs, 1 loop each)\n",
      "1.43 s ± 3.24 ms per loop (mean ± std. dev. of 7 runs, 1 loop each)\n",
      "6.87 s ± 88.3 ms per loop (mean ± std. dev. of 7 runs, 1 loop each)\n",
      "1.53 s ± 23.3 ms per loop (mean ± std. dev. of 7 runs, 1 loop each)\n",
      "1.8 s ± 25.4 ms per loop (mean ± std. dev. of 7 runs, 1 loop each)\n",
      "1.57 s ± 18.5 ms per loop (mean ± std. dev. of 7 runs, 1 loop each)\n",
      "1.51 s ± 4.36 ms per loop (mean ± std. dev. of 7 runs, 1 loop each)\n",
      "1.5 s ± 4.83 ms per loop (mean ± std. dev. of 7 runs, 1 loop each)\n",
      "1.55 s ± 4.24 ms per loop (mean ± std. dev. of 7 runs, 1 loop each)\n"
     ]
    }
   ],
   "source": [
    "mean=[]\n",
    "std=[]\n",
    "for i in range(11,50001,500):\n",
    "    t=%timeit -o Get_Bands_Matrix(N_size=i)\n",
    "    mean.append(np.mean(t.timings))\n",
    "    std.append(np.std(t.timings))"
   ]
  },
  {
   "cell_type": "code",
   "execution_count": 66,
   "metadata": {
    "ExecuteTime": {
     "end_time": "2019-10-15T20:00:15.399472Z",
     "start_time": "2019-10-15T20:00:15.280065Z"
    }
   },
   "outputs": [
    {
     "data": {
      "text/plain": [
       "<ErrorbarContainer object of 3 artists>"
      ]
     },
     "execution_count": 66,
     "metadata": {},
     "output_type": "execute_result"
    },
    {
     "data": {
      "image/png": "[encoded data removed]",
      "text/plain": [
       "<Figure size 432x288 with 1 Axes>"
      ]
     },
     "metadata": {
      "needs_background": "light"
     },
     "output_type": "display_data"
    }
   ],
   "source": [
    "plt.errorbar(range(11,50001,500),mean,yerr=std)"
   ]
  },
  {
   "cell_type": "code",
   "execution_count": 67,
   "metadata": {
    "ExecuteTime": {
     "end_time": "2019-10-15T20:00:15.616311Z",
     "start_time": "2019-10-15T20:00:15.504206Z"
    }
   },
   "outputs": [
    {
     "data": {
      "text/plain": [
       "[<matplotlib.lines.Line2D at 0x1671445b8d0>]"
      ]
     },
     "execution_count": 67,
     "metadata": {},
     "output_type": "execute_result"
    },
    {
     "data": {
      "image/png": "[encoded data removed]",
      "text/plain": [
       "<Figure size 432x288 with 1 Axes>"
      ]
     },
     "metadata": {
      "needs_background": "light"
     },
     "output_type": "display_data"
    }
   ],
   "source": [
    "N=np.array(range(11,50001,500))\n",
    "plt.plot(N,N*np.log(N))"
   ]
  },
  {
   "cell_type": "code",
   "execution_count": 69,
   "metadata": {
    "ExecuteTime": {
     "end_time": "2019-10-15T20:01:19.519762Z",
     "start_time": "2019-10-15T20:01:19.516632Z"
    }
   },
   "outputs": [],
   "source": [
    "def function(x,a):\n",
    "    return a*x*np.log(x)"
   ]
  },
  {
   "cell_type": "code",
   "execution_count": 70,
   "metadata": {
    "ExecuteTime": {
     "end_time": "2019-10-15T20:01:30.613253Z",
     "start_time": "2019-10-15T20:01:30.610261Z"
    }
   },
   "outputs": [],
   "source": [
    "from scipy.optimize import curve_fit"
   ]
  },
  {
   "cell_type": "code",
   "execution_count": 84,
   "metadata": {
    "ExecuteTime": {
     "end_time": "2019-10-15T20:06:11.183936Z",
     "start_time": "2019-10-15T20:06:11.177982Z"
    }
   },
   "outputs": [],
   "source": [
    "popt,pcov = curve_fit(function,range(11,50001,500),mean,sigma=np.array(std))"
   ]
  },
  {
   "cell_type": "code",
   "execution_count": 85,
   "metadata": {
    "ExecuteTime": {
     "end_time": "2019-10-15T20:06:11.776360Z",
     "start_time": "2019-10-15T20:06:11.650384Z"
    }
   },
   "outputs": [
    {
     "data": {
      "text/plain": [
       "[<matplotlib.lines.Line2D at 0x1671ee24940>]"
      ]
     },
     "execution_count": 85,
     "metadata": {},
     "output_type": "execute_result"
    },
    {
     "data": {
      "image/png": "[encoded data removed]",
      "text/plain": [
       "<Figure size 432x288 with 1 Axes>"
      ]
     },
     "metadata": {
      "needs_background": "light"
     },
     "output_type": "display_data"
    }
   ],
   "source": [
    "plt.errorbar(range(11,50001,500),mean,yerr=std)\n",
    "plt.plot(range(11,50001,500),function(range(11,50001,500),*popt))"
   ]
  },
  {
   "cell_type": "code",
   "execution_count": 86,
   "metadata": {
    "ExecuteTime": {
     "end_time": "2019-10-15T20:06:12.144394Z",
     "start_time": "2019-10-15T20:06:12.138407Z"
    }
   },
   "outputs": [
    {
     "data": {
      "text/plain": [
       "array([3.37342918e-06])"
      ]
     },
     "execution_count": 86,
     "metadata": {},
     "output_type": "execute_result"
    }
   ],
   "source": [
    "popt"
   ]
  },
  {
   "cell_type": "code",
   "execution_count": 94,
   "metadata": {
    "ExecuteTime": {
     "end_time": "2019-10-15T20:08:01.001386Z",
     "start_time": "2019-10-15T20:08:00.996403Z"
    }
   },
   "outputs": [
    {
     "data": {
      "text/plain": [
       "46.605696447677"
      ]
     },
     "execution_count": 94,
     "metadata": {},
     "output_type": "execute_result"
    }
   ],
   "source": [
    "s=1000001\n",
    "popt[0]*(s)*np.log(s)"
   ]
  },
  {
   "cell_type": "code",
   "execution_count": 78,
   "metadata": {
    "ExecuteTime": {
     "end_time": "2019-10-15T20:05:11.742486Z",
     "start_time": "2019-10-15T20:05:11.708577Z"
    }
   },
   "outputs": [],
   "source": [
    "curve_fit?"
   ]
  },
  {
   "cell_type": "code",
   "execution_count": 95,
   "metadata": {
    "ExecuteTime": {
     "end_time": "2019-10-15T20:08:14.202172Z",
     "start_time": "2019-10-15T20:08:14.197154Z"
    }
   },
   "outputs": [
    {
     "data": {
      "text/plain": [
       "0.7767616074612833"
      ]
     },
     "execution_count": 95,
     "metadata": {},
     "output_type": "execute_result"
    }
   ],
   "source": [
    "_/60"
   ]
  },
  {
   "cell_type": "markdown",
   "metadata": {},
   "source": [
    "# Change the way i make the hankel matrix"
   ]
  },
  {
   "cell_type": "code",
   "execution_count": 3,
   "metadata": {
    "ExecuteTime": {
     "end_time": "2019-10-16T01:11:29.367823Z",
     "start_time": "2019-10-16T01:11:24.747766Z"
    }
   },
   "outputs": [],
   "source": [
    "a,b=Get_Bands_Matrix(Ground=False)"
   ]
  },
  {
   "cell_type": "code",
   "execution_count": 7,
   "metadata": {
    "ExecuteTime": {
     "end_time": "2019-10-16T01:42:31.193118Z",
     "start_time": "2019-10-16T01:42:31.020919Z"
    }
   },
   "outputs": [
    {
     "data": {
      "text/plain": [
       "<matplotlib.image.AxesImage at 0x1069c1850>"
      ]
     },
     "execution_count": 7,
     "metadata": {},
     "output_type": "execute_result"
    },
    {
     "data": {
      "image/png": "[encoded data removed]",
      "text/plain": [
       "<Figure size 432x288 with 1 Axes>"
      ]
     },
     "metadata": {
      "needs_background": "light"
     },
     "output_type": "display_data"
    }
   ],
   "source": [
    "plt.imshow(Toeplitz_matrix(a,31).real)"
   ]
  },
  {
   "cell_type": "code",
   "execution_count": 89,
   "metadata": {
    "ExecuteTime": {
     "end_time": "2019-10-16T03:47:31.040863Z",
     "start_time": "2019-10-16T03:47:31.036322Z"
    }
   },
   "outputs": [],
   "source": [
    "def Hankel_matrix(Fourier_minous,L):\n",
    "    to_use=Fourier_minous[:2*L-1]\n",
    "    First_column=to_use[:L]\n",
    "    Last_row=np.roll(to_use,-L+1)[:L]\n",
    "    #np.roll(Fourier_minous,L-1)[::-1][:L]\n",
    "    return hankel(First_column,Last_row)"
   ]
  },
  {
   "cell_type": "code",
   "execution_count": 140,
   "metadata": {
    "ExecuteTime": {
     "end_time": "2019-10-16T04:14:11.250755Z",
     "start_time": "2019-10-16T04:14:11.246630Z"
    }
   },
   "outputs": [],
   "source": [
    "def Toeplitz_matrix(Fourier_plus,L):\n",
    "    First_column = Fourier_plus[:L]\n",
    "    First_row = np.roll(Fourier_plus,-1)[::-1][:L]\n",
    "    #First_column=np.roll(Fourier_plus,-1)[::-1][:L]\n",
    "    #First_row = Fourier_plus[:L]\n",
    "    return toeplitz(First_column,First_row)"
   ]
  },
  {
   "cell_type": "code",
   "execution_count": null,
   "metadata": {
    "ExecuteTime": {
     "end_time": "2019-10-16T04:12:36.622826Z",
     "start_time": "2019-10-16T04:12:36.619328Z"
    }
   },
   "outputs": [],
   "source": []
  },
  {
   "cell_type": "code",
   "execution_count": null,
   "metadata": {
    "ExecuteTime": {
     "end_time": "2019-10-16T04:08:55.176815Z",
     "start_time": "2019-10-16T04:08:55.172492Z"
    }
   },
   "outputs": [],
   "source": []
  },
  {
   "cell_type": "code",
   "execution_count": 141,
   "metadata": {
    "ExecuteTime": {
     "end_time": "2019-10-16T04:14:29.662131Z",
     "start_time": "2019-10-16T04:14:25.031331Z"
    }
   },
   "outputs": [
    {
     "data": {
      "text/plain": [
       "[<matplotlib.lines.Line2D at 0x116d82cd0>]"
      ]
     },
     "execution_count": 141,
     "metadata": {},
     "output_type": "execute_result"
    },
    {
     "data": {
      "image/png": "[encoded data removed]",
      "text/plain": [
       "<Figure size 432x288 with 1 Axes>"
      ]
     },
     "metadata": {
      "needs_background": "light"
     },
     "output_type": "display_data"
    }
   ],
   "source": [
    "\n",
    "L=31\n",
    "beta=0.40824\n",
    "mu=0\n",
    "\n",
    "a,b=Get_Bands_Matrix(Ground=False)\n",
    "New_cov_matrix=Covariance_matrix_from_sub_sample(a,b,L)\n",
    "S=np.linalg.svd(New_cov_matrix,compute_uv=False)\n",
    "S=-S+0.5\n",
    "plt.plot(sorted(S,reverse=True))\n",
    "n=np.arange(-(L-1)/2,(L-1)/2+ 1)\n",
    "to_plot=sorted(Fermi_dirac(beta,mu,n,N=L),reverse=True)\n",
    "plt.plot(to_plot)"
   ]
  },
  {
   "cell_type": "code",
   "execution_count": 142,
   "metadata": {
    "ExecuteTime": {
     "end_time": "2019-10-16T04:14:29.938041Z",
     "start_time": "2019-10-16T04:14:29.932905Z"
    }
   },
   "outputs": [],
   "source": [
    "A,S,B=np.linalg.svd(New_cov_matrix)\n",
    "O_1,S,O_2=np.linalg.svd(New_cov_matrix)\n",
    "S=-S+0.5\n",
    "x=np.log((1-S)/(S))"
   ]
  },
  {
   "cell_type": "code",
   "execution_count": 147,
   "metadata": {
    "ExecuteTime": {
     "end_time": "2019-10-16T04:16:49.326161Z",
     "start_time": "2019-10-16T04:16:49.081291Z"
    }
   },
   "outputs": [
    {
     "data": {
      "text/plain": [
       "<matplotlib.colorbar.Colorbar at 0x115407050>"
      ]
     },
     "execution_count": 147,
     "metadata": {},
     "output_type": "execute_result"
    },
    {
     "data": {
      "image/png": "[encoded data removed]",
      "text/plain": [
       "<Figure size 432x288 with 2 Axes>"
      ]
     },
     "metadata": {
      "needs_background": "light"
     },
     "output_type": "display_data"
    }
   ],
   "source": [
    "plt.imshow(expm(-O_1@np.diag(x)@O_2/beta).real)\n",
    "plt.colorbar()"
   ]
  },
  {
   "cell_type": "code",
   "execution_count": 151,
   "metadata": {
    "ExecuteTime": {
     "end_time": "2019-10-16T04:17:58.902691Z",
     "start_time": "2019-10-16T04:17:58.673717Z"
    }
   },
   "outputs": [
    {
     "data": {
      "text/plain": [
       "<matplotlib.colorbar.Colorbar at 0x11a844dd0>"
      ]
     },
     "execution_count": 151,
     "metadata": {},
     "output_type": "execute_result"
    },
    {
     "data": {
      "image/png": "[encoded data removed]",
      "text/plain": [
       "<Figure size 432x288 with 2 Axes>"
      ]
     },
     "metadata": {
      "needs_background": "light"
     },
     "output_type": "display_data"
    }
   ],
   "source": [
    "M=(-(O_1@np.diag(x)/beta@O_2).real)\n",
    "plt.imshow(M)\n",
    "plt.colorbar()"
   ]
  },
  {
   "cell_type": "code",
   "execution_count": 152,
   "metadata": {
    "ExecuteTime": {
     "end_time": "2019-10-16T04:18:07.142769Z",
     "start_time": "2019-10-16T04:18:07.136748Z"
    }
   },
   "outputs": [
    {
     "data": {
      "text/plain": [
       "array([0.48853579, 0.49764629, 0.49507811, 0.47618635, 0.5020365 ,\n",
       "       0.49539659, 0.49025365, 0.49627133, 0.48859875, 0.48508034,\n",
       "       0.49809288, 0.48897991, 0.48071662, 0.5013488 , 0.49040481,\n",
       "       0.48762502, 0.49659579, 0.50130315, 0.49839353, 0.5002149 ,\n",
       "       0.49711326, 0.49847217, 0.50672782, 0.49303188, 0.48128686,\n",
       "       0.4639774 , 0.50441322, 0.51711573, 0.4961321 , 0.51147845,\n",
       "       0.50331528])"
      ]
     },
     "execution_count": 152,
     "metadata": {},
     "output_type": "execute_result"
    }
   ],
   "source": [
    "[[M[i,j] for i in range(L)] for j in range(L)"
   ]
  },
  {
   "cell_type": "code",
   "execution_count": 116,
   "metadata": {
    "ExecuteTime": {
     "end_time": "2019-10-16T04:02:24.292291Z",
     "start_time": "2019-10-16T04:02:24.095780Z"
    }
   },
   "outputs": [
    {
     "data": {
      "image/png": "[encoded data removed]",
      "text/plain": [
       "<Figure size 576x360 with 2 Axes>"
      ]
     },
     "metadata": {
      "needs_background": "light"
     },
     "output_type": "display_data"
    }
   ],
   "source": [
    "a_0=Lambda\n",
    "a_1=0.5*(1-Gamma)\n",
    "a_2=0.5*(1+Gamma)\n",
    "A=np.zeros((L,L))\n",
    "for i in range(L):\n",
    "    for j in range(L):\n",
    "        if i==j:\n",
    "            A[i,j] = a_0\n",
    "        elif (i-j) % L == 1:\n",
    "            A[i,j] = a_2\n",
    "        elif (j-i) % L == 1:\n",
    "            A[i,j] = a_1\n",
    "plt.figure(figsize=(8,5))\n",
    "plt.imshow(A,cmap=\"RdBu\")\n",
    "plt.colorbar()\n",
    "plt.title(\"Matriz de correlacion\")\n",
    "plt.show()"
   ]
  },
  {
   "cell_type": "code",
   "execution_count": 102,
   "metadata": {
    "ExecuteTime": {
     "end_time": "2019-10-16T03:57:18.371796Z",
     "start_time": "2019-10-16T03:57:18.147390Z"
    }
   },
   "outputs": [
    {
     "data": {
      "text/plain": [
       "<matplotlib.colorbar.Colorbar at 0x1169bbdd0>"
      ]
     },
     "execution_count": 102,
     "metadata": {},
     "output_type": "execute_result"
    },
    {
     "data": {
      "image/png": "[encoded data removed]",
      "text/plain": [
       "<Figure size 432x288 with 2 Axes>"
      ]
     },
     "metadata": {
      "needs_background": "light"
     },
     "output_type": "display_data"
    }
   ],
   "source": [
    "plt.imshow(expm(A@np.diag(-S+0.5)@B).real)\n",
    "plt.colorbar()"
   ]
  },
  {
   "cell_type": "code",
   "execution_count": null,
   "metadata": {
    "ExecuteTime": {
     "end_time": "2019-10-16T03:20:46.812709Z",
     "start_time": "2019-10-16T03:20:46.807161Z"
    }
   },
   "outputs": [],
   "source": []
  },
  {
   "cell_type": "code",
   "execution_count": 40,
   "metadata": {
    "ExecuteTime": {
     "end_time": "2019-10-16T03:22:54.557755Z",
     "start_time": "2019-10-16T03:22:54.550879Z"
    }
   },
   "outputs": [
    {
     "data": {
      "text/plain": [
       "array([[ 0,  1,  2,  3,  4,  5,  6,  7,  8,  9, 10],\n",
       "       [ 1,  2,  3,  4,  5,  6,  7,  8,  9, 10,  0],\n",
       "       [ 2,  3,  4,  5,  6,  7,  8,  9, 10,  0,  1],\n",
       "       [ 3,  4,  5,  6,  7,  8,  9, 10,  0,  1,  2],\n",
       "       [ 4,  5,  6,  7,  8,  9, 10,  0,  1,  2,  3],\n",
       "       [ 5,  6,  7,  8,  9, 10,  0,  1,  2,  3,  4],\n",
       "       [ 6,  7,  8,  9, 10,  0,  1,  2,  3,  4,  5],\n",
       "       [ 7,  8,  9, 10,  0,  1,  2,  3,  4,  5,  6],\n",
       "       [ 8,  9, 10,  0,  1,  2,  3,  4,  5,  6,  7],\n",
       "       [ 9, 10,  0,  1,  2,  3,  4,  5,  6,  7,  8],\n",
       "       [10,  0,  1,  2,  3,  4,  5,  6,  7,  8,  9]])"
      ]
     },
     "execution_count": 40,
     "metadata": {},
     "output_type": "execute_result"
    }
   ],
   "source": [
    "np.array([np.roll(a,-i) for i in range(len(a))])"
   ]
  },
  {
   "cell_type": "code",
   "execution_count": 41,
   "metadata": {
    "ExecuteTime": {
     "end_time": "2019-10-16T03:30:51.618671Z",
     "start_time": "2019-10-16T03:30:51.613109Z"
    }
   },
   "outputs": [
    {
     "data": {
      "text/plain": [
       "array([[ 0,  1,  2,  3,  4,  5,  6,  7,  8,  9],\n",
       "       [-1,  0,  1,  2,  3,  4,  5,  6,  7,  8],\n",
       "       [-2, -1,  0,  1,  2,  3,  4,  5,  6,  7],\n",
       "       [-3, -2, -1,  0,  1,  2,  3,  4,  5,  6],\n",
       "       [-4, -3, -2, -1,  0,  1,  2,  3,  4,  5],\n",
       "       [-5, -4, -3, -2, -1,  0,  1,  2,  3,  4],\n",
       "       [-6, -5, -4, -3, -2, -1,  0,  1,  2,  3],\n",
       "       [-7, -6, -5, -4, -3, -2, -1,  0,  1,  2],\n",
       "       [-8, -7, -6, -5, -4, -3, -2, -1,  0,  1],\n",
       "       [-9, -8, -7, -6, -5, -4, -3, -2, -1,  0]])"
      ]
     },
     "execution_count": 41,
     "metadata": {},
     "output_type": "execute_result"
    }
   ],
   "source": [
    "np.array([[a[i]-a[j] for i in range(10)] for j in range(10)])"
   ]
  },
  {
   "cell_type": "code",
   "execution_count": null,
   "metadata": {},
   "outputs": [],
   "source": []
  }
 ],
 "metadata": {
  "kernelspec": {
   "display_name": "Python 3",
   "language": "python",
   "name": "python3"
  },
  "language_info": {
   "codemirror_mode": {
    "name": "ipython",
    "version": 3
   },
   "file_extension": ".py",
   "mimetype": "text/x-python",
   "name": "python",
   "nbconvert_exporter": "python",
   "pygments_lexer": "ipython3",
   "version": "3.7.4"
  },
  "nbTranslate": {
   "displayLangs": [
    "*"
   ],
   "hotkey": "alt-t",
   "langInMainMenu": true,
   "sourceLang": "en",
   "targetLang": "fr",
   "useGoogleTranslate": true
  },
  "toc": {
   "base_numbering": 1,
   "nav_menu": {},
   "number_sections": true,
   "sideBar": true,
   "skip_h1_title": false,
   "title_cell": "Table of Contents",
   "title_sidebar": "Contents",
   "toc_cell": false,
   "toc_position": {},
   "toc_section_display": true,
   "toc_window_display": false
  },
  "varInspector": {
   "cols": {
    "lenName": 16,
    "lenType": 16,
    "lenVar": 40
   },
   "kernels_config": {
    "python": {
     "delete_cmd_postfix": "",
     "delete_cmd_prefix": "del ",
     "library": "var_list.py",
     "varRefreshCmd": "print(var_dic_list())"
    },
    "r": {
     "delete_cmd_postfix": ") ",
     "delete_cmd_prefix": "rm(",
     "library": "var_list.r",
     "varRefreshCmd": "cat(var_dic_list()) "
    }
   },
   "types_to_exclude": [
    "module",
    "function",
    "builtin_function_or_method",
    "instance",
    "_Feature"
   ],
   "window_display": false
  }
 },
 "nbformat": 4,
 "nbformat_minor": 2
}
