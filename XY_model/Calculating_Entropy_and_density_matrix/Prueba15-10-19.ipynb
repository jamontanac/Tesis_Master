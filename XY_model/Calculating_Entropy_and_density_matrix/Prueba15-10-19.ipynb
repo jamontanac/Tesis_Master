{
 "cells": [
  {
   "cell_type": "code",
   "execution_count": 25,
   "metadata": {
    "ExecuteTime": {
     "end_time": "2019-10-15T17:29:20.304057Z",
     "start_time": "2019-10-15T17:29:20.266128Z"
    }
   },
   "outputs": [
    {
     "data": {
      "text/html": [
       "\n",
       "<style>\n",
       ".output {\n",
       "    display: flex;\n",
       "    align-items: left;\n",
       "    text-align: center;\n",
       "}\n",
       "</style>\n"
      ],
      "text/plain": [
       "<IPython.core.display.HTML object>"
      ]
     },
     "metadata": {},
     "output_type": "display_data"
    }
   ],
   "source": [
    "import numpy as np\n",
    "import matplotlib.pylab as plt\n",
    "import pandas as pd\n",
    "from ipywidgets import interactive\n",
    "from scipy.fftpack import fft, ifft,ifftshift,fftshift\n",
    "from IPython.display import display, HTML\n",
    "from scipy.linalg import circulant\n",
    "from scipy.linalg import toeplitz, hankel\n",
    "from IPython.display import clear_output\n",
    "\n",
    "\n",
    "#### --------- Definition of variables ------------------------\n",
    "\n",
    "N_size=100001 #\n",
    "Gamma=0.5\n",
    "Lambda=0.5\n",
    "\n",
    "#### ------------------------------------------------------------\n",
    "\n",
    "display(HTML(\"\"\"\n",
    "<style>\n",
    ".output {\n",
    "    display: flex;\n",
    "    align-items: left;\n",
    "    text-align: center;\n",
    "}\n",
    "</style>\n",
    "\"\"\"))\n",
    "\n",
    "def Alpha(Gamma,Lambda,theta):\n",
    "    return Lambda+np.cos(theta)\n",
    "def Beta(Gamma,Lambda,theta):\n",
    "    return Gamma*np.sin(theta)\n",
    "def Omega(Gamma,Lambda,theta):\n",
    "    return np.sqrt(Alpha(Gamma,Lambda,theta)**2 + Beta(Gamma,Lambda,theta)**2 )\n",
    "def Phi(Gamma,Lambda,theta):\n",
    "    return np.arctan2(Beta(Gamma,Lambda,theta),Alpha(Gamma,Lambda,theta))\n",
    "\n",
    "\n",
    "\n",
    "\n",
    "def Fermi_dirac(beta,mu,n,Gamma=Gamma,Lambda=Lambda,N=N_size):\n",
    "    # beta is the inverse thermic energy associated in the system (beta)\n",
    "    # mu corresponds to the chemical potential\n",
    "    # n is the position of the particle\n",
    "    # f=np.exp(T*(Omega(Gamma,Lambda,2.0*(np.pi/N)*n)-mu)) +1\n",
    "    # N corresponds to the size of the system\n",
    "    f=np.exp(beta*(Omega(Gamma,Lambda,((2.*np.pi)/float(N)) * n)-mu)) +1\n",
    "    return 1/f\n",
    "\n",
    "def plot_interactive(beta,mu):\n",
    "    plt.figure(figsize=(10,7))\n",
    "    n=np.arange(-(N_size-1)/2,(N_size-1)/2+ 1)\n",
    "    plt.subplot(2,1,1)\n",
    "    plt.plot(n,Fermi_dirac(beta,mu,n))\n",
    "    #plt.ylim(-0.05,1.05)\n",
    "    plt.xlabel(\"Position\")\n",
    "    plt.ylabel(\"Probability\")\n",
    "    plt.subplot(2,1,2)\n",
    "    plt.plot(n,Omega(Gamma,Lambda,(2.*np.pi)/float(N_size)*n),label=r\"$\\Omega$\")\n",
    "    plt.show()\n",
    "\n",
    "    \n",
    "def Binary_entropy(x):\n",
    "    result=[]\n",
    "    for i in x:\n",
    "        if np.abs(i-1)<10E-10:\n",
    "            result.append(0)\n",
    "        else:\n",
    "            result.append(-i*np.log(i)-(1-i)*np.log(1-i))\n",
    "    return np.array(result)\n",
    "\n",
    "def Get_Bands_Matrix(Gamma=Gamma,Lambda=Lambda,N_size=N_size,beta=0.40824,mu=0,Ground =False):\n",
    "    if Ground:\n",
    "        x=np.arange(0,(N_size-1)/2+ 1)\n",
    "        m_cos=[-0.5 for i in x]\n",
    "        m_sin=[-0.5 for i in x]\n",
    "        \n",
    "        x=np.arange(-(N_size-1)/2,(N_size-1)/2+1)\n",
    "\n",
    "        M_minous=[((m_cos[np.abs(int(i))]-m_sin[np.abs(int(i))])*0.5*np.exp(1.j*np.sign((2.0*np.pi/N_size) * i)*Phi(Gamma,Lambda,np.abs((2.0*np.pi/N_size) * i)))) for i in x]\n",
    "        M_plus = [((m_cos[np.abs(int(i))]+m_sin[np.abs(int(i))])*0.5*np.exp(1.j*np.sign((2.0*np.pi/N_size) * i)*Phi(Gamma,Lambda,np.abs((2.0*np.pi/N_size) * i)))) for i in x]\n",
    "        Mminousband=np.array(M_minous)\n",
    "        Mplusband=np.array(M_plus)\n",
    "        #m_cos=np.array(m_cos[1:][::-1]+m_cos)\n",
    "        #m_sin=np.array(m_sin[1:][::-1]+m_sin)\n",
    "        #M_plus=(m_cos+m_sin)*0.5\n",
    "        #M_minous=(m_cos-m_sin)*0.5\n",
    "        #x=np.arange(-(N_size-1)/2,(N_size-1)/2+1)\n",
    "        #Mplusband=[np.exp(1.j*np.sign((2.0*np.pi/N_size) * i)*Phi(Gamma,Lambda,np.abs((2.0*np.pi/N_size) * i))) for i in x]\n",
    "        #Mplusband=M_plus*np.array(Mplusband)\n",
    "        #Mminousband=[np.exp(1.j*np.sign((2.0*np.pi/N_size) * i)*Phi(Gamma,Lambda,np.abs((2.0*np.pi/N_size) * i))) for i in x]\n",
    "        #Mminousband=M_minous*np.array(Mminousband)\n",
    "        \n",
    "    else:\n",
    "        x=np.arange(0,(N_size-1)/2+ 1)\n",
    "        m_cos=[-0.5 if np.random.random()>Fermi_dirac(beta,mu,n=i) else 0.5 for i in x]\n",
    "        m_sin=[-0.5 if np.random.random()>Fermi_dirac(beta,mu,n=i) else 0.5 for i in x]\n",
    "        x=np.arange(-(N_size-1)/2,(N_size-1)/2+1)\n",
    "\n",
    "        M_minous=[((m_cos[np.abs(int(i))]-m_sin[np.abs(int(i))])*0.5*np.exp(1.j*np.sign((2.0*np.pi/N_size) * i)*Phi(Gamma,Lambda,np.abs((2.0*np.pi/N_size) * i)))) for i in x]\n",
    "        M_plus = [((m_cos[np.abs(int(i))]+m_sin[np.abs(int(i))])*0.5*np.exp(1.j*np.sign((2.0*np.pi/N_size) * i)*Phi(Gamma,Lambda,np.abs((2.0*np.pi/N_size) * i)))) for i in x]\n",
    "        Mminousband=np.array(M_minous)\n",
    "        Mplusband=np.array(M_plus)\n",
    "        \n",
    "        #m_cos=np.array(m_cos[1:][::-1]+m_cos)\n",
    "        #m_sin=np.array(m_sin[1:][::-1]+m_sin)\n",
    "        #M_plus=(m_cos+m_sin)*0.5\n",
    "        #M_minous=(m_cos-m_sin)*0.5\n",
    "        #x=np.arange(-(N_size-1)/2,(N_size-1)/2+1)\n",
    "        #Mplusband=[np.exp(1.j*np.sign((2.0*np.pi/N_size) * i)*Phi(Gamma,Lambda,np.abs((2.0*np.pi/N_size) * i))) for i in x]\n",
    "        #Mplusband=M_plus*np.array(Mplusband)\n",
    "        #Mminousband=[np.exp(1.j*np.sign((2.0*np.pi/N_size) * i)*Phi(Gamma,Lambda,np.abs((2.0*np.pi/N_size) * i))) for i in x]\n",
    "        #Mminousband=M_minous*np.array(Mminousband)\n",
    "        \n",
    "    x=np.arange(-(N_size-1)/2,(N_size-1)/2+ 1)\n",
    "    Fourier_plus=fft(ifftshift(Mplusband))\n",
    "    Fourier_minous=fft(ifftshift(Mminousband))\n",
    "    return Fourier_plus,Fourier_minous\n",
    "def Toeplitz_matrix(Fourier_plus,L):\n",
    "    First_column=np.roll(Fourier_plus,-1)[::-1][:L]\n",
    "    First_row = Fourier_plus[:L]\n",
    "    return toeplitz(First_column,First_row)\n",
    "def Hankel_matrix(Fourier_minous,L):\n",
    "    First_column=Fourier_minous[::-1][:L]\n",
    "    Last_row=np.roll(Fourier_minous,L-1)[::-1][:L]\n",
    "    return hankel(First_column,Last_row)\n",
    "\n",
    "\n",
    "def Covariance_matrix(L,Gamma=Gamma,Lambda=Lambda,beta=0.40824,mu=0,N_size=N_size,Ground=False):\n",
    "    if Ground:\n",
    "        Fourier_plus,Fourier_minous=Get_Bands_Matrix(Gamma=Gamma,Lambda=Lambda,N_size=N_size,beta=beta,mu=mu,Ground=True)\n",
    "    else:\n",
    "        Fourier_plus,Fourier_minous=Get_Bands_Matrix(Gamma=Gamma,Lambda=Lambda,N_size=N_size,beta=beta,mu=mu,Ground=False)\n",
    "    return (Toeplitz_matrix(Fourier_plus,L)+Hankel_matrix(Fourier_minous,L))/N_size\n",
    "\n",
    "def Covariance_matrix_from_sub_sample(Fourier_plus,Fourier_minous,L,N_size=N_size):\n",
    "    return (Toeplitz_matrix(Fourier_plus,L)+Hankel_matrix(Fourier_minous,L))/N_size"
   ]
  },
  {
   "cell_type": "code",
   "execution_count": null,
   "metadata": {
    "ExecuteTime": {
     "end_time": "2019-10-15T17:28:39.288777Z",
     "start_time": "2019-10-15T17:28:38.834960Z"
    }
   },
   "outputs": [],
   "source": []
  },
  {
   "cell_type": "code",
   "execution_count": 26,
   "metadata": {
    "ExecuteTime": {
     "end_time": "2019-10-15T17:29:28.387473Z",
     "start_time": "2019-10-15T17:29:24.160976Z"
    }
   },
   "outputs": [],
   "source": [
    "a,b=Get_Bands_Matrix(Ground=False)"
   ]
  },
  {
   "cell_type": "code",
   "execution_count": 27,
   "metadata": {
    "ExecuteTime": {
     "end_time": "2019-10-15T17:29:28.911873Z",
     "start_time": "2019-10-15T17:29:28.498776Z"
    }
   },
   "outputs": [
    {
     "data": {
      "text/plain": [
       "[<matplotlib.lines.Line2D at 0x16717f494a8>]"
      ]
     },
     "execution_count": 27,
     "metadata": {},
     "output_type": "execute_result"
    },
    {
     "data": {
      "image/png": "[encoded data removed]",
      "text/plain": [
       "<Figure size 432x288 with 1 Axes>"
      ]
     },
     "metadata": {
      "needs_background": "light"
     },
     "output_type": "display_data"
    }
   ],
   "source": [
    "plt.plot(b)"
   ]
  },
  {
   "cell_type": "code",
   "execution_count": null,
   "metadata": {
    "ExecuteTime": {
     "end_time": "2019-10-15T16:23:05.516028Z",
     "start_time": "2019-10-15T16:23:05.510042Z"
    }
   },
   "outputs": [],
   "source": []
  },
  {
   "cell_type": "code",
   "execution_count": null,
   "metadata": {
    "ExecuteTime": {
     "end_time": "2019-10-15T16:23:56.156127Z",
     "start_time": "2019-10-15T16:23:56.149145Z"
    }
   },
   "outputs": [],
   "source": []
  },
  {
   "cell_type": "code",
   "execution_count": null,
   "metadata": {
    "ExecuteTime": {
     "end_time": "2019-10-15T16:15:22.787362Z",
     "start_time": "2019-10-15T16:15:22.781342Z"
    }
   },
   "outputs": [],
   "source": []
  },
  {
   "cell_type": "code",
   "execution_count": 28,
   "metadata": {
    "ExecuteTime": {
     "end_time": "2019-10-15T17:29:40.688635Z",
     "start_time": "2019-10-15T17:29:36.291124Z"
    }
   },
   "outputs": [
    {
     "data": {
      "text/plain": [
       "[<matplotlib.lines.Line2D at 0x16718813828>]"
      ]
     },
     "execution_count": 28,
     "metadata": {},
     "output_type": "execute_result"
    },
    {
     "data": {
      "image/png": "[encoded data removed]",
      "text/plain": [
       "<Figure size 432x288 with 1 Axes>"
      ]
     },
     "metadata": {
      "needs_background": "light"
     },
     "output_type": "display_data"
    }
   ],
   "source": [
    "L=31\n",
    "beta=0.40824\n",
    "mu=0\n",
    "#for test in range(tests):\n",
    "a,b=Get_Bands_Matrix()\n",
    "New_cov_matrix=Covariance_matrix_from_sub_sample(a,b,L)\n",
    "S=np.linalg.svd(New_cov_matrix,compute_uv=False)\n",
    "S=-S+0.5\n",
    "plt.plot(sorted(S,reverse=True))\n",
    "n=np.arange(-(L-1)/2,(L-1)/2+ 1)\n",
    "to_plot=sorted(Fermi_dirac(beta,mu,n,N=L),reverse=True)\n",
    "plt.plot(to_plot)"
   ]
  },
  {
   "cell_type": "markdown",
   "metadata": {},
   "source": [
    "Maybe there's a mistake in doing something here but i'll try it like this and then i'll test to change it"
   ]
  },
  {
   "cell_type": "code",
   "execution_count": 29,
   "metadata": {
    "ExecuteTime": {
     "end_time": "2019-10-15T18:05:54.078841Z",
     "start_time": "2019-10-15T17:29:53.987430Z"
    }
   },
   "outputs": [
    {
     "name": "stdout",
     "output_type": "stream",
     "text": [
      "Here we are in 0 test\n",
      "Here we are in 1 test\n",
      "Here we are in 2 test\n",
      "Here we are in 3 test\n",
      "Here we are in 4 test\n",
      "Here we are in 5 test\n",
      "Here we are in 6 test\n",
      "Here we are in 7 test\n",
      "Here we are in 8 test\n",
      "Here we are in 9 test\n",
      "Here we are in 10 test\n",
      "Here we are in 11 test\n",
      "Here we are in 12 test\n",
      "Here we are in 13 test\n",
      "Here we are in 14 test\n",
      "Here we are in 15 test\n",
      "Here we are in 16 test\n",
      "Here we are in 17 test\n",
      "Here we are in 18 test\n",
      "Here we are in 19 test\n",
      "Here we are in 20 test\n",
      "Here we are in 21 test\n",
      "Here we are in 22 test\n",
      "Here we are in 23 test\n",
      "Here we are in 24 test\n",
      "Here we are in 25 test\n",
      "Here we are in 26 test\n",
      "Here we are in 27 test\n",
      "Here we are in 28 test\n",
      "Here we are in 29 test\n",
      "Here we are in 30 test\n",
      "Here we are in 31 test\n",
      "Here we are in 32 test\n",
      "Here we are in 33 test\n",
      "Here we are in 34 test\n",
      "Here we are in 35 test\n",
      "Here we are in 36 test\n",
      "Here we are in 37 test\n",
      "Here we are in 38 test\n",
      "Here we are in 39 test\n",
      "Here we are in 40 test\n",
      "Here we are in 41 test\n",
      "Here we are in 42 test\n",
      "Here we are in 43 test\n",
      "Here we are in 44 test\n",
      "Here we are in 45 test\n",
      "Here we are in 46 test\n",
      "Here we are in 47 test\n",
      "Here we are in 48 test\n",
      "Here we are in 49 test\n",
      "Here we are in 50 test\n",
      "Here we are in 51 test\n",
      "Here we are in 52 test\n",
      "Here we are in 53 test\n",
      "Here we are in 54 test\n",
      "Here we are in 55 test\n",
      "Here we are in 56 test\n",
      "Here we are in 57 test\n",
      "Here we are in 58 test\n",
      "Here we are in 59 test\n",
      "Here we are in 60 test\n",
      "Here we are in 61 test\n",
      "Here we are in 62 test\n",
      "Here we are in 63 test\n",
      "Here we are in 64 test\n",
      "Here we are in 65 test\n",
      "Here we are in 66 test\n",
      "Here we are in 67 test\n",
      "Here we are in 68 test\n",
      "Here we are in 69 test\n",
      "Here we are in 70 test\n",
      "Here we are in 71 test\n",
      "Here we are in 72 test\n",
      "Here we are in 73 test\n",
      "Here we are in 74 test\n",
      "Here we are in 75 test\n",
      "Here we are in 76 test\n",
      "Here we are in 77 test\n",
      "Here we are in 78 test\n",
      "Here we are in 79 test\n",
      "Here we are in 80 test\n",
      "Here we are in 81 test\n",
      "Here we are in 82 test\n",
      "Here we are in 83 test\n",
      "Here we are in 84 test\n",
      "Here we are in 85 test\n",
      "Here we are in 86 test\n",
      "Here we are in 87 test\n",
      "Here we are in 88 test\n",
      "Here we are in 89 test\n",
      "Here we are in 90 test\n",
      "Here we are in 91 test\n",
      "Here we are in 92 test\n",
      "Here we are in 93 test\n",
      "Here we are in 94 test\n",
      "Here we are in 95 test\n",
      "Here we are in 96 test\n",
      "Here we are in 97 test\n",
      "Here we are in 98 test\n",
      "Here we are in 99 test\n",
      "Here we are in 100 test\n",
      "Here we are in 101 test\n",
      "Here we are in 102 test\n",
      "Here we are in 103 test\n",
      "Here we are in 104 test\n",
      "Here we are in 105 test\n",
      "Here we are in 106 test\n",
      "Here we are in 107 test\n",
      "Here we are in 108 test\n",
      "Here we are in 109 test\n",
      "Here we are in 110 test\n",
      "Here we are in 111 test\n",
      "Here we are in 112 test\n",
      "Here we are in 113 test\n",
      "Here we are in 114 test\n",
      "Here we are in 115 test\n",
      "Here we are in 116 test\n",
      "Here we are in 117 test\n",
      "Here we are in 118 test\n",
      "Here we are in 119 test\n",
      "Here we are in 120 test\n",
      "Here we are in 121 test\n",
      "Here we are in 122 test\n",
      "Here we are in 123 test\n",
      "Here we are in 124 test\n",
      "Here we are in 125 test\n",
      "Here we are in 126 test\n",
      "Here we are in 127 test\n",
      "Here we are in 128 test\n",
      "Here we are in 129 test\n",
      "Here we are in 130 test\n",
      "Here we are in 131 test\n",
      "Here we are in 132 test\n",
      "Here we are in 133 test\n",
      "Here we are in 134 test\n",
      "Here we are in 135 test\n",
      "Here we are in 136 test\n",
      "Here we are in 137 test\n",
      "Here we are in 138 test\n",
      "Here we are in 139 test\n",
      "Here we are in 140 test\n",
      "Here we are in 141 test\n",
      "Here we are in 142 test\n",
      "Here we are in 143 test\n",
      "Here we are in 144 test\n",
      "Here we are in 145 test\n",
      "Here we are in 146 test\n",
      "Here we are in 147 test\n",
      "Here we are in 148 test\n",
      "Here we are in 149 test\n",
      "Here we are in 150 test\n",
      "Here we are in 151 test\n",
      "Here we are in 152 test\n",
      "Here we are in 153 test\n",
      "Here we are in 154 test\n",
      "Here we are in 155 test\n",
      "Here we are in 156 test\n",
      "Here we are in 157 test\n",
      "Here we are in 158 test\n",
      "Here we are in 159 test\n",
      "Here we are in 160 test\n",
      "Here we are in 161 test\n",
      "Here we are in 162 test\n",
      "Here we are in 163 test\n",
      "Here we are in 164 test\n",
      "Here we are in 165 test\n",
      "Here we are in 166 test\n",
      "Here we are in 167 test\n",
      "Here we are in 168 test\n",
      "Here we are in 169 test\n",
      "Here we are in 170 test\n",
      "Here we are in 171 test\n",
      "Here we are in 172 test\n",
      "Here we are in 173 test\n",
      "Here we are in 174 test\n",
      "Here we are in 175 test\n",
      "Here we are in 176 test\n",
      "Here we are in 177 test\n",
      "Here we are in 178 test\n",
      "Here we are in 179 test\n",
      "Here we are in 180 test\n",
      "Here we are in 181 test\n",
      "Here we are in 182 test\n",
      "Here we are in 183 test\n",
      "Here we are in 184 test\n",
      "Here we are in 185 test\n",
      "Here we are in 186 test\n",
      "Here we are in 187 test\n",
      "Here we are in 188 test\n",
      "Here we are in 189 test\n",
      "Here we are in 190 test\n",
      "Here we are in 191 test\n",
      "Here we are in 192 test\n",
      "Here we are in 193 test\n",
      "Here we are in 194 test\n",
      "Here we are in 195 test\n",
      "Here we are in 196 test\n",
      "Here we are in 197 test\n",
      "Here we are in 198 test\n",
      "Here we are in 199 test\n",
      "Here we are in 200 test\n",
      "Here we are in 201 test\n",
      "Here we are in 202 test\n",
      "Here we are in 203 test\n",
      "Here we are in 204 test\n",
      "Here we are in 205 test\n",
      "Here we are in 206 test\n",
      "Here we are in 207 test\n",
      "Here we are in 208 test\n",
      "Here we are in 209 test\n",
      "Here we are in 210 test\n",
      "Here we are in 211 test\n",
      "Here we are in 212 test\n",
      "Here we are in 213 test\n",
      "Here we are in 214 test\n",
      "Here we are in 215 test\n",
      "Here we are in 216 test\n",
      "Here we are in 217 test\n",
      "Here we are in 218 test\n",
      "Here we are in 219 test\n",
      "Here we are in 220 test\n",
      "Here we are in 221 test\n",
      "Here we are in 222 test\n",
      "Here we are in 223 test\n",
      "Here we are in 224 test\n",
      "Here we are in 225 test\n",
      "Here we are in 226 test\n",
      "Here we are in 227 test\n",
      "Here we are in 228 test\n",
      "Here we are in 229 test\n",
      "Here we are in 230 test\n",
      "Here we are in 231 test\n",
      "Here we are in 232 test\n",
      "Here we are in 233 test\n",
      "Here we are in 234 test\n",
      "Here we are in 235 test\n",
      "Here we are in 236 test\n",
      "Here we are in 237 test\n",
      "Here we are in 238 test\n",
      "Here we are in 239 test\n",
      "Here we are in 240 test\n",
      "Here we are in 241 test\n",
      "Here we are in 242 test\n",
      "Here we are in 243 test\n",
      "Here we are in 244 test\n",
      "Here we are in 245 test\n",
      "Here we are in 246 test\n",
      "Here we are in 247 test\n",
      "Here we are in 248 test\n",
      "Here we are in 249 test\n",
      "Here we are in 250 test\n",
      "Here we are in 251 test\n",
      "Here we are in 252 test\n",
      "Here we are in 253 test\n",
      "Here we are in 254 test\n",
      "Here we are in 255 test\n",
      "Here we are in 256 test\n",
      "Here we are in 257 test\n",
      "Here we are in 258 test\n",
      "Here we are in 259 test\n",
      "Here we are in 260 test\n",
      "Here we are in 261 test\n",
      "Here we are in 262 test\n",
      "Here we are in 263 test\n",
      "Here we are in 264 test\n",
      "Here we are in 265 test\n",
      "Here we are in 266 test\n",
      "Here we are in 267 test\n",
      "Here we are in 268 test\n",
      "Here we are in 269 test\n",
      "Here we are in 270 test\n",
      "Here we are in 271 test\n",
      "Here we are in 272 test\n",
      "Here we are in 273 test\n",
      "Here we are in 274 test\n",
      "Here we are in 275 test\n",
      "Here we are in 276 test\n",
      "Here we are in 277 test\n",
      "Here we are in 278 test\n",
      "Here we are in 279 test\n",
      "Here we are in 280 test\n",
      "Here we are in 281 test\n",
      "Here we are in 282 test\n",
      "Here we are in 283 test\n",
      "Here we are in 284 test\n",
      "Here we are in 285 test\n",
      "Here we are in 286 test\n",
      "Here we are in 287 test\n",
      "Here we are in 288 test\n",
      "Here we are in 289 test\n",
      "Here we are in 290 test\n",
      "Here we are in 291 test\n",
      "Here we are in 292 test\n",
      "Here we are in 293 test\n",
      "Here we are in 294 test\n",
      "Here we are in 295 test\n",
      "Here we are in 296 test\n",
      "Here we are in 297 test\n",
      "Here we are in 298 test\n",
      "Here we are in 299 test\n",
      "Here we are in 300 test\n",
      "Here we are in 301 test\n",
      "Here we are in 302 test\n",
      "Here we are in 303 test\n",
      "Here we are in 304 test\n",
      "Here we are in 305 test\n",
      "Here we are in 306 test\n",
      "Here we are in 307 test\n",
      "Here we are in 308 test\n",
      "Here we are in 309 test\n",
      "Here we are in 310 test\n",
      "Here we are in 311 test\n",
      "Here we are in 312 test\n",
      "Here we are in 313 test\n",
      "Here we are in 314 test\n",
      "Here we are in 315 test\n",
      "Here we are in 316 test\n",
      "Here we are in 317 test\n",
      "Here we are in 318 test\n",
      "Here we are in 319 test\n",
      "Here we are in 320 test\n",
      "Here we are in 321 test\n",
      "Here we are in 322 test\n",
      "Here we are in 323 test\n",
      "Here we are in 324 test\n",
      "Here we are in 325 test\n",
      "Here we are in 326 test\n",
      "Here we are in 327 test\n",
      "Here we are in 328 test\n",
      "Here we are in 329 test\n",
      "Here we are in 330 test\n",
      "Here we are in 331 test\n",
      "Here we are in 332 test\n",
      "Here we are in 333 test\n",
      "Here we are in 334 test\n",
      "Here we are in 335 test\n",
      "Here we are in 336 test\n",
      "Here we are in 337 test\n",
      "Here we are in 338 test\n",
      "Here we are in 339 test\n",
      "Here we are in 340 test\n",
      "Here we are in 341 test\n",
      "Here we are in 342 test\n",
      "Here we are in 343 test\n",
      "Here we are in 344 test\n",
      "Here we are in 345 test\n"
     ]
    },
    {
     "name": "stdout",
     "output_type": "stream",
     "text": [
      "Here we are in 346 test\n",
      "Here we are in 347 test\n",
      "Here we are in 348 test\n",
      "Here we are in 349 test\n",
      "Here we are in 350 test\n",
      "Here we are in 351 test\n",
      "Here we are in 352 test\n",
      "Here we are in 353 test\n",
      "Here we are in 354 test\n",
      "Here we are in 355 test\n",
      "Here we are in 356 test\n",
      "Here we are in 357 test\n",
      "Here we are in 358 test\n",
      "Here we are in 359 test\n",
      "Here we are in 360 test\n",
      "Here we are in 361 test\n",
      "Here we are in 362 test\n",
      "Here we are in 363 test\n",
      "Here we are in 364 test\n",
      "Here we are in 365 test\n",
      "Here we are in 366 test\n",
      "Here we are in 367 test\n",
      "Here we are in 368 test\n",
      "Here we are in 369 test\n",
      "Here we are in 370 test\n",
      "Here we are in 371 test\n",
      "Here we are in 372 test\n",
      "Here we are in 373 test\n",
      "Here we are in 374 test\n",
      "Here we are in 375 test\n",
      "Here we are in 376 test\n",
      "Here we are in 377 test\n",
      "Here we are in 378 test\n",
      "Here we are in 379 test\n",
      "Here we are in 380 test\n",
      "Here we are in 381 test\n",
      "Here we are in 382 test\n",
      "Here we are in 383 test\n",
      "Here we are in 384 test\n",
      "Here we are in 385 test\n",
      "Here we are in 386 test\n",
      "Here we are in 387 test\n",
      "Here we are in 388 test\n",
      "Here we are in 389 test\n",
      "Here we are in 390 test\n",
      "Here we are in 391 test\n",
      "Here we are in 392 test\n",
      "Here we are in 393 test\n",
      "Here we are in 394 test\n",
      "Here we are in 395 test\n",
      "Here we are in 396 test\n",
      "Here we are in 397 test\n",
      "Here we are in 398 test\n",
      "Here we are in 399 test\n",
      "Here we are in 400 test\n",
      "Here we are in 401 test\n",
      "Here we are in 402 test\n",
      "Here we are in 403 test\n",
      "Here we are in 404 test\n",
      "Here we are in 405 test\n",
      "Here we are in 406 test\n",
      "Here we are in 407 test\n",
      "Here we are in 408 test\n",
      "Here we are in 409 test\n",
      "Here we are in 410 test\n",
      "Here we are in 411 test\n",
      "Here we are in 412 test\n",
      "Here we are in 413 test\n",
      "Here we are in 414 test\n",
      "Here we are in 415 test\n",
      "Here we are in 416 test\n",
      "Here we are in 417 test\n",
      "Here we are in 418 test\n",
      "Here we are in 419 test\n",
      "Here we are in 420 test\n",
      "Here we are in 421 test\n",
      "Here we are in 422 test\n",
      "Here we are in 423 test\n",
      "Here we are in 424 test\n",
      "Here we are in 425 test\n",
      "Here we are in 426 test\n",
      "Here we are in 427 test\n",
      "Here we are in 428 test\n",
      "Here we are in 429 test\n",
      "Here we are in 430 test\n",
      "Here we are in 431 test\n",
      "Here we are in 432 test\n",
      "Here we are in 433 test\n",
      "Here we are in 434 test\n",
      "Here we are in 435 test\n",
      "Here we are in 436 test\n",
      "Here we are in 437 test\n",
      "Here we are in 438 test\n",
      "Here we are in 439 test\n",
      "Here we are in 440 test\n",
      "Here we are in 441 test\n",
      "Here we are in 442 test\n",
      "Here we are in 443 test\n",
      "Here we are in 444 test\n",
      "Here we are in 445 test\n",
      "Here we are in 446 test\n",
      "Here we are in 447 test\n",
      "Here we are in 448 test\n",
      "Here we are in 449 test\n",
      "Here we are in 450 test\n",
      "Here we are in 451 test\n",
      "Here we are in 452 test\n",
      "Here we are in 453 test\n",
      "Here we are in 454 test\n",
      "Here we are in 455 test\n",
      "Here we are in 456 test\n",
      "Here we are in 457 test\n",
      "Here we are in 458 test\n",
      "Here we are in 459 test\n",
      "Here we are in 460 test\n",
      "Here we are in 461 test\n",
      "Here we are in 462 test\n",
      "Here we are in 463 test\n",
      "Here we are in 464 test\n",
      "Here we are in 465 test\n",
      "Here we are in 466 test\n",
      "Here we are in 467 test\n",
      "Here we are in 468 test\n",
      "Here we are in 469 test\n",
      "Here we are in 470 test\n",
      "Here we are in 471 test\n",
      "Here we are in 472 test\n",
      "Here we are in 473 test\n",
      "Here we are in 474 test\n",
      "Here we are in 475 test\n",
      "Here we are in 476 test\n",
      "Here we are in 477 test\n",
      "Here we are in 478 test\n",
      "Here we are in 479 test\n",
      "Here we are in 480 test\n",
      "Here we are in 481 test\n",
      "Here we are in 482 test\n",
      "Here we are in 483 test\n",
      "Here we are in 484 test\n",
      "Here we are in 485 test\n",
      "Here we are in 486 test\n",
      "Here we are in 487 test\n",
      "Here we are in 488 test\n",
      "Here we are in 489 test\n",
      "Here we are in 490 test\n",
      "Here we are in 491 test\n",
      "Here we are in 492 test\n",
      "Here we are in 493 test\n",
      "Here we are in 494 test\n",
      "Here we are in 495 test\n",
      "Here we are in 496 test\n",
      "Here we are in 497 test\n",
      "Here we are in 498 test\n",
      "Here we are in 499 test\n"
     ]
    }
   ],
   "source": [
    "tests=500\n",
    "L=31\n",
    "results=np.zeros((tests,2*L-1,2))\n",
    "for test in range(tests):\n",
    "    print(\"Here we are in {} test\".format(test))\n",
    "    a,b=Get_Bands_Matrix()\n",
    "    results[test,:,0]=np.append(np.roll(a,-1)[::-1][:L][::-1].real,a[1:L].real)\n",
    "    results[test,:,1]=np.append(b[::-1][:L].real,np.roll(b,L-1)[::-1][1:L].real)\n",
    "    #New_cov_matrix=Covariance_matrix_from_sub_sample(a,b,L)\n",
    "    #S=np.linalg.svd(New_cov_matrix,compute_uv=False)\n",
    "    #S=-S+0.5\n",
    "    #plt.plot(sorted(S,reverse=True))"
   ]
  },
  {
   "cell_type": "code",
   "execution_count": 36,
   "metadata": {
    "ExecuteTime": {
     "end_time": "2019-10-15T18:10:12.990388Z",
     "start_time": "2019-10-15T18:10:12.984404Z"
    }
   },
   "outputs": [
    {
     "data": {
      "text/plain": [
       "array([21, 22, 23, 24, 25, 26, 27, 28, 29, 30, 31, 32, 33, 34, 35, 36, 37,\n",
       "       38, 39, 40, 41, 42, 43, 44, 45, 46, 47, 48, 49, 50,  0])"
      ]
     },
     "execution_count": 36,
     "metadata": {},
     "output_type": "execute_result"
    }
   ],
   "source": [
    "a=np.arange(51)\n",
    "np.append(np.roll(a,-1)[::-1][:L][::-1].real,a[1:L].real)[:L]"
   ]
  },
  {
   "cell_type": "code",
   "execution_count": null,
   "metadata": {},
   "outputs": [],
   "source": []
  },
  {
   "cell_type": "code",
   "execution_count": 30,
   "metadata": {
    "ExecuteTime": {
     "end_time": "2019-10-15T18:07:40.848787Z",
     "start_time": "2019-10-15T18:07:40.843768Z"
    }
   },
   "outputs": [],
   "source": [
    "F_plus=results[:,:,0]-results[:,:,0].mean(axis=0)\n",
    "F_minous=results[:,:,1]-results[:,:,1].mean(axis=0)"
   ]
  },
  {
   "cell_type": "code",
   "execution_count": 32,
   "metadata": {
    "ExecuteTime": {
     "end_time": "2019-10-15T18:08:20.911005Z",
     "start_time": "2019-10-15T18:08:20.784660Z"
    }
   },
   "outputs": [
    {
     "data": {
      "text/plain": [
       "[<matplotlib.lines.Line2D at 0x167185e9da0>]"
      ]
     },
     "execution_count": 32,
     "metadata": {},
     "output_type": "execute_result"
    },
    {
     "data": {
      "image/png": "[encoded data removed]",
      "text/plain": [
       "<Figure size 432x288 with 1 Axes>"
      ]
     },
     "metadata": {
      "needs_background": "light"
     },
     "output_type": "display_data"
    }
   ],
   "source": [
    "plt.plot(F_minous[0])"
   ]
  },
  {
   "cell_type": "code",
   "execution_count": 33,
   "metadata": {
    "ExecuteTime": {
     "end_time": "2019-10-15T18:08:58.350137Z",
     "start_time": "2019-10-15T18:08:58.224462Z"
    }
   },
   "outputs": [
    {
     "data": {
      "text/plain": [
       "[<matplotlib.lines.Line2D at 0x167188b0518>]"
      ]
     },
     "execution_count": 33,
     "metadata": {},
     "output_type": "execute_result"
    },
    {
     "data": {
      "image/png": "[encoded data removed]",
      "text/plain": [
       "<Figure size 432x288 with 1 Axes>"
      ]
     },
     "metadata": {
      "needs_background": "light"
     },
     "output_type": "display_data"
    }
   ],
   "source": [
    "plt.plot(F_plus[0])"
   ]
  },
  {
   "cell_type": "code",
   "execution_count": 37,
   "metadata": {
    "ExecuteTime": {
     "end_time": "2019-10-15T18:10:49.381386Z",
     "start_time": "2019-10-15T18:10:49.263703Z"
    }
   },
   "outputs": [
    {
     "data": {
      "text/plain": [
       "[<matplotlib.lines.Line2D at 0x16718f9ed68>]"
      ]
     },
     "execution_count": 37,
     "metadata": {},
     "output_type": "execute_result"
    },
    {
     "data": {
      "image/png": "[encoded data removed]",
      "text/plain": [
       "<Figure size 432x288 with 1 Axes>"
      ]
     },
     "metadata": {
      "needs_background": "light"
     },
     "output_type": "display_data"
    }
   ],
   "source": [
    "plt.plot(results[:,:,1].mean(axis=0))"
   ]
  },
  {
   "cell_type": "code",
   "execution_count": 38,
   "metadata": {
    "ExecuteTime": {
     "end_time": "2019-10-15T18:11:21.740373Z",
     "start_time": "2019-10-15T18:11:21.614791Z"
    }
   },
   "outputs": [
    {
     "data": {
      "text/plain": [
       "[<matplotlib.lines.Line2D at 0x16718fdea90>]"
      ]
     },
     "execution_count": 38,
     "metadata": {},
     "output_type": "execute_result"
    },
    {
     "data": {
      "image/png": "[encoded data removed]",
      "text/plain": [
       "<Figure size 432x288 with 1 Axes>"
      ]
     },
     "metadata": {
      "needs_background": "light"
     },
     "output_type": "display_data"
    }
   ],
   "source": [
    "plt.plot(results[:,:,0].mean(axis=0))"
   ]
  },
  {
   "cell_type": "code",
   "execution_count": null,
   "metadata": {},
   "outputs": [],
   "source": [
    "tests=50\n",
    "result=[]\n",
    "for L in range(101,151,2):\n",
    "    print(\"L=\",L)\n",
    "    S_T=np.zeros(L)\n",
    "    for test in range(tests):\n",
    "        a,b=Get_Bands_Matrix()\n",
    "        New_cov_matrix=Covariance_matrix_from_sub_sample(a,b,L)\n",
    "        S=np.linalg.svd(New_cov_matrix,compute_uv=False)\n",
    "        S=-S+0.5\n",
    "        S_T+=S/tests\n",
    "    result.append(S_T)"
   ]
  }
 ],
 "metadata": {
  "kernelspec": {
   "display_name": "Python 3",
   "language": "python",
   "name": "python3"
  },
  "language_info": {
   "codemirror_mode": {
    "name": "ipython",
    "version": 3
   },
   "file_extension": ".py",
   "mimetype": "text/x-python",
   "name": "python",
   "nbconvert_exporter": "python",
   "pygments_lexer": "ipython3",
   "version": "3.7.1"
  },
  "nbTranslate": {
   "displayLangs": [
    "*"
   ],
   "hotkey": "alt-t",
   "langInMainMenu": true,
   "sourceLang": "en",
   "targetLang": "fr",
   "useGoogleTranslate": true
  },
  "toc": {
   "base_numbering": 1,
   "nav_menu": {},
   "number_sections": true,
   "sideBar": true,
   "skip_h1_title": false,
   "title_cell": "Table of Contents",
   "title_sidebar": "Contents",
   "toc_cell": false,
   "toc_position": {},
   "toc_section_display": true,
   "toc_window_display": false
  },
  "varInspector": {
   "cols": {
    "lenName": 16,
    "lenType": 16,
    "lenVar": 40
   },
   "kernels_config": {
    "python": {
     "delete_cmd_postfix": "",
     "delete_cmd_prefix": "del ",
     "library": "var_list.py",
     "varRefreshCmd": "print(var_dic_list())"
    },
    "r": {
     "delete_cmd_postfix": ") ",
     "delete_cmd_prefix": "rm(",
     "library": "var_list.r",
     "varRefreshCmd": "cat(var_dic_list()) "
    }
   },
   "types_to_exclude": [
    "module",
    "function",
    "builtin_function_or_method",
    "instance",
    "_Feature"
   ],
   "window_display": false
  }
 },
 "nbformat": 4,
 "nbformat_minor": 2
}
