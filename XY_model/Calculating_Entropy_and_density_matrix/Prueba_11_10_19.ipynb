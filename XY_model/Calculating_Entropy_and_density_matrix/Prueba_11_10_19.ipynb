{
 "cells": [
  {
   "cell_type": "code",
   "execution_count": 1,
   "metadata": {
    "ExecuteTime": {
     "end_time": "2019-10-11T13:42:34.571572Z",
     "start_time": "2019-10-11T13:42:30.276803Z"
    }
   },
   "outputs": [
    {
     "data": {
      "text/html": [
       "\n",
       "<style>\n",
       ".output {\n",
       "    display: flex;\n",
       "    align-items: left;\n",
       "    text-align: center;\n",
       "}\n",
       "</style>\n"
      ],
      "text/plain": [
       "<IPython.core.display.HTML object>"
      ]
     },
     "metadata": {},
     "output_type": "display_data"
    }
   ],
   "source": [
    "import numpy as np\n",
    "import matplotlib.pylab as plt\n",
    "import pandas as pd\n",
    "from ipywidgets import interactive\n",
    "from scipy.fftpack import fft, ifft,ifftshift,fftshift\n",
    "from IPython.display import display, HTML\n",
    "from scipy.linalg import circulant\n",
    "from scipy.linalg import toeplitz, hankel\n",
    "from IPython.display import clear_output\n",
    "\n",
    "#### --------- Definition of variables ------------------------\n",
    "\n",
    "N_size=50001 #\n",
    "Gamma=0.5\n",
    "Lambda=0.5\n",
    "\n",
    "#### ------------------------------------------------------------\n",
    "\n",
    "display(HTML(\"\"\"\n",
    "<style>\n",
    ".output {\n",
    "    display: flex;\n",
    "    align-items: left;\n",
    "    text-align: center;\n",
    "}\n",
    "</style>\n",
    "\"\"\"))\n",
    "\n",
    "def Alpha(Gamma,Lambda,theta):\n",
    "    return Lambda+np.cos(theta)\n",
    "def Beta(Gamma,Lambda,theta):\n",
    "    return Gamma*np.sin(theta)\n",
    "def Omega(Gamma,Lambda,theta):\n",
    "    return np.sqrt(Alpha(Gamma,Lambda,theta)**2 + Beta(Gamma,Lambda,theta)**2 )\n",
    "def Phi(Gamma,Lambda,theta):\n",
    "    return np.arctan2(Beta(Gamma,Lambda,theta),Alpha(Gamma,Lambda,theta))\n",
    "\n",
    "\n",
    "\n",
    "\n",
    "def Fermi_dirac(beta,mu,n,Gamma=Gamma,Lambda=Lambda,N=N_size):\n",
    "    # beta is the inverse thermic energy associated in the system (beta)\n",
    "    # mu corresponds to the chemical potential\n",
    "    # n is the position of the particle\n",
    "    # f=np.exp(T*(Omega(Gamma,Lambda,2.0*(np.pi/N)*n)-mu)) +1\n",
    "    # N corresponds to the size of the system\n",
    "    f=np.exp(beta*(Omega(Gamma,Lambda,((2.*np.pi)/float(N)) * n)-mu)) +1\n",
    "    return 1/f\n",
    "\n",
    "def plot_interactive(beta,mu):\n",
    "    plt.figure(figsize=(10,7))\n",
    "    n=np.arange(-(N_size-1)/2,(N_size-1)/2+ 1)\n",
    "    plt.subplot(2,1,1)\n",
    "    plt.plot(n,Fermi_dirac(beta,mu,n))\n",
    "    #plt.ylim(-0.05,1.05)\n",
    "    plt.xlabel(\"Position\")\n",
    "    plt.ylabel(\"Probability\")\n",
    "    plt.subplot(2,1,2)\n",
    "    plt.plot(n,Omega(Gamma,Lambda,(2.*np.pi)/float(N_size)*n),label=r\"$\\Omega$\")\n",
    "    plt.show()\n",
    "\n",
    "    \n",
    "def Binary_entropy(x):\n",
    "    result=[]\n",
    "    for i in x:\n",
    "        if np.abs(i-1)<10E-10:\n",
    "            result.append(0)\n",
    "        else:\n",
    "            result.append(-i*np.log(i)-(1-i)*np.log(1-i))\n",
    "    return np.array(result)\n",
    "\n",
    "def Get_Bands_Matrix(Gamma=Gamma,Lambda=Lambda,N_size=N_size,beta=0.40824,mu=0,Ground =False):\n",
    "    if Ground:\n",
    "        x=np.arange(0,(N_size-1)/2+ 1)\n",
    "        m_cos=[-0.5 for i in x]\n",
    "        m_sin=[-0.5 for i in x]\n",
    "        m_cos=np.array(m_cos[1:][::-1]+m_cos)\n",
    "        m_sin=np.array(m_sin[1:][::-1]+m_sin)\n",
    "        M_plus=(m_cos+m_sin)*0.5\n",
    "        M_minous=(m_cos-m_sin)*0.5\n",
    "        x=np.arange(-(N_size-1)/2,(N_size-1)/2+1)\n",
    "        Mplusband=[np.exp(1.j*np.sign((2.0*np.pi/N_size) * i)*Phi(Gamma,Lambda,np.abs((2.0*np.pi/N_size) * i))) for i in x]\n",
    "        Mplusband=M_plus*np.array(Mplusband)\n",
    "        Mminousband=[np.exp(1.j*np.sign((2.0*np.pi/N_size) * i)*Phi(Gamma,Lambda,np.abs((2.0*np.pi/N_size) * i))) for i in x]\n",
    "        Mminousband=M_minous*np.array(Mminousband)\n",
    "        \n",
    "    else:\n",
    "        x=np.arange(0,(N_size-1)/2+ 1)\n",
    "        m_cos=[-0.5 if np.random.random()>Fermi_dirac(beta,mu,i) else 0.5 for i in x]\n",
    "        m_sin=[-0.5 if np.random.random()>Fermi_dirac(beta,mu,i) else 0.5 for i in x]\n",
    "        m_cos=np.array(m_cos[1:][::-1]+m_cos)\n",
    "        m_sin=np.array(m_sin[1:][::-1]+m_sin)\n",
    "        M_plus=(m_cos+m_sin)*0.5\n",
    "        M_minous=(m_cos-m_sin)*0.5\n",
    "        x=np.arange(-(N_size-1)/2,(N_size-1)/2+1)\n",
    "        Mplusband=[np.exp(1.j*np.sign((2.0*np.pi/N_size) * i)*Phi(Gamma,Lambda,np.abs((2.0*np.pi/N_size) * i))) for i in x]\n",
    "        Mplusband=M_plus*np.array(Mplusband)\n",
    "        Mminousband=[np.exp(1.j*np.sign((2.0*np.pi/N_size) * i)*Phi(Gamma,Lambda,np.abs((2.0*np.pi/N_size) * i))) for i in x]\n",
    "        Mminousband=M_minous*np.array(Mminousband)\n",
    "        \n",
    "    x=np.arange(-(N_size-1)/2,(N_size-1)/2+ 1)\n",
    "    Fourier_plus=fft(ifftshift(Mplusband))\n",
    "    Fourier_minous=fft(ifftshift(Mminousband))\n",
    "    return Fourier_plus,Fourier_minous\n",
    "def Toeplitz_matrix(Fourier_plus,L):\n",
    "    First_column=np.roll(Fourier_plus,-1)[::-1][:L]\n",
    "    First_row = Fourier_plus[:L]\n",
    "    return toeplitz(First_column,First_row)\n",
    "def Hankel_matrix(Fourier_minous,L):\n",
    "    First_column=Fourier_minous[::-1][:L]\n",
    "    Last_row=np.roll(Fourier_minous,L-1)[::-1][:L]\n",
    "    return hankel(First_column,Last_row)\n",
    "\n",
    "\n",
    "def Covariance_matrix(L,Gamma=Gamma,Lambda=Lambda,beta=0.40824,mu=0,N_size=N_size,Ground=False):\n",
    "    if Ground:\n",
    "        Fourier_plus,Fourier_minous=Get_Bands_Matrix(Gamma=Gamma,Lambda=Lambda,N_size=N_size,beta=beta,mu=mu,Ground=True)\n",
    "    else:\n",
    "        Fourier_plus,Fourier_minous=Get_Bands_Matrix(Gamma=Gamma,Lambda=Lambda,N_size=N_size,beta=beta,mu=mu,Ground=False)\n",
    "    return (Toeplitz_matrix(Fourier_plus,L)+Hankel_matrix(Fourier_minous,L))/N_size\n",
    "\n",
    "def Covariance_matrix_from_sub_sample(Fourier_plus,Fourier_minous,L,N_size=N_size):\n",
    "    return (Toeplitz_matrix(F_plus,L)+Hankel_matrix(F_minous,L))/N_size"
   ]
  },
  {
   "cell_type": "markdown",
   "metadata": {
    "ExecuteTime": {
     "end_time": "2019-10-11T13:42:37.017215Z",
     "start_time": "2019-10-11T13:42:36.241885Z"
    }
   },
   "source": [
    "# implementation with Numba"
   ]
  },
  {
   "cell_type": "code",
   "execution_count": 156,
   "metadata": {
    "ExecuteTime": {
     "end_time": "2019-10-11T15:57:38.546982Z",
     "start_time": "2019-10-11T15:57:38.524043Z"
    },
    "run_control": {
     "marked": true
    }
   },
   "outputs": [],
   "source": [
    "from numba import jit\n",
    "\n",
    "@jit(nopython=True)\n",
    "def Alpha(Gamma,Lambda,theta):\n",
    "    return Lambda+np.cos(theta)\n",
    "@jit(nopython=True)\n",
    "def Beta(Gamma,Lambda,theta):\n",
    "    return Gamma*np.sin(theta)\n",
    "@jit(nopython=True)\n",
    "def Omega(Gamma,Lambda,theta):\n",
    "    return np.sqrt(Alpha(Gamma,Lambda,theta)**2 + Beta(Gamma,Lambda,theta)**2 )\n",
    "@jit(nopython=True)\n",
    "def Phi(Gamma,Lambda,theta):\n",
    "    return np.arctan2(Beta(Gamma,Lambda,theta),Alpha(Gamma,Lambda,theta))\n",
    "@jit(nopython=True)\n",
    "def Fermi_dirac(beta,mu,n,Gamma=Gamma,Lambda=Lambda,N=N_size):\n",
    "    # beta is the inverse thermic energy associated in the system (beta)\n",
    "    # mu corresponds to the chemical potential\n",
    "    # n is the position of the particle\n",
    "    # f=np.exp(T*(Omega(Gamma,Lambda,2.0*(np.pi/N)*n)-mu)) +1\n",
    "    # N corresponds to the size of the system\n",
    "    f=np.exp(beta*(Omega(Gamma,Lambda,((2.*np.pi)/float(N)) * n)-mu)) +1\n",
    "    return 1/f\n",
    "\n",
    "@jit(nopython=True)\n",
    "def Get_Bands_Matrix(Gamma=Gamma,Lambda=Lambda,N_size=N_size,beta=0.40824,mu=0,Ground =False):\n",
    "    M_plus=[]\n",
    "    M_minous=[]\n",
    "    if Ground:\n",
    "        x=np.arange(0,(N_size-1)/2+ 1)\n",
    "        m_cos=[-0.5 for i in x]\n",
    "        m_sin=[-0.5 for i in x]\n",
    "        x=np.arange(-(N_size-1)/2,(N_size-1)/2+1)\n",
    "        for i in x:\n",
    "            M_minous.append((m_cos[np.abs(int(i))]-m_cos[np.abs(int(i))])*0.5*np.exp(1.j*np.sign((2.0*np.pi/N_size) * i)*Phi(Gamma,Lambda,np.abs((2.0*np.pi/N_size) * i))))\n",
    "            M_plus.append((m_cos[np.abs(int(i))]+m_cos[np.abs(int(i))])*0.5*np.exp(1.j*np.sign((2.0*np.pi/N_size) * i)*Phi(Gamma,Lambda,np.abs((2.0*np.pi/N_size) * i))))\n",
    "    else:\n",
    "        x=np.arange(0,(N_size-1)/2+ 1)\n",
    "        m_cos=[-0.5 if np.random.random()>Fermi_dirac(beta,mu,i) else 0.5 for i in x]\n",
    "        m_sin=[-0.5 if np.random.random()>Fermi_dirac(beta,mu,i) else 0.5 for i in x]\n",
    "        x=np.arange(-(N_size-1)/2,(N_size-1)/2+1)\n",
    "        for i in x:\n",
    "            M_minous.append((m_cos[np.abs(int(i))]-m_cos[np.abs(int(i))])*0.5*np.exp(1.j*np.sign((2.0*np.pi/N_size) * i)*Phi(Gamma,Lambda,np.abs((2.0*np.pi/N_size) * i))))\n",
    "            M_plus.append((m_cos[np.abs(int(i))]+m_cos[np.abs(int(i))])*0.5*np.exp(1.j*np.sign((2.0*np.pi/N_size) * i)*Phi(Gamma,Lambda,np.abs((2.0*np.pi/N_size) * i))))\n",
    "    return np.array(M_plus),np.array(M_minous)\n",
    "def Fourier_transform(Gamma=Gamma,Lambda=Lambda,N_size=N_size,beta=0.40824,mu=0,Ground =False):\n",
    "    Mplusband,Mminousband=Get_Bands_Matrix(Gamma,Lambda,N_size,beta,mu,Ground)\n",
    "    Fourier_plus=np.fft.fft(np.fft.ifftshift(Mplusband))\n",
    "    Fourier_minous=np.fft.fft(np.fft.ifftshift(Mminousband))\n",
    "    return Fourier_plus,Fourier_minous"
   ]
  },
  {
   "cell_type": "code",
   "execution_count": 159,
   "metadata": {
    "ExecuteTime": {
     "end_time": "2019-10-11T16:01:45.518458Z",
     "start_time": "2019-10-11T15:58:13.323953Z"
    }
   },
   "outputs": [],
   "source": [
    "N_size=500001\n",
    "a,b=Fourier_transform(N_size=N_size)"
   ]
  },
  {
   "cell_type": "markdown",
   "metadata": {},
   "source": [
    "# Test with numba didn't work as expected"
   ]
  },
  {
   "cell_type": "code",
   "execution_count": 1,
   "metadata": {
    "ExecuteTime": {
     "end_time": "2019-10-11T19:04:12.006037Z",
     "start_time": "2019-10-11T19:04:11.116898Z"
    }
   },
   "outputs": [
    {
     "data": {
      "text/html": [
       "\n",
       "<style>\n",
       ".output {\n",
       "    display: flex;\n",
       "    align-items: left;\n",
       "    text-align: center;\n",
       "}\n",
       "</style>\n"
      ],
      "text/plain": [
       "<IPython.core.display.HTML object>"
      ]
     },
     "metadata": {},
     "output_type": "display_data"
    }
   ],
   "source": [
    "import numpy as np\n",
    "import matplotlib.pylab as plt\n",
    "import pandas as pd\n",
    "from ipywidgets import interactive\n",
    "from scipy.fftpack import fft, ifft,ifftshift,fftshift\n",
    "from IPython.display import display, HTML\n",
    "from scipy.linalg import circulant\n",
    "from scipy.linalg import toeplitz, hankel\n",
    "from IPython.display import clear_output\n",
    "\n",
    "\n",
    "#### --------- Definition of variables ------------------------\n",
    "\n",
    "N_size=50001 #\n",
    "Gamma=0.5\n",
    "Lambda=0.5\n",
    "\n",
    "#### ------------------------------------------------------------\n",
    "\n",
    "display(HTML(\"\"\"\n",
    "<style>\n",
    ".output {\n",
    "    display: flex;\n",
    "    align-items: left;\n",
    "    text-align: center;\n",
    "}\n",
    "</style>\n",
    "\"\"\"))\n",
    "\n",
    "def Alpha(Gamma,Lambda,theta):\n",
    "    return Lambda+np.cos(theta)\n",
    "def Beta(Gamma,Lambda,theta):\n",
    "    return Gamma*np.sin(theta)\n",
    "def Omega(Gamma,Lambda,theta):\n",
    "    return np.sqrt(Alpha(Gamma,Lambda,theta)**2 + Beta(Gamma,Lambda,theta)**2 )\n",
    "def Phi(Gamma,Lambda,theta):\n",
    "    return np.arctan2(Beta(Gamma,Lambda,theta),Alpha(Gamma,Lambda,theta))\n",
    "\n",
    "\n",
    "\n",
    "\n",
    "def Fermi_dirac(beta,mu,n,Gamma=Gamma,Lambda=Lambda,N=N_size):\n",
    "    # beta is the inverse thermic energy associated in the system (beta)\n",
    "    # mu corresponds to the chemical potential\n",
    "    # n is the position of the particle\n",
    "    # f=np.exp(T*(Omega(Gamma,Lambda,2.0*(np.pi/N)*n)-mu)) +1\n",
    "    # N corresponds to the size of the system\n",
    "    f=np.exp(beta*(Omega(Gamma,Lambda,((2.*np.pi)/float(N)) * n)-mu)) +1\n",
    "    return 1/f\n",
    "\n",
    "def plot_interactive(beta,mu):\n",
    "    plt.figure(figsize=(10,7))\n",
    "    n=np.arange(-(N_size-1)/2,(N_size-1)/2+ 1)\n",
    "    plt.subplot(2,1,1)\n",
    "    plt.plot(n,Fermi_dirac(beta,mu,n))\n",
    "    #plt.ylim(-0.05,1.05)\n",
    "    plt.xlabel(\"Position\")\n",
    "    plt.ylabel(\"Probability\")\n",
    "    plt.subplot(2,1,2)\n",
    "    plt.plot(n,Omega(Gamma,Lambda,(2.*np.pi)/float(N_size)*n),label=r\"$\\Omega$\")\n",
    "    plt.show()\n",
    "\n",
    "    \n",
    "def Binary_entropy(x):\n",
    "    result=[]\n",
    "    for i in x:\n",
    "        if np.abs(i-1)<10E-10:\n",
    "            result.append(0)\n",
    "        else:\n",
    "            result.append(-i*np.log(i)-(1-i)*np.log(1-i))\n",
    "    return np.array(result)\n",
    "\n",
    "def Get_Bands_Matrix(Gamma=Gamma,Lambda=Lambda,N_size=N_size,beta=0.40824,mu=0,Ground =False):\n",
    "    if Ground:\n",
    "        x=np.arange(0,(N_size-1)/2+ 1)\n",
    "        m_cos=[-0.5 for i in x]\n",
    "        m_sin=[-0.5 for i in x]\n",
    "        \n",
    "        x=np.arange(-(N_size-1)/2,(N_size-1)/2+1)\n",
    "\n",
    "        M_minous=[((m_cos[np.abs(int(i))]-m_cos[np.abs(int(i))])*0.5*np.exp(1.j*np.sign((2.0*np.pi/N_size) * i)*Phi(Gamma,Lambda,np.abs((2.0*np.pi/N_size) * i)))) for i in x]\n",
    "        M_plus = [((m_cos[np.abs(int(i))]+m_cos[np.abs(int(i))])*0.5*np.exp(1.j*np.sign((2.0*np.pi/N_size) * i)*Phi(Gamma,Lambda,np.abs((2.0*np.pi/N_size) * i)))) for i in x]\n",
    "        Mminousband=np.array(M_minous)\n",
    "        Mplusband=np.array(M_plus)\n",
    "        #m_cos=np.array(m_cos[1:][::-1]+m_cos)\n",
    "        #m_sin=np.array(m_sin[1:][::-1]+m_sin)\n",
    "        #M_plus=(m_cos+m_sin)*0.5\n",
    "        #M_minous=(m_cos-m_sin)*0.5\n",
    "        #x=np.arange(-(N_size-1)/2,(N_size-1)/2+1)\n",
    "        #Mplusband=[np.exp(1.j*np.sign((2.0*np.pi/N_size) * i)*Phi(Gamma,Lambda,np.abs((2.0*np.pi/N_size) * i))) for i in x]\n",
    "        #Mplusband=M_plus*np.array(Mplusband)\n",
    "        #Mminousband=[np.exp(1.j*np.sign((2.0*np.pi/N_size) * i)*Phi(Gamma,Lambda,np.abs((2.0*np.pi/N_size) * i))) for i in x]\n",
    "        #Mminousband=M_minous*np.array(Mminousband)\n",
    "        \n",
    "    else:\n",
    "        x=np.arange(0,(N_size-1)/2+ 1)\n",
    "        m_cos=[-0.5 if np.random.random()>Fermi_dirac(beta,mu,i) else 0.5 for i in x]\n",
    "        m_sin=[-0.5 if np.random.random()>Fermi_dirac(beta,mu,i) else 0.5 for i in x]\n",
    "        x=np.arange(-(N_size-1)/2,(N_size-1)/2+1)\n",
    "\n",
    "        M_minous=[((m_cos[np.abs(int(i))]-m_cos[np.abs(int(i))])*0.5*np.exp(1.j*np.sign((2.0*np.pi/N_size) * i)*Phi(Gamma,Lambda,np.abs((2.0*np.pi/N_size) * i)))) for i in x]\n",
    "        M_plus = [((m_cos[np.abs(int(i))]+m_cos[np.abs(int(i))])*0.5*np.exp(1.j*np.sign((2.0*np.pi/N_size) * i)*Phi(Gamma,Lambda,np.abs((2.0*np.pi/N_size) * i)))) for i in x]\n",
    "        Mminousband=np.array(M_minous)\n",
    "        Mplusband=np.array(M_plus)\n",
    "        \n",
    "        #m_cos=np.array(m_cos[1:][::-1]+m_cos)\n",
    "        #m_sin=np.array(m_sin[1:][::-1]+m_sin)\n",
    "        #M_plus=(m_cos+m_sin)*0.5\n",
    "        #M_minous=(m_cos-m_sin)*0.5\n",
    "        #x=np.arange(-(N_size-1)/2,(N_size-1)/2+1)\n",
    "        #Mplusband=[np.exp(1.j*np.sign((2.0*np.pi/N_size) * i)*Phi(Gamma,Lambda,np.abs((2.0*np.pi/N_size) * i))) for i in x]\n",
    "        #Mplusband=M_plus*np.array(Mplusband)\n",
    "        #Mminousband=[np.exp(1.j*np.sign((2.0*np.pi/N_size) * i)*Phi(Gamma,Lambda,np.abs((2.0*np.pi/N_size) * i))) for i in x]\n",
    "        #Mminousband=M_minous*np.array(Mminousband)\n",
    "        \n",
    "    x=np.arange(-(N_size-1)/2,(N_size-1)/2+ 1)\n",
    "    Fourier_plus=fft(ifftshift(Mplusband))\n",
    "    Fourier_minous=fft(ifftshift(Mminousband))\n",
    "    return Fourier_plus,Fourier_minous\n",
    "def Toeplitz_matrix(Fourier_plus,L):\n",
    "    First_column=np.roll(Fourier_plus,-1)[::-1][:L]\n",
    "    First_row = Fourier_plus[:L]\n",
    "    return toeplitz(First_column,First_row)\n",
    "def Hankel_matrix(Fourier_minous,L):\n",
    "    First_column=Fourier_minous[::-1][:L]\n",
    "    Last_row=np.roll(Fourier_minous,L-1)[::-1][:L]\n",
    "    return hankel(First_column,Last_row)\n",
    "\n",
    "\n",
    "def Covariance_matrix(L,Gamma=Gamma,Lambda=Lambda,beta=0.40824,mu=0,N_size=N_size,Ground=False):\n",
    "    if Ground:\n",
    "        Fourier_plus,Fourier_minous=Get_Bands_Matrix(Gamma=Gamma,Lambda=Lambda,N_size=N_size,beta=beta,mu=mu,Ground=True)\n",
    "    else:\n",
    "        Fourier_plus,Fourier_minous=Get_Bands_Matrix(Gamma=Gamma,Lambda=Lambda,N_size=N_size,beta=beta,mu=mu,Ground=False)\n",
    "    return (Toeplitz_matrix(Fourier_plus,L)+Hankel_matrix(Fourier_minous,L))/N_size\n",
    "\n",
    "def Covariance_matrix_from_sub_sample(Fourier_plus,Fourier_minous,L,N_size=N_size):\n",
    "    return (Toeplitz_matrix(Fourier_plus,L)+Hankel_matrix(Fourier_minous,L))/N_size"
   ]
  },
  {
   "cell_type": "code",
   "execution_count": 2,
   "metadata": {
    "ExecuteTime": {
     "end_time": "2019-10-11T21:25:09.950978Z",
     "start_time": "2019-10-11T19:04:17.787016Z"
    }
   },
   "outputs": [
    {
     "name": "stdout",
     "output_type": "stream",
     "text": [
      "L= 73\n",
      "L= 75\n",
      "L= 77\n",
      "L= 79\n",
      "L= 81\n",
      "L= 83\n",
      "L= 85\n",
      "L= 87\n",
      "L= 89\n",
      "L= 91\n",
      "L= 93\n",
      "L= 95\n",
      "L= 97\n",
      "L= 99\n",
      "L= 101\n",
      "L= 103\n",
      "L= 105\n",
      "L= 107\n",
      "L= 109\n",
      "L= 111\n",
      "L= 113\n",
      "L= 115\n",
      "L= 117\n",
      "L= 119\n",
      "L= 121\n",
      "L= 123\n",
      "L= 125\n",
      "L= 127\n",
      "L= 129\n",
      "L= 131\n",
      "L= 133\n",
      "L= 135\n",
      "L= 137\n",
      "L= 139\n",
      "L= 141\n",
      "L= 143\n",
      "L= 145\n",
      "L= 147\n",
      "L= 149\n",
      "L= 151\n",
      "L= 153\n",
      "L= 155\n",
      "L= 157\n",
      "L= 159\n",
      "L= 161\n",
      "L= 163\n",
      "L= 165\n",
      "L= 167\n",
      "L= 169\n",
      "L= 171\n",
      "L= 173\n",
      "L= 175\n",
      "L= 177\n",
      "L= 179\n",
      "L= 181\n",
      "L= 183\n",
      "L= 185\n",
      "L= 187\n",
      "L= 189\n",
      "L= 191\n",
      "L= 193\n",
      "L= 195\n",
      "L= 197\n",
      "L= 199\n",
      "L= 201\n",
      "L= 203\n",
      "L= 205\n",
      "L= 207\n",
      "L= 209\n",
      "L= 211\n",
      "L= 213\n",
      "L= 215\n",
      "L= 217\n",
      "L= 219\n",
      "L= 221\n",
      "L= 223\n",
      "L= 225\n",
      "L= 227\n",
      "L= 229\n",
      "L= 231\n",
      "L= 233\n",
      "L= 235\n",
      "L= 237\n",
      "L= 239\n",
      "L= 241\n",
      "L= 243\n",
      "L= 245\n",
      "L= 247\n",
      "L= 249\n"
     ]
    }
   ],
   "source": [
    "tests=50\n",
    "S_all_2=[]\n",
    "L_max=251\n",
    "for L in range(73,L_max,2):\n",
    "    print(\"L=\",L)\n",
    "    S_aux=[]\n",
    "    for i in range(tests):\n",
    "        F_plus,F_minous=Get_Bands_Matrix(N_size=N_size,Ground=False)\n",
    "        New_cov_matrix=Covariance_matrix_from_sub_sample(F_plus,F_minous,L)\n",
    "        S=np.linalg.svd(New_cov_matrix,full_matrices=False,compute_uv=False)\n",
    "        S_aux.append(S)\n",
    "    #print(np.array(S_aux))\n",
    "    #print(np.mean(np.array(S_aux),axis=0))\n",
    "    S_all_2.append(np.mean(S_aux,axis=0))"
   ]
  },
  {
   "cell_type": "code",
   "execution_count": 3,
   "metadata": {
    "ExecuteTime": {
     "end_time": "2019-10-12T00:19:40.736546Z",
     "start_time": "2019-10-12T00:19:40.666619Z"
    }
   },
   "outputs": [],
   "source": [
    "with open(\"Singular_values/Singular_values.txt\",\"a\") as f:\n",
    "    for i in range(len(S_all_2)):\n",
    "        for j in range(len(S_all_2[i])):   \n",
    "            if j == len(S_all_2[i]) -1 :\n",
    "                f.write(str(S_all_2[i][j])+\"\\n\")\n",
    "            else:\n",
    "                f.write(str(S_all_2[i][j])+\",\")\n",
    "    f.close()"
   ]
  },
  {
   "cell_type": "code",
   "execution_count": 4,
   "metadata": {
    "ExecuteTime": {
     "end_time": "2019-10-12T00:19:43.752968Z",
     "start_time": "2019-10-12T00:19:43.732396Z"
    }
   },
   "outputs": [],
   "source": [
    "with open(\"Singular_values/Singular_values.txt\",\"r\") as f:\n",
    "    Singular_values_read=[]\n",
    "    for i in f.readlines():\n",
    "        Singular_values_read.append((np.array(i[:-1].split(\",\"),dtype=np.float)))"
   ]
  },
  {
   "cell_type": "code",
   "execution_count": 5,
   "metadata": {
    "ExecuteTime": {
     "end_time": "2019-10-12T00:20:09.939533Z",
     "start_time": "2019-10-12T00:20:09.524850Z"
    }
   },
   "outputs": [
    {
     "data": {
      "image/png": "[encoded data removed]",
      "text/plain": [
       "<Figure size 432x288 with 1 Axes>"
      ]
     },
     "metadata": {
      "needs_background": "light"
     },
     "output_type": "display_data"
    }
   ],
   "source": [
    "for i in Singular_values_read:\n",
    "    plt.plot(i)\n",
    "plt.show()"
   ]
  },
  {
   "cell_type": "code",
   "execution_count": null,
   "metadata": {
    "ExecuteTime": {
     "end_time": "2019-10-11T15:51:18.568107Z",
     "start_time": "2019-10-11T15:51:18.563118Z"
    }
   },
   "outputs": [],
   "source": [
    "plt.imshow(expm((O_1@np.diag(x)@O_2)).real,cmap=\"RdBu\")\n",
    "    #plt.colorbar()\n",
    "    plt.show()\n",
    "    time.sleep(0.5)"
   ]
  },
  {
   "cell_type": "code",
   "execution_count": null,
   "metadata": {
    "ExecuteTime": {
     "end_time": "2019-10-11T15:28:27.233324Z",
     "start_time": "2019-10-11T15:28:27.228338Z"
    }
   },
   "outputs": [],
   "source": []
  },
  {
   "cell_type": "code",
   "execution_count": null,
   "metadata": {},
   "outputs": [],
   "source": []
  },
  {
   "cell_type": "code",
   "execution_count": null,
   "metadata": {},
   "outputs": [],
   "source": []
  },
  {
   "cell_type": "code",
   "execution_count": null,
   "metadata": {
    "ExecuteTime": {
     "end_time": "2019-10-11T14:58:20.166559Z",
     "start_time": "2019-10-11T14:58:20.157612Z"
    }
   },
   "outputs": [],
   "source": []
  },
  {
   "cell_type": "code",
   "execution_count": null,
   "metadata": {
    "ExecuteTime": {
     "end_time": "2019-10-11T15:04:00.295026Z",
     "start_time": "2019-10-11T15:04:00.288083Z"
    }
   },
   "outputs": [],
   "source": []
  },
  {
   "cell_type": "code",
   "execution_count": null,
   "metadata": {
    "ExecuteTime": {
     "end_time": "2019-10-11T15:08:41.820516Z",
     "start_time": "2019-10-11T15:08:41.816532Z"
    }
   },
   "outputs": [],
   "source": []
  },
  {
   "cell_type": "code",
   "execution_count": null,
   "metadata": {},
   "outputs": [],
   "source": [
    "\n",
    "    "
   ]
  },
  {
   "cell_type": "code",
   "execution_count": null,
   "metadata": {
    "ExecuteTime": {
     "end_time": "2019-10-11T15:15:45.170381Z",
     "start_time": "2019-10-11T15:15:45.046668Z"
    }
   },
   "outputs": [],
   "source": []
  },
  {
   "cell_type": "code",
   "execution_count": null,
   "metadata": {
    "ExecuteTime": {
     "end_time": "2019-10-11T14:38:09.255649Z",
     "start_time": "2019-10-11T14:38:09.250649Z"
    }
   },
   "outputs": [],
   "source": []
  },
  {
   "cell_type": "code",
   "execution_count": null,
   "metadata": {},
   "outputs": [],
   "source": []
  }
 ],
 "metadata": {
  "kernelspec": {
   "display_name": "Python 3",
   "language": "python",
   "name": "python3"
  },
  "language_info": {
   "codemirror_mode": {
    "name": "ipython",
    "version": 3
   },
   "file_extension": ".py",
   "mimetype": "text/x-python",
   "name": "python",
   "nbconvert_exporter": "python",
   "pygments_lexer": "ipython3",
   "version": "3.7.4"
  },
  "nbTranslate": {
   "displayLangs": [
    "*"
   ],
   "hotkey": "alt-t",
   "langInMainMenu": true,
   "sourceLang": "en",
   "targetLang": "fr",
   "useGoogleTranslate": true
  },
  "toc": {
   "base_numbering": 1,
   "nav_menu": {},
   "number_sections": true,
   "sideBar": true,
   "skip_h1_title": false,
   "title_cell": "Table of Contents",
   "title_sidebar": "Contents",
   "toc_cell": false,
   "toc_position": {},
   "toc_section_display": true,
   "toc_window_display": false
  },
  "varInspector": {
   "cols": {
    "lenName": 16,
    "lenType": 16,
    "lenVar": 40
   },
   "kernels_config": {
    "python": {
     "delete_cmd_postfix": "",
     "delete_cmd_prefix": "del ",
     "library": "var_list.py",
     "varRefreshCmd": "print(var_dic_list())"
    },
    "r": {
     "delete_cmd_postfix": ") ",
     "delete_cmd_prefix": "rm(",
     "library": "var_list.r",
     "varRefreshCmd": "cat(var_dic_list()) "
    }
   },
   "types_to_exclude": [
    "module",
    "function",
    "builtin_function_or_method",
    "instance",
    "_Feature"
   ],
   "window_display": false
  }
 },
 "nbformat": 4,
 "nbformat_minor": 2
}
