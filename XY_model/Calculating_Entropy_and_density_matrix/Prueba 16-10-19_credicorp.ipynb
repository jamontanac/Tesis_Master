{
 "cells": [
  {
   "cell_type": "code",
   "execution_count": 1,
   "metadata": {
    "ExecuteTime": {
     "end_time": "2019-10-17T00:03:37.628804Z",
     "start_time": "2019-10-17T00:03:36.804263Z"
    }
   },
   "outputs": [
    {
     "data": {
      "text/html": [
       "\n",
       "<style>\n",
       ".output {\n",
       "    display: flex;\n",
       "    align-items: left;\n",
       "    text-align: center;\n",
       "}\n",
       "</style>\n"
      ],
      "text/plain": [
       "<IPython.core.display.HTML object>"
      ]
     },
     "metadata": {},
     "output_type": "display_data"
    }
   ],
   "source": [
    "import numpy as np\n",
    "import matplotlib.pylab as plt\n",
    "import pandas as pd\n",
    "from ipywidgets import interactive\n",
    "from scipy.fftpack import fft, ifft,ifftshift,fftshift\n",
    "from IPython.display import display, HTML\n",
    "from scipy.linalg import circulant\n",
    "from scipy.linalg import toeplitz, hankel\n",
    "from IPython.display import clear_output\n",
    "from scipy.linalg import expm\n",
    "\n",
    "\n",
    "#### --------- Definition of variables ------------------------\n",
    "\n",
    "N_size=200001 #\n",
    "Gamma=0.5\n",
    "Lambda=0.5\n",
    "\n",
    "#### ------------------------------------------------------------\n",
    "\n",
    "display(HTML(\"\"\"\n",
    "<style>\n",
    ".output {\n",
    "    display: flex;\n",
    "    align-items: left;\n",
    "    text-align: center;\n",
    "}\n",
    "</style>\n",
    "\"\"\"))\n",
    "\n",
    "def Alpha(Gamma,Lambda,theta):\n",
    "    return Lambda+np.cos(theta)\n",
    "def Beta(Gamma,Lambda,theta):\n",
    "    return Gamma*np.sin(theta)\n",
    "def Omega(Gamma,Lambda,theta):\n",
    "    return np.sqrt(Alpha(Gamma,Lambda,theta)**2 + Beta(Gamma,Lambda,theta)**2 )\n",
    "def Phi(Gamma,Lambda,theta):\n",
    "    return np.arctan2(Beta(Gamma,Lambda,theta),Alpha(Gamma,Lambda,theta))\n",
    "\n",
    "\n",
    "\n",
    "\n",
    "def Fermi_dirac(beta,mu,n,Gamma=Gamma,Lambda=Lambda,N=N_size):\n",
    "    # beta is the inverse thermic energy associated in the system (beta)\n",
    "    # mu corresponds to the chemical potential\n",
    "    # n is the position of the particle\n",
    "    # f=np.exp(T*(Omega(Gamma,Lambda,2.0*(np.pi/N)*n)-mu)) +1\n",
    "    # N corresponds to the size of the system\n",
    "    f=np.exp(beta*(Omega(Gamma,Lambda,((2.*np.pi)/float(N)) * n)-mu)) +1\n",
    "    return 1/f\n",
    "\n",
    "def plot_interactive(beta,mu):\n",
    "    plt.figure(figsize=(10,7))\n",
    "    n=np.arange(-(N_size-1)/2,(N_size-1)/2+ 1)\n",
    "    plt.subplot(2,1,1)\n",
    "    plt.plot(n,Fermi_dirac(beta,mu,n))\n",
    "    #plt.ylim(-0.05,1.05)\n",
    "    plt.xlabel(\"Position\")\n",
    "    plt.ylabel(\"Probability\")\n",
    "    plt.subplot(2,1,2)\n",
    "    plt.plot(n,Omega(Gamma,Lambda,(2.*np.pi)/float(N_size)*n),label=r\"$\\Omega$\")\n",
    "    plt.show()\n",
    "\n",
    "    \n",
    "def Binary_entropy(x):\n",
    "    result=[]\n",
    "    for i in x:\n",
    "        if np.abs(i-1)<10E-10:\n",
    "            result.append(0)\n",
    "        else:\n",
    "            result.append(-i*np.log(i)-(1-i)*np.log(1-i))\n",
    "    return np.array(result)\n",
    "\n",
    "def Get_Bands_Matrix(Gamma=Gamma,Lambda=Lambda,N_size=N_size,beta=0.40824,mu=0,Ground =False):\n",
    "    if Ground:\n",
    "        x=np.arange(0,(N_size-1)/2+ 1)\n",
    "        m_cos=[-0.5 for i in x]\n",
    "        m_sin=[-0.5 for i in x]\n",
    "        \n",
    "        x=np.arange(-(N_size-1)/2,(N_size-1)/2+1)\n",
    "\n",
    "        M_minous=[((m_cos[np.abs(int(i))]-m_sin[np.abs(int(i))])*0.5*np.exp(1.j*np.sign((2.0*np.pi/N_size) * i)*Phi(Gamma,Lambda,np.abs((2.0*np.pi/N_size) * i)))) for i in x]\n",
    "        M_plus = [((m_cos[np.abs(int(i))]+m_sin[np.abs(int(i))])*0.5*np.exp(1.j*np.sign((2.0*np.pi/N_size) * i)*Phi(Gamma,Lambda,np.abs((2.0*np.pi/N_size) * i)))) for i in x]\n",
    "        Mminousband=np.array(M_minous)\n",
    "        Mplusband=np.array(M_plus)\n",
    "        #m_cos=np.array(m_cos[1:][::-1]+m_cos)\n",
    "        #m_sin=np.array(m_sin[1:][::-1]+m_sin)\n",
    "        #M_plus=(m_cos+m_sin)*0.5\n",
    "        #M_minous=(m_cos-m_sin)*0.5\n",
    "        #x=np.arange(-(N_size-1)/2,(N_size-1)/2+1)\n",
    "        #Mplusband=[np.exp(1.j*np.sign((2.0*np.pi/N_size) * i)*Phi(Gamma,Lambda,np.abs((2.0*np.pi/N_size) * i))) for i in x]\n",
    "        #Mplusband=M_plus*np.array(Mplusband)\n",
    "        #Mminousband=[np.exp(1.j*np.sign((2.0*np.pi/N_size) * i)*Phi(Gamma,Lambda,np.abs((2.0*np.pi/N_size) * i))) for i in x]\n",
    "        #Mminousband=M_minous*np.array(Mminousband)\n",
    "        \n",
    "    else:\n",
    "        x=np.arange(0,(N_size-1)/2+ 1)\n",
    "        m_cos=[-0.5 if np.random.random()>Fermi_dirac(beta,mu,n=i) else 0.5 for i in x]\n",
    "        m_sin=[-0.5 if np.random.random()>Fermi_dirac(beta,mu,n=i) else 0.5 for i in x]\n",
    "        x=np.arange(-(N_size-1)/2,(N_size-1)/2+1)\n",
    "\n",
    "        M_minous=[((m_cos[np.abs(int(i))]-m_sin[np.abs(int(i))])*0.5*np.exp(1.j*np.sign((2.0*np.pi/N_size) * i)*Phi(Gamma,Lambda,np.abs((2.0*np.pi/N_size) * i)))) for i in x]\n",
    "        M_plus = [((m_cos[np.abs(int(i))]+m_sin[np.abs(int(i))])*0.5*np.exp(1.j*np.sign((2.0*np.pi/N_size) * i)*Phi(Gamma,Lambda,np.abs((2.0*np.pi/N_size) * i)))) for i in x]\n",
    "        Mminousband=np.array(M_minous)\n",
    "        Mplusband=np.array(M_plus)\n",
    "        \n",
    "        #m_cos=np.array(m_cos[1:][::-1]+m_cos)\n",
    "        #m_sin=np.array(m_sin[1:][::-1]+m_sin)\n",
    "        #M_plus=(m_cos+m_sin)*0.5\n",
    "        #M_minous=(m_cos-m_sin)*0.5\n",
    "        #x=np.arange(-(N_size-1)/2,(N_size-1)/2+1)\n",
    "        #Mplusband=[np.exp(1.j*np.sign((2.0*np.pi/N_size) * i)*Phi(Gamma,Lambda,np.abs((2.0*np.pi/N_size) * i))) for i in x]\n",
    "        #Mplusband=M_plus*np.array(Mplusband)\n",
    "        #Mminousband=[np.exp(1.j*np.sign((2.0*np.pi/N_size) * i)*Phi(Gamma,Lambda,np.abs((2.0*np.pi/N_size) * i))) for i in x]\n",
    "        #Mminousband=M_minous*np.array(Mminousband)\n",
    "        \n",
    "    x=np.arange(-(N_size-1)/2,(N_size-1)/2+ 1)\n",
    "    Fourier_plus=fft(ifftshift(Mplusband))\n",
    "    Fourier_minous=fft(ifftshift(Mminousband))\n",
    "    return Fourier_plus/N_size,Fourier_minous/N_size\n",
    "\n",
    "def Toeplitz_matrix(Fourier_plus,L):\n",
    "    First_column = Fourier_plus[:L]\n",
    "    First_row = np.roll(Fourier_plus,-1)[::-1][:L]\n",
    "    #First_column=np.roll(Fourier_plus,-1)[::-1][:L]\n",
    "    #First_row = Fourier_plus[:L]\n",
    "    return toeplitz(First_column,First_row)\n",
    "def Hankel_matrix(Fourier_minous,L):\n",
    "    to_use=Fourier_minous[:2*L-1]\n",
    "    First_column=to_use[:L]\n",
    "    Last_row=np.roll(to_use,-L+1)[:L]\n",
    "    #np.roll(Fourier_minous,L-1)[::-1][:L]\n",
    "    return hankel(First_column,Last_row)\n",
    "\n",
    "def Covariance_matrix(L,Gamma=Gamma,Lambda=Lambda,beta=0.40824,mu=0,N_size=N_size,Ground=False):\n",
    "    if Ground:\n",
    "        Fourier_plus,Fourier_minous=Get_Bands_Matrix(Gamma=Gamma,Lambda=Lambda,N_size=N_size,beta=beta,mu=mu,Ground=True)\n",
    "    else:\n",
    "        Fourier_plus,Fourier_minous=Get_Bands_Matrix(Gamma=Gamma,Lambda=Lambda,N_size=N_size,beta=beta,mu=mu,Ground=False)\n",
    "    return (Toeplitz_matrix(Fourier_plus,L)+Hankel_matrix(Fourier_minous,L))/N_size\n",
    "\n",
    "def Covariance_matrix_from_sub_sample(Fourier_plus,Fourier_minous,L):\n",
    "    return (Toeplitz_matrix(Fourier_plus,L)+Hankel_matrix(Fourier_minous,L))"
   ]
  },
  {
   "cell_type": "code",
   "execution_count": 7,
   "metadata": {
    "ExecuteTime": {
     "end_time": "2019-10-16T23:11:50.194621Z",
     "start_time": "2019-10-16T23:11:48.308268Z"
    }
   },
   "outputs": [
    {
     "data": {
      "text/plain": [
       "<matplotlib.legend.Legend at 0x116db2950>"
      ]
     },
     "execution_count": 7,
     "metadata": {},
     "output_type": "execute_result"
    },
    {
     "data": {
      "image/png": "[encoded data removed]",
      "text/plain": [
       "<Figure size 432x288 with 1 Axes>"
      ]
     },
     "metadata": {
      "needs_background": "light"
     },
     "output_type": "display_data"
    }
   ],
   "source": [
    "L=31\n",
    "beta=0.40824\n",
    "mu=0\n",
    "a,b=Get_Bands_Matrix(Ground=False,N_size=N_size)\n",
    "New_cov_matrix=Covariance_matrix_from_sub_sample(a,b,L)\n",
    "S=np.linalg.svd(New_cov_matrix,compute_uv=False)\n",
    "S=-S+0.5\n",
    "plt.plot(sorted(S,reverse=True),label=\"Singular values\")\n",
    "n=np.arange(-(L-1)/2,(L-1)/2+ 1)\n",
    "to_plot=sorted(Fermi_dirac(beta,mu,n,N=L),reverse=True)\n",
    "plt.plot(to_plot,label=\"Fermi\")\n",
    "plt.legend()"
   ]
  },
  {
   "cell_type": "code",
   "execution_count": null,
   "metadata": {
    "ExecuteTime": {
     "end_time": "2019-10-16T15:42:14.741426Z",
     "start_time": "2019-10-16T15:42:05.980971Z"
    }
   },
   "outputs": [],
   "source": []
  },
  {
   "cell_type": "code",
   "execution_count": 8,
   "metadata": {
    "ExecuteTime": {
     "end_time": "2019-10-16T23:12:00.651441Z",
     "start_time": "2019-10-16T23:11:53.986288Z"
    }
   },
   "outputs": [
    {
     "data": {
      "image/png": "[encoded data removed]",
      "text/plain": [
       "<Figure size 432x288 with 1 Axes>"
      ]
     },
     "metadata": {
      "needs_background": "light"
     },
     "output_type": "display_data"
    }
   ],
   "source": [
    "for L in range(7,151,3):\n",
    "    clear_output(wait=True)\n",
    "    New_cov_matrix=Covariance_matrix_from_sub_sample(a,b,L)\n",
    "    S=np.linalg.svd(New_cov_matrix,compute_uv=False)\n",
    "    S=-S+0.5\n",
    "    plt.plot(sorted(S,reverse=True),label=\"Singular values\")\n",
    "    n=np.arange(-(L-1)/2,(L-1)/2+ 1)\n",
    "    to_plot=sorted(Fermi_dirac(beta,mu,n,N=L),reverse=True)\n",
    "    plt.plot(to_plot,label=\"Fermi\")\n",
    "    plt.legend()\n",
    "    plt.show()"
   ]
  },
  {
   "cell_type": "code",
   "execution_count": null,
   "metadata": {
    "ExecuteTime": {
     "end_time": "2019-10-16T15:38:55.957468Z",
     "start_time": "2019-10-16T15:35:02.357039Z"
    }
   },
   "outputs": [],
   "source": []
  },
  {
   "cell_type": "code",
   "execution_count": null,
   "metadata": {
    "ExecuteTime": {
     "end_time": "2019-10-16T15:40:56.990423Z",
     "start_time": "2019-10-16T15:40:56.966489Z"
    }
   },
   "outputs": [],
   "source": []
  },
  {
   "cell_type": "code",
   "execution_count": 2,
   "metadata": {
    "ExecuteTime": {
     "end_time": "2019-10-17T00:03:56.547408Z",
     "start_time": "2019-10-17T00:03:50.112720Z"
    }
   },
   "outputs": [],
   "source": [
    "a,b=Get_Bands_Matrix(Ground=False,N_size=N_size)"
   ]
  },
  {
   "cell_type": "code",
   "execution_count": 6,
   "metadata": {
    "ExecuteTime": {
     "end_time": "2019-10-17T00:07:04.634167Z",
     "start_time": "2019-10-17T00:07:04.620223Z"
    }
   },
   "outputs": [],
   "source": [
    "L=91\n",
    "New_cov_matrix=Covariance_matrix_from_sub_sample(a,b,L)\n",
    "A,S,B=np.linalg.svd(New_cov_matrix)\n",
    "O_1,S,O_2=np.linalg.svd(New_cov_matrix)\n",
    "S=-S+0.5\n",
    "x=np.log((1-S)/(S))"
   ]
  },
  {
   "cell_type": "code",
   "execution_count": 7,
   "metadata": {
    "ExecuteTime": {
     "end_time": "2019-10-17T00:07:05.158549Z",
     "start_time": "2019-10-17T00:07:04.933189Z"
    }
   },
   "outputs": [
    {
     "data": {
      "text/plain": [
       "<matplotlib.colorbar.Colorbar at 0x113edee10>"
      ]
     },
     "execution_count": 7,
     "metadata": {},
     "output_type": "execute_result"
    },
    {
     "data": {
      "image/png": "[encoded data removed]",
      "text/plain": [
       "<Figure size 432x288 with 2 Axes>"
      ]
     },
     "metadata": {
      "needs_background": "light"
     },
     "output_type": "display_data"
    }
   ],
   "source": [
    "beta=0.40824\n",
    "M=(-(O_1@np.diag(x)/beta@O_2).real)\n",
    "plt.imshow(M,cmap=\"RdBu_r\")\n",
    "plt.colorbar()"
   ]
  },
  {
   "cell_type": "code",
   "execution_count": 8,
   "metadata": {
    "ExecuteTime": {
     "end_time": "2019-10-17T00:07:13.005440Z",
     "start_time": "2019-10-17T00:07:12.995387Z"
    }
   },
   "outputs": [],
   "source": [
    "lower_band=np.array([[M[i,j] for i in range(1,L) if i-j == 1] for j in range(L-1)]).reshape(L-1)\n",
    "upper_band=np.array([[M[i,j] for i in range(L) if i-j == -1] for j in range(1,L)]).reshape(L-1)\n",
    "diag=M.diagonal()\n",
    "a_0=Lambda\n",
    "a_1=0.5*(1-Gamma)\n",
    "a_2=0.5*(1+Gamma)"
   ]
  },
  {
   "cell_type": "code",
   "execution_count": 9,
   "metadata": {
    "ExecuteTime": {
     "end_time": "2019-10-17T00:07:13.971821Z",
     "start_time": "2019-10-17T00:07:13.965269Z"
    }
   },
   "outputs": [
    {
     "data": {
      "text/plain": [
       "array([0.73411578, 0.73115333, 0.72413125, 0.72968639, 0.73984843,\n",
       "       0.72540972, 0.73142042, 0.73536819, 0.73423156, 0.71271937,\n",
       "       0.73835483, 0.72873385, 0.74391743, 0.72682508, 0.73718718,\n",
       "       0.72489874, 0.73193437, 0.73244613, 0.74192296, 0.73044346,\n",
       "       0.72956163, 0.73500281, 0.72084696, 0.7246217 , 0.7358487 ,\n",
       "       0.74123651, 0.72916188, 0.73434071, 0.73344671, 0.72218129,\n",
       "       0.74000674, 0.720016  , 0.74316787, 0.72967161, 0.72982171,\n",
       "       0.71998849, 0.73142602, 0.73354076, 0.72916089, 0.73677802,\n",
       "       0.72454723, 0.73366858, 0.72511845, 0.73899181, 0.73249342,\n",
       "       0.72634978, 0.73709389, 0.7227412 , 0.73620695, 0.73875477,\n",
       "       0.73307711, 0.73610623, 0.73158975, 0.73245516, 0.7335204 ,\n",
       "       0.72468763, 0.72392912, 0.74691033, 0.72476439, 0.73011753,\n",
       "       0.73440379, 0.74189955, 0.73166096, 0.72831922, 0.72427244,\n",
       "       0.74358782, 0.71842641, 0.72140822, 0.72811968, 0.72755215,\n",
       "       0.74059404, 0.73506557, 0.7128174 , 0.72692044, 0.73794846,\n",
       "       0.73684993, 0.72569585, 0.7364497 , 0.72686493, 0.73474356,\n",
       "       0.73975978, 0.7314129 , 0.73379576, 0.73676763, 0.73193203,\n",
       "       0.73195473, 0.73423303, 0.73524206, 0.72116116, 0.72662564])"
      ]
     },
     "execution_count": 9,
     "metadata": {},
     "output_type": "execute_result"
    }
   ],
   "source": [
    "lower_band"
   ]
  },
  {
   "cell_type": "code",
   "execution_count": 10,
   "metadata": {
    "ExecuteTime": {
     "end_time": "2019-10-17T00:07:16.982969Z",
     "start_time": "2019-10-17T00:07:16.977416Z"
    }
   },
   "outputs": [
    {
     "data": {
      "text/plain": [
       "array([0.2511854 , 0.24935499, 0.24235351, 0.24790755, 0.25807077,\n",
       "       0.24362924, 0.24963987, 0.25358571, 0.25244825, 0.2309382 ,\n",
       "       0.25658289, 0.24695957, 0.2621428 , 0.24504333, 0.25540576,\n",
       "       0.24311813, 0.2501548 , 0.25066575, 0.26014739, 0.24867697,\n",
       "       0.24780541, 0.25324257, 0.23907599, 0.24285448, 0.25407909,\n",
       "       0.25946526, 0.24739018, 0.2525719 , 0.25166785, 0.24040687,\n",
       "       0.25823053, 0.2382403 , 0.26138935, 0.24789143, 0.24804079,\n",
       "       0.23820573, 0.24964128, 0.25175728, 0.2473783 , 0.25498725,\n",
       "       0.24276003, 0.25186745, 0.24332678, 0.25720405, 0.25070668,\n",
       "       0.24456345, 0.25530839, 0.24095299, 0.25440637, 0.25695726,\n",
       "       0.25127702, 0.25430694, 0.24978914, 0.25065821, 0.25172595,\n",
       "       0.24288112, 0.24212695, 0.2651075 , 0.24296262, 0.24831748,\n",
       "       0.25260827, 0.26010346, 0.24986683, 0.24653117, 0.24248065,\n",
       "       0.26179367, 0.23663766, 0.23961034, 0.24632824, 0.24575745,\n",
       "       0.25879799, 0.25326873, 0.23101818, 0.24511939, 0.25614607,\n",
       "       0.25504558, 0.24389177, 0.25464865, 0.24506669, 0.25294695,\n",
       "       0.25795799, 0.24961603, 0.25200353, 0.25497166, 0.25013995,\n",
       "       0.2501635 , 0.2524377 , 0.2534457 , 0.23934919, 0.24381083])"
      ]
     },
     "execution_count": 10,
     "metadata": {},
     "output_type": "execute_result"
    }
   ],
   "source": [
    "upper_band"
   ]
  },
  {
   "cell_type": "code",
   "execution_count": 11,
   "metadata": {
    "ExecuteTime": {
     "end_time": "2019-10-17T00:07:19.097883Z",
     "start_time": "2019-10-17T00:07:19.091358Z"
    }
   },
   "outputs": [
    {
     "data": {
      "text/plain": [
       "array([0.51097766, 0.51370234, 0.51925467, 0.51307146, 0.50294195,\n",
       "       0.5225095 , 0.51481736, 0.51564082, 0.50652794, 0.52442822,\n",
       "       0.50518006, 0.49246672, 0.50784676, 0.5164857 , 0.52042185,\n",
       "       0.51508168, 0.51120773, 0.50643254, 0.50951222, 0.5069545 ,\n",
       "       0.50613336, 0.50932178, 0.51502849, 0.5062239 , 0.50905121,\n",
       "       0.50790685, 0.49697148, 0.50101866, 0.50684185, 0.50809484,\n",
       "       0.50677306, 0.50010734, 0.50653844, 0.50267734, 0.50346709,\n",
       "       0.49747301, 0.50903391, 0.50451671, 0.49645784, 0.51717847,\n",
       "       0.50361895, 0.49716093, 0.4934475 , 0.5119464 , 0.49884571,\n",
       "       0.49081877, 0.51881057, 0.50622917, 0.51363911, 0.51400609,\n",
       "       0.51233244, 0.50293411, 0.51644555, 0.49826694, 0.51157021,\n",
       "       0.51085827, 0.49251358, 0.5251256 , 0.50903014, 0.52884135,\n",
       "       0.50964058, 0.51015015, 0.50854054, 0.49469345, 0.51559497,\n",
       "       0.51337267, 0.51864678, 0.50313733, 0.51326722, 0.51457043,\n",
       "       0.49960571, 0.49729957, 0.49661722, 0.49719046, 0.4961389 ,\n",
       "       0.49373834, 0.50621045, 0.51395209, 0.50434947, 0.50009252,\n",
       "       0.51284098, 0.52530276, 0.50400538, 0.51281062, 0.50646447,\n",
       "       0.51252773, 0.51117377, 0.51204551, 0.52833074, 0.51629198,\n",
       "       0.49417498])"
      ]
     },
     "execution_count": 11,
     "metadata": {},
     "output_type": "execute_result"
    }
   ],
   "source": [
    "diag"
   ]
  },
  {
   "cell_type": "code",
   "execution_count": 13,
   "metadata": {
    "ExecuteTime": {
     "end_time": "2019-10-16T23:12:43.829432Z",
     "start_time": "2019-10-16T23:12:43.823794Z"
    }
   },
   "outputs": [],
   "source": [
    "A=np.zeros((L,L))\n",
    "for i in range(L):\n",
    "    for j in range(L):\n",
    "        if i==j:\n",
    "            A[i,j] = a_0\n",
    "        elif (i-j) % L == 1:\n",
    "            A[i,j] = a_2\n",
    "        elif (j-i) % L == 1:\n",
    "            A[i,j] = a_1"
   ]
  },
  {
   "cell_type": "code",
   "execution_count": 15,
   "metadata": {
    "ExecuteTime": {
     "end_time": "2019-10-16T23:13:06.726737Z",
     "start_time": "2019-10-16T23:13:06.562081Z"
    }
   },
   "outputs": [
    {
     "data": {
      "text/plain": [
       "<matplotlib.image.AxesImage at 0x116d3df50>"
      ]
     },
     "execution_count": 15,
     "metadata": {},
     "output_type": "execute_result"
    },
    {
     "data": {
      "image/png": "[encoded data removed]",
      "text/plain": [
       "<Figure size 432x288 with 1 Axes>"
      ]
     },
     "metadata": {
      "needs_background": "light"
     },
     "output_type": "display_data"
    }
   ],
   "source": [
    "plt.imshow(A-M)"
   ]
  },
  {
   "cell_type": "code",
   "execution_count": null,
   "metadata": {
    "ExecuteTime": {
     "end_time": "2019-10-16T23:27:46.283261Z",
     "start_time": "2019-10-16T23:27:46.279270Z"
    }
   },
   "outputs": [],
   "source": []
  },
  {
   "cell_type": "code",
   "execution_count": null,
   "metadata": {
    "ExecuteTime": {
     "end_time": "2019-10-16T23:45:02.454867Z",
     "start_time": "2019-10-16T23:45:02.449485Z"
    }
   },
   "outputs": [],
   "source": []
  },
  {
   "cell_type": "code",
   "execution_count": 9,
   "metadata": {
    "ExecuteTime": {
     "end_time": "2019-10-16T16:01:15.487666Z",
     "start_time": "2019-10-16T16:01:15.167004Z"
    }
   },
   "outputs": [
    {
     "data": {
      "image/png": "[encoded data removed]",
      "text/plain": [
       "<Figure size 1080x360 with 4 Axes>"
      ]
     },
     "metadata": {
      "needs_background": "light"
     },
     "output_type": "display_data"
    }
   ],
   "source": [
    "plt.figure(figsize=(15,5))\n",
    "plt.subplot(1,2,1)\n",
    "plt.imshow(A)\n",
    "plt.colorbar()\n",
    "plt.title(\"Hamiltonian\")\n",
    "plt.subplot(1,2,2)\n",
    "plt.title(\"X matrix\")\n",
    "M=(-(O_1@np.diag(x)/beta@O_2).real)\n",
    "plt.imshow(M)\n",
    "plt.colorbar()\n",
    "plt.show()"
   ]
  },
  {
   "cell_type": "markdown",
   "metadata": {},
   "source": [
    "# Test to make averages and see that the density matrix is approximating to the Hamiltonian"
   ]
  },
  {
   "cell_type": "code",
   "execution_count": 59,
   "metadata": {
    "ExecuteTime": {
     "end_time": "2019-10-16T16:51:40.005564Z",
     "start_time": "2019-10-16T16:37:57.371481Z"
    },
    "scrolled": true
   },
   "outputs": [
    {
     "name": "stdout",
     "output_type": "stream",
     "text": [
      "Test number 0\n",
      "Test number 1\n",
      "Test number 2\n",
      "Test number 3\n",
      "Test number 4\n",
      "Test number 5\n",
      "Test number 6\n",
      "Test number 7\n",
      "Test number 8\n",
      "Test number 9\n",
      "Test number 10\n",
      "Test number 11\n",
      "Test number 12\n",
      "Test number 13\n",
      "Test number 14\n",
      "Test number 15\n",
      "Test number 16\n",
      "Test number 17\n",
      "Test number 18\n",
      "Test number 19\n",
      "Test number 20\n",
      "Test number 21\n",
      "Test number 22\n",
      "Test number 23\n",
      "Test number 24\n",
      "Test number 25\n",
      "Test number 26\n",
      "Test number 27\n",
      "Test number 28\n",
      "Test number 29\n",
      "Test number 30\n",
      "Test number 31\n",
      "Test number 32\n",
      "Test number 33\n",
      "Test number 34\n",
      "Test number 35\n",
      "Test number 36\n",
      "Test number 37\n",
      "Test number 38\n",
      "Test number 39\n",
      "Test number 40\n",
      "Test number 41\n",
      "Test number 42\n",
      "Test number 43\n",
      "Test number 44\n",
      "Test number 45\n",
      "Test number 46\n",
      "Test number 47\n",
      "Test number 48\n",
      "Test number 49\n",
      "Test number 50\n",
      "Test number 51\n",
      "Test number 52\n",
      "Test number 53\n",
      "Test number 54\n",
      "Test number 55\n",
      "Test number 56\n",
      "Test number 57\n",
      "Test number 58\n",
      "Test number 59\n",
      "Test number 60\n",
      "Test number 61\n",
      "Test number 62\n",
      "Test number 63\n",
      "Test number 64\n",
      "Test number 65\n",
      "Test number 66\n",
      "Test number 67\n",
      "Test number 68\n",
      "Test number 69\n",
      "Test number 70\n",
      "Test number 71\n",
      "Test number 72\n",
      "Test number 73\n",
      "Test number 74\n",
      "Test number 75\n",
      "Test number 76\n",
      "Test number 77\n",
      "Test number 78\n",
      "Test number 79\n",
      "Test number 80\n",
      "Test number 81\n",
      "Test number 82\n",
      "Test number 83\n",
      "Test number 84\n",
      "Test number 85\n",
      "Test number 86\n",
      "Test number 87\n",
      "Test number 88\n",
      "Test number 89\n",
      "Test number 90\n",
      "Test number 91\n",
      "Test number 92\n",
      "Test number 93\n",
      "Test number 94\n",
      "Test number 95\n",
      "Test number 96\n",
      "Test number 97\n",
      "Test number 98\n",
      "Test number 99\n",
      "Test number 100\n",
      "Test number 101\n",
      "Test number 102\n",
      "Test number 103\n",
      "Test number 104\n",
      "Test number 105\n",
      "Test number 106\n",
      "Test number 107\n",
      "Test number 108\n",
      "Test number 109\n",
      "Test number 110\n",
      "Test number 111\n",
      "Test number 112\n",
      "Test number 113\n",
      "Test number 114\n",
      "Test number 115\n",
      "Test number 116\n",
      "Test number 117\n",
      "Test number 118\n",
      "Test number 119\n",
      "Test number 120\n",
      "Test number 121\n",
      "Test number 122\n",
      "Test number 123\n",
      "Test number 124\n",
      "Test number 125\n",
      "Test number 126\n",
      "Test number 127\n",
      "Test number 128\n",
      "Test number 129\n",
      "Test number 130\n",
      "Test number 131\n",
      "Test number 132\n",
      "Test number 133\n",
      "Test number 134\n",
      "Test number 135\n",
      "Test number 136\n",
      "Test number 137\n",
      "Test number 138\n",
      "Test number 139\n",
      "Test number 140\n",
      "Test number 141\n",
      "Test number 142\n",
      "Test number 143\n",
      "Test number 144\n",
      "Test number 145\n",
      "Test number 146\n",
      "Test number 147\n",
      "Test number 148\n",
      "Test number 149\n",
      "Test number 150\n",
      "Test number 151\n",
      "Test number 152\n",
      "Test number 153\n",
      "Test number 154\n",
      "Test number 155\n",
      "Test number 156\n",
      "Test number 157\n",
      "Test number 158\n",
      "Test number 159\n",
      "Test number 160\n",
      "Test number 161\n",
      "Test number 162\n",
      "Test number 163\n",
      "Test number 164\n",
      "Test number 165\n",
      "Test number 166\n",
      "Test number 167\n",
      "Test number 168\n",
      "Test number 169\n",
      "Test number 170\n",
      "Test number 171\n",
      "Test number 172\n",
      "Test number 173\n",
      "Test number 174\n",
      "Test number 175\n",
      "Test number 176\n",
      "Test number 177\n",
      "Test number 178\n",
      "Test number 179\n",
      "Test number 180\n",
      "Test number 181\n",
      "Test number 182\n",
      "Test number 183\n",
      "Test number 184\n",
      "Test number 185\n",
      "Test number 186\n",
      "Test number 187\n",
      "Test number 188\n",
      "Test number 189\n",
      "Test number 190\n",
      "Test number 191\n",
      "Test number 192\n",
      "Test number 193\n",
      "Test number 194\n",
      "Test number 195\n",
      "Test number 196\n",
      "Test number 197\n",
      "Test number 198\n",
      "Test number 199\n",
      "Test number 200\n",
      "Test number 201\n",
      "Test number 202\n",
      "Test number 203\n",
      "Test number 204\n",
      "Test number 205\n",
      "Test number 206\n",
      "Test number 207\n",
      "Test number 208\n",
      "Test number 209\n",
      "Test number 210\n",
      "Test number 211\n",
      "Test number 212\n",
      "Test number 213\n",
      "Test number 214\n",
      "Test number 215\n",
      "Test number 216\n",
      "Test number 217\n",
      "Test number 218\n",
      "Test number 219\n",
      "Test number 220\n",
      "Test number 221\n",
      "Test number 222\n",
      "Test number 223\n",
      "Test number 224\n",
      "Test number 225\n",
      "Test number 226\n",
      "Test number 227\n",
      "Test number 228\n",
      "Test number 229\n",
      "Test number 230\n",
      "Test number 231\n",
      "Test number 232\n",
      "Test number 233\n",
      "Test number 234\n",
      "Test number 235\n",
      "Test number 236\n",
      "Test number 237\n",
      "Test number 238\n",
      "Test number 239\n",
      "Test number 240\n",
      "Test number 241\n",
      "Test number 242\n",
      "Test number 243\n",
      "Test number 244\n",
      "Test number 245\n",
      "Test number 246\n",
      "Test number 247\n",
      "Test number 248\n",
      "Test number 249\n",
      "Test number 250\n",
      "Test number 251\n",
      "Test number 252\n",
      "Test number 253\n",
      "Test number 254\n",
      "Test number 255\n",
      "Test number 256\n",
      "Test number 257\n",
      "Test number 258\n",
      "Test number 259\n",
      "Test number 260\n",
      "Test number 261\n",
      "Test number 262\n",
      "Test number 263\n",
      "Test number 264\n",
      "Test number 265\n",
      "Test number 266\n",
      "Test number 267\n",
      "Test number 268\n",
      "Test number 269\n",
      "Test number 270\n",
      "Test number 271\n",
      "Test number 272\n",
      "Test number 273\n",
      "Test number 274\n",
      "Test number 275\n",
      "Test number 276\n",
      "Test number 277\n",
      "Test number 278\n",
      "Test number 279\n",
      "Test number 280\n",
      "Test number 281\n",
      "Test number 282\n",
      "Test number 283\n",
      "Test number 284\n",
      "Test number 285\n",
      "Test number 286\n",
      "Test number 287\n",
      "Test number 288\n",
      "Test number 289\n",
      "Test number 290\n",
      "Test number 291\n",
      "Test number 292\n",
      "Test number 293\n",
      "Test number 294\n",
      "Test number 295\n",
      "Test number 296\n",
      "Test number 297\n",
      "Test number 298\n",
      "Test number 299\n",
      "Test number 300\n",
      "Test number 301\n",
      "Test number 302\n",
      "Test number 303\n",
      "Test number 304\n",
      "Test number 305\n",
      "Test number 306\n",
      "Test number 307\n",
      "Test number 308\n",
      "Test number 309\n",
      "Test number 310\n",
      "Test number 311\n",
      "Test number 312\n",
      "Test number 313\n",
      "Test number 314\n",
      "Test number 315\n",
      "Test number 316\n",
      "Test number 317\n",
      "Test number 318\n",
      "Test number 319\n",
      "Test number 320\n",
      "Test number 321\n",
      "Test number 322\n",
      "Test number 323\n",
      "Test number 324\n",
      "Test number 325\n",
      "Test number 326\n",
      "Test number 327\n",
      "Test number 328\n",
      "Test number 329\n",
      "Test number 330\n",
      "Test number 331\n",
      "Test number 332\n",
      "Test number 333\n",
      "Test number 334\n",
      "Test number 335\n",
      "Test number 336\n",
      "Test number 337\n",
      "Test number 338\n",
      "Test number 339\n",
      "Test number 340\n",
      "Test number 341\n",
      "Test number 342\n",
      "Test number 343\n",
      "Test number 344\n",
      "Test number 345\n",
      "Test number 346\n",
      "Test number 347\n",
      "Test number 348\n",
      "Test number 349\n",
      "Test number 350\n",
      "Test number 351\n",
      "Test number 352\n",
      "Test number 353\n",
      "Test number 354\n",
      "Test number 355\n",
      "Test number 356\n",
      "Test number 357\n",
      "Test number 358\n",
      "Test number 359\n",
      "Test number 360\n",
      "Test number 361\n",
      "Test number 362\n",
      "Test number 363\n",
      "Test number 364\n",
      "Test number 365\n",
      "Test number 366\n",
      "Test number 367\n",
      "Test number 368\n",
      "Test number 369\n",
      "Test number 370\n",
      "Test number 371\n",
      "Test number 372\n",
      "Test number 373\n",
      "Test number 374\n",
      "Test number 375\n",
      "Test number 376\n",
      "Test number 377\n",
      "Test number 378\n",
      "Test number 379\n",
      "Test number 380\n",
      "Test number 381\n",
      "Test number 382\n",
      "Test number 383\n",
      "Test number 384\n",
      "Test number 385\n",
      "Test number 386\n",
      "Test number 387\n",
      "Test number 388\n",
      "Test number 389\n",
      "Test number 390\n",
      "Test number 391\n",
      "Test number 392\n",
      "Test number 393\n",
      "Test number 394\n",
      "Test number 395\n",
      "Test number 396\n",
      "Test number 397\n",
      "Test number 398\n",
      "Test number 399\n",
      "Test number 400\n",
      "Test number 401\n",
      "Test number 402\n",
      "Test number 403\n",
      "Test number 404\n",
      "Test number 405\n",
      "Test number 406\n",
      "Test number 407\n",
      "Test number 408\n",
      "Test number 409\n",
      "Test number 410\n",
      "Test number 411\n",
      "Test number 412\n",
      "Test number 413\n",
      "Test number 414\n",
      "Test number 415\n",
      "Test number 416\n",
      "Test number 417\n",
      "Test number 418\n",
      "Test number 419\n",
      "Test number 420\n",
      "Test number 421\n",
      "Test number 422\n",
      "Test number 423\n",
      "Test number 424\n",
      "Test number 425\n",
      "Test number 426\n",
      "Test number 427\n",
      "Test number 428\n",
      "Test number 429\n",
      "Test number 430\n",
      "Test number 431\n",
      "Test number 432\n",
      "Test number 433\n",
      "Test number 434\n",
      "Test number 435\n",
      "Test number 436\n",
      "Test number 437\n",
      "Test number 438\n",
      "Test number 439\n",
      "Test number 440\n",
      "Test number 441\n",
      "Test number 442\n",
      "Test number 443\n",
      "Test number 444\n",
      "Test number 445\n",
      "Test number 446\n",
      "Test number 447\n",
      "Test number 448\n",
      "Test number 449\n",
      "Test number 450\n",
      "Test number 451\n",
      "Test number 452\n",
      "Test number 453\n",
      "Test number 454\n",
      "Test number 455\n",
      "Test number 456\n",
      "Test number 457\n",
      "Test number 458\n",
      "Test number 459\n",
      "Test number 460\n",
      "Test number 461\n",
      "Test number 462\n",
      "Test number 463\n",
      "Test number 464\n",
      "Test number 465\n",
      "Test number 466\n",
      "Test number 467\n",
      "Test number 468\n",
      "Test number 469\n",
      "Test number 470\n",
      "Test number 471\n",
      "Test number 472\n",
      "Test number 473\n",
      "Test number 474\n",
      "Test number 475\n",
      "Test number 476\n",
      "Test number 477\n",
      "Test number 478\n",
      "Test number 479\n",
      "Test number 480\n",
      "Test number 481\n",
      "Test number 482\n",
      "Test number 483\n",
      "Test number 484\n",
      "Test number 485\n",
      "Test number 486\n",
      "Test number 487\n",
      "Test number 488\n",
      "Test number 489\n",
      "Test number 490\n",
      "Test number 491\n",
      "Test number 492\n",
      "Test number 493\n",
      "Test number 494\n",
      "Test number 495\n",
      "Test number 496\n",
      "Test number 497\n",
      "Test number 498\n",
      "Test number 499\n"
     ]
    }
   ],
   "source": [
    "tests=500\n",
    "N_size=50001\n",
    "L=31\n",
    "results=np.zeros((tests,2*L-1,2))\n",
    "for test in range(tests):\n",
    "    print(\"Test number {}\".format(test))\n",
    "    a,b=Get_Bands_Matrix(Ground=False,N_size=N_size)\n",
    "    a,b=a.real,b.real\n",
    "    results[test,:,0]=np.append(a[:L],a[-L+1:]) #np.append(a[:L],np.roll(a,-1)[::-1][:L]) # to re do the toeplitz matrix \n",
    "    #take the fisrt [:L] elements as the fisrt columns and the rest [L:] as the fisrt row (teoplitz)\n",
    "    results[test,:,1]=b[:2*L-1] #np.append(to_use_Hankel[:L],np.roll(to_use_Hankel,-L+1)[:L]) # to re do the Hankel matrix \n",
    "    #take the fisrt [:L] elements as the fisrt columns and the rest [L:] as the last row (Hankel)"
   ]
  },
  {
   "cell_type": "code",
   "execution_count": 60,
   "metadata": {
    "ExecuteTime": {
     "end_time": "2019-10-16T17:02:19.598394Z",
     "start_time": "2019-10-16T17:02:19.383955Z"
    }
   },
   "outputs": [
    {
     "data": {
      "image/png": "[encoded data removed]",
      "text/plain": [
       "<Figure size 432x288 with 1 Axes>"
      ]
     },
     "metadata": {
      "needs_background": "light"
     },
     "output_type": "display_data"
    }
   ],
   "source": [
    "plt.plot(results[:,:,0])\n",
    "plt.show()"
   ]
  },
  {
   "cell_type": "code",
   "execution_count": 61,
   "metadata": {
    "ExecuteTime": {
     "end_time": "2019-10-16T17:02:40.286620Z",
     "start_time": "2019-10-16T17:02:40.119592Z"
    }
   },
   "outputs": [
    {
     "data": {
      "text/plain": [
       "[<matplotlib.lines.Line2D at 0x1baa2986710>]"
      ]
     },
     "execution_count": 61,
     "metadata": {},
     "output_type": "execute_result"
    },
    {
     "data": {
      "image/png": "[encoded data removed]",
      "text/plain": [
       "<Figure size 432x288 with 1 Axes>"
      ]
     },
     "metadata": {
      "needs_background": "light"
     },
     "output_type": "display_data"
    }
   ],
   "source": [
    "plt.plot(results[:,:,0].mean(axis=0))"
   ]
  },
  {
   "cell_type": "code",
   "execution_count": null,
   "metadata": {
    "ExecuteTime": {
     "end_time": "2019-10-16T16:30:41.766329Z",
     "start_time": "2019-10-16T16:30:41.760316Z"
    }
   },
   "outputs": [],
   "source": []
  },
  {
   "cell_type": "code",
   "execution_count": 63,
   "metadata": {
    "ExecuteTime": {
     "end_time": "2019-10-16T17:03:15.300395Z",
     "start_time": "2019-10-16T17:03:14.931769Z"
    }
   },
   "outputs": [
    {
     "data": {
      "image/png": "[encoded data removed]",
      "text/plain": [
       "<Figure size 432x288 with 1 Axes>"
      ]
     },
     "metadata": {
      "needs_background": "light"
     },
     "output_type": "display_data"
    }
   ],
   "source": [
    "plt.plot(results[:,:,1])\n",
    "plt.show()"
   ]
  },
  {
   "cell_type": "code",
   "execution_count": 64,
   "metadata": {
    "ExecuteTime": {
     "end_time": "2019-10-16T17:03:16.595890Z",
     "start_time": "2019-10-16T17:03:16.481174Z"
    }
   },
   "outputs": [
    {
     "data": {
      "image/png": "[encoded data removed]",
      "text/plain": [
       "<Figure size 432x288 with 1 Axes>"
      ]
     },
     "metadata": {
      "needs_background": "light"
     },
     "output_type": "display_data"
    }
   ],
   "source": [
    "plt.plot(results[:,:,1].mean(axis=0))\n",
    "plt.show()"
   ]
  },
  {
   "cell_type": "code",
   "execution_count": 65,
   "metadata": {
    "ExecuteTime": {
     "end_time": "2019-10-16T17:03:52.432391Z",
     "start_time": "2019-10-16T17:03:52.427400Z"
    }
   },
   "outputs": [],
   "source": [
    "F_plus=results[:,:,0].mean(axis=0)\n",
    "F_minous=results[:,:,1].mean(axis=0)"
   ]
  },
  {
   "cell_type": "code",
   "execution_count": 107,
   "metadata": {
    "ExecuteTime": {
     "end_time": "2019-10-16T17:21:07.769837Z",
     "start_time": "2019-10-16T17:21:07.763882Z"
    }
   },
   "outputs": [],
   "source": [
    "toeplitz_row=np.roll(F_plus,-1)[::-1][:L]\n",
    "toeplitz_column=F_plus[:L]\n",
    "hankel_column = F_minous[:L]\n",
    "hankel_row = F_minous[L-1:]"
   ]
  },
  {
   "cell_type": "code",
   "execution_count": 111,
   "metadata": {
    "ExecuteTime": {
     "end_time": "2019-10-16T17:22:54.759731Z",
     "start_time": "2019-10-16T17:22:54.756713Z"
    }
   },
   "outputs": [],
   "source": [
    "New_cov_matrix=toeplitz(toeplitz_column,toeplitz_row)+hankel(hankel_column,hankel_row)"
   ]
  },
  {
   "cell_type": "code",
   "execution_count": 112,
   "metadata": {
    "ExecuteTime": {
     "end_time": "2019-10-16T17:22:55.242113Z",
     "start_time": "2019-10-16T17:22:55.234104Z"
    }
   },
   "outputs": [],
   "source": [
    "O_1,S,O_2=np.linalg.svd(New_cov_matrix)\n",
    "S=-S+0.5\n",
    "x=np.log((1-S)/(S))"
   ]
  },
  {
   "cell_type": "code",
   "execution_count": 115,
   "metadata": {
    "ExecuteTime": {
     "end_time": "2019-10-16T17:23:38.638723Z",
     "start_time": "2019-10-16T17:23:38.326193Z"
    }
   },
   "outputs": [
    {
     "data": {
      "image/png": "[encoded data removed]",
      "text/plain": [
       "<Figure size 1080x360 with 4 Axes>"
      ]
     },
     "metadata": {
      "needs_background": "light"
     },
     "output_type": "display_data"
    }
   ],
   "source": [
    "plt.figure(figsize=(15,5))\n",
    "plt.subplot(1,2,1)\n",
    "plt.imshow(A)\n",
    "plt.colorbar()\n",
    "plt.title(\"Hamiltonian\")\n",
    "plt.subplot(1,2,2)\n",
    "plt.title(\"X matrix\")\n",
    "M=(-(O_1@np.diag(x)/beta@O_2).real)\n",
    "plt.imshow(M)\n",
    "plt.colorbar()\n",
    "plt.show()"
   ]
  },
  {
   "cell_type": "markdown",
   "metadata": {
    "ExecuteTime": {
     "end_time": "2019-10-16T17:19:59.189659Z",
     "start_time": "2019-10-16T17:19:59.184672Z"
    }
   },
   "source": [
    "# that didn't work"
   ]
  },
  {
   "cell_type": "code",
   "execution_count": 117,
   "metadata": {
    "ExecuteTime": {
     "end_time": "2019-10-16T17:42:19.227282Z",
     "start_time": "2019-10-16T17:28:43.123936Z"
    }
   },
   "outputs": [
    {
     "name": "stdout",
     "output_type": "stream",
     "text": [
      "Test number 0\n",
      "Test number 1\n",
      "Test number 2\n",
      "Test number 3\n",
      "Test number 4\n",
      "Test number 5\n",
      "Test number 6\n",
      "Test number 7\n",
      "Test number 8\n",
      "Test number 9\n",
      "Test number 10\n",
      "Test number 11\n",
      "Test number 12\n",
      "Test number 13\n",
      "Test number 14\n",
      "Test number 15\n",
      "Test number 16\n",
      "Test number 17\n",
      "Test number 18\n",
      "Test number 19\n",
      "Test number 20\n",
      "Test number 21\n",
      "Test number 22\n",
      "Test number 23\n",
      "Test number 24\n",
      "Test number 25\n",
      "Test number 26\n",
      "Test number 27\n",
      "Test number 28\n",
      "Test number 29\n",
      "Test number 30\n",
      "Test number 31\n",
      "Test number 32\n",
      "Test number 33\n",
      "Test number 34\n",
      "Test number 35\n",
      "Test number 36\n",
      "Test number 37\n",
      "Test number 38\n",
      "Test number 39\n",
      "Test number 40\n",
      "Test number 41\n",
      "Test number 42\n",
      "Test number 43\n",
      "Test number 44\n",
      "Test number 45\n",
      "Test number 46\n",
      "Test number 47\n",
      "Test number 48\n",
      "Test number 49\n",
      "Test number 50\n",
      "Test number 51\n",
      "Test number 52\n",
      "Test number 53\n",
      "Test number 54\n",
      "Test number 55\n",
      "Test number 56\n",
      "Test number 57\n",
      "Test number 58\n",
      "Test number 59\n",
      "Test number 60\n",
      "Test number 61\n",
      "Test number 62\n",
      "Test number 63\n",
      "Test number 64\n",
      "Test number 65\n",
      "Test number 66\n",
      "Test number 67\n",
      "Test number 68\n",
      "Test number 69\n",
      "Test number 70\n",
      "Test number 71\n",
      "Test number 72\n",
      "Test number 73\n",
      "Test number 74\n",
      "Test number 75\n",
      "Test number 76\n",
      "Test number 77\n",
      "Test number 78\n",
      "Test number 79\n",
      "Test number 80\n",
      "Test number 81\n",
      "Test number 82\n",
      "Test number 83\n",
      "Test number 84\n",
      "Test number 85\n",
      "Test number 86\n",
      "Test number 87\n",
      "Test number 88\n",
      "Test number 89\n",
      "Test number 90\n",
      "Test number 91\n",
      "Test number 92\n",
      "Test number 93\n",
      "Test number 94\n",
      "Test number 95\n",
      "Test number 96\n",
      "Test number 97\n",
      "Test number 98\n",
      "Test number 99\n",
      "Test number 100\n",
      "Test number 101\n",
      "Test number 102\n",
      "Test number 103\n",
      "Test number 104\n",
      "Test number 105\n",
      "Test number 106\n",
      "Test number 107\n",
      "Test number 108\n",
      "Test number 109\n",
      "Test number 110\n",
      "Test number 111\n",
      "Test number 112\n",
      "Test number 113\n",
      "Test number 114\n",
      "Test number 115\n",
      "Test number 116\n",
      "Test number 117\n",
      "Test number 118\n",
      "Test number 119\n",
      "Test number 120\n",
      "Test number 121\n",
      "Test number 122\n",
      "Test number 123\n",
      "Test number 124\n",
      "Test number 125\n",
      "Test number 126\n",
      "Test number 127\n",
      "Test number 128\n",
      "Test number 129\n",
      "Test number 130\n",
      "Test number 131\n",
      "Test number 132\n",
      "Test number 133\n",
      "Test number 134\n",
      "Test number 135\n",
      "Test number 136\n",
      "Test number 137\n",
      "Test number 138\n",
      "Test number 139\n",
      "Test number 140\n",
      "Test number 141\n",
      "Test number 142\n",
      "Test number 143\n",
      "Test number 144\n",
      "Test number 145\n",
      "Test number 146\n",
      "Test number 147\n",
      "Test number 148\n",
      "Test number 149\n",
      "Test number 150\n",
      "Test number 151\n",
      "Test number 152\n",
      "Test number 153\n",
      "Test number 154\n",
      "Test number 155\n",
      "Test number 156\n",
      "Test number 157\n",
      "Test number 158\n",
      "Test number 159\n",
      "Test number 160\n",
      "Test number 161\n",
      "Test number 162\n",
      "Test number 163\n",
      "Test number 164\n",
      "Test number 165\n",
      "Test number 166\n",
      "Test number 167\n",
      "Test number 168\n",
      "Test number 169\n",
      "Test number 170\n",
      "Test number 171\n",
      "Test number 172\n",
      "Test number 173\n",
      "Test number 174\n",
      "Test number 175\n",
      "Test number 176\n",
      "Test number 177\n",
      "Test number 178\n",
      "Test number 179\n",
      "Test number 180\n",
      "Test number 181\n",
      "Test number 182\n",
      "Test number 183\n",
      "Test number 184\n",
      "Test number 185\n",
      "Test number 186\n",
      "Test number 187\n",
      "Test number 188\n",
      "Test number 189\n",
      "Test number 190\n",
      "Test number 191\n",
      "Test number 192\n",
      "Test number 193\n",
      "Test number 194\n",
      "Test number 195\n",
      "Test number 196\n",
      "Test number 197\n",
      "Test number 198\n",
      "Test number 199\n",
      "Test number 200\n",
      "Test number 201\n",
      "Test number 202\n",
      "Test number 203\n",
      "Test number 204\n",
      "Test number 205\n",
      "Test number 206\n",
      "Test number 207\n",
      "Test number 208\n",
      "Test number 209\n",
      "Test number 210\n",
      "Test number 211\n",
      "Test number 212\n",
      "Test number 213\n",
      "Test number 214\n",
      "Test number 215\n",
      "Test number 216\n",
      "Test number 217\n",
      "Test number 218\n",
      "Test number 219\n",
      "Test number 220\n",
      "Test number 221\n",
      "Test number 222\n",
      "Test number 223\n",
      "Test number 224\n",
      "Test number 225\n",
      "Test number 226\n",
      "Test number 227\n",
      "Test number 228\n",
      "Test number 229\n",
      "Test number 230\n",
      "Test number 231\n",
      "Test number 232\n",
      "Test number 233\n",
      "Test number 234\n",
      "Test number 235\n",
      "Test number 236\n",
      "Test number 237\n",
      "Test number 238\n",
      "Test number 239\n",
      "Test number 240\n",
      "Test number 241\n",
      "Test number 242\n",
      "Test number 243\n",
      "Test number 244\n",
      "Test number 245\n",
      "Test number 246\n",
      "Test number 247\n",
      "Test number 248\n",
      "Test number 249\n",
      "Test number 250\n",
      "Test number 251\n",
      "Test number 252\n",
      "Test number 253\n",
      "Test number 254\n",
      "Test number 255\n",
      "Test number 256\n",
      "Test number 257\n",
      "Test number 258\n",
      "Test number 259\n",
      "Test number 260\n",
      "Test number 261\n",
      "Test number 262\n",
      "Test number 263\n",
      "Test number 264\n",
      "Test number 265\n",
      "Test number 266\n",
      "Test number 267\n",
      "Test number 268\n",
      "Test number 269\n",
      "Test number 270\n",
      "Test number 271\n",
      "Test number 272\n",
      "Test number 273\n",
      "Test number 274\n",
      "Test number 275\n",
      "Test number 276\n",
      "Test number 277\n",
      "Test number 278\n",
      "Test number 279\n",
      "Test number 280\n",
      "Test number 281\n",
      "Test number 282\n",
      "Test number 283\n",
      "Test number 284\n",
      "Test number 285\n",
      "Test number 286\n",
      "Test number 287\n",
      "Test number 288\n",
      "Test number 289\n",
      "Test number 290\n",
      "Test number 291\n",
      "Test number 292\n",
      "Test number 293\n",
      "Test number 294\n",
      "Test number 295\n",
      "Test number 296\n",
      "Test number 297\n",
      "Test number 298\n",
      "Test number 299\n",
      "Test number 300\n",
      "Test number 301\n",
      "Test number 302\n",
      "Test number 303\n",
      "Test number 304\n",
      "Test number 305\n",
      "Test number 306\n",
      "Test number 307\n",
      "Test number 308\n",
      "Test number 309\n",
      "Test number 310\n",
      "Test number 311\n",
      "Test number 312\n",
      "Test number 313\n",
      "Test number 314\n",
      "Test number 315\n",
      "Test number 316\n",
      "Test number 317\n",
      "Test number 318\n",
      "Test number 319\n",
      "Test number 320\n",
      "Test number 321\n",
      "Test number 322\n",
      "Test number 323\n",
      "Test number 324\n",
      "Test number 325\n",
      "Test number 326\n",
      "Test number 327\n",
      "Test number 328\n",
      "Test number 329\n",
      "Test number 330\n",
      "Test number 331\n",
      "Test number 332\n",
      "Test number 333\n",
      "Test number 334\n",
      "Test number 335\n",
      "Test number 336\n",
      "Test number 337\n",
      "Test number 338\n",
      "Test number 339\n",
      "Test number 340\n",
      "Test number 341\n",
      "Test number 342\n",
      "Test number 343\n",
      "Test number 344\n",
      "Test number 345\n",
      "Test number 346\n",
      "Test number 347\n",
      "Test number 348\n",
      "Test number 349\n",
      "Test number 350\n",
      "Test number 351\n",
      "Test number 352\n",
      "Test number 353\n",
      "Test number 354\n",
      "Test number 355\n",
      "Test number 356\n",
      "Test number 357\n",
      "Test number 358\n",
      "Test number 359\n",
      "Test number 360\n",
      "Test number 361\n",
      "Test number 362\n",
      "Test number 363\n",
      "Test number 364\n",
      "Test number 365\n",
      "Test number 366\n",
      "Test number 367\n",
      "Test number 368\n",
      "Test number 369\n",
      "Test number 370\n",
      "Test number 371\n",
      "Test number 372\n",
      "Test number 373\n",
      "Test number 374\n",
      "Test number 375\n",
      "Test number 376\n",
      "Test number 377\n",
      "Test number 378\n",
      "Test number 379\n",
      "Test number 380\n",
      "Test number 381\n",
      "Test number 382\n",
      "Test number 383\n",
      "Test number 384\n",
      "Test number 385\n",
      "Test number 386\n",
      "Test number 387\n",
      "Test number 388\n",
      "Test number 389\n",
      "Test number 390\n",
      "Test number 391\n",
      "Test number 392\n",
      "Test number 393\n",
      "Test number 394\n",
      "Test number 395\n",
      "Test number 396\n",
      "Test number 397\n",
      "Test number 398\n",
      "Test number 399\n",
      "Test number 400\n",
      "Test number 401\n",
      "Test number 402\n",
      "Test number 403\n",
      "Test number 404\n",
      "Test number 405\n",
      "Test number 406\n",
      "Test number 407\n",
      "Test number 408\n",
      "Test number 409\n",
      "Test number 410\n",
      "Test number 411\n",
      "Test number 412\n",
      "Test number 413\n",
      "Test number 414\n",
      "Test number 415\n",
      "Test number 416\n",
      "Test number 417\n",
      "Test number 418\n",
      "Test number 419\n",
      "Test number 420\n",
      "Test number 421\n",
      "Test number 422\n",
      "Test number 423\n",
      "Test number 424\n",
      "Test number 425\n",
      "Test number 426\n",
      "Test number 427\n",
      "Test number 428\n",
      "Test number 429\n",
      "Test number 430\n",
      "Test number 431\n",
      "Test number 432\n",
      "Test number 433\n",
      "Test number 434\n",
      "Test number 435\n",
      "Test number 436\n",
      "Test number 437\n",
      "Test number 438\n",
      "Test number 439\n",
      "Test number 440\n",
      "Test number 441\n",
      "Test number 442\n",
      "Test number 443\n",
      "Test number 444\n",
      "Test number 445\n",
      "Test number 446\n",
      "Test number 447\n",
      "Test number 448\n",
      "Test number 449\n",
      "Test number 450\n",
      "Test number 451\n",
      "Test number 452\n",
      "Test number 453\n",
      "Test number 454\n",
      "Test number 455\n",
      "Test number 456\n",
      "Test number 457\n",
      "Test number 458\n",
      "Test number 459\n",
      "Test number 460\n",
      "Test number 461\n",
      "Test number 462\n",
      "Test number 463\n",
      "Test number 464\n",
      "Test number 465\n",
      "Test number 466\n",
      "Test number 467\n",
      "Test number 468\n",
      "Test number 469\n",
      "Test number 470\n",
      "Test number 471\n",
      "Test number 472\n",
      "Test number 473\n",
      "Test number 474\n",
      "Test number 475\n",
      "Test number 476\n",
      "Test number 477\n",
      "Test number 478\n",
      "Test number 479\n",
      "Test number 480\n",
      "Test number 481\n",
      "Test number 482\n",
      "Test number 483\n",
      "Test number 484\n",
      "Test number 485\n",
      "Test number 486\n",
      "Test number 487\n",
      "Test number 488\n",
      "Test number 489\n",
      "Test number 490\n",
      "Test number 491\n",
      "Test number 492\n",
      "Test number 493\n",
      "Test number 494\n",
      "Test number 495\n",
      "Test number 496\n",
      "Test number 497\n",
      "Test number 498\n",
      "Test number 499\n"
     ]
    }
   ],
   "source": [
    "tests=500\n",
    "N_size=50001\n",
    "L=31\n",
    "M=np.zeros((L,L))\n",
    "for test in range(tests):\n",
    "    print(\"Test number {}\".format(test))\n",
    "    a,b=Get_Bands_Matrix(Ground=False,N_size=N_size)\n",
    "    New_cov_matrix=Covariance_matrix_from_sub_sample(a,b,L)\n",
    "    O_1,S,O_2=np.linalg.svd(New_cov_matrix)\n",
    "    S=-S+0.5\n",
    "    x=np.log((1-S)/(S))\n",
    "    M+=(-(O_1@np.diag(x)/beta@O_2).real)/tests"
   ]
  },
  {
   "cell_type": "code",
   "execution_count": 124,
   "metadata": {
    "ExecuteTime": {
     "end_time": "2019-10-16T21:39:55.558880Z",
     "start_time": "2019-10-16T21:39:51.509651Z"
    }
   },
   "outputs": [],
   "source": [
    "N_size=100001\n",
    "a,b=Get_Bands_Matrix(Ground=False,N_size=N_size)\n",
    "New_cov_matrix=Covariance_matrix_from_sub_sample(a,b,L)\n",
    "O_1,S,O_2=np.linalg.svd(New_cov_matrix)\n",
    "S=-S+0.5\n",
    "x=np.log((1-S)/(S))"
   ]
  },
  {
   "cell_type": "code",
   "execution_count": 133,
   "metadata": {
    "ExecuteTime": {
     "end_time": "2019-10-16T22:02:43.854786Z",
     "start_time": "2019-10-16T22:02:43.850794Z"
    }
   },
   "outputs": [],
   "source": [
    "M_2=-(O_1@np.diag(x)/beta@O_2)"
   ]
  },
  {
   "cell_type": "code",
   "execution_count": 137,
   "metadata": {
    "ExecuteTime": {
     "end_time": "2019-10-16T22:03:12.263567Z",
     "start_time": "2019-10-16T22:03:12.258564Z"
    }
   },
   "outputs": [],
   "source": [
    "lower_band=np.array([[M_2[i,j] for i in range(1,L) if i-j == 1] for j in range(L-1)]).reshape(L-1)\n",
    "upper_band=np.array([[M_2[i,j] for i in range(L) if i-j == -1] for j in range(1,L)]).reshape(L-1)\n",
    "diag=M_2.diagonal()"
   ]
  },
  {
   "cell_type": "code",
   "execution_count": 125,
   "metadata": {
    "ExecuteTime": {
     "end_time": "2019-10-16T21:39:56.147418Z",
     "start_time": "2019-10-16T21:39:56.033685Z"
    }
   },
   "outputs": [
    {
     "data": {
      "text/plain": [
       "<matplotlib.image.AxesImage at 0x1baa348cef0>"
      ]
     },
     "execution_count": 125,
     "metadata": {},
     "output_type": "execute_result"
    },
    {
     "data": {
      "image/png": "[encoded data removed]",
      "text/plain": [
       "<Figure size 432x288 with 1 Axes>"
      ]
     },
     "metadata": {
      "needs_background": "light"
     },
     "output_type": "display_data"
    }
   ],
   "source": [
    "plt.imshow(-(O_1@np.diag(x)/beta@O_2).real)"
   ]
  },
  {
   "cell_type": "code",
   "execution_count": 127,
   "metadata": {
    "ExecuteTime": {
     "end_time": "2019-10-16T21:41:00.494479Z",
     "start_time": "2019-10-16T21:41:00.311212Z"
    }
   },
   "outputs": [
    {
     "data": {
      "text/plain": [
       "<matplotlib.colorbar.Colorbar at 0x1baa3554f28>"
      ]
     },
     "execution_count": 127,
     "metadata": {},
     "output_type": "execute_result"
    },
    {
     "data": {
      "image/png": "[encoded data removed]",
      "text/plain": [
       "<Figure size 432x288 with 2 Axes>"
      ]
     },
     "metadata": {
      "needs_background": "light"
     },
     "output_type": "display_data"
    }
   ],
   "source": [
    "plt.imshow(M)\n",
    "plt.colorbar()"
   ]
  },
  {
   "cell_type": "code",
   "execution_count": 129,
   "metadata": {
    "ExecuteTime": {
     "end_time": "2019-10-16T22:01:22.665700Z",
     "start_time": "2019-10-16T22:01:22.660709Z"
    }
   },
   "outputs": [],
   "source": [
    "lower_band=np.array([[M[i,j] for i in range(1,L) if i-j == 1] for j in range(L-1)]).reshape(L-1)\n",
    "upper_band=np.array([[M[i,j] for i in range(L) if i-j == -1] for j in range(1,L)]).reshape(L-1)\n",
    "diag=M.diagonal()"
   ]
  },
  {
   "cell_type": "code",
   "execution_count": 130,
   "metadata": {
    "ExecuteTime": {
     "end_time": "2019-10-16T22:01:25.825610Z",
     "start_time": "2019-10-16T22:01:25.820599Z"
    }
   },
   "outputs": [
    {
     "data": {
      "text/plain": [
       "array([1.25440702, 1.25336234, 1.25328142, 1.25488539, 1.25424228,\n",
       "       1.25378374, 1.25406421, 1.25388811, 1.25337467, 1.25578485,\n",
       "       1.25471345, 1.25356116, 1.25413979, 1.25282305, 1.25283974,\n",
       "       1.25354798, 1.25330037, 1.25435767, 1.25398044, 1.25452477,\n",
       "       1.25382797, 1.25348942, 1.25386643, 1.25277309, 1.25554881,\n",
       "       1.25297103, 1.25420841, 1.2540953 , 1.25471477, 1.25424377])"
      ]
     },
     "execution_count": 130,
     "metadata": {},
     "output_type": "execute_result"
    }
   ],
   "source": [
    "lower_band"
   ]
  },
  {
   "cell_type": "code",
   "execution_count": null,
   "metadata": {},
   "outputs": [],
   "source": []
  }
 ],
 "metadata": {
  "kernelspec": {
   "display_name": "Python 3",
   "language": "python",
   "name": "python3"
  },
  "language_info": {
   "codemirror_mode": {
    "name": "ipython",
    "version": 3
   },
   "file_extension": ".py",
   "mimetype": "text/x-python",
   "name": "python",
   "nbconvert_exporter": "python",
   "pygments_lexer": "ipython3",
   "version": "3.7.1"
  },
  "nbTranslate": {
   "displayLangs": [
    "*"
   ],
   "hotkey": "alt-t",
   "langInMainMenu": true,
   "sourceLang": "en",
   "targetLang": "fr",
   "useGoogleTranslate": true
  },
  "toc": {
   "base_numbering": 1,
   "nav_menu": {},
   "number_sections": true,
   "sideBar": true,
   "skip_h1_title": false,
   "title_cell": "Table of Contents",
   "title_sidebar": "Contents",
   "toc_cell": false,
   "toc_position": {},
   "toc_section_display": true,
   "toc_window_display": false
  },
  "varInspector": {
   "cols": {
    "lenName": 16,
    "lenType": 16,
    "lenVar": 40
   },
   "kernels_config": {
    "python": {
     "delete_cmd_postfix": "",
     "delete_cmd_prefix": "del ",
     "library": "var_list.py",
     "varRefreshCmd": "print(var_dic_list())"
    },
    "r": {
     "delete_cmd_postfix": ") ",
     "delete_cmd_prefix": "rm(",
     "library": "var_list.r",
     "varRefreshCmd": "cat(var_dic_list()) "
    }
   },
   "types_to_exclude": [
    "module",
    "function",
    "builtin_function_or_method",
    "instance",
    "_Feature"
   ],
   "window_display": false
  }
 },
 "nbformat": 4,
 "nbformat_minor": 2
}
