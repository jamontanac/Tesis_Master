{
 "cells": [
  {
   "cell_type": "code",
   "execution_count": 1,
   "metadata": {
    "ExecuteTime": {
     "end_time": "2019-10-25T14:59:28.187509Z",
     "start_time": "2019-10-25T14:59:26.118377Z"
    }
   },
   "outputs": [
    {
     "data": {
      "text/html": [
       "\n",
       "<style>\n",
       ".output {\n",
       "    display: flex;\n",
       "    align-items: left;\n",
       "    text-align: center;\n",
       "}\n",
       "</style>\n"
      ],
      "text/plain": [
       "<IPython.core.display.HTML object>"
      ]
     },
     "metadata": {},
     "output_type": "display_data"
    }
   ],
   "source": [
    "import numpy as np\n",
    "import matplotlib.pylab as plt\n",
    "import pandas as pd\n",
    "from ipywidgets import interactive\n",
    "import numpy as np\n",
    "import matplotlib.pylab as plt\n",
    "import pandas as pd\n",
    "from ipywidgets import interactive\n",
    "from scipy.fftpack import fft, ifft,ifftshift,fftshift\n",
    "from IPython.display import display, HTML\n",
    "from scipy.linalg import circulant\n",
    "from scipy.linalg import toeplitz, hankel\n",
    "from IPython.display import clear_output\n",
    "from scipy.linalg import expm\n",
    "import pickle\n",
    "from matplotlib import colors\n",
    "\n",
    "\n",
    "#### --------- Definition of variables ------------------------\n",
    "\n",
    "N_size=50001 #\n",
    "Gamma=0.5\n",
    "Lambda=0.5\n",
    "num_data=2000\n",
    "#### ------------------------------------------------------------\n",
    "def Fermi_dirac(beta,mu,n,Gamma=Gamma,Lambda=Lambda,N=N_size):\n",
    "    # beta is the inverse thermic energy associated in the system (beta)\n",
    "    # mu corresponds to the chemical potential\n",
    "    # n is the position of the particle\n",
    "    # f=np.exp(T*(Omega(Gamma,Lambda,2.0*(np.pi/N)*n)-mu)) +1\n",
    "    # N corresponds to the size of the system\n",
    "    f=np.exp(beta*(Omega(Gamma,Lambda,((2.*np.pi)/float(N)) * n)-mu)) +1\n",
    "    return 1/f\n",
    "\n",
    "\n",
    "display(HTML(\"\"\"\n",
    "<style>\n",
    ".output {\n",
    "    display: flex;\n",
    "    align-items: left;\n",
    "    text-align: center;\n",
    "}\n",
    "</style>\n",
    "\"\"\"))\n",
    "\n",
    "def Alpha(Gamma,Lambda,theta):\n",
    "    return Lambda+np.cos(theta)\n",
    "def Beta(Gamma,Lambda,theta):\n",
    "    return Gamma*np.sin(theta)\n",
    "def Omega(Gamma,Lambda,theta):\n",
    "    return np.sqrt(Alpha(Gamma,Lambda,theta)**2 + Beta(Gamma,Lambda,theta)**2 )\n",
    "def Phi(Gamma,Lambda,theta):\n",
    "    return np.arctan2(Beta(Gamma,Lambda,theta),Alpha(Gamma,Lambda,theta))\n",
    "\n",
    "\n",
    "def Get_Bands_Matrix(N_size,Gamma=Gamma,Lambda=Lambda,beta=0.40824,mu=0,Ground =False):\n",
    "    if Ground:\n",
    "        x=np.arange(0,(N_size-1)/2+ 1)\n",
    "        m_cos=[-0.5 for i in x]\n",
    "        m_sin=[-0.5 for i in x]\n",
    "        x=np.arange(-(N_size-1)/2,(N_size-1)/2+1)\n",
    "        M_minous=[((m_cos[np.abs(int(i))]-m_sin[np.abs(int(i))])*0.5*np.exp(1.j*np.sign((2.0*np.pi/N_size) * i)*Phi(Gamma,Lambda,np.abs((2.0*np.pi/N_size) * i)))) for i in x]\n",
    "        M_plus = [((m_cos[np.abs(int(i))]+m_sin[np.abs(int(i))])*0.5*np.exp(1.j*np.sign((2.0*np.pi/N_size) * i)*Phi(Gamma,Lambda,np.abs((2.0*np.pi/N_size) * i)))) for i in x]\n",
    "        Mminousband=np.array(M_minous)\n",
    "        Mplusband=np.array(M_plus)\n",
    "        \n",
    "    else:\n",
    "        x=np.arange(0,(N_size-1)/2+ 1)\n",
    "        m_cos=[-0.5 if np.random.random()>Fermi_dirac(beta,mu,n=i) else 0.5 for i in x]\n",
    "        m_sin=[-0.5 if np.random.random()>Fermi_dirac(beta,mu,n=i) else 0.5 for i in x]\n",
    "        x=np.arange(-(N_size-1)/2,(N_size-1)/2+1)\n",
    "\n",
    "        M_minous=[((m_cos[np.abs(int(i))]-m_sin[np.abs(int(i))])*0.5*np.exp(1.j*np.sign((2.0*np.pi/N_size) * i)*Phi(Gamma,Lambda,np.abs((2.0*np.pi/N_size) * i)))) for i in x]\n",
    "        M_plus = [((m_cos[np.abs(int(i))]+m_sin[np.abs(int(i))])*0.5*np.exp(1.j*np.sign((2.0*np.pi/N_size) * i)*Phi(Gamma,Lambda,np.abs((2.0*np.pi/N_size) * i)))) for i in x]\n",
    "        Mminousband=np.array(M_minous)\n",
    "        Mplusband=np.array(M_plus)\n",
    "        \n",
    "    x=np.arange(-(N_size-1)/2,(N_size-1)/2+ 1)\n",
    "    Fourier_plus=fft(ifftshift(Mplusband))\n",
    "    Fourier_minous=fft(ifftshift(Mminousband))\n",
    "    return Fourier_plus/N_size,Fourier_minous/N_size\n",
    "\n",
    "def Toeplitz_matrix(Fourier_plus,L):\n",
    "    First_column = Fourier_plus[:L]\n",
    "    First_row = np.roll(Fourier_plus,-1)[::-1][:L]\n",
    "    return toeplitz(First_column,First_row)\n",
    "def Hankel_matrix(Fourier_minous,L):\n",
    "    to_use=Fourier_minous[:2*L-1]\n",
    "    First_column=to_use[:L]\n",
    "    Last_row=np.roll(to_use,-L+1)[:L]\n",
    "    return hankel(First_column,Last_row)\n",
    "\n",
    "def Covariance_matrix(L,Gamma=Gamma,Lambda=Lambda,beta=0.40824,mu=0,N_size=N_size,Ground=False):\n",
    "    if Ground:\n",
    "        Fourier_plus,Fourier_minous=Get_Bands_Matrix(Gamma=Gamma,Lambda=Lambda,N_size=N_size,beta=beta,mu=mu,Ground=True)\n",
    "    else:\n",
    "        Fourier_plus,Fourier_minous=Get_Bands_Matrix(Gamma=Gamma,Lambda=Lambda,N_size=N_size,beta=beta,mu=mu,Ground=False)\n",
    "    return (Toeplitz_matrix(Fourier_plus,L)+Hankel_matrix(Fourier_minous,L))\n",
    "\n",
    "def Covariance_matrix_from_sub_sample(Fourier_plus,Fourier_minous,L):\n",
    "    return (Toeplitz_matrix(Fourier_plus,L)+Hankel_matrix(Fourier_minous,L))\n",
    "\n",
    "\n",
    "def print_progress(total,step,num=50):\n",
    "    message=\"[\"+\"=\"*int(num*((step/total)))+\" \"*int(num*(1-(step/total)))+\"]\"\n",
    "    message+=\"  \"+str(round(step/total*100,3))+ \" \"+ \"%\"\n",
    "    print(message,end=\"\\r\")\n",
    "    \n",
    "def get_band_of_matrix(Matrix,num_band):\n",
    "    L,C=Matrix.shape\n",
    "    if L!=C:\n",
    "        raise ValueError(\"Only squared matrix can be computed\")\n",
    "    if num_band > 0:\n",
    "        return np.array([[Matrix[i,j] for i in range(num_band,L) if i-j == num_band] for j in range(L-num_band)]).reshape(L-num_band)\n",
    "    elif num_band <0:\n",
    "        return np.array([[Matrix[i,j] for i in range(L) if i-j == num_band] for j in range(-num_band,L)]).reshape(L+num_band)\n",
    "    else:\n",
    "        return np.diagonal(Matrix)"
   ]
  },
  {
   "cell_type": "code",
   "execution_count": 2,
   "metadata": {
    "ExecuteTime": {
     "end_time": "2019-10-25T14:59:32.623788Z",
     "start_time": "2019-10-25T14:59:31.002845Z"
    }
   },
   "outputs": [],
   "source": [
    "with open('data_50k.pkl', 'rb') as File:\n",
    "    Data=pickle.load(File)"
   ]
  },
  {
   "cell_type": "code",
   "execution_count": null,
   "metadata": {
    "ExecuteTime": {
     "end_time": "2019-10-25T14:38:53.990478Z",
     "start_time": "2019-10-25T14:38:52.905Z"
    }
   },
   "outputs": [],
   "source": []
  },
  {
   "cell_type": "code",
   "execution_count": 3,
   "metadata": {
    "ExecuteTime": {
     "end_time": "2019-10-25T14:59:33.233578Z",
     "start_time": "2019-10-25T14:59:33.225606Z"
    }
   },
   "outputs": [],
   "source": [
    "L=31\n",
    "beta=0.40824\n",
    "New_cov_matrix=Covariance_matrix_from_sub_sample(Data[0,:,0],Data[0,:,1],L)\n",
    "O_1,S,O_2=np.linalg.svd(New_cov_matrix)\n",
    "S=-S+0.5\n",
    "x=np.log((1-S)/(S))\n",
    "M=(-(O_1@np.diag(x)/beta@O_2).real)"
   ]
  },
  {
   "cell_type": "code",
   "execution_count": 4,
   "metadata": {
    "ExecuteTime": {
     "end_time": "2019-10-25T14:59:33.894408Z",
     "start_time": "2019-10-25T14:59:33.698663Z"
    }
   },
   "outputs": [
    {
     "data": {
      "text/plain": [
       "<matplotlib.colorbar.Colorbar at 0x274b8f39e80>"
      ]
     },
     "execution_count": 4,
     "metadata": {},
     "output_type": "execute_result"
    },
    {
     "data": {
      "image/png": "[encoded data removed]",
      "text/plain": [
       "<Figure size 432x288 with 2 Axes>"
      ]
     },
     "metadata": {
      "needs_background": "light"
     },
     "output_type": "display_data"
    }
   ],
   "source": [
    "plt.imshow(M)\n",
    "plt.colorbar()"
   ]
  },
  {
   "cell_type": "code",
   "execution_count": null,
   "metadata": {
    "ExecuteTime": {
     "end_time": "2019-10-25T14:36:56.947429Z",
     "start_time": "2019-10-25T14:36:56.941419Z"
    }
   },
   "outputs": [],
   "source": []
  },
  {
   "cell_type": "code",
   "execution_count": 19,
   "metadata": {
    "ExecuteTime": {
     "end_time": "2019-10-25T15:10:28.402392Z",
     "start_time": "2019-10-25T15:10:22.447954Z"
    }
   },
   "outputs": [
    {
     "data": {
      "image/png": "[encoded data removed]",
      "text/plain": [
       "<Figure size 720x720 with 2 Axes>"
      ]
     },
     "metadata": {
      "needs_background": "light"
     },
     "output_type": "display_data"
    }
   ],
   "source": [
    "L=31\n",
    "beta=0.40824\n",
    "num_data=Data.shape[0]\n",
    "M_final=np.zeros((L,L))\n",
    "for i in range(num_data):\n",
    "    New_cov_matrix=Covariance_matrix_from_sub_sample(Data[i,:,0],Data[i,:,1],L)\n",
    "    O_1,S,O_2=np.linalg.svd(New_cov_matrix)\n",
    "    S=-S+0.5\n",
    "    x=np.log((1-S)/(S))\n",
    "    M=(-(O_1@np.diag(x)/beta@O_2).real)\n",
    "    M_final+=M\n",
    "    if (i+1) % 100==0:\n",
    "        clear_output(wait=True)\n",
    "        plt.figure(figsize=(10,10))\n",
    "        plt.title(\"average with {}\".format(i+1))\n",
    "        #mesh=plt.imshow(M_final/(i+1),cmap=\"RdBu_r\")\n",
    "        mesh=plt.imshow((M_final)/(i+1),norm=colors.SymLogNorm(linthresh=0.01, linscale=0.1, vmin=-0.01, vmax=0.77),cmap=\"RdBu\")\n",
    "        #mesh.set_clim(-0.1,0.8)\n",
    "        cosa=plt.colorbar(mesh,extend='max',shrink=0.8)\n",
    "        cosa.ax.tick_params(labelsize=10)\n",
    "        plt.tight_layout()\n",
    "        plt.axis('off')\n",
    "        plt.show()"
   ]
  },
  {
   "cell_type": "code",
   "execution_count": 29,
   "metadata": {
    "ExecuteTime": {
     "end_time": "2019-10-25T16:03:38.694038Z",
     "start_time": "2019-10-25T16:03:07.507957Z"
    },
    "scrolled": true
   },
   "outputs": [],
   "source": [
    "L=31\n",
    "beta=0.40824\n",
    "num_data=Data.shape[0]\n",
    "M_final=np.zeros((L,L))\n",
    "for i in range(num_data):\n",
    "    New_cov_matrix=Covariance_matrix_from_sub_sample(Data[i,:,0],Data[i,:,1],L)\n",
    "    O_1,S,O_2=np.linalg.svd(New_cov_matrix)\n",
    "    S=-S+0.5\n",
    "    x=np.log((1-S)/(S))\n",
    "    M=(-(O_1@np.diag(x)/beta@O_2).real)\n",
    "    M_final+=M\n",
    "    if (i+1) % 10==0:\n",
    "        clear_output(wait=True)\n",
    "        fig=plt.figure(figsize=(10,10))\n",
    "        ax=fig.add_subplot(111)\n",
    "        plt.title(\"Average with {}\".format(i+1),fontsize=16)\n",
    "        #for row in range(L):\n",
    "        #    for col in range(L):\n",
    "        #        if row-col == 0 or np.abs(row-col)==1: \n",
    "        #            label=M[row,col]\n",
    "        #            ax.text(row,col,label.round(2),color=\"black\",ha=\"center\",va=\"center\")\n",
    "        mesh=plt.imshow(M_final/(i+1),cmap=\"coolwarm\")\n",
    "        #mesh=plt.imshow((M_final)/(i+1),norm=colors.SymLogNorm(linthresh=0.01, linscale=0.1, vmin=-0.01, vmax=0.77),cmap=\"RdBu\")\n",
    "        #mesh.set_clim(-0.1,0.8)\n",
    "        cosa=plt.colorbar(mesh,extend='max',shrink=0.8)\n",
    "        cosa.ax.tick_params(labelsize=10)\n",
    "        plt.tight_layout()\n",
    "        plt.axis('off')\n",
    "        plt.savefig(\"../../Figuras/\"+str(i+1).zfill(4)+\".png\")\n",
    "        plt.close()"
   ]
  },
  {
   "cell_type": "code",
   "execution_count": 28,
   "metadata": {
    "ExecuteTime": {
     "end_time": "2019-10-25T15:42:03.770318Z",
     "start_time": "2019-10-25T15:40:54.218654Z"
    }
   },
   "outputs": [
    {
     "data": {
      "image/png": "[encoded data removed]",
      "text/plain": [
       "<Figure size 720x720 with 2 Axes>"
      ]
     },
     "metadata": {
      "needs_background": "light"
     },
     "output_type": "display_data"
    }
   ],
   "source": [
    "L=31\n",
    "beta=0.40824\n",
    "num_data=Data.shape[0]\n",
    "M_final=np.zeros((L,L))\n",
    "for i in range(num_data):\n",
    "    New_cov_matrix=Covariance_matrix_from_sub_sample(Data[i,:,0],Data[i,:,1],L)\n",
    "    O_1,S,O_2=np.linalg.svd(New_cov_matrix)\n",
    "    S=-S+0.5\n",
    "    x=np.log((1-S)/(S))\n",
    "    M=(-(O_1@np.diag(x)/beta@O_2).real)\n",
    "    M_final+=M\n",
    "    if (i+1) % 10==0:\n",
    "        clear_output(wait=True)\n",
    "        plt.figure(figsize=(10,10))\n",
    "        plt.title(\"average with {}\".format(i+1))\n",
    "        #mesh=plt.imshow(M_final/(i+1),cmap=\"RdBu_r\")\n",
    "        mesh=plt.imshow((M_final)/(i+1),norm=colors.SymLogNorm(linthresh=0.01, linscale=0.1, vmin=-0.01, vmax=0.77),cmap=\"coolwarm\")\n",
    "        #mesh.set_clim(-0.1,0.8)\n",
    "        cosa=plt.colorbar(mesh,extend='max',shrink=0.8)\n",
    "        cosa.ax.tick_params(labelsize=10)\n",
    "        plt.tight_layout()\n",
    "        plt.axis('off')\n",
    "        plt.savefig(\"../../Figuras/\"+str(i+1).zfill(4)+\".png\")\n",
    "        plt.show()"
   ]
  },
  {
   "cell_type": "code",
   "execution_count": 41,
   "metadata": {
    "ExecuteTime": {
     "end_time": "2019-10-25T16:44:58.622899Z",
     "start_time": "2019-10-25T16:44:52.079315Z"
    }
   },
   "outputs": [],
   "source": [
    "a,b=Get_Bands_Matrix(N_size=300001,Ground=True)"
   ]
  },
  {
   "cell_type": "code",
   "execution_count": 42,
   "metadata": {
    "ExecuteTime": {
     "end_time": "2019-10-25T16:44:59.030816Z",
     "start_time": "2019-10-25T16:44:59.021802Z"
    }
   },
   "outputs": [],
   "source": [
    "New_cov_matrix=Covariance_matrix_from_sub_sample(a,b,L)\n",
    "O_1,S,O_2=np.linalg.svd(New_cov_matrix)\n",
    "S=-S+0.5\n",
    "x=np.log((1-S)/(S))\n",
    "M=(-(O_1@np.diag(x)/beta@O_2).real)"
   ]
  },
  {
   "cell_type": "code",
   "execution_count": 45,
   "metadata": {
    "ExecuteTime": {
     "end_time": "2019-10-25T16:45:53.889298Z",
     "start_time": "2019-10-25T16:45:53.711434Z"
    }
   },
   "outputs": [
    {
     "data": {
      "text/plain": [
       "<matplotlib.colorbar.Colorbar at 0x274bb8d3320>"
      ]
     },
     "execution_count": 45,
     "metadata": {},
     "output_type": "execute_result"
    },
    {
     "data": {
      "image/png": "[encoded data removed]",
      "text/plain": [
       "<Figure size 432x288 with 2 Axes>"
      ]
     },
     "metadata": {
      "needs_background": "light"
     },
     "output_type": "display_data"
    }
   ],
   "source": [
    "plt.imshow(M)\n",
    "plt.colorbar()"
   ]
  },
  {
   "cell_type": "code",
   "execution_count": 47,
   "metadata": {
    "ExecuteTime": {
     "end_time": "2019-10-25T16:46:44.668735Z",
     "start_time": "2019-10-25T16:46:44.662751Z"
    }
   },
   "outputs": [
    {
     "data": {
      "text/plain": [
       "array([ 2.00210159,  6.00013068,  9.85720548, 12.72803497, 13.38493503,\n",
       "       13.00742283, 12.53217278, 11.91103328, 11.27760419, 10.59389518,\n",
       "       10.52527785, 10.37767599, 10.33841864, 10.2513076 , 10.29710621,\n",
       "       10.31319781, 10.33045907, 10.28749164, 10.31843321, 10.30215095,\n",
       "       10.40100694, 10.6384003 , 11.22356013, 11.92741679, 12.68940498,\n",
       "       13.08122362, 13.45457105, 12.77134948,  9.86535576,  6.00057439,\n",
       "        2.00210608])"
      ]
     },
     "execution_count": 47,
     "metadata": {},
     "output_type": "execute_result"
    }
   ],
   "source": [
    "get_band_of_matrix(M*beta,0)"
   ]
  },
  {
   "cell_type": "code",
   "execution_count": 48,
   "metadata": {
    "ExecuteTime": {
     "end_time": "2019-10-25T17:20:02.238739Z",
     "start_time": "2019-10-25T17:20:02.233780Z"
    }
   },
   "outputs": [
    {
     "data": {
      "text/plain": [
       "array([-0.5       , -0.5       , -0.5       , -0.5       , -0.5       ,\n",
       "       -0.5       , -0.5       , -0.5       , -0.5       , -0.5       ,\n",
       "       -0.5       , -0.5       , -0.5       , -0.5       , -0.5       ,\n",
       "       -0.5       , -0.5       , -0.5       , -0.5       , -0.5       ,\n",
       "       -0.5       , -0.5       , -0.5       , -0.5       , -0.5000001 ,\n",
       "       -0.5000001 , -0.50002168, -0.50002168, -0.50463482, -0.50463482,\n",
       "       -1.        ])"
      ]
     },
     "execution_count": 48,
     "metadata": {},
     "output_type": "execute_result"
    }
   ],
   "source": [
    "-S-0.5"
   ]
  },
  {
   "cell_type": "code",
   "execution_count": null,
   "metadata": {},
   "outputs": [],
   "source": []
  }
 ],
 "metadata": {
  "kernelspec": {
   "display_name": "Python 3",
   "language": "python",
   "name": "python3"
  },
  "language_info": {
   "codemirror_mode": {
    "name": "ipython",
    "version": 3
   },
   "file_extension": ".py",
   "mimetype": "text/x-python",
   "name": "python",
   "nbconvert_exporter": "python",
   "pygments_lexer": "ipython3",
   "version": "3.7.1"
  },
  "nbTranslate": {
   "displayLangs": [
    "*"
   ],
   "hotkey": "alt-t",
   "langInMainMenu": true,
   "sourceLang": "en",
   "targetLang": "fr",
   "useGoogleTranslate": true
  },
  "toc": {
   "base_numbering": 1,
   "nav_menu": {},
   "number_sections": true,
   "sideBar": true,
   "skip_h1_title": false,
   "title_cell": "Table of Contents",
   "title_sidebar": "Contents",
   "toc_cell": false,
   "toc_position": {},
   "toc_section_display": true,
   "toc_window_display": false
  },
  "varInspector": {
   "cols": {
    "lenName": 16,
    "lenType": 16,
    "lenVar": 40
   },
   "kernels_config": {
    "python": {
     "delete_cmd_postfix": "",
     "delete_cmd_prefix": "del ",
     "library": "var_list.py",
     "varRefreshCmd": "print(var_dic_list())"
    },
    "r": {
     "delete_cmd_postfix": ") ",
     "delete_cmd_prefix": "rm(",
     "library": "var_list.r",
     "varRefreshCmd": "cat(var_dic_list()) "
    }
   },
   "types_to_exclude": [
    "module",
    "function",
    "builtin_function_or_method",
    "instance",
    "_Feature"
   ],
   "window_display": false
  }
 },
 "nbformat": 4,
 "nbformat_minor": 2
}
