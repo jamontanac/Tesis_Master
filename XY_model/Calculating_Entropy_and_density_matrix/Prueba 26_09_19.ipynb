{
 "cells": [
  {
   "cell_type": "code",
   "execution_count": 1,
   "metadata": {
    "ExecuteTime": {
     "end_time": "2019-09-26T19:06:31.512740Z",
     "start_time": "2019-09-26T19:06:26.059284Z"
    }
   },
   "outputs": [
    {
     "data": {
      "text/html": [
       "\n",
       "<style>\n",
       ".output {\n",
       "    display: flex;\n",
       "    align-items: left;\n",
       "    text-align: center;\n",
       "}\n",
       "</style>\n"
      ],
      "text/plain": [
       "<IPython.core.display.HTML object>"
      ]
     },
     "metadata": {},
     "output_type": "display_data"
    }
   ],
   "source": [
    "import numpy as np\n",
    "import matplotlib.pylab as plt\n",
    "import pandas as pd\n",
    "from ipywidgets import interactive\n",
    "from scipy.fftpack import fft, ifft,ifftshift,fftshift\n",
    "from IPython.display import display, HTML\n",
    "from scipy.linalg import circulant\n",
    "from scipy.linalg import toeplitz, hankel\n",
    "\n",
    "\n",
    "#### --------- Definition of variables ------------------------\n",
    "\n",
    "N_size=50001 #\n",
    "Gamma=0.5\n",
    "Lambda=0.5\n",
    "\n",
    "#### ------------------------------------------------------------\n",
    "\n",
    "\n",
    "def Create_circulant_slow(array_elements):\n",
    "    N=len(array_elements)\n",
    "    T=np.zeros((N,N))\n",
    "    for i in range(N-1):\n",
    "        T[i+1,i]=1\n",
    "    T[0,N-1]=1\n",
    "    circulant_matrix=array_elements[0]*np.eye(N)\n",
    "    result=T\n",
    "    for i in range(1,N):\n",
    "        circulant_matrix+=result*array_elements[i]\n",
    "        result=np.matmul(result,T)\n",
    "    return circulant_matrix\n",
    "\n",
    "def Create_circulant(array_elements):\n",
    "    N=len(array_elements)\n",
    "    if N%2==0:\n",
    "        array_elements=np.roll(array_elements,N//2)\n",
    "    else:\n",
    "        array_elements=np.roll(array_elements,N//2+1)\n",
    "    circulant=[]\n",
    "    for i in range(N):\n",
    "        circulant.append(np.roll(array_elements,i))\n",
    "    return np.array(circulant)\n",
    "\n",
    "def Create_anti_circulant(array_elements):\n",
    "    N=len(array_elements)\n",
    "    if N%2==0:\n",
    "        array_elements=np.roll(array_elements,N//2)\n",
    "    else:\n",
    "        array_elements=np.roll(array_elements,N//2+1)\n",
    "    circulant=[]\n",
    "    for i in range(N):\n",
    "        circulant.append(np.roll(array_elements[::-1],-i))\n",
    "    return np.array(circulant)\n",
    "\n",
    "display(HTML(\"\"\"\n",
    "<style>\n",
    ".output {\n",
    "    display: flex;\n",
    "    align-items: left;\n",
    "    text-align: center;\n",
    "}\n",
    "</style>\n",
    "\"\"\"))\n",
    "\n",
    "def Alpha(Gamma,Lambda,theta):\n",
    "    return Lambda+np.cos(theta)\n",
    "def Beta(Gamma,Lambda,theta):\n",
    "    return Gamma*np.sin(theta)\n",
    "def Omega(Gamma,Lambda,theta):\n",
    "    return np.sqrt(Alpha(Gamma,Lambda,theta)**2 + Beta(Gamma,Lambda,theta)**2 )\n",
    "def Phi(Gamma,Lambda,theta):\n",
    "    return np.arctan2(Beta(Gamma,Lambda,theta),Alpha(Gamma,Lambda,theta))\n",
    "\n",
    "\n",
    "\n",
    "### ----------------------- Fourier theoric ----------------------------------\n",
    "\n",
    "def Fourier_theoric(random_numbers_m,Gamma,Lambda,N_size):   \n",
    "    result=np.zeros(N_size)\n",
    "    index_result=0\n",
    "    for w in np.arange(-(N_size-1)/2,(N_size-1)/2 +1):\n",
    "        result[index_result]=random_numbers_m[0]+np.sum([2*random_numbers_m[i]*np.cos(Phi(Gamma,Lambda,2.0*np.pi/N_size * i) - w*2*np.pi/N_size*i) for i in range(1,(N_size-1)//2 +1)]) \n",
    "        index_result+=1\n",
    "    return result\n",
    "\n",
    "## ------------------ My own fourier transform -------------------------------------\n",
    "def FT(x):\n",
    "    N = len(x)\n",
    "    X = np.zeros(N, dtype=complex)\n",
    "    ind_1=0\n",
    "    for k in np.arange(-(N-1)/2,(N-1)/2+1):\n",
    "        X[ind_1] = 0.0j\n",
    "        ind_2=0\n",
    "        for n in np.arange(-(N-1)/2,(N-1)/2+1):\n",
    "            X[ind_1] += x[ind_2] *np.exp(-1.0j*(2.0*np.pi/(N))*k*n) #(np.cos((2.0*np.pi/(N))*k*n))#\n",
    "            #print(n, X[ind_1])\n",
    "            ind_2+=1\n",
    "        #print(k,X[ind_1])\n",
    "        ind_1+=1\n",
    "    return X\n",
    "\n",
    "def Fermi_dirac(beta,mu,n,Gamma=Gamma,Lambda=Lambda,N=N_size):\n",
    "    # beta is the inverse thermic energy associated in the system (beta)\n",
    "    # mu corresponds to the chemical potential\n",
    "    # n is the position of the particle\n",
    "    # f=np.exp(T*(Omega(Gamma,Lambda,2.0*(np.pi/N)*n)-mu)) +1\n",
    "    # N corresponds to the size of the system\n",
    "    f=np.exp(beta*(Omega(Gamma,Lambda,((2.*np.pi)/float(N)) * n)-mu)) +1\n",
    "    return 1/f\n",
    "\n",
    "def plot_interactive(beta,mu):\n",
    "    plt.figure(figsize=(10,7))\n",
    "    n=np.arange(-(N_size-1)/2,(N_size-1)/2+ 1)\n",
    "    plt.subplot(2,1,1)\n",
    "    plt.plot(n,Fermi_dirac(beta,mu,n))\n",
    "    #plt.ylim(-0.05,1.05)\n",
    "    plt.xlabel(\"Position\")\n",
    "    plt.ylabel(\"Probability\")\n",
    "    plt.subplot(2,1,2)\n",
    "    plt.plot(n,Omega(Gamma,Lambda,(2.*np.pi)/float(N_size)*n),label=r\"$\\Omega$\")\n",
    "    plt.show()\n",
    "\n",
    "def Take_portion(matrix,size,copy=True):\n",
    "    if copy:\n",
    "        new_matrix=matrix.copy()\n",
    "        return new_matrix[:size,:size]\n",
    "    else:\n",
    "        return matrix[:size,:size]\n",
    "    \n",
    "def Binary_entropy(x):\n",
    "    result=[]\n",
    "    for i in x:\n",
    "        if np.abs(i-1)<10E-10:\n",
    "            result.append(0)\n",
    "        else:\n",
    "            result.append(-i*np.log(i)-(1-i)*np.log(1-i))\n",
    "    return np.array(result)\n",
    "    \n",
    "def Get_Bands_Matrix(beta,mu,Gamma,Lambda,N_size,Ground =False):\n",
    "    if Ground:\n",
    "        x=np.arange(0,(N_size-1)/2+ 1)\n",
    "        m_cos=[-0.5 for i in x]\n",
    "        m_sin=[-0.5 for i in x]\n",
    "        m_cos=np.array(m_cos[1:][::-1]+m_cos)\n",
    "        m_sin=np.array(m_sin[1:][::-1]+m_sin)\n",
    "        M_plus=(m_cos+m_sin)*0.5\n",
    "        M_minous=(m_cos-m_sin)*0.5\n",
    "        x=np.arange(-(N_size-1)/2,(N_size-1)/2+1)\n",
    "        Mplusband=[np.exp(1.j*np.sign((2.0*np.pi/N_size) * i)*Phi(Gamma,Lambda,np.abs((2.0*np.pi/N_size) * i))) for i in x]\n",
    "        Mplusband=M_plus*np.array(Mplusband)\n",
    "        Mminousband=[np.exp(1.j*np.sign((2.0*np.pi/N_size) * i)*Phi(Gamma,Lambda,np.abs((2.0*np.pi/N_size) * i))) for i in x]\n",
    "        Mminousband=M_minous*np.array(Mminousband)\n",
    "        \n",
    "    else:\n",
    "        x=np.arange(0,(N_size-1)/2+ 1)\n",
    "        m_cos=[-0.5 if np.random.random()>Fermi_dirac(beta,mu,i) else 0.5 for i in x]\n",
    "        m_sin=[-0.5 if np.random.random()>Fermi_dirac(beta,mu,i) else 0.5 for i in x]\n",
    "        m_cos=np.array(m_cos[1:][::-1]+m_cos)\n",
    "        m_sin=np.array(m_sin[1:][::-1]+m_sin)\n",
    "        M_plus=(m_cos+m_sin)*0.5\n",
    "        M_minous=(m_cos-m_sin)*0.5\n",
    "        x=np.arange(-(N_size-1)/2,(N_size-1)/2+1)\n",
    "        Mplusband=[np.exp(1.j*np.sign((2.0*np.pi/N_size) * i)*Phi(Gamma,Lambda,np.abs((2.0*np.pi/N_size) * i))) for i in x]\n",
    "        Mplusband=M_plus*np.array(Mplusband)\n",
    "        Mminousband=[np.exp(1.j*np.sign((2.0*np.pi/N_size) * i)*Phi(Gamma,Lambda,np.abs((2.0*np.pi/N_size) * i))) for i in x]\n",
    "        Mminousband=M_minous*np.array(Mminousband)\n",
    "        \n",
    "    x=np.arange(-(N_size-1)/2,(N_size-1)/2+ 1)\n",
    "    Fourier_plus=fftshift(fft(ifftshift(Mplusband)))\n",
    "    Fourier_minous=fftshift(fft(ifftshift(Mminousband)))\n",
    "    return Fourier_plus,Fourier_minous\n",
    "\n",
    "def Sample_subsystem(L,beta,mu,Gamma,Lambda,N_size,Ground=False):\n",
    "    if Ground:\n",
    "        F_plus, F_minous = Get_Bands_Matrix(beta,mu,Gamma,Lambda,N_size,Ground=Ground)\n",
    "    else:\n",
    "        F_plus, F_minous = Get_Bands_Matrix(beta,mu,Gamma,Lambda,N_size)\n",
    "    return F_plus[(N_size-1)//2-L+1:(N_size-1)//2+L], F_minous[(N_size-1)//2-L+1:(N_size-1)//2+L]\n",
    "\n",
    "def Toeplitz_matrix(array,L):\n",
    "    Toeplitz=np.zeros((L,L),dtype=np.complex)\n",
    "    aux=0\n",
    "    for i in range(L):\n",
    "        #print(array[aux:aux+L][::-1].shape)\n",
    "        Toeplitz[:,i]=array[aux:aux+L][::-1]\n",
    "        aux+=1\n",
    "    return Toeplitz\n",
    "def Covariance_matrix(L,beta,mu,Gamma,Lambda,N_size,Ground=False):\n",
    "    if Ground:\n",
    "        circulant, anticirculant = Sample_subsystem(L,beta,mu,Gamma,Lambda,N_size,Ground=Ground)\n",
    "    else:\n",
    "        circulant, anticirculant = Sample_subsystem(L,beta,mu,Gamma,Lambda,N_size)\n",
    "    return (Toeplitz_matrix(circulant,L)+Toeplitz_matrix(anticirculant,L))/N_size\n",
    "\n",
    "\n",
    "\n",
    "def Sample_from_chain(L,N_size,array_1,array_2):\n",
    "    #Array_1 and Array_2 are 2 arrays with the circulant and the anticirculant part\n",
    "    return array_1[(N_size-1)//2-L+1:(N_size-1)//2+L], array_2[(N_size-1)//2-L+1:(N_size-1)//2+L]\n",
    "def Covariance_matrix_from_sample(L,N_size,array_1,array_2):\n",
    "    Band_L_plus, Band_L_minous = Sample_from_chain(L,N_size,array_1,array_2)\n",
    "    return (Toeplitz_matrix(Band_L_plus,L)+Toeplitz_matrix(Band_L_minous,L))/N_size"
   ]
  },
  {
   "cell_type": "code",
   "execution_count": 2,
   "metadata": {
    "ExecuteTime": {
     "end_time": "2019-09-26T19:06:34.991555Z",
     "start_time": "2019-09-26T19:06:31.514701Z"
    }
   },
   "outputs": [],
   "source": [
    "N_size=2*int(10**5)+1\n",
    "L=31\n",
    "mu=0\n",
    "n=np.arange(-(N_size-1)/2,(N_size-1)/2 +1)\n",
    "gap_temp=np.min(Omega(Gamma,Lambda,(2.*np.pi)/float(N_size)*n))\n",
    "beta=gap_temp\n",
    "F_plus,F_minous=Get_Bands_Matrix(beta,mu,Gamma,Lambda,N_size,Ground=True)"
   ]
  },
  {
   "cell_type": "code",
   "execution_count": 3,
   "metadata": {
    "ExecuteTime": {
     "end_time": "2019-09-26T19:06:39.234363Z",
     "start_time": "2019-09-26T19:06:34.992915Z"
    }
   },
   "outputs": [
    {
     "data": {
      "image/png": "[encoded data removed]",
      "text/plain": [
       "<Figure size 432x288 with 1 Axes>"
      ]
     },
     "metadata": {
      "needs_background": "light"
     },
     "output_type": "display_data"
    },
    {
     "name": "stdout",
     "output_type": "stream",
     "text": [
      "4.125083592605838\n"
     ]
    }
   ],
   "source": [
    "from IPython.display import clear_output\n",
    "for L in range(31,101,2):\n",
    "    clear_output(wait=True)\n",
    "    New_cov_matrix=Covariance_matrix_from_sample(L,N_size,F_plus,F_minous)\n",
    "    A,S,B=np.linalg.svd(New_cov_matrix)\n",
    "    n=np.arange(-(L-1)/2,(L-1)/2 +1)\n",
    "    array_to_plot=sorted(-S+0.5,reverse=True)\n",
    "    plt.plot(array_to_plot,label=\"Singular values\")\n",
    "    plt.plot(np.array(sorted(Fermi_dirac(beta,mu,n,N=L),reverse=True)),label=\"Fermi distribution\")\n",
    "    plt.legend()\n",
    "    plt.title(\"lenght of {}\".format(L))\n",
    "    plt.show()\n",
    "    print(np.sqrt(np.sum(np.square(array_to_plot-np.array(sorted(Fermi_dirac(beta,mu,n,N=L),reverse=True))))))"
   ]
  },
  {
   "cell_type": "code",
   "execution_count": 4,
   "metadata": {
    "ExecuteTime": {
     "end_time": "2019-09-26T19:06:39.240319Z",
     "start_time": "2019-09-26T19:06:39.236331Z"
    }
   },
   "outputs": [],
   "source": [
    "F_max,F_min=Sample_from_chain(5,N_size,F_plus,F_minous)"
   ]
  },
  {
   "cell_type": "code",
   "execution_count": null,
   "metadata": {
    "ExecuteTime": {
     "end_time": "2019-09-26T14:30:34.216167Z",
     "start_time": "2019-09-26T14:30:33.567787Z"
    }
   },
   "outputs": [],
   "source": []
  },
  {
   "cell_type": "code",
   "execution_count": 5,
   "metadata": {
    "ExecuteTime": {
     "end_time": "2019-09-26T19:06:39.469351Z",
     "start_time": "2019-09-26T19:06:39.243310Z"
    }
   },
   "outputs": [
    {
     "data": {
      "text/plain": [
       "<matplotlib.colorbar.Colorbar at 0x19ba570ce48>"
      ]
     },
     "execution_count": 5,
     "metadata": {},
     "output_type": "execute_result"
    },
    {
     "data": {
      "image/png": "[encoded data removed]",
      "text/plain": [
       "<Figure size 432x288 with 2 Axes>"
      ]
     },
     "metadata": {
      "needs_background": "light"
     },
     "output_type": "display_data"
    }
   ],
   "source": [
    "\n",
    "plt.imshow(Toeplitz_matrix(F_max[::-1],5)[::-1].real)\n",
    "plt.colorbar()"
   ]
  },
  {
   "cell_type": "code",
   "execution_count": null,
   "metadata": {
    "ExecuteTime": {
     "end_time": "2019-09-26T13:34:31.641188Z",
     "start_time": "2019-09-26T13:34:31.637201Z"
    }
   },
   "outputs": [],
   "source": []
  },
  {
   "cell_type": "code",
   "execution_count": null,
   "metadata": {
    "ExecuteTime": {
     "end_time": "2019-09-26T18:01:09.276979Z",
     "start_time": "2019-09-26T17:59:18.218009Z"
    }
   },
   "outputs": [],
   "source": []
  },
  {
   "cell_type": "code",
   "execution_count": 6,
   "metadata": {
    "ExecuteTime": {
     "end_time": "2019-09-26T19:06:39.477254Z",
     "start_time": "2019-09-26T19:06:39.470304Z"
    }
   },
   "outputs": [],
   "source": [
    "def Hankel_matrix(array,L):\n",
    "    Hankel=np.zeros((L,L),dtype=np.complex)\n",
    "    aux=0\n",
    "    for i in range(L-1,-1,-1):\n",
    "        #print(array[aux:aux+L][::-1].shape)\n",
    "        Hankel[:,i]=array[aux:aux+L][::-1]\n",
    "        aux+=1\n",
    "    return Hankel\n",
    "\n",
    "def Hankel_matrix_2(array,L):\n",
    "    Hankel=Toeplitz_matrix(array[::-1],L)[::-1]\n",
    "    return Hankel"
   ]
  },
  {
   "cell_type": "code",
   "execution_count": null,
   "metadata": {},
   "outputs": [],
   "source": []
  },
  {
   "cell_type": "code",
   "execution_count": 7,
   "metadata": {
    "ExecuteTime": {
     "end_time": "2019-09-26T19:06:39.491249Z",
     "start_time": "2019-09-26T19:06:39.479250Z"
    }
   },
   "outputs": [
    {
     "data": {
      "text/plain": [
       "array([-5, -4, -3, -2, -1,  0,  1,  2,  3,  4,  5])"
      ]
     },
     "execution_count": 7,
     "metadata": {},
     "output_type": "execute_result"
    }
   ],
   "source": [
    "np.arange(-5,6)"
   ]
  },
  {
   "cell_type": "code",
   "execution_count": 8,
   "metadata": {
    "ExecuteTime": {
     "end_time": "2019-09-26T19:06:39.508202Z",
     "start_time": "2019-09-26T19:06:39.492214Z"
    }
   },
   "outputs": [
    {
     "data": {
      "text/plain": [
       "array([-1, -2, -3, -4, -5,  5,  4,  3,  2,  1,  0])"
      ]
     },
     "execution_count": 8,
     "metadata": {},
     "output_type": "execute_result"
    }
   ],
   "source": [
    "ifftshift(np.arange(-5,6))[::-1]"
   ]
  },
  {
   "cell_type": "code",
   "execution_count": 9,
   "metadata": {
    "ExecuteTime": {
     "end_time": "2019-09-26T19:06:39.525140Z",
     "start_time": "2019-09-26T19:06:39.509212Z"
    }
   },
   "outputs": [
    {
     "data": {
      "text/plain": [
       "array([[-1, -2, -3, -4, -5,  5,  4,  3,  2,  1,  0],\n",
       "       [-2, -3, -4, -5,  5,  4,  3,  2,  1,  0, -1],\n",
       "       [-3, -4, -5,  5,  4,  3,  2,  1,  0, -1, -2],\n",
       "       [-4, -5,  5,  4,  3,  2,  1,  0, -1, -2, -3],\n",
       "       [-5,  5,  4,  3,  2,  1,  0, -1, -2, -3, -4],\n",
       "       [ 5,  4,  3,  2,  1,  0, -1, -2, -3, -4, -5],\n",
       "       [ 4,  3,  2,  1,  0, -1, -2, -3, -4, -5,  5],\n",
       "       [ 3,  2,  1,  0, -1, -2, -3, -4, -5,  5,  4],\n",
       "       [ 2,  1,  0, -1, -2, -3, -4, -5,  5,  4,  3],\n",
       "       [ 1,  0, -1, -2, -3, -4, -5,  5,  4,  3,  2],\n",
       "       [ 0, -1, -2, -3, -4, -5,  5,  4,  3,  2,  1]])"
      ]
     },
     "execution_count": 9,
     "metadata": {},
     "output_type": "execute_result"
    }
   ],
   "source": [
    "hankel(ifftshift(np.arange(-5,6))[::-1],np.roll(ifftshift(np.arange(-5,6))[::-1],1))"
   ]
  },
  {
   "cell_type": "code",
   "execution_count": 10,
   "metadata": {
    "ExecuteTime": {
     "end_time": "2019-09-26T19:06:39.544076Z",
     "start_time": "2019-09-26T19:06:39.526124Z"
    }
   },
   "outputs": [
    {
     "data": {
      "text/plain": [
       "array([[-1, -2, -3],\n",
       "       [-2, -3, -4],\n",
       "       [-3, -4, -5]])"
      ]
     },
     "execution_count": 10,
     "metadata": {},
     "output_type": "execute_result"
    }
   ],
   "source": [
    "hankel(ifftshift(np.arange(-5,6))[::-1],np.roll(ifftshift(np.arange(-5,6))[::-1],1))[:3,:3]"
   ]
  },
  {
   "cell_type": "markdown",
   "metadata": {},
   "source": [
    "F_plus,F_minous have to be taken differently"
   ]
  },
  {
   "cell_type": "code",
   "execution_count": 11,
   "metadata": {
    "ExecuteTime": {
     "end_time": "2019-09-26T19:06:39.558073Z",
     "start_time": "2019-09-26T19:06:39.547097Z"
    }
   },
   "outputs": [],
   "source": [
    "N_size=2*int(10**1)+1\n",
    "L=5\n",
    "mu=0\n",
    "gap_temp=np.min(Omega(Gamma,Lambda,(2.*np.pi)/float(N_size)*n))\n",
    "beta=0.48\n",
    "F_plus,F_minous=Get_Bands_Matrix(beta,mu,Gamma,Lambda,N_size,Ground=True)"
   ]
  },
  {
   "cell_type": "code",
   "execution_count": 12,
   "metadata": {
    "ExecuteTime": {
     "end_time": "2019-09-26T19:06:39.574001Z",
     "start_time": "2019-09-26T19:06:39.559067Z"
    }
   },
   "outputs": [
    {
     "data": {
      "text/plain": [
       "array([0, 1, 2, 3, 4, 5])"
      ]
     },
     "execution_count": 12,
     "metadata": {},
     "output_type": "execute_result"
    }
   ],
   "source": [
    "A=np.arange(-5,6)\n",
    "A[(len(A)-1)//2:]"
   ]
  },
  {
   "cell_type": "code",
   "execution_count": 13,
   "metadata": {
    "ExecuteTime": {
     "end_time": "2019-09-26T19:06:39.698700Z",
     "start_time": "2019-09-26T19:06:39.574997Z"
    }
   },
   "outputs": [
    {
     "data": {
      "text/plain": [
       "<matplotlib.image.AxesImage at 0x19b97d41860>"
      ]
     },
     "execution_count": 13,
     "metadata": {},
     "output_type": "execute_result"
    },
    {
     "data": {
      "image/png": "[encoded data removed]",
      "text/plain": [
       "<Figure size 432x288 with 1 Axes>"
      ]
     },
     "metadata": {
      "needs_background": "light"
     },
     "output_type": "display_data"
    }
   ],
   "source": [
    "plt.imshow(Toeplitz_matrix(F_plus[(N_size-1)//2-L+1:(N_size-1)//2+L],L).real)"
   ]
  },
  {
   "cell_type": "code",
   "execution_count": 14,
   "metadata": {
    "ExecuteTime": {
     "end_time": "2019-09-26T19:06:39.704648Z",
     "start_time": "2019-09-26T19:06:39.699689Z"
    }
   },
   "outputs": [
    {
     "data": {
      "text/plain": [
       "array([-1, -2, -3, -4, -5,  5,  4,  3,  2,  1,  0])"
      ]
     },
     "execution_count": 14,
     "metadata": {},
     "output_type": "execute_result"
    }
   ],
   "source": [
    "np.roll(fftshift(np.arange(-5,6)),1)[::-1]"
   ]
  },
  {
   "cell_type": "code",
   "execution_count": 15,
   "metadata": {
    "ExecuteTime": {
     "end_time": "2019-09-26T19:06:39.717642Z",
     "start_time": "2019-09-26T19:06:39.705644Z"
    }
   },
   "outputs": [],
   "source": [
    "def Hankel_matrix(array,L):\n",
    "    Hankel=np.zeros((L,L),dtype=np.complex)\n",
    "    aux=0\n",
    "    for i in range(L-1,-1,-1):\n",
    "        #print(array[aux:aux+L][::-1].shape)\n",
    "        Hankel[:,i]=array[aux:aux+L][::-1]\n",
    "        aux+=1\n",
    "    return Hankel"
   ]
  },
  {
   "cell_type": "code",
   "execution_count": 16,
   "metadata": {
    "ExecuteTime": {
     "end_time": "2019-09-26T19:06:39.884208Z",
     "start_time": "2019-09-26T19:06:39.718644Z"
    }
   },
   "outputs": [
    {
     "name": "stderr",
     "output_type": "stream",
     "text": [
      "C:\\Users\\jamontana\\AppData\\Roaming\\Python\\Python37\\site-packages\\numpy\\core\\numeric.py:538: ComplexWarning: Casting complex values to real discards the imaginary part\n",
      "  return array(a, dtype, copy=False, order=order)\n"
     ]
    },
    {
     "data": {
      "image/png": "[encoded data removed]",
      "text/plain": [
       "<Figure size 432x288 with 1 Axes>"
      ]
     },
     "metadata": {
      "needs_background": "light"
     },
     "output_type": "display_data"
    }
   ],
   "source": [
    "L=21\n",
    "plt.plot(np.roll(fftshift(F_plus),1)[::-1][:2*L-1])\n",
    "Hankel=np.zeros((L,L),dtype=np.complex)\n",
    "new_array=np.roll(fftshift(F_plus),1)[::-1][:2*L-1]\n",
    "aux=0\n",
    "aux_array=new_array.copy()\n",
    "for i in range(L):\n",
    "    Hankel[:,i]=aux_array[:L]\n",
    "    aux_array=np.roll(aux_array,-1)"
   ]
  },
  {
   "cell_type": "code",
   "execution_count": 17,
   "metadata": {
    "ExecuteTime": {
     "end_time": "2019-09-26T19:06:39.891187Z",
     "start_time": "2019-09-26T19:06:39.886200Z"
    }
   },
   "outputs": [
    {
     "data": {
      "text/plain": [
       "array([-2, -1,  0,  1,  2,  3, -3])"
      ]
     },
     "execution_count": 17,
     "metadata": {},
     "output_type": "execute_result"
    }
   ],
   "source": [
    "np.roll(np.arange(-3,4),-1)"
   ]
  },
  {
   "cell_type": "code",
   "execution_count": 18,
   "metadata": {
    "ExecuteTime": {
     "end_time": "2019-09-26T19:06:40.043779Z",
     "start_time": "2019-09-26T19:06:39.897170Z"
    }
   },
   "outputs": [
    {
     "data": {
      "text/plain": [
       "<matplotlib.image.AxesImage at 0x19ba5674be0>"
      ]
     },
     "execution_count": 18,
     "metadata": {},
     "output_type": "execute_result"
    },
    {
     "data": {
      "image/png": "[encoded data removed]",
      "text/plain": [
       "<Figure size 432x288 with 1 Axes>"
      ]
     },
     "metadata": {
      "needs_background": "light"
     },
     "output_type": "display_data"
    }
   ],
   "source": [
    "plt.imshow(Hankel.real)"
   ]
  },
  {
   "cell_type": "code",
   "execution_count": 19,
   "metadata": {
    "ExecuteTime": {
     "end_time": "2019-09-26T19:06:40.183407Z",
     "start_time": "2019-09-26T19:06:40.047769Z"
    }
   },
   "outputs": [
    {
     "data": {
      "text/plain": [
       "[<matplotlib.lines.Line2D at 0x19ba5e1bb70>]"
      ]
     },
     "execution_count": 19,
     "metadata": {},
     "output_type": "execute_result"
    },
    {
     "data": {
      "image/png": "[encoded data removed]",
      "text/plain": [
       "<Figure size 432x288 with 1 Axes>"
      ]
     },
     "metadata": {
      "needs_background": "light"
     },
     "output_type": "display_data"
    }
   ],
   "source": [
    "plt.plot(F_plus)"
   ]
  },
  {
   "cell_type": "code",
   "execution_count": null,
   "metadata": {},
   "outputs": [],
   "source": []
  },
  {
   "cell_type": "code",
   "execution_count": null,
   "metadata": {
    "ExecuteTime": {
     "end_time": "2019-09-26T18:01:55.706598Z",
     "start_time": "2019-09-26T18:01:55.698620Z"
    }
   },
   "outputs": [],
   "source": []
  },
  {
   "cell_type": "code",
   "execution_count": 20,
   "metadata": {
    "ExecuteTime": {
     "end_time": "2019-09-26T19:06:40.313086Z",
     "start_time": "2019-09-26T19:06:40.184433Z"
    }
   },
   "outputs": [
    {
     "data": {
      "text/plain": [
       "<matplotlib.image.AxesImage at 0x19ba5baac88>"
      ]
     },
     "execution_count": 20,
     "metadata": {},
     "output_type": "execute_result"
    },
    {
     "data": {
      "image/png": "[encoded data removed]",
      "text/plain": [
       "<Figure size 432x288 with 1 Axes>"
      ]
     },
     "metadata": {
      "needs_background": "light"
     },
     "output_type": "display_data"
    }
   ],
   "source": [
    "plt.imshow(hankel(ifftshift(F_plus)[::-1],np.roll(ifftshift(F_plus)[::-1],1)).real)"
   ]
  },
  {
   "cell_type": "code",
   "execution_count": 21,
   "metadata": {
    "ExecuteTime": {
     "end_time": "2019-09-26T19:06:40.440751Z",
     "start_time": "2019-09-26T19:06:40.314057Z"
    }
   },
   "outputs": [
    {
     "data": {
      "text/plain": [
       "<matplotlib.image.AxesImage at 0x19ba5bf7438>"
      ]
     },
     "execution_count": 21,
     "metadata": {},
     "output_type": "execute_result"
    },
    {
     "data": {
      "image/png": "[encoded data removed]",
      "text/plain": [
       "<Figure size 432x288 with 1 Axes>"
      ]
     },
     "metadata": {
      "needs_background": "light"
     },
     "output_type": "display_data"
    }
   ],
   "source": [
    "plt.imshow(Create_circulant(F_plus[::-1])[::-1].real)"
   ]
  },
  {
   "cell_type": "markdown",
   "metadata": {},
   "source": [
    "# corrections to Teoplitz matrix"
   ]
  },
  {
   "cell_type": "code",
   "execution_count": 22,
   "metadata": {
    "ExecuteTime": {
     "end_time": "2019-09-26T19:06:40.446709Z",
     "start_time": "2019-09-26T19:06:40.441749Z"
    }
   },
   "outputs": [],
   "source": [
    "#sample the array of th plus band as follows\n",
    "\n",
    "def Toeplitz_matrix(array):\n",
    "    Toeplitz=np.zeros(((len(array)+1)//2,(len(array)+1)//2),dtype=np.complex)\n",
    "    aux=array.copy()\n",
    "    for i in range((len(array)+1)//2):\n",
    "        Toeplitz[:,i]=aux[:(len(array)+1)//2][::-1]\n",
    "        aux=np.roll(aux,-1)\n",
    "    return Toeplitz"
   ]
  },
  {
   "cell_type": "code",
   "execution_count": 23,
   "metadata": {
    "ExecuteTime": {
     "end_time": "2019-09-26T19:06:40.462689Z",
     "start_time": "2019-09-26T19:06:40.447724Z"
    }
   },
   "outputs": [
    {
     "data": {
      "text/plain": [
       "array([[ 0.+0.j,  1.+0.j,  2.+0.j,  3.+0.j,  4.+0.j,  5.+0.j],\n",
       "       [-1.+0.j,  0.+0.j,  1.+0.j,  2.+0.j,  3.+0.j,  4.+0.j],\n",
       "       [-2.+0.j, -1.+0.j,  0.+0.j,  1.+0.j,  2.+0.j,  3.+0.j],\n",
       "       [-3.+0.j, -2.+0.j, -1.+0.j,  0.+0.j,  1.+0.j,  2.+0.j],\n",
       "       [-4.+0.j, -3.+0.j, -2.+0.j, -1.+0.j,  0.+0.j,  1.+0.j],\n",
       "       [-5.+0.j, -4.+0.j, -3.+0.j, -2.+0.j, -1.+0.j,  0.+0.j]])"
      ]
     },
     "execution_count": 23,
     "metadata": {},
     "output_type": "execute_result"
    }
   ],
   "source": [
    "Toeplitz_matrix(np.arange(-5,6))"
   ]
  },
  {
   "cell_type": "code",
   "execution_count": 24,
   "metadata": {
    "ExecuteTime": {
     "end_time": "2019-09-26T19:06:40.476652Z",
     "start_time": "2019-09-26T19:06:40.463690Z"
    }
   },
   "outputs": [],
   "source": [
    "A=np.arange(-(N_size-1)//2,(N_size-1)//2 +1)"
   ]
  },
  {
   "cell_type": "code",
   "execution_count": 25,
   "metadata": {
    "ExecuteTime": {
     "end_time": "2019-09-26T19:06:40.493616Z",
     "start_time": "2019-09-26T19:06:40.479616Z"
    }
   },
   "outputs": [
    {
     "data": {
      "text/plain": [
       "array([-4, -3, -2, -1,  0,  1,  2,  3,  4])"
      ]
     },
     "execution_count": 25,
     "metadata": {},
     "output_type": "execute_result"
    }
   ],
   "source": [
    "L=5\n",
    "A[(N_size-1)//2-L+1:(N_size-1)//2+L]"
   ]
  },
  {
   "cell_type": "code",
   "execution_count": 26,
   "metadata": {
    "ExecuteTime": {
     "end_time": "2019-09-26T19:06:40.509536Z",
     "start_time": "2019-09-26T19:06:40.495602Z"
    }
   },
   "outputs": [
    {
     "data": {
      "text/plain": [
       "array([-2, -1,  0,  1,  2])"
      ]
     },
     "execution_count": 26,
     "metadata": {},
     "output_type": "execute_result"
    }
   ],
   "source": [
    "L=5\n",
    "A[(N_size-L)//2:(N_size+L+1)//2]"
   ]
  },
  {
   "cell_type": "code",
   "execution_count": 27,
   "metadata": {
    "ExecuteTime": {
     "end_time": "2019-09-26T19:06:40.524494Z",
     "start_time": "2019-09-26T19:06:40.512534Z"
    }
   },
   "outputs": [
    {
     "data": {
      "text/plain": [
       "9"
      ]
     },
     "execution_count": 27,
     "metadata": {},
     "output_type": "execute_result"
    }
   ],
   "source": [
    "len(F_plus[(N_size-1)//2-L+1:(N_size-1)//2+L])"
   ]
  },
  {
   "cell_type": "raw",
   "metadata": {
    "ExecuteTime": {
     "end_time": "2019-09-26T16:08:20.543214Z",
     "start_time": "2019-09-26T16:08:20.422397Z"
    },
    "run_control": {
     "marked": true
    }
   },
   "source": [
    "plt.plot(np.arange(-(L-1)//2,(L-1)//2+1),F_plus[(N_size-1)//2-L+1:(N_size-1)//2+L])"
   ]
  },
  {
   "cell_type": "code",
   "execution_count": 28,
   "metadata": {
    "ExecuteTime": {
     "end_time": "2019-09-26T19:06:40.654163Z",
     "start_time": "2019-09-26T19:06:40.525491Z"
    }
   },
   "outputs": [
    {
     "data": {
      "text/plain": [
       "<matplotlib.image.AxesImage at 0x19ba5c85fd0>"
      ]
     },
     "execution_count": 28,
     "metadata": {},
     "output_type": "execute_result"
    },
    {
     "data": {
      "image/png": "[encoded data removed]",
      "text/plain": [
       "<Figure size 432x288 with 1 Axes>"
      ]
     },
     "metadata": {
      "needs_background": "light"
     },
     "output_type": "display_data"
    }
   ],
   "source": [
    "L=21\n",
    "plt.imshow(Toeplitz_matrix(F_plus[(N_size-L)//2:(N_size+L+1)//2]).real)"
   ]
  },
  {
   "cell_type": "code",
   "execution_count": 29,
   "metadata": {
    "ExecuteTime": {
     "end_time": "2019-09-26T19:06:40.661130Z",
     "start_time": "2019-09-26T19:06:40.655185Z"
    }
   },
   "outputs": [
    {
     "data": {
      "text/plain": [
       "array([ 0, -1, -2, -3, -4, -5,  5,  4,  3,  2,  1])"
      ]
     },
     "execution_count": 29,
     "metadata": {},
     "output_type": "execute_result"
    }
   ],
   "source": [
    "np.roll(ifftshift(np.arange(-5,6))[::-1],1)"
   ]
  },
  {
   "cell_type": "code",
   "execution_count": null,
   "metadata": {
    "ExecuteTime": {
     "end_time": "2019-09-26T14:18:38.803646Z",
     "start_time": "2019-09-26T14:18:38.800623Z"
    }
   },
   "outputs": [],
   "source": []
  },
  {
   "cell_type": "code",
   "execution_count": 30,
   "metadata": {
    "ExecuteTime": {
     "end_time": "2019-09-26T19:06:47.456537Z",
     "start_time": "2019-09-26T19:06:40.662128Z"
    }
   },
   "outputs": [
    {
     "name": "stdout",
     "output_type": "stream",
     "text": [
      "N=11, 2.3978952727983707\n",
      "0.4083762991436121\n",
      "N=59, 4.07753744390572\n",
      "0.409128076921946\n",
      "N=359, 5.883322388488279\n",
      "0.4082793434204711\n",
      "N=2155, 7.675546002537848\n",
      "0.40824829468453055\n",
      "N=12915, 9.46614470552994\n",
      "0.4082483016947436\n",
      "N=77427, 11.257090835957568\n",
      "0.4082482904998457\n",
      "N=464159, 13.047982444923402\n",
      "0.40824829046427696\n",
      "N=2782559, 14.838881565860316\n",
      "0.4082482904644992\n",
      "N=16681005, 16.62978120487837\n",
      "0.4082482904638668\n",
      "N=100000001, 18.420680753952364\n",
      "0.40824829046386313\n"
     ]
    }
   ],
   "source": [
    "for N_size in np.logspace(1,8,base=10,num=10):\n",
    "    N_size=int(N_size)\n",
    "    if N_size%2==0:\n",
    "        N_size+=1\n",
    "    print(\"N={}, {}\".format(N_size,np.log(N_size)))\n",
    "    n=np.arange(-(N_size-1)/2,(N_size-1)/2 +1)\n",
    "    print(np.min(Omega(Gamma,Lambda,(2.*np.pi)/float(N_size)*n)))"
   ]
  },
  {
   "cell_type": "markdown",
   "metadata": {},
   "source": [
    "# here we can set $\\beta=0.48$ "
   ]
  },
  {
   "cell_type": "code",
   "execution_count": 31,
   "metadata": {
    "ExecuteTime": {
     "end_time": "2019-09-26T19:06:47.463511Z",
     "start_time": "2019-09-26T19:06:47.457501Z"
    }
   },
   "outputs": [
    {
     "data": {
      "text/plain": [
       "array([ 2.30258509,  2.72550889,  3.14843268,  3.57135647,  3.99428026,\n",
       "        4.41720406,  4.84012785,  5.26305164,  5.68597543,  6.10889923,\n",
       "        6.53182302,  6.95474681,  7.3776706 ,  7.8005944 ,  8.22351819,\n",
       "        8.64644198,  9.06936577,  9.49228957,  9.91521336, 10.33813715,\n",
       "       10.76106094, 11.18398474, 11.60690853, 12.02983232, 12.45275612,\n",
       "       12.87567991, 13.2986037 , 13.72152749, 14.14445129, 14.56737508,\n",
       "       14.99029887, 15.41322266, 15.83614646, 16.25907025, 16.68199404,\n",
       "       17.10491783, 17.52784163, 17.95076542, 18.37368921, 18.796613  ,\n",
       "       19.2195368 , 19.64246059, 20.06538438, 20.48830817, 20.91123197,\n",
       "       21.33415576, 21.75707955, 22.18000334, 22.60292714, 23.02585093])"
      ]
     },
     "execution_count": 31,
     "metadata": {},
     "output_type": "execute_result"
    }
   ],
   "source": [
    "np.log(np.logspace(1,10,base=10))"
   ]
  },
  {
   "cell_type": "code",
   "execution_count": null,
   "metadata": {},
   "outputs": [],
   "source": []
  },
  {
   "cell_type": "code",
   "execution_count": null,
   "metadata": {},
   "outputs": [],
   "source": []
  },
  {
   "cell_type": "code",
   "execution_count": null,
   "metadata": {},
   "outputs": [],
   "source": []
  },
  {
   "cell_type": "markdown",
   "metadata": {},
   "source": [
    "# Test to fix the toeplitz matrix since it is not working for the general case"
   ]
  },
  {
   "cell_type": "code",
   "execution_count": 32,
   "metadata": {
    "ExecuteTime": {
     "end_time": "2019-09-26T19:06:47.704904Z",
     "start_time": "2019-09-26T19:06:47.464483Z"
    }
   },
   "outputs": [],
   "source": [
    "A=np.arange(-(N_size-1)//2,(N_size-1)//2+1)"
   ]
  },
  {
   "cell_type": "code",
   "execution_count": null,
   "metadata": {
    "ExecuteTime": {
     "end_time": "2019-09-26T18:09:42.472666Z",
     "start_time": "2019-09-26T18:09:42.463666Z"
    }
   },
   "outputs": [],
   "source": []
  },
  {
   "cell_type": "code",
   "execution_count": 33,
   "metadata": {
    "ExecuteTime": {
     "end_time": "2019-09-26T19:06:47.906365Z",
     "start_time": "2019-09-26T19:06:47.705873Z"
    }
   },
   "outputs": [
    {
     "data": {
      "text/plain": [
       "array([ 0,  1,  2, ..., -3, -2, -1])"
      ]
     },
     "execution_count": 33,
     "metadata": {},
     "output_type": "execute_result"
    }
   ],
   "source": [
    "ifftshift(A) # this is the result of fourier transform"
   ]
  },
  {
   "cell_type": "code",
   "execution_count": 34,
   "metadata": {
    "ExecuteTime": {
     "end_time": "2019-09-26T19:06:48.357229Z",
     "start_time": "2019-09-26T19:06:47.907335Z"
    }
   },
   "outputs": [
    {
     "data": {
      "text/plain": [
       "array([ 0, -1, -2, ...,  3,  2,  1])"
      ]
     },
     "execution_count": 34,
     "metadata": {},
     "output_type": "execute_result"
    }
   ],
   "source": [
    "np.roll(ifftshift(A),-1)[::-1] # this is what we need for the circulant"
   ]
  },
  {
   "cell_type": "code",
   "execution_count": 35,
   "metadata": {
    "ExecuteTime": {
     "end_time": "2019-09-26T19:06:48.817975Z",
     "start_time": "2019-09-26T19:06:48.358197Z"
    }
   },
   "outputs": [
    {
     "data": {
      "text/plain": [
       "array([ 0, -1, -2, -3])"
      ]
     },
     "execution_count": 35,
     "metadata": {},
     "output_type": "execute_result"
    }
   ],
   "source": [
    "np.roll(ifftshift(A),-1)[::-1][:4] # First column"
   ]
  },
  {
   "cell_type": "code",
   "execution_count": 36,
   "metadata": {
    "ExecuteTime": {
     "end_time": "2019-09-26T19:06:49.037446Z",
     "start_time": "2019-09-26T19:06:48.819985Z"
    }
   },
   "outputs": [
    {
     "data": {
      "text/plain": [
       "array([0, 1, 2, 3, 4])"
      ]
     },
     "execution_count": 36,
     "metadata": {},
     "output_type": "execute_result"
    }
   ],
   "source": [
    "ifftshift(A)[:5] # fisrt row"
   ]
  },
  {
   "cell_type": "code",
   "execution_count": 37,
   "metadata": {
    "ExecuteTime": {
     "end_time": "2019-09-26T19:06:49.090305Z",
     "start_time": "2019-09-26T19:06:49.038413Z"
    }
   },
   "outputs": [
    {
     "data": {
      "text/plain": [
       "array([[ 0,  1,  2, -2, -1],\n",
       "       [-1,  0,  1,  2, -2],\n",
       "       [-2, -1,  0,  1,  2],\n",
       "       [ 2, -2, -1,  0,  1],\n",
       "       [ 1,  2, -2, -1,  0]])"
      ]
     },
     "execution_count": 37,
     "metadata": {},
     "output_type": "execute_result"
    }
   ],
   "source": [
    "N_size=5\n",
    "A=np.arange(-(N_size-1)//2,(N_size-1)//2+1)\n",
    "toeplitz(np.roll(ifftshift(A),-1)[::-1],ifftshift(A))"
   ]
  },
  {
   "cell_type": "code",
   "execution_count": 38,
   "metadata": {
    "ExecuteTime": {
     "end_time": "2019-09-26T19:06:49.221953Z",
     "start_time": "2019-09-26T19:06:49.091273Z"
    }
   },
   "outputs": [
    {
     "data": {
      "text/plain": [
       "<matplotlib.image.AxesImage at 0x19ba5ae15f8>"
      ]
     },
     "execution_count": 38,
     "metadata": {},
     "output_type": "execute_result"
    },
    {
     "data": {
      "image/png": "[encoded data removed]",
      "text/plain": [
       "<Figure size 432x288 with 1 Axes>"
      ]
     },
     "metadata": {
      "needs_background": "light"
     },
     "output_type": "display_data"
    }
   ],
   "source": [
    "plt.imshow(toeplitz(np.roll(ifftshift(A),-1)[::-1],ifftshift(A)))"
   ]
  },
  {
   "cell_type": "code",
   "execution_count": 39,
   "metadata": {
    "ExecuteTime": {
     "end_time": "2019-09-26T19:06:49.226935Z",
     "start_time": "2019-09-26T19:06:49.222920Z"
    }
   },
   "outputs": [
    {
     "data": {
      "text/plain": [
       "array([-1, -2,  2,  1,  0])"
      ]
     },
     "execution_count": 39,
     "metadata": {},
     "output_type": "execute_result"
    }
   ],
   "source": [
    "ifftshift(A)[::-1] # this for the anticirculant"
   ]
  },
  {
   "cell_type": "markdown",
   "metadata": {},
   "source": [
    "# Now fourier returns the fourier modes from 0 to N"
   ]
  },
  {
   "cell_type": "code",
   "execution_count": 40,
   "metadata": {
    "ExecuteTime": {
     "end_time": "2019-09-26T19:06:49.245892Z",
     "start_time": "2019-09-26T19:06:49.227907Z"
    }
   },
   "outputs": [],
   "source": [
    "def Get_Bands_Matrix(Gamma,Lambda,N_size=N_size,beta=0.40824,mu=0,Ground =False):\n",
    "    if Ground:\n",
    "        x=np.arange(0,(N_size-1)/2+ 1)\n",
    "        m_cos=[-0.5 for i in x]\n",
    "        m_sin=[-0.5 for i in x]\n",
    "        m_cos=np.array(m_cos[1:][::-1]+m_cos)\n",
    "        m_sin=np.array(m_sin[1:][::-1]+m_sin)\n",
    "        M_plus=(m_cos+m_sin)*0.5\n",
    "        M_minous=(m_cos-m_sin)*0.5\n",
    "        x=np.arange(-(N_size-1)/2,(N_size-1)/2+1)\n",
    "        Mplusband=[np.exp(1.j*np.sign((2.0*np.pi/N_size) * i)*Phi(Gamma,Lambda,np.abs((2.0*np.pi/N_size) * i))) for i in x]\n",
    "        Mplusband=M_plus*np.array(Mplusband)\n",
    "        Mminousband=[np.exp(1.j*np.sign((2.0*np.pi/N_size) * i)*Phi(Gamma,Lambda,np.abs((2.0*np.pi/N_size) * i))) for i in x]\n",
    "        Mminousband=M_minous*np.array(Mminousband)\n",
    "        \n",
    "    else:\n",
    "        x=np.arange(0,(N_size-1)/2+ 1)\n",
    "        m_cos=[-0.5 if np.random.random()>Fermi_dirac(beta,mu,i) else 0.5 for i in x]\n",
    "        m_sin=[-0.5 if np.random.random()>Fermi_dirac(beta,mu,i) else 0.5 for i in x]\n",
    "        m_cos=np.array(m_cos[1:][::-1]+m_cos)\n",
    "        m_sin=np.array(m_sin[1:][::-1]+m_sin)\n",
    "        M_plus=(m_cos+m_sin)*0.5\n",
    "        M_minous=(m_cos-m_sin)*0.5\n",
    "        x=np.arange(-(N_size-1)/2,(N_size-1)/2+1)\n",
    "        Mplusband=[np.exp(1.j*np.sign((2.0*np.pi/N_size) * i)*Phi(Gamma,Lambda,np.abs((2.0*np.pi/N_size) * i))) for i in x]\n",
    "        Mplusband=M_plus*np.array(Mplusband)\n",
    "        Mminousband=[np.exp(1.j*np.sign((2.0*np.pi/N_size) * i)*Phi(Gamma,Lambda,np.abs((2.0*np.pi/N_size) * i))) for i in x]\n",
    "        Mminousband=M_minous*np.array(Mminousband)\n",
    "        \n",
    "    x=np.arange(-(N_size-1)/2,(N_size-1)/2+ 1)\n",
    "    Fourier_plus=fft(ifftshift(Mplusband))\n",
    "    Fourier_minous=fft(ifftshift(Mminousband))\n",
    "    return Fourier_plus,Fourier_minous\n",
    "def Toeplitz_matrix(Fourier_plus,L):\n",
    "    return toeplitz(np.roll(Fourier_plus,-1)[::-1][:L],Fourier_plus[:L])"
   ]
  },
  {
   "cell_type": "code",
   "execution_count": 41,
   "metadata": {
    "ExecuteTime": {
     "end_time": "2019-09-26T19:06:49.262821Z",
     "start_time": "2019-09-26T19:06:49.248852Z"
    }
   },
   "outputs": [],
   "source": [
    "N_size=21\n",
    "B_plus,B_minous=Get_Bands_Matrix(Gamma,Lambda,N_size=N_size,Ground=True)"
   ]
  },
  {
   "cell_type": "code",
   "execution_count": 42,
   "metadata": {
    "ExecuteTime": {
     "end_time": "2019-09-26T19:06:49.397707Z",
     "start_time": "2019-09-26T19:06:49.264816Z"
    }
   },
   "outputs": [
    {
     "data": {
      "text/plain": [
       "<matplotlib.image.AxesImage at 0x19ba5cd0eb8>"
      ]
     },
     "execution_count": 42,
     "metadata": {},
     "output_type": "execute_result"
    },
    {
     "data": {
      "image/png": "[encoded data removed]",
      "text/plain": [
       "<Figure size 432x288 with 1 Axes>"
      ]
     },
     "metadata": {
      "needs_background": "light"
     },
     "output_type": "display_data"
    }
   ],
   "source": [
    "L=11\n",
    "plt.imshow(Toeplitz_matrix(B_plus,L).real)"
   ]
  },
  {
   "cell_type": "markdown",
   "metadata": {},
   "source": [
    "# Teoplitz matrix problem solved!!"
   ]
  },
  {
   "cell_type": "code",
   "execution_count": 43,
   "metadata": {
    "ExecuteTime": {
     "end_time": "2019-09-26T19:06:49.403692Z",
     "start_time": "2019-09-26T19:06:49.398686Z"
    }
   },
   "outputs": [
    {
     "data": {
      "text/plain": [
       "array([-1, -2,  2,  1,  0])"
      ]
     },
     "execution_count": 43,
     "metadata": {},
     "output_type": "execute_result"
    }
   ],
   "source": [
    "ifftshift(A)[::-1] # this for the anticirculant"
   ]
  },
  {
   "cell_type": "code",
   "execution_count": 44,
   "metadata": {
    "ExecuteTime": {
     "end_time": "2019-09-26T19:06:49.419640Z",
     "start_time": "2019-09-26T19:06:49.404660Z"
    }
   },
   "outputs": [
    {
     "data": {
      "text/plain": [
       "array([[-1, -2,  2,  1,  0],\n",
       "       [-2,  2,  1,  0, -1],\n",
       "       [ 2,  1,  0, -1, -2],\n",
       "       [ 1,  0, -1, -2,  2],\n",
       "       [ 0, -1, -2,  2,  1]])"
      ]
     },
     "execution_count": 44,
     "metadata": {},
     "output_type": "execute_result"
    }
   ],
   "source": [
    "A\n",
    "hankel(ifftshift(A)[::-1],np.roll(ifftshift(A)[::-1],1))"
   ]
  },
  {
   "cell_type": "code",
   "execution_count": 45,
   "metadata": {
    "ExecuteTime": {
     "end_time": "2019-09-26T19:06:49.434612Z",
     "start_time": "2019-09-26T19:06:49.421615Z"
    }
   },
   "outputs": [],
   "source": [
    "N_size=11\n",
    "A=np.arange(-(N_size-1)//2,(N_size-1)//2+1)"
   ]
  },
  {
   "cell_type": "code",
   "execution_count": 46,
   "metadata": {
    "ExecuteTime": {
     "end_time": "2019-09-26T19:06:49.453564Z",
     "start_time": "2019-09-26T19:06:49.435613Z"
    }
   },
   "outputs": [
    {
     "data": {
      "text/plain": [
       "array([-1, -2, -3])"
      ]
     },
     "execution_count": 46,
     "metadata": {},
     "output_type": "execute_result"
    }
   ],
   "source": [
    "ifftshift(A)[::-1][:3] # First row and column"
   ]
  },
  {
   "cell_type": "code",
   "execution_count": 47,
   "metadata": {
    "ExecuteTime": {
     "end_time": "2019-09-26T19:06:49.470484Z",
     "start_time": "2019-09-26T19:06:49.454566Z"
    }
   },
   "outputs": [
    {
     "data": {
      "text/plain": [
       "array([-3, -4, -5])"
      ]
     },
     "execution_count": 47,
     "metadata": {},
     "output_type": "execute_result"
    }
   ],
   "source": [
    "np.roll(ifftshift(A),2)[::-1][:3] # last row"
   ]
  },
  {
   "cell_type": "code",
   "execution_count": 48,
   "metadata": {
    "ExecuteTime": {
     "end_time": "2019-09-26T19:06:49.487470Z",
     "start_time": "2019-09-26T19:06:49.471481Z"
    }
   },
   "outputs": [
    {
     "data": {
      "text/plain": [
       "array([[-1, -2, -3],\n",
       "       [-2, -3, -4],\n",
       "       [-3, -4, -5]])"
      ]
     },
     "execution_count": 48,
     "metadata": {},
     "output_type": "execute_result"
    }
   ],
   "source": [
    "hankel(ifftshift(A)[::-1][:3],np.roll(ifftshift(A),2)[::-1][:3])"
   ]
  },
  {
   "cell_type": "code",
   "execution_count": 49,
   "metadata": {
    "ExecuteTime": {
     "end_time": "2019-09-26T19:06:49.501430Z",
     "start_time": "2019-09-26T19:06:49.489443Z"
    }
   },
   "outputs": [],
   "source": [
    "def Hankel_matrix(Fourier_minous,L):\n",
    "    return hankel(Fourier_minous[::-1][:L],np.roll(Fourier_minous,L-1)[::-1][:L])"
   ]
  },
  {
   "cell_type": "code",
   "execution_count": 50,
   "metadata": {
    "ExecuteTime": {
     "end_time": "2019-09-26T19:06:49.518355Z",
     "start_time": "2019-09-26T19:06:49.503397Z"
    }
   },
   "outputs": [
    {
     "data": {
      "text/plain": [
       "11"
      ]
     },
     "execution_count": 50,
     "metadata": {},
     "output_type": "execute_result"
    }
   ],
   "source": [
    "N_size"
   ]
  },
  {
   "cell_type": "code",
   "execution_count": 51,
   "metadata": {
    "ExecuteTime": {
     "end_time": "2019-09-26T19:06:49.644020Z",
     "start_time": "2019-09-26T19:06:49.519353Z"
    }
   },
   "outputs": [
    {
     "data": {
      "text/plain": [
       "<matplotlib.image.AxesImage at 0x19ba5e333c8>"
      ]
     },
     "execution_count": 51,
     "metadata": {},
     "output_type": "execute_result"
    },
    {
     "data": {
      "image/png": "[encoded data removed]",
      "text/plain": [
       "<Figure size 432x288 with 1 Axes>"
      ]
     },
     "metadata": {
      "needs_background": "light"
     },
     "output_type": "display_data"
    }
   ],
   "source": [
    "L=21\n",
    "plt.imshow(Hankel_matrix(B_plus,5).real)"
   ]
  },
  {
   "cell_type": "code",
   "execution_count": 52,
   "metadata": {
    "ExecuteTime": {
     "end_time": "2019-09-26T19:06:49.650004Z",
     "start_time": "2019-09-26T19:06:49.645017Z"
    }
   },
   "outputs": [
    {
     "data": {
      "text/plain": [
       "array([-3.11492803e+00-2.77555756e-17j, -9.30161814e+00+1.94289029e-16j,\n",
       "        3.39603635e+00+3.33066907e-16j, -2.06804271e-01+2.50069095e-17j,\n",
       "       -6.30109278e-01-7.72189237e-18j,  4.19667334e-01+1.25348411e-16j,\n",
       "       -8.49295202e-02-1.73053183e-17j, -6.41972220e-02-5.08254177e-17j,\n",
       "        6.39909090e-02+1.08011987e-16j, -2.14466303e-02+6.17619661e-18j,\n",
       "       -5.26690211e-03-2.31280291e-16j,  9.88742625e-03-1.83416369e-16j,\n",
       "       -5.60870207e-03+6.17619661e-18j,  2.20897328e-03+5.48877600e-16j,\n",
       "        2.11820136e-04-1.06156449e-16j, -7.99461695e-03-1.73053183e-17j,\n",
       "        2.43313472e-02-2.05345256e-16j, -2.87437493e-02-1.21239524e-17j,\n",
       "       -5.82882247e-02+2.50069095e-17j,  4.12473392e-01-2.47993772e-16j,\n",
       "       -1.29887227e+00-2.64730535e-16j])"
      ]
     },
     "execution_count": 52,
     "metadata": {},
     "output_type": "execute_result"
    }
   ],
   "source": [
    "B_plus"
   ]
  },
  {
   "cell_type": "markdown",
   "metadata": {},
   "source": [
    "# updating the general Code"
   ]
  },
  {
   "cell_type": "code",
   "execution_count": 20,
   "metadata": {
    "ExecuteTime": {
     "end_time": "2019-09-26T19:42:32.476582Z",
     "start_time": "2019-09-26T19:42:32.434695Z"
    }
   },
   "outputs": [
    {
     "data": {
      "text/html": [
       "\n",
       "<style>\n",
       ".output {\n",
       "    display: flex;\n",
       "    align-items: left;\n",
       "    text-align: center;\n",
       "}\n",
       "</style>\n"
      ],
      "text/plain": [
       "<IPython.core.display.HTML object>"
      ]
     },
     "metadata": {},
     "output_type": "display_data"
    }
   ],
   "source": [
    "import numpy as np\n",
    "import matplotlib.pylab as plt\n",
    "import pandas as pd\n",
    "from ipywidgets import interactive\n",
    "from scipy.fftpack import fft, ifft,ifftshift,fftshift\n",
    "from IPython.display import display, HTML\n",
    "from scipy.linalg import circulant\n",
    "from scipy.linalg import toeplitz, hankel\n",
    "from IPython.display import clear_output\n",
    "\n",
    "#### --------- Definition of variables ------------------------\n",
    "\n",
    "N_size=50001 #\n",
    "Gamma=0.5\n",
    "Lambda=0.5\n",
    "\n",
    "#### ------------------------------------------------------------\n",
    "\n",
    "\n",
    "def Create_circulant_slow(array_elements):\n",
    "    N=len(array_elements)\n",
    "    T=np.zeros((N,N))\n",
    "    for i in range(N-1):\n",
    "        T[i+1,i]=1\n",
    "    T[0,N-1]=1\n",
    "    circulant_matrix=array_elements[0]*np.eye(N)\n",
    "    result=T\n",
    "    for i in range(1,N):\n",
    "        circulant_matrix+=result*array_elements[i]\n",
    "        result=np.matmul(result,T)\n",
    "    return circulant_matrix\n",
    "\n",
    "def Create_circulant(array_elements):\n",
    "    N=len(array_elements)\n",
    "    if N%2==0:\n",
    "        array_elements=np.roll(array_elements,N//2)\n",
    "    else:\n",
    "        array_elements=np.roll(array_elements,N//2+1)\n",
    "    circulant=[]\n",
    "    for i in range(N):\n",
    "        circulant.append(np.roll(array_elements,i))\n",
    "    return np.array(circulant)\n",
    "\n",
    "def Create_anti_circulant(array_elements):\n",
    "    N=len(array_elements)\n",
    "    if N%2==0:\n",
    "        array_elements=np.roll(array_elements,N//2)\n",
    "    else:\n",
    "        array_elements=np.roll(array_elements,N//2+1)\n",
    "    circulant=[]\n",
    "    for i in range(N):\n",
    "        circulant.append(np.roll(array_elements[::-1],-i))\n",
    "    return np.array(circulant)\n",
    "\n",
    "display(HTML(\"\"\"\n",
    "<style>\n",
    ".output {\n",
    "    display: flex;\n",
    "    align-items: left;\n",
    "    text-align: center;\n",
    "}\n",
    "</style>\n",
    "\"\"\"))\n",
    "\n",
    "def Alpha(Gamma,Lambda,theta):\n",
    "    return Lambda+np.cos(theta)\n",
    "def Beta(Gamma,Lambda,theta):\n",
    "    return Gamma*np.sin(theta)\n",
    "def Omega(Gamma,Lambda,theta):\n",
    "    return np.sqrt(Alpha(Gamma,Lambda,theta)**2 + Beta(Gamma,Lambda,theta)**2 )\n",
    "def Phi(Gamma,Lambda,theta):\n",
    "    return np.arctan2(Beta(Gamma,Lambda,theta),Alpha(Gamma,Lambda,theta))\n",
    "\n",
    "\n",
    "\n",
    "### ----------------------- Fourier theoric ----------------------------------\n",
    "\n",
    "def Fourier_theoric(random_numbers_m,Gamma,Lambda,N_size):   \n",
    "    result=np.zeros(N_size)\n",
    "    index_result=0\n",
    "    for w in np.arange(-(N_size-1)/2,(N_size-1)/2 +1):\n",
    "        result[index_result]=random_numbers_m[0]+np.sum([2*random_numbers_m[i]*np.cos(Phi(Gamma,Lambda,2.0*np.pi/N_size * i) - w*2*np.pi/N_size*i) for i in range(1,(N_size-1)//2 +1)]) \n",
    "        index_result+=1\n",
    "    return result\n",
    "\n",
    "## ------------------ My own fourier transform -------------------------------------\n",
    "def FT(x):\n",
    "    N = len(x)\n",
    "    X = np.zeros(N, dtype=complex)\n",
    "    ind_1=0\n",
    "    for k in np.arange(-(N-1)/2,(N-1)/2+1):\n",
    "        X[ind_1] = 0.0j\n",
    "        ind_2=0\n",
    "        for n in np.arange(-(N-1)/2,(N-1)/2+1):\n",
    "            X[ind_1] += x[ind_2] *np.exp(-1.0j*(2.0*np.pi/(N))*k*n) #(np.cos((2.0*np.pi/(N))*k*n))#\n",
    "            #print(n, X[ind_1])\n",
    "            ind_2+=1\n",
    "        #print(k,X[ind_1])\n",
    "        ind_1+=1\n",
    "    return X\n",
    "\n",
    "def Fermi_dirac(beta,mu,n,Gamma=Gamma,Lambda=Lambda,N=N_size):\n",
    "    # beta is the inverse thermic energy associated in the system (beta)\n",
    "    # mu corresponds to the chemical potential\n",
    "    # n is the position of the particle\n",
    "    # f=np.exp(T*(Omega(Gamma,Lambda,2.0*(np.pi/N)*n)-mu)) +1\n",
    "    # N corresponds to the size of the system\n",
    "    f=np.exp(beta*(Omega(Gamma,Lambda,((2.*np.pi)/float(N)) * n)-mu)) +1\n",
    "    return 1/f\n",
    "\n",
    "def plot_interactive(beta,mu):\n",
    "    plt.figure(figsize=(10,7))\n",
    "    n=np.arange(-(N_size-1)/2,(N_size-1)/2+ 1)\n",
    "    plt.subplot(2,1,1)\n",
    "    plt.plot(n,Fermi_dirac(beta,mu,n))\n",
    "    #plt.ylim(-0.05,1.05)\n",
    "    plt.xlabel(\"Position\")\n",
    "    plt.ylabel(\"Probability\")\n",
    "    plt.subplot(2,1,2)\n",
    "    plt.plot(n,Omega(Gamma,Lambda,(2.*np.pi)/float(N_size)*n),label=r\"$\\Omega$\")\n",
    "    plt.show()\n",
    "\n",
    "def Take_portion(matrix,size,copy=True):\n",
    "    if copy:\n",
    "        new_matrix=matrix.copy()\n",
    "        return new_matrix[:size,:size]\n",
    "    else:\n",
    "        return matrix[:size,:size]\n",
    "    \n",
    "def Binary_entropy(x):\n",
    "    result=[]\n",
    "    for i in x:\n",
    "        if np.abs(i-1)<10E-10:\n",
    "            result.append(0)\n",
    "        else:\n",
    "            result.append(-i*np.log(i)-(1-i)*np.log(1-i))\n",
    "    return np.array(result)\n",
    "\n",
    "def Get_Bands_Matrix(Gamma=Gamma,Lambda=Lambda,N_size=N_size,beta=0.40824,mu=0,Ground =False):\n",
    "    if Ground:\n",
    "        x=np.arange(0,(N_size-1)/2+ 1)\n",
    "        m_cos=[-0.5 for i in x]\n",
    "        m_sin=[-0.5 for i in x]\n",
    "        m_cos=np.array(m_cos[1:][::-1]+m_cos)\n",
    "        m_sin=np.array(m_sin[1:][::-1]+m_sin)\n",
    "        M_plus=(m_cos+m_sin)*0.5\n",
    "        M_minous=(m_cos-m_sin)*0.5\n",
    "        x=np.arange(-(N_size-1)/2,(N_size-1)/2+1)\n",
    "        Mplusband=[np.exp(1.j*np.sign((2.0*np.pi/N_size) * i)*Phi(Gamma,Lambda,np.abs((2.0*np.pi/N_size) * i))) for i in x]\n",
    "        Mplusband=M_plus*np.array(Mplusband)\n",
    "        Mminousband=[np.exp(1.j*np.sign((2.0*np.pi/N_size) * i)*Phi(Gamma,Lambda,np.abs((2.0*np.pi/N_size) * i))) for i in x]\n",
    "        Mminousband=M_minous*np.array(Mminousband)\n",
    "        \n",
    "    else:\n",
    "        x=np.arange(0,(N_size-1)/2+ 1)\n",
    "        m_cos=[-0.5 if np.random.random()>Fermi_dirac(beta,mu,i) else 0.5 for i in x]\n",
    "        m_sin=[-0.5 if np.random.random()>Fermi_dirac(beta,mu,i) else 0.5 for i in x]\n",
    "        m_cos=np.array(m_cos[1:][::-1]+m_cos)\n",
    "        m_sin=np.array(m_sin[1:][::-1]+m_sin)\n",
    "        M_plus=(m_cos+m_sin)*0.5\n",
    "        M_minous=(m_cos-m_sin)*0.5\n",
    "        x=np.arange(-(N_size-1)/2,(N_size-1)/2+1)\n",
    "        Mplusband=[np.exp(1.j*np.sign((2.0*np.pi/N_size) * i)*Phi(Gamma,Lambda,np.abs((2.0*np.pi/N_size) * i))) for i in x]\n",
    "        Mplusband=M_plus*np.array(Mplusband)\n",
    "        Mminousband=[np.exp(1.j*np.sign((2.0*np.pi/N_size) * i)*Phi(Gamma,Lambda,np.abs((2.0*np.pi/N_size) * i))) for i in x]\n",
    "        Mminousband=M_minous*np.array(Mminousband)\n",
    "        \n",
    "    x=np.arange(-(N_size-1)/2,(N_size-1)/2+ 1)\n",
    "    Fourier_plus=fft(ifftshift(Mplusband))\n",
    "    Fourier_minous=fft(ifftshift(Mminousband))\n",
    "    return Fourier_plus,Fourier_minous\n",
    "def Toeplitz_matrix(Fourier_plus,L):\n",
    "    First_column=np.roll(Fourier_plus,-1)[::-1][:L]\n",
    "    First_row = Fourier_plus[:L]\n",
    "    return toeplitz(First_column,First_row)\n",
    "def Hankel_matrix(Fourier_minous,L):\n",
    "    First_column=Fourier_minous[::-1][:L]\n",
    "    Last_row=np.roll(Fourier_minous,L-1)[::-1][:L]\n",
    "    return hankel(First_column,Last_row)"
   ]
  },
  {
   "cell_type": "code",
   "execution_count": 12,
   "metadata": {
    "ExecuteTime": {
     "end_time": "2019-09-26T19:37:52.772430Z",
     "start_time": "2019-09-26T19:37:49.868544Z"
    }
   },
   "outputs": [],
   "source": [
    "N_size=100001\n",
    "L=51\n",
    "B_plus,B_minous=Get_Bands_Matrix(Gamma,Lambda,N_size=N_size,Ground =True)\n",
    "\n",
    "M=(Toeplitz_matrix(B_plus,L)+Hankel_matrix(B_minous,L))/N_size"
   ]
  },
  {
   "cell_type": "code",
   "execution_count": 4,
   "metadata": {
    "ExecuteTime": {
     "end_time": "2019-09-26T19:27:11.696087Z",
     "start_time": "2019-09-26T19:27:11.555464Z"
    }
   },
   "outputs": [
    {
     "data": {
      "text/plain": [
       "<matplotlib.image.AxesImage at 0x288016c5f98>"
      ]
     },
     "execution_count": 4,
     "metadata": {},
     "output_type": "execute_result"
    },
    {
     "data": {
      "image/png": "[encoded data removed]",
      "text/plain": [
       "<Figure size 432x288 with 1 Axes>"
      ]
     },
     "metadata": {
      "needs_background": "light"
     },
     "output_type": "display_data"
    }
   ],
   "source": [
    "plt.imshow(M.real)"
   ]
  },
  {
   "cell_type": "code",
   "execution_count": 13,
   "metadata": {
    "ExecuteTime": {
     "end_time": "2019-09-26T19:38:15.363568Z",
     "start_time": "2019-09-26T19:38:15.357584Z"
    }
   },
   "outputs": [],
   "source": [
    "def Covariance_matrix(L,Gamma=Gamma,Lambda=Lambda,beta=0.40824,mu=0,N_size=N_size,Ground=False):\n",
    "    if Ground:\n",
    "        Fourier_plus,Fourier_minous=Get_Bands_Matrix(Gamma=Gamma,Lambda=Lambda,N_size=N_size,beta=beta,mu=mu,Ground=True)\n",
    "    else:\n",
    "        Fourier_plus,Fourier_minous=Get_Bands_Matrix(Gamma=Gamma,Lambda=Lambda,N_size=N_size,beta=beta,mu=mu,Ground=False)\n",
    "    return (Toeplitz_matrix(Fourier_plus,L)+Hankel_matrix(Fourier_minous,L))/N_size"
   ]
  },
  {
   "cell_type": "code",
   "execution_count": 14,
   "metadata": {
    "ExecuteTime": {
     "end_time": "2019-09-26T19:38:19.619265Z",
     "start_time": "2019-09-26T19:38:15.670020Z"
    }
   },
   "outputs": [
    {
     "data": {
      "text/plain": [
       "<matplotlib.image.AxesImage at 0x28802d5c630>"
      ]
     },
     "execution_count": 14,
     "metadata": {},
     "output_type": "execute_result"
    },
    {
     "data": {
      "image/png": "[encoded data removed]",
      "text/plain": [
       "<Figure size 432x288 with 1 Axes>"
      ]
     },
     "metadata": {
      "needs_background": "light"
     },
     "output_type": "display_data"
    }
   ],
   "source": [
    "plt.imshow(Covariance_matrix(1001).real)"
   ]
  },
  {
   "cell_type": "code",
   "execution_count": 15,
   "metadata": {
    "ExecuteTime": {
     "end_time": "2019-09-26T19:42:14.342592Z",
     "start_time": "2019-09-26T19:38:26.869692Z"
    }
   },
   "outputs": [],
   "source": [
    "N_size=5*int(10**5)+1\n",
    "F_plus,F_minous=Get_Bands_Matrix(N_size=N_size,Ground=False)"
   ]
  },
  {
   "cell_type": "code",
   "execution_count": 18,
   "metadata": {
    "ExecuteTime": {
     "end_time": "2019-09-26T19:42:23.565315Z",
     "start_time": "2019-09-26T19:42:23.561322Z"
    }
   },
   "outputs": [],
   "source": [
    "def Covariance_matrix_from_sub_sample(Fourier_plus,Fourier_minous,L,N_size=N_size):\n",
    "    return (Toeplitz_matrix(F_plus,L)+Hankel_matrix(F_minous,L))/N_size"
   ]
  },
  {
   "cell_type": "code",
   "execution_count": 31,
   "metadata": {
    "ExecuteTime": {
     "end_time": "2019-09-26T19:48:23.897949Z",
     "start_time": "2019-09-26T19:48:23.894981Z"
    }
   },
   "outputs": [],
   "source": [
    "import time"
   ]
  },
  {
   "cell_type": "code",
   "execution_count": 36,
   "metadata": {
    "ExecuteTime": {
     "end_time": "2019-09-26T19:49:39.364592Z",
     "start_time": "2019-09-26T19:49:27.992030Z"
    }
   },
   "outputs": [
    {
     "data": {
      "image/png": "[encoded data removed]",
      "text/plain": [
       "<Figure size 432x288 with 1 Axes>"
      ]
     },
     "metadata": {
      "needs_background": "light"
     },
     "output_type": "display_data"
    }
   ],
   "source": [
    "beta=0.40824\n",
    "for L in range(7,101,2):\n",
    "    clear_output(wait=True)\n",
    "    New_cov_matrix=Covariance_matrix_from_sub_sample(F_plus,F_minous,L)\n",
    "    S=np.linalg.svd(New_cov_matrix,compute_uv=False)\n",
    "    n=np.arange(-(L-1)/2,(L-1)/2 +1)\n",
    "    array_to_plot=sorted(-S+0.5,reverse=True)\n",
    "    plt.plot(array_to_plot,label=\"Singular values\")\n",
    "    plt.plot(np.array(sorted(Fermi_dirac(beta,mu,n,N=L),reverse=True)),label=\"Fermi distribution\")\n",
    "    plt.legend()\n",
    "    plt.title(\"lenght of {}\".format(L))\n",
    "    plt.show()\n",
    "    time.sleep(0.1)\n",
    "    #print(np.sqrt(np.sum(np.square(array_to_plot-np.array(sorted(Fermi_dirac(beta,mu,n,N=L),reverse=True))))))"
   ]
  },
  {
   "cell_type": "code",
   "execution_count": 48,
   "metadata": {
    "ExecuteTime": {
     "end_time": "2019-09-26T19:56:22.307718Z",
     "start_time": "2019-09-26T19:56:22.158119Z"
    }
   },
   "outputs": [
    {
     "data": {
      "image/png": "[encoded data removed]",
      "text/plain": [
       "<Figure size 432x288 with 1 Axes>"
      ]
     },
     "metadata": {
      "needs_background": "light"
     },
     "output_type": "display_data"
    }
   ],
   "source": [
    "L=91\n",
    "New_cov_matrix=Covariance_matrix_from_sub_sample(F_plus,F_minous,L)\n",
    "S=np.linalg.svd(New_cov_matrix,compute_uv=False)\n",
    "n=np.arange(-(L-1)/2,(L-1)/2 +1)\n",
    "array_to_plot=sorted(-S+0.5,reverse=True)\n",
    "plt.plot(array_to_plot,label=\"Singular values\")\n",
    "plt.plot(np.array(sorted(Fermi_dirac(beta,mu,n,N=L),reverse=True)),label=\"Fermi distribution\")\n",
    "plt.legend()\n",
    "plt.title(\"lenght of {}\".format(L))\n",
    "plt.show()"
   ]
  },
  {
   "cell_type": "code",
   "execution_count": 63,
   "metadata": {
    "ExecuteTime": {
     "end_time": "2019-09-26T20:16:39.988644Z",
     "start_time": "2019-09-26T20:16:39.983689Z"
    }
   },
   "outputs": [],
   "source": [
    "S=-S+0.5"
   ]
  },
  {
   "cell_type": "code",
   "execution_count": 69,
   "metadata": {
    "ExecuteTime": {
     "end_time": "2019-09-26T20:18:21.343804Z",
     "start_time": "2019-09-26T20:18:21.225111Z"
    }
   },
   "outputs": [
    {
     "data": {
      "text/plain": [
       "[<matplotlib.lines.Line2D at 0x2880585dbe0>]"
      ]
     },
     "execution_count": 69,
     "metadata": {},
     "output_type": "execute_result"
    },
    {
     "data": {
      "image/png": "[encoded data removed]",
      "text/plain": [
       "<Figure size 432x288 with 1 Axes>"
      ]
     },
     "metadata": {
      "needs_background": "light"
     },
     "output_type": "display_data"
    }
   ],
   "source": [
    "n=np.arange(-(L-1)/2,(L-1)/2 +1)\n",
    "plt.plot(sorted(beta*Omega(Gamma,Lambda,n/L * 2*np.pi)))\n",
    "plt.plot(sorted(np.log((1-S)/(S))))......................................."
   ]
  },
  {
   "cell_type": "code",
   "execution_count": null,
   "metadata": {
    "ExecuteTime": {
     "end_time": "2019-09-26T20:18:12.948975Z",
     "start_time": "2019-09-26T20:18:12.834250Z"
    }
   },
   "outputs": [],
   "source": []
  },
  {
   "cell_type": "code",
   "execution_count": null,
   "metadata": {},
   "outputs": [],
   "source": []
  }
 ],
 "metadata": {
  "kernelspec": {
   "display_name": "Python 3",
   "language": "python",
   "name": "python3"
  },
  "nbTranslate": {
   "displayLangs": [
    "*"
   ],
   "hotkey": "alt-t",
   "langInMainMenu": true,
   "sourceLang": "en",
   "targetLang": "fr",
   "useGoogleTranslate": true
  },
  "toc": {
   "base_numbering": 1,
   "nav_menu": {},
   "number_sections": true,
   "sideBar": true,
   "skip_h1_title": false,
   "title_cell": "Table of Contents",
   "title_sidebar": "Contents",
   "toc_cell": false,
   "toc_position": {},
   "toc_section_display": true,
   "toc_window_display": false
  },
  "varInspector": {
   "cols": {
    "lenName": 16,
    "lenType": 16,
    "lenVar": 40
   },
   "kernels_config": {
    "python": {
     "delete_cmd_postfix": "",
     "delete_cmd_prefix": "del ",
     "library": "var_list.py",
     "varRefreshCmd": "print(var_dic_list())"
    },
    "r": {
     "delete_cmd_postfix": ") ",
     "delete_cmd_prefix": "rm(",
     "library": "var_list.r",
     "varRefreshCmd": "cat(var_dic_list()) "
    }
   },
   "types_to_exclude": [
    "module",
    "function",
    "builtin_function_or_method",
    "instance",
    "_Feature"
   ],
   "window_display": false
  }
 },
 "nbformat": 4,
 "nbformat_minor": 2
}
