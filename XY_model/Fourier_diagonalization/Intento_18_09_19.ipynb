{
 "cells": [
  {
   "cell_type": "code",
   "execution_count": 159,
   "metadata": {
    "ExecuteTime": {
     "end_time": "2019-09-18T17:28:53.708598Z",
     "start_time": "2019-09-18T17:28:53.662721Z"
    }
   },
   "outputs": [
    {
     "data": {
      "text/html": [
       "\n",
       "<style>\n",
       ".output {\n",
       "    display: flex;\n",
       "    align-items: left;\n",
       "    text-align: center;\n",
       "}\n",
       "</style>\n"
      ],
      "text/plain": [
       "<IPython.core.display.HTML object>"
      ]
     },
     "metadata": {},
     "output_type": "display_data"
    }
   ],
   "source": [
    "import numpy as np\n",
    "import matplotlib.pylab as plt\n",
    "import pandas as pd\n",
    "from ipywidgets import interactive\n",
    "from scipy.fftpack import fft, ifft,ifftshift,fftshift\n",
    "from IPython.display import display, HTML\n",
    "from scipy.linalg import circulant\n",
    "\n",
    "\n",
    "\n",
    "#### --------- Definition of variables ------------------------\n",
    "\n",
    "N_size=5001 #\n",
    "Gamma=0.5\n",
    "Lambda=0.5\n",
    "\n",
    "#### ------------------------------------------------------------\n",
    "\n",
    "\n",
    "def Create_circulant_slow(array_elements):\n",
    "    N=len(array_elements)\n",
    "    T=np.zeros((N,N))\n",
    "    for i in range(N-1):\n",
    "        T[i+1,i]=1\n",
    "    T[0,N-1]=1\n",
    "    circulant_matrix=array_elements[0]*np.eye(N)\n",
    "    result=T\n",
    "    for i in range(1,N):\n",
    "        circulant_matrix+=result*array_elements[i]\n",
    "        result=np.matmul(result,T)\n",
    "    return circulant_matrix\n",
    "\n",
    "def Create_circulant(array_elements):\n",
    "    N=len(array_elements)\n",
    "    if N%2==0:\n",
    "        array_elements=np.roll(array_elements,N//2)\n",
    "    else:\n",
    "        array_elements=np.roll(array_elements,N//2+1)\n",
    "    circulant=[]\n",
    "    for i in range(N):\n",
    "        circulant.append(np.roll(array_elements,i))\n",
    "    return np.array(circulant)\n",
    "\n",
    "def Create_anti_circulant(array_elements):\n",
    "    N=len(array_elements)\n",
    "    if N%2==0:\n",
    "        array_elements=np.roll(array_elements,N//2)\n",
    "    else:\n",
    "        array_elements=np.roll(array_elements,N//2+1)\n",
    "    circulant=[]\n",
    "    for i in range(N):\n",
    "        circulant.append(np.roll(array_elements[::-1],-i))\n",
    "    return np.array(circulant)\n",
    "\n",
    "display(HTML(\"\"\"\n",
    "<style>\n",
    ".output {\n",
    "    display: flex;\n",
    "    align-items: left;\n",
    "    text-align: center;\n",
    "}\n",
    "</style>\n",
    "\"\"\"))\n",
    "\n",
    "def Alpha(Gamma,Lambda,theta):\n",
    "    return Lambda+np.cos(theta)\n",
    "def Beta(Gamma,Lambda,theta):\n",
    "    return Gamma*np.sin(theta)\n",
    "def Omega(Gamma,Lambda,theta):\n",
    "    return np.sqrt(Alpha(Gamma,Lambda,theta)**2 + Beta(Gamma,Lambda,theta)**2 )\n",
    "def Phi(Gamma,Lambda,theta):\n",
    "    return np.arctan2(Beta(Gamma,Lambda,theta),Alpha(Gamma,Lambda,theta))\n",
    "\n",
    "\n",
    "\n",
    "### ----------------------- Fourier theoric ----------------------------------\n",
    "\n",
    "def Fourier_theoric(random_numbers_m,Gamma,Lambda,N_size):   \n",
    "    result=np.zeros(N_size)\n",
    "    index_result=0\n",
    "    for w in np.arange(-(N_size-1)/2,(N_size-1)/2 +1):\n",
    "        result[index_result]=random_numbers_m[0]+np.sum([2*random_numbers_m[i]*np.cos(Phi(Gamma,Lambda,2.0*np.pi/N_size * i) - w*2*np.pi/N_size*i) for i in range(1,(N_size-1)//2 +1)]) \n",
    "        index_result+=1\n",
    "    return result\n",
    "\n",
    "## ------------------ My own fourier transform -------------------------------------\n",
    "def FT(x):\n",
    "    N = len(x)\n",
    "    X = np.zeros(N, dtype=complex)\n",
    "    ind_1=0\n",
    "    for k in np.arange(-(N-1)/2,(N-1)/2+1):\n",
    "        X[ind_1] = 0.0j\n",
    "        ind_2=0\n",
    "        for n in np.arange(-(N-1)/2,(N-1)/2+1):\n",
    "            X[ind_1] += x[ind_2] *np.exp(-1.0j*(2.0*np.pi/(N))*k*n) #(np.cos((2.0*np.pi/(N))*k*n))#\n",
    "            #print(n, X[ind_1])\n",
    "            ind_2+=1\n",
    "        #print(k,X[ind_1])\n",
    "        ind_1+=1\n",
    "    return X\n",
    "\n",
    "def Fermi_dirac(beta,mu,n,Gamma=Gamma,Lambda=Lambda,N=N_size):\n",
    "    # beta is the inverse thermic energy associated in the system (beta)\n",
    "    # mu corresponds to the chemical potential\n",
    "    # n is the position of the particle\n",
    "    # f=np.exp(T*(Omega(Gamma,Lambda,2.0*(np.pi/N)*n)-mu)) +1\n",
    "    # N corresponds to the size of the system\n",
    "    f=np.exp(beta*(Omega(Gamma,Lambda,((2.*np.pi)/float(N)) * n)-mu)) +1\n",
    "    return 1/f\n",
    "\n",
    "def plot_interactive(beta,mu):\n",
    "    plt.figure(figsize=(10,7))\n",
    "    n=np.arange(-(N_size-1)/2,(N_size-1)/2+ 1)\n",
    "    plt.subplot(2,1,1)\n",
    "    plt.plot(n,Fermi_dirac(beta,mu,n))\n",
    "    #plt.ylim(-0.05,1.05)\n",
    "    plt.xlabel(\"Position\")\n",
    "    plt.ylabel(\"Probability\")\n",
    "    plt.subplot(2,1,2)\n",
    "    plt.plot(n,Omega(Gamma,Lambda,(2.*np.pi)/float(N_size)*n),label=r\"$\\Omega$\")\n",
    "    plt.show()\n",
    "\n",
    "def Take_portion(matrix,size,copy=True):\n",
    "    if copy:\n",
    "        new_matrix=matrix.copy()\n",
    "        return new_matrix[:size,:size]\n",
    "    else:\n",
    "        return matrix[:size,:size]\n",
    "    \n",
    "def Binary_entropy(x):\n",
    "    result=[]\n",
    "    for i in x:\n",
    "        if np.abs(i-1)<10E-10:\n",
    "            result.append(0)\n",
    "        else:\n",
    "            result.append(-i*np.log(i)-(1-i)*np.log(1-i))\n",
    "    return np.array(result)\n",
    "    \n",
    "def Get_Bands_Matrix(beta,mu,Gamma,Lambda,N_size,Ground =False):\n",
    "    if Ground:\n",
    "        x=np.arange(0,(N_size-1)/2+ 1)\n",
    "        m_cos=[-0.5 for i in x]\n",
    "        m_sin=[-0.5 for i in x]\n",
    "        m_cos=np.array(m_cos[1:][::-1]+m_cos)\n",
    "        m_sin=np.array(m_sin[1:][::-1]+m_sin)\n",
    "        M_plus=(m_cos+m_sin)*0.5\n",
    "        M_minous=(m_cos-m_sin)*0.5\n",
    "        x=np.arange(-(N_size-1)/2,(N_size-1)/2+1)\n",
    "        Mplusband=[np.exp(1.j*np.sign((2.0*np.pi/N_size) * i)*Phi(Gamma,Lambda,np.abs((2.0*np.pi/N_size) * i))) for i in x]\n",
    "        Mplusband=M_plus*np.array(Mplusband)\n",
    "        Mminousband=[np.exp(1.j*np.sign((2.0*np.pi/N_size) * i)*Phi(Gamma,Lambda,np.abs((2.0*np.pi/N_size) * i))) for i in x]\n",
    "        Mminousband=M_minous*np.array(Mminousband)\n",
    "        \n",
    "    else:\n",
    "        x=np.arange(0,(N_size-1)/2+ 1)\n",
    "        m_cos=[0.5 if np.random.random()>Fermi_dirac(beta,mu,i) else -0.5 for i in x]\n",
    "        m_sin=[0.5 if np.random.random()>Fermi_dirac(beta,mu,i) else -0.5 for i in x]\n",
    "        m_cos=np.array(m_cos[1:][::-1]+m_cos)\n",
    "        m_sin=np.array(m_sin[1:][::-1]+m_sin)\n",
    "        M_plus=(m_cos+m_sin)*0.5\n",
    "        M_minous=(m_cos-m_sin)*0.5\n",
    "        x=np.arange(-(N_size-1)/2,(N_size-1)/2+1)\n",
    "        Mplusband=[np.exp(1.j*np.sign((2.0*np.pi/N_size) * i)*Phi(Gamma,Lambda,np.abs((2.0*np.pi/N_size) * i))) for i in x]\n",
    "        Mplusband=M_plus*np.array(Mplusband)\n",
    "        Mminousband=[np.exp(1.j*np.sign((2.0*np.pi/N_size) * i)*Phi(Gamma,Lambda,np.abs((2.0*np.pi/N_size) * i))) for i in x]\n",
    "        Mminousband=M_minous*np.array(Mminousband)\n",
    "        \n",
    "    x=np.arange(-(N_size-1)/2,(N_size-1)/2+ 1)\n",
    "    Fourier_plus=fftshift(fft(ifftshift(Mplusband)))\n",
    "    Fourier_minous=fftshift(fft(ifftshift(Mminousband)))\n",
    "    return Fourier_plus,Fourier_minous\n",
    "\n",
    "def Sample_subsystem(L,beta,mu,Gamma,Lambda,N_size,Ground=False):\n",
    "    if Ground:\n",
    "        F_plus, F_minous = Get_Bands_Matrix(beta,mu,Gamma,Lambda,N_size,Ground=Ground)\n",
    "    else:\n",
    "        F_plus, F_minous = Get_Bands_Matrix(beta,mu,Gamma,Lambda,N_size)\n",
    "    return F_plus[(N_size-1)//2-L//2:(N_size-1)//2+L//2+1], F_minous[(N_size-1)//2-L//2:(N_size-1)//2+L//2+1]\n",
    "def Covariance_matrix(L,beta,mu,Gamma,Lambda,N_size,Ground=False):\n",
    "    if Ground:\n",
    "        circulant, anticirculant = Sample_subsystem(L,beta,mu,Gamma,Lambda,N_size,Ground=Ground)\n",
    "    else:\n",
    "        circulant, anticirculant = Sample_subsystem(L,beta,mu,Gamma,Lambda,N_size)\n",
    "    return (Create_circulant(circulant)+Create_anti_circulant(anticirculant))/N_size"
   ]
  },
  {
   "cell_type": "code",
   "execution_count": 160,
   "metadata": {
    "ExecuteTime": {
     "end_time": "2019-09-18T17:28:54.514761Z",
     "start_time": "2019-09-18T17:28:54.509777Z"
    }
   },
   "outputs": [],
   "source": [
    "n=np.arange(-(N_size-1)/2,(N_size-1)/2+ 1)\n",
    "gap_temp=np.min(Omega(Gamma,Lambda,(2.*np.pi)/float(N_size)*n))\n",
    "beta=gap_temp\n",
    "mu=0"
   ]
  },
  {
   "cell_type": "markdown",
   "metadata": {},
   "source": [
    "# Something is wrong since we shouldn't take a circulant of the matrix, this matrix construction has to be toeplitz"
   ]
  },
  {
   "cell_type": "code",
   "execution_count": 163,
   "metadata": {
    "ExecuteTime": {
     "end_time": "2019-09-18T17:29:16.165188Z",
     "start_time": "2019-09-18T17:29:11.529964Z"
    }
   },
   "outputs": [
    {
     "name": "stderr",
     "output_type": "stream",
     "text": [
      "C:\\ProgramData\\Anaconda3\\lib\\site-packages\\ipykernel_launcher.py:136: RuntimeWarning: invalid value encountered in log\n"
     ]
    },
    {
     "data": {
      "text/plain": [
       "[<matplotlib.lines.Line2D at 0x2199a4008d0>]"
      ]
     },
     "execution_count": 163,
     "metadata": {},
     "output_type": "execute_result"
    },
    {
     "data": {
      "image/png": "[encoded data removed]",
      "text/plain": [
       "<Figure size 432x288 with 1 Axes>"
      ]
     },
     "metadata": {
      "needs_background": "light"
     },
     "output_type": "display_data"
    }
   ],
   "source": [
    "result=[]\n",
    "for i in range(5, 50):\n",
    "    New_Cov_matrix=Covariance_matrix(i,beta,mu,Lambda,Gamma,N_size,Ground=True)\n",
    "    A,S,B=np.linalg.svd(New_Cov_matrix)\n",
    "    aux=np.sum(Binary_entropy((S+0.5))) \n",
    "    result.append(aux)\n",
    "plt.plot(result)"
   ]
  },
  {
   "cell_type": "code",
   "execution_count": null,
   "metadata": {
    "ExecuteTime": {
     "end_time": "2019-09-18T17:22:12.272103Z",
     "start_time": "2019-09-18T17:22:12.267107Z"
    }
   },
   "outputs": [],
   "source": []
  },
  {
   "cell_type": "code",
   "execution_count": 123,
   "metadata": {
    "ExecuteTime": {
     "end_time": "2019-09-18T17:19:47.994437Z",
     "start_time": "2019-09-18T17:19:47.989451Z"
    }
   },
   "outputs": [
    {
     "data": {
      "text/plain": [
       "array([-50., -49., -48., -47., -46., -45., -44., -43., -42., -41., -40.,\n",
       "       -39., -38., -37., -36., -35., -34., -33., -32., -31., -30., -29.,\n",
       "       -28., -27., -26., -25., -24., -23., -22., -21., -20., -19., -18.,\n",
       "       -17., -16., -15., -14., -13., -12., -11., -10.,  -9.,  -8.,  -7.,\n",
       "        -6.,  -5.,  -4.,  -3.,  -2.,  -1.,   0.,   1.,   2.,   3.,   4.,\n",
       "         5.,   6.,   7.,   8.,   9.,  10.,  11.,  12.,  13.,  14.,  15.,\n",
       "        16.,  17.,  18.,  19.,  20.,  21.,  22.,  23.,  24.,  25.,  26.,\n",
       "        27.,  28.,  29.,  30.,  31.,  32.,  33.,  34.,  35.,  36.,  37.,\n",
       "        38.,  39.,  40.,  41.,  42.,  43.,  44.,  45.,  46.,  47.,  48.,\n",
       "        49.,  50.])"
      ]
     },
     "execution_count": 123,
     "metadata": {},
     "output_type": "execute_result"
    }
   ],
   "source": []
  },
  {
   "cell_type": "code",
   "execution_count": null,
   "metadata": {
    "ExecuteTime": {
     "end_time": "2019-09-18T15:26:13.582951Z",
     "start_time": "2019-09-18T15:26:13.578958Z"
    }
   },
   "outputs": [],
   "source": []
  },
  {
   "cell_type": "code",
   "execution_count": null,
   "metadata": {
    "ExecuteTime": {
     "end_time": "2019-09-18T16:42:54.924657Z",
     "start_time": "2019-09-18T16:42:54.918673Z"
    }
   },
   "outputs": [],
   "source": []
  },
  {
   "cell_type": "code",
   "execution_count": null,
   "metadata": {
    "ExecuteTime": {
     "end_time": "2019-09-18T17:25:41.643934Z",
     "start_time": "2019-09-18T17:25:41.639940Z"
    }
   },
   "outputs": [],
   "source": []
  },
  {
   "cell_type": "code",
   "execution_count": null,
   "metadata": {
    "ExecuteTime": {
     "end_time": "2019-09-18T17:25:45.621480Z",
     "start_time": "2019-09-18T17:25:41.897795Z"
    }
   },
   "outputs": [],
   "source": []
  },
  {
   "cell_type": "code",
   "execution_count": null,
   "metadata": {
    "ExecuteTime": {
     "end_time": "2019-09-18T17:24:29.221502Z",
     "start_time": "2019-09-18T17:24:29.216515Z"
    }
   },
   "outputs": [],
   "source": []
  },
  {
   "cell_type": "code",
   "execution_count": null,
   "metadata": {
    "ExecuteTime": {
     "end_time": "2019-09-18T17:24:45.617695Z",
     "start_time": "2019-09-18T17:24:45.491527Z"
    }
   },
   "outputs": [],
   "source": []
  },
  {
   "cell_type": "markdown",
   "metadata": {
    "ExecuteTime": {
     "end_time": "2019-09-18T15:53:08.088995Z",
     "start_time": "2019-09-18T15:53:08.079022Z"
    }
   },
   "source": [
    "# Prueba valentina"
   ]
  },
  {
   "cell_type": "code",
   "execution_count": 48,
   "metadata": {
    "ExecuteTime": {
     "end_time": "2019-09-18T15:52:46.453411Z",
     "start_time": "2019-09-18T15:52:46.446430Z"
    }
   },
   "outputs": [],
   "source": [
    "def Compute_entropy(data):\n",
    "    similarities_matrix=[]\n",
    "    for i in range(data.shape[0]):\n",
    "        similarities=[]\n",
    "        for j in range(i+1,data.shape[0]):\n",
    "            #print(\"Comparacion de fila {} con fila {}\".format(i,j))\n",
    "            #print(\"Similaridad = {}\".format(np.sum(data[i]==data[j])/data.shape[1]))\n",
    "            similarities.append(np.sum(data[i]==data[j])/data.shape[1])\n",
    "        if i+1==data.shape[0]:\n",
    "            break\n",
    "        similarities_matrix.append(similarities)\n",
    "    entropy=0\n",
    "    for i in similarities_matrix:\n",
    "        for j in i:\n",
    "            if j==0 or j==1:\n",
    "                entropy+=0\n",
    "            else:    \n",
    "                entropy+=(-j*np.log(j)-(1-j)*np.log(1-j))\n",
    "    return entropy"
   ]
  },
  {
   "cell_type": "code",
   "execution_count": 89,
   "metadata": {
    "ExecuteTime": {
     "end_time": "2019-09-18T16:26:10.476591Z",
     "start_time": "2019-09-18T16:26:10.467615Z"
    }
   },
   "outputs": [
    {
     "name": "stdout",
     "output_type": "stream",
     "text": [
      "6.365141682948128 5.884975518070358 0\n",
      "probando otro\n",
      "6.365141682948128 5.884975518070358 1\n",
      "probando otro\n",
      "3.8190850097688767 5.884975518070358 2\n",
      "entro\n",
      "4.1588830833596715 3.8190850097688767 0\n",
      "probando otro\n",
      "4.1588830833596715 3.8190850097688767 1\n",
      "probando otro\n",
      "0 3.8190850097688767 2\n",
      "entro\n",
      "Se alcanzó minima entropía\n"
     ]
    }
   ],
   "source": [
    "data=data8.copy()\n",
    "s_init=Compute_entropy(data)\n",
    "f=0\n",
    "aux=0\n",
    "ranking=[]\n",
    "while f<=data.shape[1]:\n",
    "    s_f=Compute_entropy(np.delete(data,aux,axis=1))\n",
    "    print(s_f,s_init,aux)\n",
    "    if  s_f<s_init:\n",
    "        ranking.append(aux+f)\n",
    "        print(\"entro\")\n",
    "        s_init=s_f\n",
    "        data=np.delete(data,aux,axis=1)\n",
    "        aux=0\n",
    "        f+=1\n",
    "        if f==data.shape[1]-1:\n",
    "            break\n",
    "    else:\n",
    "        print(\"probando otro\")\n",
    "        aux+=1\n",
    "    if s_f ==0:\n",
    "        print(\"Se alcanzó minima entropía\")\n",
    "        break"
   ]
  },
  {
   "cell_type": "code",
   "execution_count": 87,
   "metadata": {
    "ExecuteTime": {
     "end_time": "2019-09-18T16:18:28.368955Z",
     "start_time": "2019-09-18T16:18:28.364965Z"
    }
   },
   "outputs": [
    {
     "data": {
      "text/plain": [
       "[2, 3]"
      ]
     },
     "execution_count": 87,
     "metadata": {},
     "output_type": "execute_result"
    }
   ],
   "source": [
    "ranking"
   ]
  },
  {
   "cell_type": "code",
   "execution_count": 91,
   "metadata": {
    "ExecuteTime": {
     "end_time": "2019-09-18T16:36:37.486501Z",
     "start_time": "2019-09-18T16:36:37.482507Z"
    }
   },
   "outputs": [
    {
     "data": {
      "text/plain": [
       "array([0.69314718])"
      ]
     },
     "execution_count": 91,
     "metadata": {},
     "output_type": "execute_result"
    }
   ],
   "source": [
    "Binary_entropy([0.5])"
   ]
  },
  {
   "cell_type": "code",
   "execution_count": 92,
   "metadata": {
    "ExecuteTime": {
     "end_time": "2019-09-18T16:37:20.169577Z",
     "start_time": "2019-09-18T16:37:20.164589Z"
    }
   },
   "outputs": [
    {
     "data": {
      "text/plain": [
       "0.6931471805599453"
      ]
     },
     "execution_count": 92,
     "metadata": {},
     "output_type": "execute_result"
    }
   ],
   "source": [
    "-0.5*np.log(0.5)-(1-0.5)*np.log(1-0.5)"
   ]
  },
  {
   "cell_type": "markdown",
   "metadata": {},
   "source": [
    "# Code that now works perfectly"
   ]
  },
  {
   "cell_type": "code",
   "execution_count": 165,
   "metadata": {
    "ExecuteTime": {
     "end_time": "2019-09-18T17:30:44.000527Z",
     "start_time": "2019-09-18T17:30:43.949664Z"
    }
   },
   "outputs": [
    {
     "data": {
      "text/html": [
       "\n",
       "<style>\n",
       ".output {\n",
       "    display: flex;\n",
       "    align-items: left;\n",
       "    text-align: center;\n",
       "}\n",
       "</style>\n"
      ],
      "text/plain": [
       "<IPython.core.display.HTML object>"
      ]
     },
     "metadata": {},
     "output_type": "display_data"
    }
   ],
   "source": [
    "import numpy as np\n",
    "import matplotlib.pylab as plt\n",
    "import pandas as pd\n",
    "from ipywidgets import interactive\n",
    "from scipy.fftpack import fft, ifft,ifftshift,fftshift\n",
    "from IPython.display import display, HTML\n",
    "from scipy.linalg import circulant\n",
    "\n",
    "\n",
    "\n",
    "#### --------- Definition of variables ------------------------\n",
    "\n",
    "N_size=5001 #\n",
    "Gamma=0.5\n",
    "Lambda=0.5\n",
    "\n",
    "#### ------------------------------------------------------------\n",
    "\n",
    "\n",
    "def Create_circulant_slow(array_elements):\n",
    "    N=len(array_elements)\n",
    "    T=np.zeros((N,N))\n",
    "    for i in range(N-1):\n",
    "        T[i+1,i]=1\n",
    "    T[0,N-1]=1\n",
    "    circulant_matrix=array_elements[0]*np.eye(N)\n",
    "    result=T\n",
    "    for i in range(1,N):\n",
    "        circulant_matrix+=result*array_elements[i]\n",
    "        result=np.matmul(result,T)\n",
    "    return circulant_matrix\n",
    "\n",
    "def Create_circulant(array_elements):\n",
    "    N=len(array_elements)\n",
    "    if N%2==0:\n",
    "        array_elements=np.roll(array_elements,N//2)\n",
    "    else:\n",
    "        array_elements=np.roll(array_elements,N//2+1)\n",
    "    circulant=[]\n",
    "    for i in range(N):\n",
    "        circulant.append(np.roll(array_elements,i))\n",
    "    return np.array(circulant)\n",
    "\n",
    "def Create_anti_circulant(array_elements):\n",
    "    N=len(array_elements)\n",
    "    if N%2==0:\n",
    "        array_elements=np.roll(array_elements,N//2)\n",
    "    else:\n",
    "        array_elements=np.roll(array_elements,N//2+1)\n",
    "    circulant=[]\n",
    "    for i in range(N):\n",
    "        circulant.append(np.roll(array_elements[::-1],-i))\n",
    "    return np.array(circulant)\n",
    "\n",
    "display(HTML(\"\"\"\n",
    "<style>\n",
    ".output {\n",
    "    display: flex;\n",
    "    align-items: left;\n",
    "    text-align: center;\n",
    "}\n",
    "</style>\n",
    "\"\"\"))\n",
    "\n",
    "def Alpha(Gamma,Lambda,theta):\n",
    "    return Lambda+np.cos(theta)\n",
    "def Beta(Gamma,Lambda,theta):\n",
    "    return Gamma*np.sin(theta)\n",
    "def Omega(Gamma,Lambda,theta):\n",
    "    return np.sqrt(Alpha(Gamma,Lambda,theta)**2 + Beta(Gamma,Lambda,theta)**2 )\n",
    "def Phi(Gamma,Lambda,theta):\n",
    "    return np.arctan2(Beta(Gamma,Lambda,theta),Alpha(Gamma,Lambda,theta))\n",
    "\n",
    "\n",
    "\n",
    "### ----------------------- Fourier theoric ----------------------------------\n",
    "\n",
    "def Fourier_theoric(random_numbers_m,Gamma,Lambda,N_size):   \n",
    "    result=np.zeros(N_size)\n",
    "    index_result=0\n",
    "    for w in np.arange(-(N_size-1)/2,(N_size-1)/2 +1):\n",
    "        result[index_result]=random_numbers_m[0]+np.sum([2*random_numbers_m[i]*np.cos(Phi(Gamma,Lambda,2.0*np.pi/N_size * i) - w*2*np.pi/N_size*i) for i in range(1,(N_size-1)//2 +1)]) \n",
    "        index_result+=1\n",
    "    return result\n",
    "\n",
    "## ------------------ My own fourier transform -------------------------------------\n",
    "def FT(x):\n",
    "    N = len(x)\n",
    "    X = np.zeros(N, dtype=complex)\n",
    "    ind_1=0\n",
    "    for k in np.arange(-(N-1)/2,(N-1)/2+1):\n",
    "        X[ind_1] = 0.0j\n",
    "        ind_2=0\n",
    "        for n in np.arange(-(N-1)/2,(N-1)/2+1):\n",
    "            X[ind_1] += x[ind_2] *np.exp(-1.0j*(2.0*np.pi/(N))*k*n) #(np.cos((2.0*np.pi/(N))*k*n))#\n",
    "            #print(n, X[ind_1])\n",
    "            ind_2+=1\n",
    "        #print(k,X[ind_1])\n",
    "        ind_1+=1\n",
    "    return X\n",
    "\n",
    "def Fermi_dirac(beta,mu,n,Gamma=Gamma,Lambda=Lambda,N=N_size):\n",
    "    # beta is the inverse thermic energy associated in the system (beta)\n",
    "    # mu corresponds to the chemical potential\n",
    "    # n is the position of the particle\n",
    "    # f=np.exp(T*(Omega(Gamma,Lambda,2.0*(np.pi/N)*n)-mu)) +1\n",
    "    # N corresponds to the size of the system\n",
    "    f=np.exp(beta*(Omega(Gamma,Lambda,((2.*np.pi)/float(N)) * n)-mu)) +1\n",
    "    return 1/f\n",
    "\n",
    "def plot_interactive(beta,mu):\n",
    "    plt.figure(figsize=(10,7))\n",
    "    n=np.arange(-(N_size-1)/2,(N_size-1)/2+ 1)\n",
    "    plt.subplot(2,1,1)\n",
    "    plt.plot(n,Fermi_dirac(beta,mu,n))\n",
    "    #plt.ylim(-0.05,1.05)\n",
    "    plt.xlabel(\"Position\")\n",
    "    plt.ylabel(\"Probability\")\n",
    "    plt.subplot(2,1,2)\n",
    "    plt.plot(n,Omega(Gamma,Lambda,(2.*np.pi)/float(N_size)*n),label=r\"$\\Omega$\")\n",
    "    plt.show()\n",
    "\n",
    "def Take_portion(matrix,size,copy=True):\n",
    "    if copy:\n",
    "        new_matrix=matrix.copy()\n",
    "        return new_matrix[:size,:size]\n",
    "    else:\n",
    "        return matrix[:size,:size]\n",
    "    \n",
    "def Binary_entropy(x):\n",
    "    result=[]\n",
    "    for i in x:\n",
    "        if np.abs(i-1)<10E-10:\n",
    "            result.append(0)\n",
    "        else:\n",
    "            result.append(-i*np.log(i)-(1-i)*np.log(1-i))\n",
    "    return np.array(result)\n",
    "    \n",
    "def Get_Bands_Matrix(beta,mu,Gamma,Lambda,N_size,Ground =False):\n",
    "    if Ground:\n",
    "        x=np.arange(0,(N_size-1)/2+ 1)\n",
    "        m_cos=[-0.5 for i in x]\n",
    "        m_sin=[-0.5 for i in x]\n",
    "        m_cos=np.array(m_cos[1:][::-1]+m_cos)\n",
    "        m_sin=np.array(m_sin[1:][::-1]+m_sin)\n",
    "        M_plus=(m_cos+m_sin)*0.5\n",
    "        M_minous=(m_cos-m_sin)*0.5\n",
    "        x=np.arange(-(N_size-1)/2,(N_size-1)/2+1)\n",
    "        Mplusband=[np.exp(1.j*np.sign((2.0*np.pi/N_size) * i)*Phi(Gamma,Lambda,np.abs((2.0*np.pi/N_size) * i))) for i in x]\n",
    "        Mplusband=M_plus*np.array(Mplusband)\n",
    "        Mminousband=[np.exp(1.j*np.sign((2.0*np.pi/N_size) * i)*Phi(Gamma,Lambda,np.abs((2.0*np.pi/N_size) * i))) for i in x]\n",
    "        Mminousband=M_minous*np.array(Mminousband)\n",
    "        \n",
    "    else:\n",
    "        x=np.arange(0,(N_size-1)/2+ 1)\n",
    "        m_cos=[0.5 if np.random.random()>Fermi_dirac(beta,mu,i) else -0.5 for i in x]\n",
    "        m_sin=[0.5 if np.random.random()>Fermi_dirac(beta,mu,i) else -0.5 for i in x]\n",
    "        m_cos=np.array(m_cos[1:][::-1]+m_cos)\n",
    "        m_sin=np.array(m_sin[1:][::-1]+m_sin)\n",
    "        M_plus=(m_cos+m_sin)*0.5\n",
    "        M_minous=(m_cos-m_sin)*0.5\n",
    "        x=np.arange(-(N_size-1)/2,(N_size-1)/2+1)\n",
    "        Mplusband=[np.exp(1.j*np.sign((2.0*np.pi/N_size) * i)*Phi(Gamma,Lambda,np.abs((2.0*np.pi/N_size) * i))) for i in x]\n",
    "        Mplusband=M_plus*np.array(Mplusband)\n",
    "        Mminousband=[np.exp(1.j*np.sign((2.0*np.pi/N_size) * i)*Phi(Gamma,Lambda,np.abs((2.0*np.pi/N_size) * i))) for i in x]\n",
    "        Mminousband=M_minous*np.array(Mminousband)\n",
    "        \n",
    "    x=np.arange(-(N_size-1)/2,(N_size-1)/2+ 1)\n",
    "    Fourier_plus=fftshift(fft(ifftshift(Mplusband)))\n",
    "    Fourier_minous=fftshift(fft(ifftshift(Mminousband)))\n",
    "    return Fourier_plus,Fourier_minous\n",
    "\n",
    "def Sample_subsystem(L,beta,mu,Gamma,Lambda,N_size,Ground=False):\n",
    "    if Ground:\n",
    "        F_plus, F_minous = Get_Bands_Matrix(beta,mu,Gamma,Lambda,N_size,Ground=Ground)\n",
    "    else:\n",
    "        F_plus, F_minous = Get_Bands_Matrix(beta,mu,Gamma,Lambda,N_size)\n",
    "    return F_plus[(N_size-1)//2-L+1:(N_size-1)//2+L], F_minous[(N_size-1)//2-L+1:(N_size-1)//2+L]\n",
    "\n",
    "def Toeplitz_matrix(array,L):\n",
    "    Toeplitz=np.zeros((L,L),dtype=np.complex)\n",
    "    aux=0\n",
    "    for i in range(L):\n",
    "        #print(array[aux:aux+L][::-1].shape)\n",
    "        Toeplitz[:,i]=array[aux:aux+L][::-1]\n",
    "        aux+=1\n",
    "    return Toeplitz\n",
    "def Covariance_matrix(L,beta,mu,Gamma,Lambda,N_size,Ground=False):\n",
    "    if Ground:\n",
    "        circulant, anticirculant = Sample_subsystem(L,beta,mu,Gamma,Lambda,N_size,Ground=Ground)\n",
    "    else:\n",
    "        circulant, anticirculant = Sample_subsystem(L,beta,mu,Gamma,Lambda,N_size)\n",
    "    return (Toeplitz_matrix(circulant,L)+Toeplitz_matrix(anticirculant,L))/N_size"
   ]
  },
  {
   "cell_type": "code",
   "execution_count": 166,
   "metadata": {
    "ExecuteTime": {
     "end_time": "2019-09-18T17:30:49.154389Z",
     "start_time": "2019-09-18T17:30:44.364568Z"
    }
   },
   "outputs": [
    {
     "data": {
      "text/plain": [
       "[<matplotlib.lines.Line2D at 0x2199a3a2b00>]"
      ]
     },
     "execution_count": 166,
     "metadata": {},
     "output_type": "execute_result"
    },
    {
     "data": {
      "image/png": "[encoded data removed]",
      "text/plain": [
       "<Figure size 432x288 with 1 Axes>"
      ]
     },
     "metadata": {
      "needs_background": "light"
     },
     "output_type": "display_data"
    }
   ],
   "source": [
    "n=np.arange(-(N_size-1)/2,(N_size-1)/2+ 1)\n",
    "gap_temp=np.min(Omega(Gamma,Lambda,(2.*np.pi)/float(N_size)*n))\n",
    "beta=gap_temp\n",
    "mu=0\n",
    "result=[]\n",
    "for i in range(5, 50):\n",
    "    New_Cov_matrix=Covariance_matrix(i,beta,mu,Lambda,Gamma,N_size,Ground=True)\n",
    "    A,S,B=np.linalg.svd(New_Cov_matrix)\n",
    "    aux=np.sum(Binary_entropy((S+0.5))) \n",
    "    result.append(aux)\n",
    "plt.plot(result)"
   ]
  },
  {
   "cell_type": "markdown",
   "metadata": {},
   "source": [
    "# now the entropy gives us what is suppose to give"
   ]
  },
  {
   "cell_type": "code",
   "execution_count": 183,
   "metadata": {
    "ExecuteTime": {
     "end_time": "2019-09-18T17:37:42.580456Z",
     "start_time": "2019-09-18T17:37:40.618644Z"
    }
   },
   "outputs": [
    {
     "data": {
      "text/plain": [
       "[<matplotlib.lines.Line2D at 0x2199a54a710>]"
      ]
     },
     "execution_count": 183,
     "metadata": {},
     "output_type": "execute_result"
    },
    {
     "data": {
      "image/png": "[encoded data removed]",
      "text/plain": [
       "<Figure size 432x288 with 1 Axes>"
      ]
     },
     "metadata": {
      "needs_background": "light"
     },
     "output_type": "display_data"
    }
   ],
   "source": [
    "L=250\n",
    "N_size=50001 #\n",
    "Gamma=0.5\n",
    "Lambda=0.5\n",
    "gap_temp=np.min(Omega(Gamma,Lambda,(2.*np.pi)/float(N_size)*n))\n",
    "beta=gap_temp\n",
    "A,S,B=np.linalg.svd(Covariance_matrix(L,beta,mu,Gamma,Lambda,N_size))\n",
    "plt.plot(S-0.5,label=\"Singular values\")\n",
    "n=np.arange(-(L-1)/2,(L-1)/2 +1)\n",
    "plt.plot(-np.array(sorted(Fermi_dirac(beta,mu,n,N=L),reverse=True))[::-1],label=\"Fermi distribution\")"
   ]
  },
  {
   "cell_type": "code",
   "execution_count": 172,
   "metadata": {
    "ExecuteTime": {
     "end_time": "2019-09-18T17:33:44.426909Z",
     "start_time": "2019-09-18T17:33:44.300249Z"
    }
   },
   "outputs": [
    {
     "data": {
      "text/plain": [
       "[<matplotlib.lines.Line2D at 0x2199ab50320>]"
      ]
     },
     "execution_count": 172,
     "metadata": {},
     "output_type": "execute_result"
    },
    {
     "data": {
      "image/png": "[encoded data removed]",
      "text/plain": [
       "<Figure size 432x288 with 1 Axes>"
      ]
     },
     "metadata": {
      "needs_background": "light"
     },
     "output_type": "display_data"
    }
   ],
   "source": [
    "plt.plot(Fermi_dirac(beta,mu,n,N=L))"
   ]
  },
  {
   "cell_type": "code",
   "execution_count": null,
   "metadata": {},
   "outputs": [],
   "source": []
  }
 ],
 "metadata": {
  "kernelspec": {
   "display_name": "Python 3",
   "language": "python",
   "name": "python3"
  },
  "language_info": {
   "codemirror_mode": {
    "name": "ipython",
    "version": 3
   },
   "file_extension": ".py",
   "mimetype": "text/x-python",
   "name": "python",
   "nbconvert_exporter": "python",
   "pygments_lexer": "ipython3",
   "version": "3.7.1"
  },
  "nbTranslate": {
   "displayLangs": [
    "*"
   ],
   "hotkey": "alt-t",
   "langInMainMenu": true,
   "sourceLang": "en",
   "targetLang": "fr",
   "useGoogleTranslate": true
  },
  "toc": {
   "base_numbering": 1,
   "nav_menu": {},
   "number_sections": true,
   "sideBar": true,
   "skip_h1_title": false,
   "title_cell": "Table of Contents",
   "title_sidebar": "Contents",
   "toc_cell": false,
   "toc_position": {},
   "toc_section_display": true,
   "toc_window_display": false
  },
  "varInspector": {
   "cols": {
    "lenName": 16,
    "lenType": 16,
    "lenVar": 40
   },
   "kernels_config": {
    "python": {
     "delete_cmd_postfix": "",
     "delete_cmd_prefix": "del ",
     "library": "var_list.py",
     "varRefreshCmd": "print(var_dic_list())"
    },
    "r": {
     "delete_cmd_postfix": ") ",
     "delete_cmd_prefix": "rm(",
     "library": "var_list.r",
     "varRefreshCmd": "cat(var_dic_list()) "
    }
   },
   "types_to_exclude": [
    "module",
    "function",
    "builtin_function_or_method",
    "instance",
    "_Feature"
   ],
   "window_display": false
  }
 },
 "nbformat": 4,
 "nbformat_minor": 2
}
