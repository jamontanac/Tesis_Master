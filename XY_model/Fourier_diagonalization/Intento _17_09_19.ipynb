{
 "cells": [
  {
   "cell_type": "code",
   "execution_count": 8,
   "metadata": {
    "ExecuteTime": {
     "end_time": "2019-09-17T16:39:46.338213Z",
     "start_time": "2019-09-17T16:39:46.309287Z"
    }
   },
   "outputs": [
    {
     "data": {
      "text/html": [
       "\n",
       "<style>\n",
       ".output {\n",
       "    display: flex;\n",
       "    align-items: left;\n",
       "    text-align: center;\n",
       "}\n",
       "</style>\n"
      ],
      "text/plain": [
       "<IPython.core.display.HTML object>"
      ]
     },
     "metadata": {},
     "output_type": "display_data"
    }
   ],
   "source": [
    "import numpy as np\n",
    "import matplotlib.pylab as plt\n",
    "import pandas as pd\n",
    "from ipywidgets import interactive\n",
    "from scipy.fftpack import fft, ifft,ifftshift,fftshift\n",
    "from IPython.display import display, HTML\n",
    "from scipy.linalg import circulant\n",
    "\n",
    "\n",
    "\n",
    "#### --------- Definition of variables ------------------------\n",
    "\n",
    "N_size=5001 #\n",
    "Gamma=0.5\n",
    "Lambda=0.5\n",
    "\n",
    "#### ------------------------------------------------------------\n",
    "\n",
    "\n",
    "def Create_circulant_slow(array_elements):\n",
    "    N=len(array_elements)\n",
    "    T=np.zeros((N,N))\n",
    "    for i in range(N-1):\n",
    "        T[i+1,i]=1\n",
    "    T[0,N-1]=1\n",
    "    circulant_matrix=array_elements[0]*np.eye(N)\n",
    "    result=T\n",
    "    for i in range(1,N):\n",
    "        circulant_matrix+=result*array_elements[i]\n",
    "        result=np.matmul(result,T)\n",
    "    return circulant_matrix\n",
    "\n",
    "def Create_circulant(array_elements):\n",
    "    N=len(array_elements)\n",
    "    if N%2==0:\n",
    "        array_elements=np.roll(array_elements,N//2)\n",
    "    else:\n",
    "        array_elements=np.roll(array_elements,N//2+1)\n",
    "    circulant=[]\n",
    "    for i in range(N):\n",
    "        circulant.append(np.roll(array_elements,i))\n",
    "    return np.array(circulant)\n",
    "\n",
    "def Create_anti_circulant(array_elements):\n",
    "    N=len(array_elements)\n",
    "    if N%2==0:\n",
    "        array_elements=np.roll(array_elements,N//2)\n",
    "    else:\n",
    "        array_elements=np.roll(array_elements,N//2+1)\n",
    "    circulant=[]\n",
    "    for i in range(N):\n",
    "        circulant.append(np.roll(array_elements[::-1],-i))\n",
    "    return np.array(circulant)\n",
    "\n",
    "display(HTML(\"\"\"\n",
    "<style>\n",
    ".output {\n",
    "    display: flex;\n",
    "    align-items: left;\n",
    "    text-align: center;\n",
    "}\n",
    "</style>\n",
    "\"\"\"))\n",
    "\n",
    "def Alpha(Gamma,Lambda,theta):\n",
    "    return Lambda+np.cos(theta)\n",
    "def Beta(Gamma,Lambda,theta):\n",
    "    return Gamma*np.sin(theta)\n",
    "def Omega(Gamma,Lambda,theta):\n",
    "    return np.sqrt(Alpha(Gamma,Lambda,theta)**2 + Beta(Gamma,Lambda,theta)**2 )\n",
    "def Phi(Gamma,Lambda,theta):\n",
    "    return np.arctan2(Beta(Gamma,Lambda,theta),Alpha(Gamma,Lambda,theta))\n",
    "\n",
    "\n",
    "\n",
    "### ----------------------- Fourier theoric ----------------------------------\n",
    "\n",
    "def Fourier_theoric(random_numbers_m,Gamma,Lambda,N_size):   \n",
    "    result=np.zeros(N_size)\n",
    "    index_result=0\n",
    "    for w in np.arange(-(N_size-1)/2,(N_size-1)/2 +1):\n",
    "        result[index_result]=random_numbers_m[0]+np.sum([2*random_numbers_m[i]*np.cos(Phi(Gamma,Lambda,2.0*np.pi/N_size * i) - w*2*np.pi/N_size*i) for i in range(1,(N_size-1)//2 +1)]) \n",
    "        index_result+=1\n",
    "    return result\n",
    "\n",
    "## ------------------ My own fourier transform -------------------------------------\n",
    "def FT(x):\n",
    "    N = len(x)\n",
    "    X = np.zeros(N, dtype=complex)\n",
    "    ind_1=0\n",
    "    for k in np.arange(-(N-1)/2,(N-1)/2+1):\n",
    "        X[ind_1] = 0.0j\n",
    "        ind_2=0\n",
    "        for n in np.arange(-(N-1)/2,(N-1)/2+1):\n",
    "            X[ind_1] += x[ind_2] *np.exp(-1.0j*(2.0*np.pi/(N))*k*n) #(np.cos((2.0*np.pi/(N))*k*n))#\n",
    "            #print(n, X[ind_1])\n",
    "            ind_2+=1\n",
    "        #print(k,X[ind_1])\n",
    "        ind_1+=1\n",
    "    return X\n",
    "\n",
    "def Fermi_dirac(beta,mu,n,Gamma=Gamma,Lambda=Lambda,N=N_size):\n",
    "    # beta is the inverse thermic energy associated in the system (beta)\n",
    "    # mu corresponds to the chemical potential\n",
    "    # n is the position of the particle\n",
    "    # f=np.exp(T*(Omega(Gamma,Lambda,2.0*(np.pi/N)*n)-mu)) +1\n",
    "    # N corresponds to the size of the system\n",
    "    f=np.exp(beta*(Omega(Gamma,Lambda,((2.*np.pi)/float(N)) * n)-mu)) +1\n",
    "    return 1/f\n",
    "\n",
    "def plot_interactive(beta,mu):\n",
    "    plt.figure(figsize=(10,7))\n",
    "    n=np.arange(-(N_size-1)/2,(N_size-1)/2+ 1)\n",
    "    plt.subplot(2,1,1)\n",
    "    plt.plot(n,Fermi_dirac(beta,mu,n))\n",
    "    #plt.ylim(-0.05,1.05)\n",
    "    plt.xlabel(\"Position\")\n",
    "    plt.ylabel(\"Probability\")\n",
    "    plt.subplot(2,1,2)\n",
    "    plt.plot(n,Omega(Gamma,Lambda,(2.*np.pi)/float(N_size)*n),label=r\"$\\Omega$\")\n",
    "    plt.show()"
   ]
  },
  {
   "cell_type": "code",
   "execution_count": 9,
   "metadata": {
    "ExecuteTime": {
     "end_time": "2019-09-17T16:39:53.116412Z",
     "start_time": "2019-09-17T16:39:46.743179Z"
    }
   },
   "outputs": [
    {
     "data": {
      "application/vnd.jupyter.widget-view+json": {
       "model_id": "0e8951dada2e4007b1672b84b15f1370",
       "version_major": 2,
       "version_minor": 0
      },
      "text/plain": [
       "interactive(children=(FloatSlider(value=0.4082482938630433, description='beta', max=1.22474488158913, min=-0.4…"
      ]
     },
     "metadata": {},
     "output_type": "display_data"
    }
   ],
   "source": [
    "n=np.arange(-(N_size-1)/2,(N_size-1)/2+ 1)\n",
    "gap_temp=np.min(Omega(Gamma,Lambda,(2.*np.pi)/float(N_size)*n))\n",
    "\n",
    "interactive_plot = interactive(plot_interactive, beta=gap_temp, mu=0)\n",
    "output = interactive_plot.children[-1]\n",
    "output.layout.height = '450px'\n",
    "interactive_plot"
   ]
  },
  {
   "cell_type": "code",
   "execution_count": 10,
   "metadata": {
    "ExecuteTime": {
     "end_time": "2019-09-17T16:39:53.433605Z",
     "start_time": "2019-09-17T16:39:53.175766Z"
    }
   },
   "outputs": [],
   "source": [
    "x=np.arange(0,(N_size-1)/2+ 1)\n",
    "beta=gap_temp\n",
    "mu=0\n",
    "m_cos=[0.5 if np.random.random()>Fermi_dirac(beta,mu,i) else -0.5 for i in x]\n",
    "m_sin=[0.5 if np.random.random()>Fermi_dirac(beta,mu,i) else -0.5 for i in x]\n",
    "m_cos=np.array(m_cos[1:][::-1]+m_cos)\n",
    "m_sin=np.array(m_sin[1:][::-1]+m_sin)\n",
    "M_plus=(m_cos+m_sin)*0.5\n",
    "M_minous=(m_cos-m_sin)*0.5\n",
    "x=np.arange(-(N_size-1)/2,(N_size-1)/2+1)\n",
    "Mplusband=[np.exp(1.j*np.sign((2.0*np.pi/N_size) * i)*Phi(Gamma,Lambda,np.abs((2.0*np.pi/N_size) * i))) for i in x]\n",
    "Mplusband=M_plus*np.array(Mplusband)\n",
    "Mminousband=[np.exp(1.j*np.sign((2.0*np.pi/N_size) * i)*Phi(Gamma,Lambda,np.abs((2.0*np.pi/N_size) * i))) for i in x]\n",
    "Mminousband=M_minous*np.array(Mminousband)\n",
    "Fourier_plus=fftshift(fft(ifftshift(Mplusband)))\n",
    "Fourier_minous=fftshift(fft(ifftshift(Mminousband)))"
   ]
  },
  {
   "cell_type": "code",
   "execution_count": 11,
   "metadata": {
    "ExecuteTime": {
     "end_time": "2019-09-17T16:39:53.482479Z",
     "start_time": "2019-09-17T16:39:53.475497Z"
    }
   },
   "outputs": [],
   "source": [
    "def Take_portion(matrix,size,copy=True):\n",
    "    if copy:\n",
    "        new_matrix=matrix.copy()\n",
    "        return new_matrix[:size,:size]\n",
    "    else:\n",
    "        return matrix[:size,:size]\n",
    "    \n",
    "def Binary_entropy(x):\n",
    "    result=[]\n",
    "    for i in x:\n",
    "        if np.abs(i-1)<10E-10:\n",
    "            result.append(0)\n",
    "        else:\n",
    "            result.append(-i*np.log(i)-(1-i)*np.log(1-i))\n",
    "    return np.array(result)"
   ]
  },
  {
   "cell_type": "code",
   "execution_count": 12,
   "metadata": {
    "ExecuteTime": {
     "end_time": "2019-09-17T16:39:53.644567Z",
     "start_time": "2019-09-17T16:39:53.524877Z"
    }
   },
   "outputs": [
    {
     "data": {
      "text/plain": [
       "[<matplotlib.lines.Line2D at 0x1e233147160>]"
      ]
     },
     "execution_count": 12,
     "metadata": {},
     "output_type": "execute_result"
    },
    {
     "data": {
      "image/png": "[encoded data removed]",
      "text/plain": [
       "<Figure size 432x288 with 1 Axes>"
      ]
     },
     "metadata": {
      "needs_background": "light"
     },
     "output_type": "display_data"
    }
   ],
   "source": [
    "L=51\n",
    "n=np.arange(-(L-1)/2,(L-1)/2 +1)\n",
    "plt.plot(sorted(Fermi_dirac(beta,mu,n,N=L),reverse=True))"
   ]
  },
  {
   "cell_type": "markdown",
   "metadata": {},
   "source": [
    "# Test ground state"
   ]
  },
  {
   "cell_type": "code",
   "execution_count": 15,
   "metadata": {
    "ExecuteTime": {
     "end_time": "2019-09-17T16:40:07.051628Z",
     "start_time": "2019-09-17T16:40:04.830795Z"
    }
   },
   "outputs": [],
   "source": [
    "x=np.arange(0,(N_size-1)/2+ 1)\n",
    "m_cos=[-0.5 for i in x]\n",
    "m_sin=[-0.5 for i in x]\n",
    "m_cos=np.array(m_cos[1:][::-1]+m_cos)\n",
    "m_sin=np.array(m_sin[1:][::-1]+m_sin)\n",
    "M_plus=(m_cos+m_sin)*0.5\n",
    "M_minous=(m_cos-m_sin)*0.5\n",
    "x=np.arange(-(N_size-1)/2,(N_size-1)/2+1)\n",
    "Mplusband=[np.exp(1.j*np.sign((2.0*np.pi/N_size) * i)*Phi(Gamma,Lambda,np.abs((2.0*np.pi/N_size) * i))) for i in x]\n",
    "Mplusband=M_plus*np.array(Mplusband)\n",
    "Mminousband=[np.exp(1.j*np.sign((2.0*np.pi/N_size) * i)*Phi(Gamma,Lambda,np.abs((2.0*np.pi/N_size) * i))) for i in x]\n",
    "Mminousband=M_minous*np.array(Mminousband)\n",
    "Fourier_plus=fftshift(fft(ifftshift(Mplusband)))\n",
    "Fourier_minous=fftshift(fft(ifftshift(Mminousband)))\n",
    "Cov_matrix=(Create_anti_circulant(Fourier_minous)+Create_circulant(Fourier_plus))*1/N_size"
   ]
  },
  {
   "cell_type": "code",
   "execution_count": 16,
   "metadata": {
    "ExecuteTime": {
     "end_time": "2019-09-17T16:40:18.402703Z",
     "start_time": "2019-09-17T16:40:07.116968Z"
    }
   },
   "outputs": [],
   "source": [
    "result=[]\n",
    "for i in range(5, 50):\n",
    "    New_Cov_matrix=Take_portion(Cov_matrix,i)\n",
    "    A,S,B=np.linalg.svd(New_Cov_matrix)\n",
    "    aux=np.sum(Binary_entropy((S+0.5))) #Binary entropy does not work\n",
    "    result.append(aux)"
   ]
  },
  {
   "cell_type": "code",
   "execution_count": 17,
   "metadata": {
    "ExecuteTime": {
     "end_time": "2019-09-17T16:40:18.606686Z",
     "start_time": "2019-09-17T16:40:18.471526Z"
    }
   },
   "outputs": [
    {
     "data": {
      "text/plain": [
       "[<matplotlib.lines.Line2D at 0x1e232e645c0>]"
      ]
     },
     "execution_count": 17,
     "metadata": {},
     "output_type": "execute_result"
    },
    {
     "data": {
      "image/png": "[encoded data removed]",
      "text/plain": [
       "<Figure size 432x288 with 1 Axes>"
      ]
     },
     "metadata": {
      "needs_background": "light"
     },
     "output_type": "display_data"
    }
   ],
   "source": [
    "plt.plot(result)"
   ]
  },
  {
   "cell_type": "markdown",
   "metadata": {},
   "source": [
    "### Now it is working, the entropy of the ground state seems to be the one that corresponds to the theoretical behaviour of area law!!"
   ]
  },
  {
   "cell_type": "markdown",
   "metadata": {},
   "source": [
    "# random generic state"
   ]
  },
  {
   "cell_type": "code",
   "execution_count": 86,
   "metadata": {
    "ExecuteTime": {
     "end_time": "2019-09-17T18:56:54.240914Z",
     "start_time": "2019-09-17T18:56:54.151154Z"
    }
   },
   "outputs": [],
   "source": [
    "def Get_Bands_Matrix(beta,mu,Gamma,Lambda,N_size,Ground =False):\n",
    "    if Ground:\n",
    "        x=np.arange(0,(N_size-1)/2+ 1)\n",
    "        m_cos=[-0.5 for i in x]\n",
    "        m_sin=[-0.5 for i in x]\n",
    "        m_cos=np.array(m_cos[1:][::-1]+m_cos)\n",
    "        m_sin=np.array(m_sin[1:][::-1]+m_sin)\n",
    "        M_plus=(m_cos+m_sin)*0.5\n",
    "        M_minous=(m_cos-m_sin)*0.5\n",
    "        x=np.arange(-(N_size-1)/2,(N_size-1)/2+1)\n",
    "        Mplusband=[np.exp(1.j*np.sign((2.0*np.pi/N_size) * i)*Phi(Gamma,Lambda,np.abs((2.0*np.pi/N_size) * i))) for i in x]\n",
    "        Mplusband=M_plus*np.array(Mplusband)\n",
    "        Mminousband=[np.exp(1.j*np.sign((2.0*np.pi/N_size) * i)*Phi(Gamma,Lambda,np.abs((2.0*np.pi/N_size) * i))) for i in x]\n",
    "        Mminousband=M_minous*np.array(Mminousband)\n",
    "        \n",
    "    else:\n",
    "        x=np.arange(0,(N_size-1)/2+ 1)\n",
    "        m_cos=[0.5 if np.random.random()>Fermi_dirac(beta,mu,i) else -0.5 for i in x]\n",
    "        m_sin=[0.5 if np.random.random()>Fermi_dirac(beta,mu,i) else -0.5 for i in x]\n",
    "        m_cos=np.array(m_cos[1:][::-1]+m_cos)\n",
    "        m_sin=np.array(m_sin[1:][::-1]+m_sin)\n",
    "        M_plus=(m_cos+m_sin)*0.5\n",
    "        M_minous=(m_cos-m_sin)*0.5\n",
    "        x=np.arange(-(N_size-1)/2,(N_size-1)/2+1)\n",
    "        Mplusband=[np.exp(1.j*np.sign((2.0*np.pi/N_size) * i)*Phi(Gamma,Lambda,np.abs((2.0*np.pi/N_size) * i))) for i in x]\n",
    "        Mplusband=M_plus*np.array(Mplusband)\n",
    "        Mminousband=[np.exp(1.j*np.sign((2.0*np.pi/N_size) * i)*Phi(Gamma,Lambda,np.abs((2.0*np.pi/N_size) * i))) for i in x]\n",
    "        Mminousband=M_minous*np.array(Mminousband)\n",
    "        \n",
    "    x=np.arange(-(N_size-1)/2,(N_size-1)/2+ 1)\n",
    "    Fourier_plus=fftshift(fft(ifftshift(Mplusband)))\n",
    "    Fourier_minous=fftshift(fft(ifftshift(Mminousband)))\n",
    "    return Fourier_plus,Fourier_minous\n",
    "\n",
    "def Sample_subsystem(L,beta,mu,Gamma,Lambda,N_size):\n",
    "    F_plus, F_minous = Get_Bands_Matrix(beta,mu,Gamma,Lambda,N_size)\n",
    "    return F_plus[(N_size-1)//2-L//2:(N_size-1)//2+L//2+1], F_minous[(N_size-1)//2-L//2:(N_size-1)//2+L//2+1]\n",
    "def Covariance_matrix(L,beta,mu,Gamma,Lambda,N_size):\n",
    "    circulant, anticirculant = Sample_subsystem(L,beta,mu,Gamma,Lambda,N_size)\n",
    "    return (Create_circulant(circulant)+Create_anti_circulant(anticirculant))/N_size"
   ]
  },
  {
   "cell_type": "code",
   "execution_count": 87,
   "metadata": {
    "ExecuteTime": {
     "end_time": "2019-09-17T18:56:57.908103Z",
     "start_time": "2019-09-17T18:56:55.149483Z"
    }
   },
   "outputs": [],
   "source": [
    "L=500\n",
    "N_size=50001 #\n",
    "Gamma=0.5\n",
    "Lambda=0.5\n",
    "gap_temp=np.min(Omega(Gamma,Lambda,(2.*np.pi)/float(N_size)*n))\n",
    "beta=gap_temp\n",
    "A,S,B=np.linalg.svd(Covariance_matrix(L,beta,mu,Gamma,Lambda,N_size))"
   ]
  },
  {
   "cell_type": "code",
   "execution_count": 94,
   "metadata": {
    "ExecuteTime": {
     "end_time": "2019-09-17T18:59:38.345084Z",
     "start_time": "2019-09-17T18:59:38.205946Z"
    }
   },
   "outputs": [
    {
     "data": {
      "text/plain": [
       "[<matplotlib.lines.Line2D at 0x1eae47b4ef0>]"
      ]
     },
     "execution_count": 94,
     "metadata": {},
     "output_type": "execute_result"
    },
    {
     "data": {
      "image/png": "[encoded data removed]",
      "text/plain": [
       "<Figure size 432x288 with 1 Axes>"
      ]
     },
     "metadata": {
      "needs_background": "light"
     },
     "output_type": "display_data"
    }
   ],
   "source": [
    "plt.plot(S+0.5,label=\"Singular values\")\n",
    "n=np.arange(-(L-1)/2,(L-1)/2 +1)\n",
    "plt.plot(np.array(sorted(Fermi_dirac(beta,mu,n,N=L),reverse=True)),label=\"Fermi distribution\")"
   ]
  },
  {
   "cell_type": "code",
   "execution_count": 39,
   "metadata": {
    "ExecuteTime": {
     "end_time": "2019-09-17T17:08:12.010252Z",
     "start_time": "2019-09-17T17:08:12.000280Z"
    }
   },
   "outputs": [
    {
     "data": {
      "text/plain": [
       "[0.35155124464983856,\n",
       " 0.35155124464983856,\n",
       " 0.3515473127395579,\n",
       " 0.3515473127395579,\n",
       " 0.3515008946500685,\n",
       " 0.3515008946500685,\n",
       " 0.35148724876460324,\n",
       " 0.35148724876460324,\n",
       " 0.3513981995166208,\n",
       " 0.3513981995166208,\n",
       " 0.3513692992822304,\n",
       " 0.3513692992822304,\n",
       " 0.35124517236106423,\n",
       " 0.35124517236106423,\n",
       " 0.3511918173292823,\n",
       " 0.3511918173292823,\n",
       " 0.3510438922691817,\n",
       " 0.3510438922691817,\n",
       " 0.35095327174023067,\n",
       " 0.35095327174023067,\n",
       " 0.35079649398113855,\n",
       " 0.35079649398113855,\n",
       " 0.3506522558900362,\n",
       " 0.3506522558900362,\n",
       " 0.35050515771991264,\n",
       " 0.35050515771991264,\n",
       " 0.350287495741165,\n",
       " 0.350287495741165,\n",
       " 0.35017209926501774,\n",
       " 0.35017209926501774,\n",
       " 0.3498578570820846,\n",
       " 0.3498578570820846,\n",
       " 0.3497995603572829,\n",
       " 0.3497995603572829,\n",
       " 0.34938979950843324,\n",
       " 0.34938979950843324,\n",
       " 0.34936235185556663,\n",
       " 0.34936235185556663,\n",
       " 0.348945083276847,\n",
       " 0.348945083276847,\n",
       " 0.3488001434889109,\n",
       " 0.3488001434889109,\n",
       " 0.3484676780585254,\n",
       " 0.3484676780585254,\n",
       " 0.3481705511544042,\n",
       " 0.3481705511544042,\n",
       " 0.3479598424303023,\n",
       " 0.3479598424303023,\n",
       " 0.3474730529064639,\n",
       " 0.3474730529064639,\n",
       " 0.3474238200709384,\n",
       " 0.3474238200709384,\n",
       " 0.3468618332751643,\n",
       " 0.3468618332751643,\n",
       " 0.3467072876614347,\n",
       " 0.3467072876614347,\n",
       " 0.3462760770661401,\n",
       " 0.3462760770661401,\n",
       " 0.3458730560062745,\n",
       " 0.3458730560062745,\n",
       " 0.34566871390327525,\n",
       " 0.34566871390327525,\n",
       " 0.34504186897494554,\n",
       " 0.34504186897494554,\n",
       " 0.344970319842737,\n",
       " 0.344970319842737,\n",
       " 0.3443976260593841,\n",
       " 0.3443976260593841,\n",
       " 0.3439992008934878,\n",
       " 0.3439992008934878,\n",
       " 0.3437380239318665,\n",
       " 0.3437380239318665,\n",
       " 0.34306505329221515,\n",
       " 0.34306505329221515,\n",
       " 0.34295997811525336,\n",
       " 0.34295997811525336,\n",
       " 0.342380654183541,\n",
       " 0.342380654183541,\n",
       " 0.34185308408107434,\n",
       " 0.34185308408107434,\n",
       " 0.34168671387092747,\n",
       " 0.34168671387092747,\n",
       " 0.34098506514735444,\n",
       " 0.34098506514735444,\n",
       " 0.34067910040852956,\n",
       " 0.34067910040852956,\n",
       " 0.3402774850334533,\n",
       " 0.3402774850334533,\n",
       " 0.3395656938375744,\n",
       " 0.3395656938375744,\n",
       " 0.3394387523231005,\n",
       " 0.3394387523231005,\n",
       " 0.3388513545430519,\n",
       " 0.3388513545430519,\n",
       " 0.33813607249035327,\n",
       " 0.33813607249035327,\n",
       " 0.33813290245539523,\n",
       " 0.33813290245539523,\n",
       " 0.33742139532294585,\n",
       " 0.33742139532294585,\n",
       " 0.3367625439776624,\n",
       " 0.3367625439776624,\n",
       " 0.33670881316709317,\n",
       " 0.33670881316709317,\n",
       " 0.33599975901737117,\n",
       " 0.33599975901737117,\n",
       " 0.3353287931888925,\n",
       " 0.3353287931888925,\n",
       " 0.33529560930138713,\n",
       " 0.33529560930138713,\n",
       " 0.3345976845989513,\n",
       " 0.3345976845989513,\n",
       " 0.33390725049275427,\n",
       " 0.33390725049275427,\n",
       " 0.3338328816589441,\n",
       " 0.3338328816589441,\n",
       " 0.3332255185293972,\n",
       " 0.3332255185293972,\n",
       " 0.33255364727138426,\n",
       " 0.33255364727138426,\n",
       " 0.3322761480407577,\n",
       " 0.3322761480407577,\n",
       " 0.33189274342240055,\n",
       " 0.33189274342240055,\n",
       " 0.331243863009832,\n",
       " 0.331243863009832,\n",
       " 0.33066002965609453,\n",
       " 0.33066002965609453,\n",
       " 0.33060801261004596,\n",
       " 0.33060801261004596,\n",
       " 0.32998615060340936,\n",
       " 0.32998615060340936,\n",
       " 0.32937918844739583,\n",
       " 0.32937918844739583,\n",
       " 0.32898605395470715,\n",
       " 0.32898605395470715,\n",
       " 0.32878799195739855,\n",
       " 0.32878799195739855,\n",
       " 0.32821338258603977,\n",
       " 0.32821338258603977,\n",
       " 0.3276561386928404,\n",
       " 0.3276561386928404,\n",
       " 0.32725582993975644,\n",
       " 0.32725582993975644,\n",
       " 0.32711699679709455,\n",
       " 0.32711699679709455,\n",
       " 0.326596652807681,\n",
       " 0.326596652807681,\n",
       " 0.3260957632243503,\n",
       " 0.3260957632243503,\n",
       " 0.3256149463057445,\n",
       " 0.3256149463057445,\n",
       " 0.3254710396440207,\n",
       " 0.3254710396440207,\n",
       " 0.32515478320005736,\n",
       " 0.32515478320005736,\n",
       " 0.32471581903481644,\n",
       " 0.32471581903481644,\n",
       " 0.32429856396278045,\n",
       " 0.32429856396278045,\n",
       " 0.32390349416139763,\n",
       " 0.32390349416139763,\n",
       " 0.323633429732352,\n",
       " 0.323633429732352,\n",
       " 0.3235310527836667,\n",
       " 0.3235310527836667,\n",
       " 0.3231816508585897,\n",
       " 0.3231816508585897,\n",
       " 0.32285566813970823,\n",
       " 0.32285566813970823,\n",
       " 0.32255345390047546,\n",
       " 0.32255345390047546,\n",
       " 0.3222753276754413,\n",
       " 0.3222753276754413,\n",
       " 0.3220215799464207,\n",
       " 0.3220215799464207,\n",
       " 0.3217924727729765,\n",
       " 0.3217924727729765,\n",
       " 0.32174480329627353,\n",
       " 0.32174480329627353,\n",
       " 0.3215882403666863,\n",
       " 0.3215882403666863,\n",
       " 0.32140908960877695,\n",
       " 0.32140908960877695,\n",
       " 0.3212552005108033,\n",
       " 0.3212552005108033,\n",
       " 0.32112672661812497,\n",
       " 0.32112672661812497,\n",
       " 0.32102379535599723,\n",
       " 0.32102379535599723,\n",
       " 0.3209465083181398,\n",
       " 0.3209465083181398,\n",
       " 0.32089494149768727,\n",
       " 0.32089494149768727,\n",
       " 0.3208691454604511,\n",
       " 0.3208691454604511,\n",
       " 0.31980701189688804,\n",
       " 0.31980701189688804,\n",
       " 0.3178219479026567,\n",
       " 0.3178219479026567,\n",
       " 0.3157915371593369,\n",
       " 0.3157915371593369,\n",
       " 0.31371773202061876,\n",
       " 0.31371773202061876,\n",
       " 0.31160250475991613,\n",
       " 0.31160250475991613,\n",
       " 0.3094478413764316,\n",
       " 0.3094478413764316,\n",
       " 0.30725573580209964,\n",
       " 0.30725573580209964,\n",
       " 0.30502818451032343,\n",
       " 0.30502818451032343,\n",
       " 0.30276718152256854,\n",
       " 0.30276718152256854,\n",
       " 0.30047471380482027,\n",
       " 0.30047471380482027,\n",
       " 0.29815275704261895,\n",
       " 0.29815275704261895,\n",
       " 0.2958032717807888,\n",
       " 0.2958032717807888,\n",
       " 0.2934281999120164,\n",
       " 0.2934281999120164,\n",
       " 0.2910294614970353,\n",
       " 0.2910294614970353,\n",
       " 0.28860895189827546,\n",
       " 0.28860895189827546,\n",
       " 0.2861685392083503,\n",
       " 0.2861685392083503,\n",
       " 0.2837100619546385,\n",
       " 0.2837100619546385,\n",
       " 0.28123532706138715,\n",
       " 0.28123532706138715,\n",
       " 0.27874610805117117,\n",
       " 0.27874610805117117,\n",
       " 0.2762441434681439,\n",
       " 0.2762441434681439,\n",
       " 0.2737311355062431,\n",
       " 0.2737311355062431,\n",
       " 0.2712087488263589,\n",
       " 0.2712087488263589,\n",
       " 0.26867860954736583,\n",
       " 0.26867860954736583,\n",
       " 0.26614230439686665,\n",
       " 0.26614230439686665,\n",
       " 0.26360138000844463,\n",
       " 0.26360138000844463,\n",
       " 0.26105734235317507,\n",
       " 0.26105734235317507,\n",
       " 0.2585116562940669,\n",
       " 0.2585116562940669,\n",
       " 0.2559657452530118,\n",
       " 0.2559657452530118,\n",
       " 0.25342099098066223,\n",
       " 0.25342099098066223,\n",
       " 0.2508787334204766,\n",
       " 0.2508787334204766,\n",
       " 0.24834027065892,\n",
       " 0.24834027065892,\n",
       " 0.2458068589545169,\n",
       " 0.2458068589545169,\n",
       " 0.2432797128390974,\n",
       " 0.2432797128390974,\n",
       " 0.24076000528517752,\n",
       " 0.24076000528517752,\n",
       " 0.23824886793395278,\n",
       " 0.23824886793395278,\n",
       " 0.23574739137888331,\n",
       " 0.23574739137888331,\n",
       " 0.2332566255002843,\n",
       " 0.2332566255002843,\n",
       " 0.23077757984674363,\n",
       " 0.23077757984674363,\n",
       " 0.22831122405954135,\n",
       " 0.22831122405954135,\n",
       " 0.2258584883365648,\n",
       " 0.2258584883365648,\n",
       " 0.22342026393249875,\n",
       " 0.22342026393249875,\n",
       " 0.22099740369231785,\n",
       " 0.22099740369231785,\n",
       " 0.21859072261533347,\n",
       " 0.21859072261533347,\n",
       " 0.21620099844724008,\n",
       " 0.21620099844724008,\n",
       " 0.2138289722977813,\n",
       " 0.2138289722977813,\n",
       " 0.21147534928180467,\n",
       " 0.21147534928180467,\n",
       " 0.20914079918161158,\n",
       " 0.20914079918161158,\n",
       " 0.20682595712862206,\n",
       " 0.20682595712862206,\n",
       " 0.20453142430248333,\n",
       " 0.20453142430248333,\n",
       " 0.2022577686458398,\n",
       " 0.2022577686458398,\n",
       " 0.20000552559306692,\n",
       " 0.20000552559306692,\n",
       " 0.19777519881134334,\n",
       " 0.19777519881134334,\n",
       " 0.19556726095250682,\n",
       " 0.19556726095250682,\n",
       " 0.1933821544141947,\n",
       " 0.1933821544141947,\n",
       " 0.19122029210883307,\n",
       " 0.19122029210883307,\n",
       " 0.1890820582390857,\n",
       " 0.1890820582390857,\n",
       " 0.18696780907842767,\n",
       " 0.18696780907842767,\n",
       " 0.1848778737555549,\n",
       " 0.1848778737555549,\n",
       " 0.18281255504138547,\n",
       " 0.18281255504138547,\n",
       " 0.18077213013745652,\n",
       " 0.18077213013745652,\n",
       " 0.1787568514645604,\n",
       " 0.1787568514645604,\n",
       " 0.17676694745051164,\n",
       " 0.17676694745051164,\n",
       " 0.17480262331597538,\n",
       " 0.17480262331597538,\n",
       " 0.17286406185733463,\n",
       " 0.17286406185733463,\n",
       " 0.1709514242256144,\n",
       " 0.1709514242256144,\n",
       " 0.16906485070052618,\n",
       " 0.16906485070052618,\n",
       " 0.16720446145873855,\n",
       " 0.16720446145873855,\n",
       " 0.1653703573355244,\n",
       " 0.1653703573355244,\n",
       " 0.1635626205789791,\n",
       " 0.1635626205789791,\n",
       " 0.16178131559604847,\n",
       " 0.16178131559604847,\n",
       " 0.1600264896896491,\n",
       " 0.1600264896896491,\n",
       " 0.1582981737862093,\n",
       " 0.1582981737862093,\n",
       " 0.1565963831530014,\n",
       " 0.1565963831530014,\n",
       " 0.15492111810468182,\n",
       " 0.15492111810468182,\n",
       " 0.1532723646984993,\n",
       " 0.1532723646984993,\n",
       " 0.15165009541767294,\n",
       " 0.15165009541767294,\n",
       " 0.15005426984248701,\n",
       " 0.15005426984248701,\n",
       " 0.14848483530869191,\n",
       " 0.14848483530869191,\n",
       " 0.1469417275528396,\n",
       " 0.1469417275528396,\n",
       " 0.14542487134422608,\n",
       " 0.14542487134422608,\n",
       " 0.1439341811031506,\n",
       " 0.1439341811031506,\n",
       " 0.1424695615052424,\n",
       " 0.1424695615052424,\n",
       " 0.14103090807164226,\n",
       " 0.14103090807164226,\n",
       " 0.13961810774486294,\n",
       " 0.13961810774486294,\n",
       " 0.13823103945018866,\n",
       " 0.13823103945018866,\n",
       " 0.13686957464250796,\n",
       " 0.13686957464250796,\n",
       " 0.13553357783850567,\n",
       " 0.13553357783850567,\n",
       " 0.13422290713417448,\n",
       " 0.13422290713417448,\n",
       " 0.13293741470763207,\n",
       " 0.13293741470763207,\n",
       " 0.13167694730726237,\n",
       " 0.13167694730726237,\n",
       " 0.1304413467252253,\n",
       " 0.1304413467252253,\n",
       " 0.12923045025640387,\n",
       " 0.12923045025640387,\n",
       " 0.12804409114288376,\n",
       " 0.12804409114288376,\n",
       " 0.12688209900408198,\n",
       " 0.12688209900408198,\n",
       " 0.12574430025266192,\n",
       " 0.12574430025266192,\n",
       " 0.12463051849639442,\n",
       " 0.12463051849639442,\n",
       " 0.12354057492613935,\n",
       " 0.12354057492613935,\n",
       " 0.12247428869014175,\n",
       " 0.12247428869014175,\n",
       " 0.12143147725485116,\n",
       " 0.12143147725485116,\n",
       " 0.12041195675248717,\n",
       " 0.12041195675248717,\n",
       " 0.11941554231558622,\n",
       " 0.11941554231558622,\n",
       " 0.11844204839877696,\n",
       " 0.11844204839877696,\n",
       " 0.11749128908804254,\n",
       " 0.11749128908804254,\n",
       " 0.11656307839773503,\n",
       " 0.11656307839773503,\n",
       " 0.11565723055561722,\n",
       " 0.11565723055561722,\n",
       " 0.11477356027621163,\n",
       " 0.11477356027621163,\n",
       " 0.11391188302274592,\n",
       " 0.11391188302274592,\n",
       " 0.11307201525798244,\n",
       " 0.11307201525798244,\n",
       " 0.11225377468423035,\n",
       " 0.11225377468423035,\n",
       " 0.11145698047283574,\n",
       " 0.11145698047283574,\n",
       " 0.11068145348344938,\n",
       " 0.11068145348344938,\n",
       " 0.10992701647337358,\n",
       " 0.10992701647337358,\n",
       " 0.10919349429728725,\n",
       " 0.10919349429728725,\n",
       " 0.10848071409764959,\n",
       " 0.10848071409764959,\n",
       " 0.10778850548608067,\n",
       " 0.10778850548608067,\n",
       " 0.10711670071601605,\n",
       " 0.10711670071601605,\n",
       " 0.1064651348469278,\n",
       " 0.1064651348469278,\n",
       " 0.1058336459004035,\n",
       " 0.1058336459004035,\n",
       " 0.10522207500837079,\n",
       " 0.10522207500837079,\n",
       " 0.1046302665537482,\n",
       " 0.1046302665537482,\n",
       " 0.1040580683038011,\n",
       " 0.1040580683038011,\n",
       " 0.10350533153647642,\n",
       " 0.10350533153647642,\n",
       " 0.10297191115998101,\n",
       " 0.10297191115998101,\n",
       " 0.10245766582586717,\n",
       " 0.10245766582586717,\n",
       " 0.10196245803587885,\n",
       " 0.10196245803587885,\n",
       " 0.10148615424280787,\n",
       " 0.10148615424280787,\n",
       " 0.1010286249456009,\n",
       " 0.1010286249456009,\n",
       " 0.10058974477895283,\n",
       " 0.10058974477895283,\n",
       " 0.10016939259761336,\n",
       " 0.10016939259761336,\n",
       " 0.09976745155562608,\n",
       " 0.09976745155562608,\n",
       " 0.09938380918071345,\n",
       " 0.09938380918071345,\n",
       " 0.09901835744401115,\n",
       " 0.09901835744401115,\n",
       " 0.09867099282534847,\n",
       " 0.09867099282534847,\n",
       " 0.09834161637426313,\n",
       " 0.09834161637426313,\n",
       " 0.09803013376693093,\n",
       " 0.09803013376693093,\n",
       " 0.09773645535918186,\n",
       " 0.09773645535918186,\n",
       " 0.09746049623576622,\n",
       " 0.09746049623576622,\n",
       " 0.09720217625602644,\n",
       " 0.09720217625602644,\n",
       " 0.09696142009612087,\n",
       " 0.09696142009612087,\n",
       " 0.09673815728793778,\n",
       " 0.09673815728793778,\n",
       " 0.09653232225482959,\n",
       " 0.09653232225482959,\n",
       " 0.0963438543442878,\n",
       " 0.0963438543442878,\n",
       " 0.0961726978576721,\n",
       " 0.0961726978576721,\n",
       " 0.0960188020770962,\n",
       " 0.0960188020770962,\n",
       " 0.09588212128956723,\n",
       " 0.09588212128956723,\n",
       " 0.09576261480846349,\n",
       " 0.09576261480846349,\n",
       " 0.09566024699243016,\n",
       " 0.09566024699243016,\n",
       " 0.0955749872617612,\n",
       " 0.0955749872617612,\n",
       " 0.0955068101123285,\n",
       " 0.0955068101123285,\n",
       " 0.09545569512711004,\n",
       " 0.09545569512711004,\n",
       " 0.09542162698536037,\n",
       " 0.09542162698536037,\n",
       " 0.09540459546945856,\n",
       " 0.09540459546945856]"
      ]
     },
     "execution_count": 39,
     "metadata": {},
     "output_type": "execute_result"
    }
   ],
   "source": [
    "sorted(Fermi_dirac(beta,mu,n,N=L),reverse=True)"
   ]
  },
  {
   "cell_type": "code",
   "execution_count": 41,
   "metadata": {
    "ExecuteTime": {
     "end_time": "2019-09-17T17:52:30.308330Z",
     "start_time": "2019-09-17T17:52:29.284987Z"
    }
   },
   "outputs": [],
   "source": []
  },
  {
   "cell_type": "code",
   "execution_count": null,
   "metadata": {
    "ExecuteTime": {
     "end_time": "2019-09-17T17:53:21.848363Z",
     "start_time": "2019-09-17T17:53:21.812458Z"
    }
   },
   "outputs": [],
   "source": []
  },
  {
   "cell_type": "code",
   "execution_count": null,
   "metadata": {
    "ExecuteTime": {
     "end_time": "2019-09-17T17:53:02.919905Z",
     "start_time": "2019-09-17T17:53:02.914918Z"
    }
   },
   "outputs": [],
   "source": []
  },
  {
   "cell_type": "code",
   "execution_count": null,
   "metadata": {
    "ExecuteTime": {
     "end_time": "2019-09-17T18:05:33.312521Z",
     "start_time": "2019-09-17T18:05:33.176376Z"
    }
   },
   "outputs": [],
   "source": []
  },
  {
   "cell_type": "code",
   "execution_count": null,
   "metadata": {
    "ExecuteTime": {
     "end_time": "2019-09-17T18:01:18.289999Z",
     "start_time": "2019-09-17T18:01:18.285012Z"
    }
   },
   "outputs": [],
   "source": []
  },
  {
   "cell_type": "code",
   "execution_count": null,
   "metadata": {
    "ExecuteTime": {
     "end_time": "2019-09-17T17:59:57.679959Z",
     "start_time": "2019-09-17T17:59:57.675968Z"
    }
   },
   "outputs": [],
   "source": []
  },
  {
   "cell_type": "code",
   "execution_count": null,
   "metadata": {},
   "outputs": [],
   "source": []
  }
 ],
 "metadata": {
  "kernelspec": {
   "display_name": "Python 3",
   "language": "python",
   "name": "python3"
  },
  "language_info": {
   "codemirror_mode": {
    "name": "ipython",
    "version": 3
   },
   "file_extension": ".py",
   "mimetype": "text/x-python",
   "name": "python",
   "nbconvert_exporter": "python",
   "pygments_lexer": "ipython3",
   "version": "3.7.1"
  },
  "nbTranslate": {
   "displayLangs": [
    "*"
   ],
   "hotkey": "alt-t",
   "langInMainMenu": true,
   "sourceLang": "en",
   "targetLang": "fr",
   "useGoogleTranslate": true
  },
  "toc": {
   "base_numbering": 1,
   "nav_menu": {},
   "number_sections": true,
   "sideBar": true,
   "skip_h1_title": false,
   "title_cell": "Table of Contents",
   "title_sidebar": "Contents",
   "toc_cell": false,
   "toc_position": {},
   "toc_section_display": true,
   "toc_window_display": false
  },
  "varInspector": {
   "cols": {
    "lenName": 16,
    "lenType": 16,
    "lenVar": 40
   },
   "kernels_config": {
    "python": {
     "delete_cmd_postfix": "",
     "delete_cmd_prefix": "del ",
     "library": "var_list.py",
     "varRefreshCmd": "print(var_dic_list())"
    },
    "r": {
     "delete_cmd_postfix": ") ",
     "delete_cmd_prefix": "rm(",
     "library": "var_list.r",
     "varRefreshCmd": "cat(var_dic_list()) "
    }
   },
   "types_to_exclude": [
    "module",
    "function",
    "builtin_function_or_method",
    "instance",
    "_Feature"
   ],
   "window_display": false
  }
 },
 "nbformat": 4,
 "nbformat_minor": 2
}
