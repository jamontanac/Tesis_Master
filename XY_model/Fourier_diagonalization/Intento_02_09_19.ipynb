{
 "cells": [
  {
   "cell_type": "markdown",
   "metadata": {},
   "source": [
    "We remember that the way the formula to diagonalize the covariance matrix was via a Fourier transform with the condition\n",
    "$$\n",
    "M_{m n}=\\frac{1}{N} \\sum_{\\theta_{k} \\in(-\\pi, \\pi)} \\omega\\left(\\theta_{k}\\right) e^{\\phi\\left(\\theta_{k}\\right)} e^{i(m-n) \\theta_{k}}\n",
    "$$\n",
    "with $\\omega\\left(\\theta_{k}\\right)=\\omega\\left(\\theta_{k}\\right)^{*}=\\omega\\left(-\\theta_{k}\\right),\\  \\phi\\left(-\\theta_{k}\\right)=-\\phi\\left(\\theta_{k}\\right)$. So $\\Omega$ is real and $\\phi$ is skew-symmetric, and are given by\n",
    "$$\n",
    "\\omega^{2}\\left(\\theta_{k}\\right) :=\\left(\\lambda-\\cos \\theta_{k}\\right)^{2}+\\gamma^{2} \\sin ^{2} \\theta_{k}\n",
    "$$\n",
    "\n",
    "$$\n",
    "\\phi\\left(\\theta_{k}\\right) :=\\arctan \\left(\\frac{-\\gamma \\sin \\theta_{k}}{\\lambda-\\cos \\theta_{k}}\\right)\n",
    "$$\n",
    "So we define $\\alpha(\\theta)=\\lambda-\\cos \\theta_{k}$ and $\\beta(\\theta)=-\\gamma \\sin \\theta_{k}$"
   ]
  },
  {
   "cell_type": "code",
   "execution_count": 1,
   "metadata": {
    "ExecuteTime": {
     "end_time": "2019-09-02T21:00:45.971892Z",
     "start_time": "2019-09-02T21:00:43.129557Z"
    }
   },
   "outputs": [
    {
     "data": {
      "text/html": [
       "\n",
       "<style>\n",
       ".output {\n",
       "    display: flex;\n",
       "    align-items: center;\n",
       "    text-align: center;\n",
       "}\n",
       "</style>\n"
      ],
      "text/plain": [
       "<IPython.core.display.HTML object>"
      ]
     },
     "metadata": {},
     "output_type": "display_data"
    }
   ],
   "source": [
    "import numpy as np\n",
    "import matplotlib.pylab as plt\n",
    "import pandas as pd\n",
    "from ipywidgets import interactive\n",
    "\n",
    "\n",
    "# -------------------------- To center the output ---------------\n",
    "from IPython.display import display, HTML\n",
    "display(HTML(\"\"\"\n",
    "<style>\n",
    ".output {\n",
    "    display: flex;\n",
    "    align-items: center;\n",
    "    text-align: center;\n",
    "}\n",
    "</style>\n",
    "\"\"\"))\n",
    "\n",
    "# ---------------------------------------------------\n",
    "# Define the parameters of the system\n",
    "N_size=41 #\n",
    "Gamma=0.5\n",
    "Lambda=0.5\n",
    "\n",
    "# ---------------------------------------------------\n",
    "\n",
    "def Alpha(Gamma,Lambda,theta):\n",
    "    return Lambda+np.cos(theta)\n",
    "def Beta(Gamma,Lambda,theta):\n",
    "    return -Gamma*np.sin(theta)\n",
    "def Omega(Gamma,Lambda,theta):\n",
    "    return np.sqrt(Alpha(Gamma,Lambda,theta)**2 + Beta(Gamma,Lambda,theta)**2 )\n",
    "def Phi(Gamma,Lambda,theta):\n",
    "    return np.arctan2(Beta(Gamma,Lambda,theta),Alpha(Gamma,Lambda,theta))"
   ]
  },
  {
   "cell_type": "code",
   "execution_count": 2,
   "metadata": {
    "ExecuteTime": {
     "end_time": "2019-09-02T21:00:46.360281Z",
     "start_time": "2019-09-02T21:00:45.984857Z"
    }
   },
   "outputs": [
    {
     "data": {
      "application/vnd.jupyter.widget-view+json": {
       "model_id": "8522a50f7f544a0ea02516fffb665582",
       "version_major": 2,
       "version_minor": 0
      },
      "text/plain": [
       "interactive(children=(FloatSlider(value=0.0, description='Gamma', max=2.0, min=-2.0), FloatSlider(value=0.0, d…"
      ]
     },
     "metadata": {},
     "output_type": "display_data"
    }
   ],
   "source": [
    "def Plot_energies(Gamma,Lambda):\n",
    "    plt.figure(figsize=(13,8))\n",
    "    x=np.linspace(-np.pi,np.pi,100)\n",
    "    plt.plot(x,Phi(Gamma,Lambda,x),label=r\"$\\phi$\")\n",
    "    plt.plot(x,Alpha(Gamma,Lambda,x),label=r\"$\\alpha$\")\n",
    "    plt.plot(x,Beta(Gamma,Lambda,x),label=r\"$\\beta$\")\n",
    "    plt.plot(x,Omega(Gamma,Lambda,x),label=r\"$\\Omega$\")\n",
    "    plt.legend()\n",
    "    plt.show() \n",
    "interactive_plot = interactive(Plot_energies, Gamma=(-2, 2,0.1), Lambda=(-2, 2, 0.1))\n",
    "output = interactive_plot.children[-1]\n",
    "output.layout.height = '550px'\n",
    "interactive_plot"
   ]
  },
  {
   "cell_type": "code",
   "execution_count": 3,
   "metadata": {
    "ExecuteTime": {
     "end_time": "2019-09-02T21:00:46.383377Z",
     "start_time": "2019-09-02T21:00:46.376207Z"
    }
   },
   "outputs": [],
   "source": [
    "def Fermi_dirac(beta,mu,n,Gamma=Gamma,Lambda=Lambda,N=N_size):\n",
    "    # beta is the inverse thermic energy associated in the system (beta)\n",
    "    # mu corresponds to the chemical potential\n",
    "    # n is the position of the particle\n",
    "    # f=np.exp(T*(Omega(Gamma,Lambda,2.0*(np.pi/N)*n)-mu)) +1\n",
    "    # N corresponds to the size of the system\n",
    "    f=np.exp(beta*(Omega(Gamma,Lambda,((2.*np.pi)/float(N)) * n)-mu)) +1\n",
    "    return 1/f\n",
    "def plot_interactive(beta,mu):\n",
    "    plt.figure(figsize=(10,7))\n",
    "    n=np.arange(-(N_size-1)/2,(N_size-1)/2+ 1)\n",
    "    plt.subplot(2,1,1)\n",
    "    plt.plot(n,Fermi_dirac(beta,mu,n))\n",
    "    #plt.ylim(-0.05,1.05)\n",
    "    plt.xlabel(\"Position\")\n",
    "    plt.ylabel(\"Probability\")\n",
    "    plt.subplot(2,1,2)\n",
    "    plt.plot(n,Omega(Gamma,Lambda,(2.*np.pi)/float(N_size)*n),label=r\"$\\Omega$\")\n",
    "    plt.show()"
   ]
  },
  {
   "cell_type": "markdown",
   "metadata": {},
   "source": [
    "Ask about the values of $\\beta$ for the temperature and $\\mu$ to sample from the Fermi-Dirac distribution"
   ]
  },
  {
   "cell_type": "code",
   "execution_count": 4,
   "metadata": {
    "ExecuteTime": {
     "end_time": "2019-09-02T21:00:46.643935Z",
     "start_time": "2019-09-02T21:00:46.403280Z"
    },
    "scrolled": false
   },
   "outputs": [
    {
     "data": {
      "application/vnd.jupyter.widget-view+json": {
       "model_id": "95479db0f4464039b581f4ae48f3aab9",
       "version_major": 2,
       "version_minor": 0
      },
      "text/plain": [
       "interactive(children=(FloatSlider(value=1.0, description='beta', max=2.0, step=0.001), FloatSlider(value=0.0, …"
      ]
     },
     "metadata": {},
     "output_type": "display_data"
    }
   ],
   "source": [
    "\n",
    "interactive_plot = interactive(plot_interactive, beta=(0, 2,0.001), mu=(-2, 2, 0.01))\n",
    "output = interactive_plot.children[-1]\n",
    "output.layout.height = '450px'\n",
    "interactive_plot"
   ]
  },
  {
   "cell_type": "markdown",
   "metadata": {},
   "source": [
    "Now we sample the number of occupation number for $\\sin$ and $\\cos$, but as we have to sample the modes for half the circle and then all for the other half we fix exactly the same number. Such construction has to satisfy.\n",
    "\n",
    "$$\n",
    "m_{\\cos}[n]=m_{\\cos}[-n]\\quad  \\forall n>0\n",
    "$$\n",
    "$$\n",
    "m_{\\sin}[n]=m_{\\sin}[-n]\\quad  \\forall n>0\n",
    "$$\n",
    "\n",
    "So first we sample the random numbers for half for the circle and then extend this for the other half. remembering that the right upper part of the covariance matrix can be computed as:\n",
    "\n",
    "\n",
    "$$\n",
    "\\begin{aligned} \\tilde{\\Gamma}_{m n} &=\\sum_{\\theta_{k}}^{\\pi}\\left[m^{c}\\left(\\theta_{k}\\right) u_{m}^{c}\\left(\\theta_{k}\\right) v_{n}^{c}\\left(\\theta_{k}\\right)+m^{s}\\left(\\theta_{k}\\right) u_{m}^{s}\\left(\\theta_{k}\\right) v_{n}^{s}\\left(\\theta_{k}\\right)\\right] \\\\ &=\\sum_{\\theta_{k}=-\\pi}^{\\pi}\\left(\\frac{m^{c}\\left(\\theta_{k}\\right)+m^{s}\\left(\\theta_{k}\\right)}{2}\\right)\\left(u_{m}^{c}\\left(\\theta_{k}\\right) v_{n}^{c}\\left(\\theta_{k}\\right)+u_{m}^{s}\\left(\\theta_{k}\\right) v_{n}^{s}\\left(\\theta_{k}\\right)\\right) \\\\ &+\\sum_{\\theta_{k}=-\\pi}^{\\pi}\\left(\\frac{m^{c}\\left(\\theta_{k}\\right)-m^{s}\\left(\\theta_{k}\\right)}{2}\\right)\\left(u_{m}^{c}\\left(\\theta_{k}\\right) v_{n}^{c}\\left(\\theta_{k}\\right)-u_{m}^{s}\\left(\\theta_{k}\\right) v_{n}^{s}\\left(\\theta_{k}\\right)\\right) \\end{aligned}\n",
    "$$\n",
    "\n",
    "\n",
    "which is basically\n",
    "\n",
    "$$\n",
    "\\tilde{\\Gamma}_{m n}=\\overbrace{\\sum_{\\theta_{k}=-\\pi}^{\\pi} m^{+}\\left(\\theta_{k}\\right) e^{i \\phi\\left(\\theta_{k}\\right)} e^{i(n-m) \\theta_{k}}}^{\\tilde{\\Gamma}_{m n}^{+}}+\\underbrace{\\sum_{\\theta_{k}=-\\pi}^{\\pi} m^{-}\\left(\\theta_{k}\\right) e^{i \\phi\\left(\\theta_{k}\\right)} e^{i(n+m) \\theta_{k}}}_{\\tilde{\\Gamma}_{m n}^{-}}\n",
    "$$\n",
    " the Fourier transform of $\n",
    "m^{+}\\left(\\theta_{k}\\right) e^{i \\phi\\left(\\theta_{k}\\right)}$ y $ m^{-}\\left(\\theta_{k}\\right) e^{i \\phi\\left(\\theta_{k}\\right)}$"
   ]
  },
  {
   "cell_type": "code",
   "execution_count": 5,
   "metadata": {
    "ExecuteTime": {
     "end_time": "2019-09-02T21:00:46.664878Z",
     "start_time": "2019-09-02T21:00:46.657873Z"
    }
   },
   "outputs": [],
   "source": [
    "x=np.arange(0,(N_size-1)/2+ 1)\n",
    "beta=0.01\n",
    "mu=2\n",
    "m_cos=[-0.5 if np.random.random()>Fermi_dirac(beta,mu,i) else 0.5 for i in x]\n",
    "m_sin=[-0.5 if np.random.random()>Fermi_dirac(beta,mu,i) else 0.5 for i in x]\n",
    "m_cos=np.array(m_cos[1:][::-1]+m_cos)\n",
    "m_sin=np.array(m_sin[1:][::-1]+m_sin)\n",
    "M_plus=(m_cos+m_sin)*0.5\n",
    "M_minous=(m_cos-m_sin)*0.5"
   ]
  },
  {
   "cell_type": "code",
   "execution_count": 6,
   "metadata": {
    "ExecuteTime": {
     "end_time": "2019-09-02T21:00:46.821000Z",
     "start_time": "2019-09-02T21:00:46.682802Z"
    }
   },
   "outputs": [
    {
     "data": {
      "image/png": "[encoded data removed]",
      "text/plain": [
       "<Figure size 432x288 with 1 Axes>"
      ]
     },
     "metadata": {
      "needs_background": "light"
     },
     "output_type": "display_data"
    }
   ],
   "source": [
    "M_plus=1\n",
    "M_minous=0\n",
    "x=np.arange(-(N_size-1)/2,(N_size-1)/2+1)\n",
    "Mplusband=[np.exp(1.j*np.sign((2.0*np.pi/N_size) * i)*Phi(Gamma,Lambda,np.abs((2.0*np.pi/N_size) * i))) for i in x]\n",
    "Mplusband=M_plus*np.array(Mplusband)\n",
    "plt.plot(x,Mplusband.real)\n",
    "plt.plot(x,Mplusband.imag)\n",
    "plt.show()"
   ]
  },
  {
   "cell_type": "code",
   "execution_count": 7,
   "metadata": {
    "ExecuteTime": {
     "end_time": "2019-09-02T21:00:46.962623Z",
     "start_time": "2019-09-02T21:00:46.848897Z"
    }
   },
   "outputs": [
    {
     "data": {
      "image/png": "[encoded data removed]",
      "text/plain": [
       "<Figure size 432x288 with 1 Axes>"
      ]
     },
     "metadata": {
      "needs_background": "light"
     },
     "output_type": "display_data"
    }
   ],
   "source": [
    "x=np.arange(-(N_size-1)/2,(N_size-1)/2+1)\n",
    "Mminousband=[np.exp(1.j*np.sign((2.0*np.pi/N_size) * i)*Phi(Gamma,Lambda,np.abs((2.0*np.pi/N_size) * i))) for i in x]\n",
    "Mminousband=M_minous*np.array(Mminousband)\n",
    "plt.plot(x,(Mminousband).real)\n",
    "plt.plot(x,(Mminousband).imag)\n",
    "plt.show()"
   ]
  },
  {
   "cell_type": "code",
   "execution_count": 8,
   "metadata": {
    "ExecuteTime": {
     "end_time": "2019-09-02T21:00:46.986531Z",
     "start_time": "2019-09-02T21:00:46.981543Z"
    }
   },
   "outputs": [],
   "source": [
    "Mminousband_new=np.roll(Mminousband,-(N_size-1)//2)\n",
    "Mplusband_new=np.roll(Mplusband,-(N_size-1)//2)"
   ]
  },
  {
   "cell_type": "code",
   "execution_count": 9,
   "metadata": {
    "ExecuteTime": {
     "end_time": "2019-09-02T21:00:47.125268Z",
     "start_time": "2019-09-02T21:00:47.015453Z"
    }
   },
   "outputs": [
    {
     "data": {
      "image/png": "[encoded data removed]",
      "text/plain": [
       "<Figure size 432x288 with 1 Axes>"
      ]
     },
     "metadata": {
      "needs_background": "light"
     },
     "output_type": "display_data"
    }
   ],
   "source": [
    "plt.plot(x,(Mminousband_new).real)\n",
    "plt.plot(x,(Mminousband_new).imag)\n",
    "plt.show()"
   ]
  },
  {
   "cell_type": "code",
   "execution_count": 30,
   "metadata": {
    "ExecuteTime": {
     "end_time": "2019-09-02T21:14:53.325917Z",
     "start_time": "2019-09-02T21:14:53.204910Z"
    }
   },
   "outputs": [
    {
     "data": {
      "image/png": "[encoded data removed]",
      "text/plain": [
       "<Figure size 432x288 with 1 Axes>"
      ]
     },
     "metadata": {
      "needs_background": "light"
     },
     "output_type": "display_data"
    }
   ],
   "source": [
    "from scipy.fftpack import fft, ifft,ifftshift,fftshift\n",
    "plt.plot(ifftshift(x),(Mplusband_new).real)\n",
    "plt.plot(ifftshift(x),(Mplusband_new).imag)\n",
    "plt.show()"
   ]
  },
  {
   "cell_type": "code",
   "execution_count": 17,
   "metadata": {
    "ExecuteTime": {
     "end_time": "2019-09-02T21:04:31.956149Z",
     "start_time": "2019-09-02T21:04:31.835692Z"
    }
   },
   "outputs": [
    {
     "data": {
      "image/png": "[encoded data removed]",
      "text/plain": [
       "<Figure size 432x288 with 1 Axes>"
      ]
     },
     "metadata": {
      "needs_background": "light"
     },
     "output_type": "display_data"
    }
   ],
   "source": [
    "x=np.arange(-(N_size-1)/2,(N_size-1)/2+1)\n",
    "plt.plot(x,(Mplusband_new).real)\n",
    "plt.plot(x,(Mplusband_new).imag)\n",
    "plt.show()"
   ]
  },
  {
   "cell_type": "code",
   "execution_count": 18,
   "metadata": {
    "ExecuteTime": {
     "end_time": "2019-09-02T21:05:38.687831Z",
     "start_time": "2019-09-02T21:05:38.683835Z"
    }
   },
   "outputs": [],
   "source": [
    "from scipy.fftpack import fftfreq"
   ]
  },
  {
   "cell_type": "code",
   "execution_count": 24,
   "metadata": {
    "ExecuteTime": {
     "end_time": "2019-09-02T21:12:09.486335Z",
     "start_time": "2019-09-02T21:12:09.347707Z"
    }
   },
   "outputs": [
    {
     "data": {
      "text/plain": [
       "[<matplotlib.lines.Line2D at 0x1b330b71ba8>]"
      ]
     },
     "execution_count": 24,
     "metadata": {},
     "output_type": "execute_result"
    },
    {
     "data": {
      "image/png": "[encoded data removed]",
      "text/plain": [
       "<Figure size 432x288 with 1 Axes>"
      ]
     },
     "metadata": {
      "needs_background": "light"
     },
     "output_type": "display_data"
    }
   ],
   "source": [
    "plt.plot(ifftshift(Mplusband_new))"
   ]
  },
  {
   "cell_type": "code",
   "execution_count": 56,
   "metadata": {
    "ExecuteTime": {
     "end_time": "2019-09-02T21:36:34.409716Z",
     "start_time": "2019-09-02T21:36:34.270927Z"
    }
   },
   "outputs": [
    {
     "data": {
      "text/plain": [
       "<matplotlib.lines.Line2D at 0x1b3302876d8>"
      ]
     },
     "execution_count": 56,
     "metadata": {},
     "output_type": "execute_result"
    },
    {
     "data": {
      "image/png": "[encoded data removed]",
      "text/plain": [
       "<Figure size 432x288 with 1 Axes>"
      ]
     },
     "metadata": {
      "needs_background": "light"
     },
     "output_type": "display_data"
    }
   ],
   "source": [
    "#Mminousband_new=np.roll(Mminousband,-(N_size-1)//2)\n",
    "#Mplusband_new=np.roll(Mplusband,-(N_size-1)//2)\n",
    "#x=np.arange(-(N_size-1)/2,(N_size-1)/2+1)\n",
    "#plt.plot(x,np.abs(np.roll(fft(Mplusband_new),int((N_size-1)/2))))\n",
    "#x=np.arange(0,(N_size))\n",
    "plt.plot(x,np.sqrt(np.square(ifftshift(fft(fftshift(Mplusband_new))))))\n",
    "plt.axvline(x=0)"
   ]
  },
  {
   "cell_type": "code",
   "execution_count": 54,
   "metadata": {
    "ExecuteTime": {
     "end_time": "2019-09-02T21:34:59.642510Z",
     "start_time": "2019-09-02T21:34:59.636497Z"
    }
   },
   "outputs": [
    {
     "data": {
      "text/plain": [
       "20.0"
      ]
     },
     "execution_count": 54,
     "metadata": {},
     "output_type": "execute_result"
    }
   ],
   "source": [
    "x[np.argmin(fft(ifftshift(Mplusband_new)))]"
   ]
  },
  {
   "cell_type": "code",
   "execution_count": 46,
   "metadata": {
    "ExecuteTime": {
     "end_time": "2019-09-02T21:26:30.936062Z",
     "start_time": "2019-09-02T21:26:30.810370Z"
    }
   },
   "outputs": [
    {
     "data": {
      "text/plain": [
       "[<matplotlib.lines.Line2D at 0x1b3304cdc18>]"
      ]
     },
     "execution_count": 46,
     "metadata": {},
     "output_type": "execute_result"
    },
    {
     "data": {
      "image/png": "[encoded data removed]",
      "text/plain": [
       "<Figure size 432x288 with 1 Axes>"
      ]
     },
     "metadata": {
      "needs_background": "light"
     },
     "output_type": "display_data"
    }
   ],
   "source": [
    "plt.plot(fft(fftshift(Mplusband_new)))"
   ]
  },
  {
   "cell_type": "code",
   "execution_count": 34,
   "metadata": {
    "ExecuteTime": {
     "end_time": "2019-09-02T21:18:22.321434Z",
     "start_time": "2019-09-02T21:18:22.125872Z"
    }
   },
   "outputs": [],
   "source": [
    "from scipy.linalg import circulant"
   ]
  },
  {
   "cell_type": "code",
   "execution_count": 47,
   "metadata": {
    "ExecuteTime": {
     "end_time": "2019-09-02T21:26:37.135711Z",
     "start_time": "2019-09-02T21:26:36.954657Z"
    }
   },
   "outputs": [
    {
     "data": {
      "text/plain": [
       "<matplotlib.colorbar.Colorbar at 0x1b32d922da0>"
      ]
     },
     "execution_count": 47,
     "metadata": {},
     "output_type": "execute_result"
    },
    {
     "data": {
      "image/png": "[encoded data removed]",
      "text/plain": [
       "<Figure size 432x288 with 2 Axes>"
      ]
     },
     "metadata": {
      "needs_background": "light"
     },
     "output_type": "display_data"
    }
   ],
   "source": [
    "plt.imshow(circulant(fft(fftshift(Mplusband_new))).real,cmap=\"coolwarm\")\n",
    "plt.colorbar()"
   ]
  },
  {
   "cell_type": "code",
   "execution_count": 58,
   "metadata": {
    "ExecuteTime": {
     "end_time": "2019-09-02T21:38:42.129098Z",
     "start_time": "2019-09-02T21:38:42.000449Z"
    }
   },
   "outputs": [
    {
     "data": {
      "text/plain": [
       "<matplotlib.image.AxesImage at 0x1b33069bcf8>"
      ]
     },
     "execution_count": 58,
     "metadata": {},
     "output_type": "execute_result"
    },
    {
     "data": {
      "image/png": "[encoded data removed]",
      "text/plain": [
       "<Figure size 432x288 with 1 Axes>"
      ]
     },
     "metadata": {
      "needs_background": "light"
     },
     "output_type": "display_data"
    }
   ],
   "source": [
    "plt.imshow(circulant(ifftshift(fft(fftshift(Mplusband_new))).real))"
   ]
  },
  {
   "cell_type": "code",
   "execution_count": 14,
   "metadata": {
    "ExecuteTime": {
     "end_time": "2019-08-29T13:07:42.558010Z",
     "start_time": "2019-08-29T13:07:42.386811Z"
    }
   },
   "outputs": [
    {
     "data": {
      "text/plain": [
       "<matplotlib.colorbar.Colorbar at 0x1f1ae28c8d0>"
      ]
     },
     "execution_count": 14,
     "metadata": {},
     "output_type": "execute_result"
    },
    {
     "data": {
      "image/png": "[encoded data removed]",
      "text/plain": [
       "<Figure size 432x288 with 2 Axes>"
      ]
     },
     "metadata": {
      "needs_background": "light"
     },
     "output_type": "display_data"
    }
   ],
   "source": [
    "plt.imshow(circulant(fft(Mplusband_new)[::-1].real))\n",
    "plt.colorbar()"
   ]
  },
  {
   "cell_type": "code",
   "execution_count": 29,
   "metadata": {
    "ExecuteTime": {
     "end_time": "2019-08-29T13:12:16.717910Z",
     "start_time": "2019-08-29T13:12:16.546599Z"
    }
   },
   "outputs": [
    {
     "data": {
      "text/plain": [
       "<matplotlib.colorbar.Colorbar at 0x1f1b34906a0>"
      ]
     },
     "execution_count": 29,
     "metadata": {},
     "output_type": "execute_result"
    },
    {
     "data": {
      "image/png": "[encoded data removed]",
      "text/plain": [
       "<Figure size 432x288 with 2 Axes>"
      ]
     },
     "metadata": {
      "needs_background": "light"
     },
     "output_type": "display_data"
    }
   ],
   "source": [
    "plt.imshow(circulant(fft(Mplusband_new)[::-1].real)[::-1])\n",
    "plt.colorbar()"
   ]
  },
  {
   "cell_type": "code",
   "execution_count": 26,
   "metadata": {
    "ExecuteTime": {
     "end_time": "2019-08-29T13:09:45.049325Z",
     "start_time": "2019-08-29T13:09:45.043372Z"
    }
   },
   "outputs": [
    {
     "data": {
      "text/plain": [
       "(36.3206529532368+0j)"
      ]
     },
     "execution_count": 26,
     "metadata": {},
     "output_type": "execute_result"
    }
   ],
   "source": [
    "circulant(fft(Mplusband_new)[::-1]).max()"
   ]
  },
  {
   "cell_type": "code",
   "execution_count": 15,
   "metadata": {
    "ExecuteTime": {
     "end_time": "2019-08-29T13:07:42.561993Z",
     "start_time": "2019-08-29T13:07:42.559001Z"
    }
   },
   "outputs": [],
   "source": [
    "from scipy.linalg import circulant"
   ]
  },
  {
   "cell_type": "code",
   "execution_count": 16,
   "metadata": {
    "ExecuteTime": {
     "end_time": "2019-08-29T13:07:42.577829Z",
     "start_time": "2019-08-29T13:07:42.562962Z"
    }
   },
   "outputs": [
    {
     "data": {
      "text/plain": [
       "array([[1, 2, 2],\n",
       "       [2, 1, 2],\n",
       "       [2, 2, 1]])"
      ]
     },
     "execution_count": 16,
     "metadata": {},
     "output_type": "execute_result"
    }
   ],
   "source": [
    "circulant([1,2,2,])"
   ]
  },
  {
   "cell_type": "code",
   "execution_count": 17,
   "metadata": {
    "ExecuteTime": {
     "end_time": "2019-08-29T13:07:42.722455Z",
     "start_time": "2019-08-29T13:07:42.578825Z"
    }
   },
   "outputs": [
    {
     "data": {
      "text/plain": [
       "[<matplotlib.lines.Line2D at 0x1f1b13eae48>]"
      ]
     },
     "execution_count": 17,
     "metadata": {},
     "output_type": "execute_result"
    },
    {
     "data": {
      "image/png": "[encoded data removed]",
      "text/plain": [
       "<Figure size 432x288 with 1 Axes>"
      ]
     },
     "metadata": {
      "needs_background": "light"
     },
     "output_type": "display_data"
    }
   ],
   "source": [
    "x=np.arange(-(N_size-1)/2,(N_size-1)/2+1)\n",
    "plt.plot(x,fft(Mminousband_new).real)"
   ]
  },
  {
   "cell_type": "code",
   "execution_count": 18,
   "metadata": {
    "ExecuteTime": {
     "end_time": "2019-08-29T13:07:42.849971Z",
     "start_time": "2019-08-29T13:07:42.727443Z"
    }
   },
   "outputs": [
    {
     "data": {
      "text/plain": [
       "[<matplotlib.lines.Line2D at 0x1f1b1451780>]"
      ]
     },
     "execution_count": 18,
     "metadata": {},
     "output_type": "execute_result"
    },
    {
     "data": {
      "image/png": "[encoded data removed]",
      "text/plain": [
       "<Figure size 432x288 with 1 Axes>"
      ]
     },
     "metadata": {
      "needs_background": "light"
     },
     "output_type": "display_data"
    }
   ],
   "source": [
    "plt.plot(x,(fft(Mplusband_new)+fft(Mminousband_new)).real)"
   ]
  },
  {
   "cell_type": "code",
   "execution_count": 19,
   "metadata": {
    "ExecuteTime": {
     "end_time": "2019-08-29T13:07:42.859915Z",
     "start_time": "2019-08-29T13:07:42.854962Z"
    }
   },
   "outputs": [
    {
     "data": {
      "text/plain": [
       "array([ 1.21629336e+01+0.j,  5.07187522e+00+0.j, -1.61041996e+00+0.j,\n",
       "        2.26932895e-01+0.j,  1.13009244e-01+0.j, -9.44683713e-02+0.j,\n",
       "        2.76302502e-02+0.j,  4.87190629e-03+0.j, -8.87471174e-03+0.j,\n",
       "        3.88231536e-03+0.j, -7.47196948e-05+0.j, -9.29783336e-04+0.j,\n",
       "        5.67885846e-04+0.j, -9.55946160e-05+0.j, -9.26936889e-05+0.j,\n",
       "        8.39298430e-05+0.j, -3.49000091e-05+0.j,  1.08276642e-05+0.j,\n",
       "        6.25327233e-06+0.j, -5.34671445e-05+0.j,  1.16768237e-04+0.j,\n",
       "       -8.57122730e-05+0.j, -1.91457398e-04+0.j,  6.68645380e-04+0.j,\n",
       "       -7.71396173e-04+0.j, -5.39935219e-04+0.j,  3.58687613e-03+0.j,\n",
       "       -5.69906800e-03+0.j,  2.49266217e-04+0.j,  1.80184462e-02+0.j,\n",
       "       -3.85338639e-02+0.j,  2.14965494e-02+0.j,  8.31762163e-02+0.j,\n",
       "       -2.49776305e-01+0.j,  2.50772572e-01+0.j,  3.31543622e-01+0.j,\n",
       "       -1.63867767e+00+0.j,  2.46044571e+00+0.j,  8.07490389e-01+0.j,\n",
       "       -1.32607027e+01+0.j,  3.63206530e+01+0.j])"
      ]
     },
     "execution_count": 19,
     "metadata": {},
     "output_type": "execute_result"
    }
   ],
   "source": [
    "(fft(Mplusband_new)+fft(Mminousband_new))"
   ]
  },
  {
   "cell_type": "code",
   "execution_count": 59,
   "metadata": {
    "ExecuteTime": {
     "end_time": "2019-09-02T21:40:01.038792Z",
     "start_time": "2019-09-02T21:40:01.031842Z"
    }
   },
   "outputs": [],
   "source": [
    "circulant?"
   ]
  },
  {
   "cell_type": "code",
   "execution_count": null,
   "metadata": {},
   "outputs": [],
   "source": []
  }
 ],
 "metadata": {
  "kernelspec": {
   "display_name": "Python 3",
   "language": "python",
   "name": "python3"
  },
  "language_info": {
   "codemirror_mode": {
    "name": "ipython",
    "version": 3
   },
   "file_extension": ".py",
   "mimetype": "text/x-python",
   "name": "python",
   "nbconvert_exporter": "python",
   "pygments_lexer": "ipython3",
   "version": "3.7.1"
  },
  "nbTranslate": {
   "displayLangs": [
    "*"
   ],
   "hotkey": "alt-t",
   "langInMainMenu": true,
   "sourceLang": "en",
   "targetLang": "fr",
   "useGoogleTranslate": true
  },
  "toc": {
   "base_numbering": 1,
   "nav_menu": {},
   "number_sections": true,
   "sideBar": true,
   "skip_h1_title": false,
   "title_cell": "Table of Contents",
   "title_sidebar": "Contents",
   "toc_cell": false,
   "toc_position": {},
   "toc_section_display": true,
   "toc_window_display": false
  },
  "varInspector": {
   "cols": {
    "lenName": 16,
    "lenType": 16,
    "lenVar": 40
   },
   "kernels_config": {
    "python": {
     "delete_cmd_postfix": "",
     "delete_cmd_prefix": "del ",
     "library": "var_list.py",
     "varRefreshCmd": "print(var_dic_list())"
    },
    "r": {
     "delete_cmd_postfix": ") ",
     "delete_cmd_prefix": "rm(",
     "library": "var_list.r",
     "varRefreshCmd": "cat(var_dic_list()) "
    }
   },
   "types_to_exclude": [
    "module",
    "function",
    "builtin_function_or_method",
    "instance",
    "_Feature"
   ],
   "window_display": false
  }
 },
 "nbformat": 4,
 "nbformat_minor": 2
}
