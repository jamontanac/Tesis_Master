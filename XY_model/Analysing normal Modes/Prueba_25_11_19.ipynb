{
 "cells": [
  {
   "cell_type": "code",
   "execution_count": 1,
   "metadata": {
    "ExecuteTime": {
     "end_time": "2019-11-25T13:59:05.389293Z",
     "start_time": "2019-11-25T13:59:03.099827Z"
    }
   },
   "outputs": [
    {
     "data": {
      "text/html": [
       "\n",
       "<style>\n",
       ".output {\n",
       "    display: flex;\n",
       "    align-items: left;\n",
       "    text-align: center;\n",
       "}\n",
       "</style>\n"
      ],
      "text/plain": [
       "<IPython.core.display.HTML object>"
      ]
     },
     "metadata": {},
     "output_type": "display_data"
    }
   ],
   "source": [
    "import numpy as np\n",
    "import matplotlib.pylab as plt\n",
    "import pandas as pd\n",
    "from ipywidgets import interactive\n",
    "import numpy as np\n",
    "import matplotlib.pylab as plt\n",
    "import pandas as pd\n",
    "from ipywidgets import interactive\n",
    "from scipy.fftpack import fft, ifft,ifftshift,fftshift\n",
    "from IPython.display import display, HTML\n",
    "from scipy.linalg import circulant\n",
    "from scipy.linalg import toeplitz, hankel\n",
    "from IPython.display import clear_output\n",
    "from scipy.linalg import expm\n",
    "import pickle\n",
    "from matplotlib import colors\n",
    "import h5py\n",
    "from tqdm import tqdm_notebook as tqdm\n",
    "#### --------- Definition of variables ------------------------\n",
    "\n",
    "N_size=50001 #\n",
    "Gamma=0.5\n",
    "Lambda=0.5\n",
    "num_data=2000\n",
    "#### ------------------------------------------------------------\n",
    "def Fermi_dirac(beta,mu,n,Gamma=Gamma,Lambda=Lambda,N=N_size):\n",
    "    # beta is the inverse thermic energy associated in the system (beta)\n",
    "    # mu corresponds to the chemical potential\n",
    "    # n is the position of the particle\n",
    "    # f=np.exp(T*(Omega(Gamma,Lambda,2.0*(np.pi/N)*n)-mu)) +1\n",
    "    # N corresponds to the size of the system\n",
    "    f=np.exp(beta*(Omega(Gamma,Lambda,((2.*np.pi)/float(N)) * n)-mu)) +1\n",
    "    return 1/f\n",
    "\n",
    "\n",
    "display(HTML(\"\"\"\n",
    "<style>\n",
    ".output {\n",
    "    display: flex;\n",
    "    align-items: left;\n",
    "    text-align: center;\n",
    "}\n",
    "</style>\n",
    "\"\"\"))\n",
    "\n",
    "def Alpha(Gamma,Lambda,theta):\n",
    "    return Lambda+np.cos(theta)\n",
    "def Beta(Gamma,Lambda,theta):\n",
    "    return Gamma*np.sin(theta)\n",
    "def Omega(Gamma,Lambda,theta):\n",
    "    return np.sqrt(Alpha(Gamma,Lambda,theta)**2 + Beta(Gamma,Lambda,theta)**2 )\n",
    "def Phi(Gamma,Lambda,theta):\n",
    "    return np.arctan2(Beta(Gamma,Lambda,theta),Alpha(Gamma,Lambda,theta))\n",
    "\n",
    "\n",
    "def Get_Bands_Matrix(N_size,Gamma=Gamma,Lambda=Lambda,beta=0.40824,mu=0,Ground =False):\n",
    "    if Ground:\n",
    "        x=np.arange(0,(N_size-1)/2+ 1)\n",
    "        m_cos=[-0.5 for i in x]\n",
    "        m_sin=[-0.5 for i in x]\n",
    "        x=np.arange(-(N_size-1)/2,(N_size-1)/2+1)\n",
    "        M_minous=[((m_cos[np.abs(int(i))]-m_sin[np.abs(int(i))])*0.5*np.exp(1.j*np.sign((2.0*np.pi/N_size) * i)*Phi(Gamma,Lambda,np.abs((2.0*np.pi/N_size) * i)))) for i in x]\n",
    "        M_plus = [((m_cos[np.abs(int(i))]+m_sin[np.abs(int(i))])*0.5*np.exp(1.j*np.sign((2.0*np.pi/N_size) * i)*Phi(Gamma,Lambda,np.abs((2.0*np.pi/N_size) * i)))) for i in x]\n",
    "        Mminousband=np.array(M_minous)\n",
    "        Mplusband=np.array(M_plus)\n",
    "        \n",
    "    else:\n",
    "        x=np.arange(0,(N_size-1)/2+ 1)\n",
    "        m_cos=[-0.5 if np.random.random()>Fermi_dirac(beta,mu,n=i) else 0.5 for i in x]\n",
    "        m_sin=[-0.5 if np.random.random()>Fermi_dirac(beta,mu,n=i) else 0.5 for i in x]\n",
    "        x=np.arange(-(N_size-1)/2,(N_size-1)/2+1)\n",
    "\n",
    "        M_minous=[((m_cos[np.abs(int(i))]-m_sin[np.abs(int(i))])*0.5*np.exp(1.j*np.sign((2.0*np.pi/N_size) * i)*Phi(Gamma,Lambda,np.abs((2.0*np.pi/N_size) * i)))) for i in x]\n",
    "        M_plus = [((m_cos[np.abs(int(i))]+m_sin[np.abs(int(i))])*0.5*np.exp(1.j*np.sign((2.0*np.pi/N_size) * i)*Phi(Gamma,Lambda,np.abs((2.0*np.pi/N_size) * i)))) for i in x]\n",
    "        Mminousband=np.array(M_minous)\n",
    "        Mplusband=np.array(M_plus)\n",
    "        \n",
    "    x=np.arange(-(N_size-1)/2,(N_size-1)/2+ 1)\n",
    "    Fourier_plus=fft(ifftshift(Mplusband))\n",
    "    Fourier_minous=fft(ifftshift(Mminousband))\n",
    "    return Fourier_plus/N_size,Fourier_minous/N_size\n",
    "\n",
    "def Toeplitz_matrix(Fourier_plus,L):\n",
    "    First_column = Fourier_plus[:L]\n",
    "    First_row = np.roll(Fourier_plus,-1)[::-1][:L]\n",
    "    return toeplitz(First_column,First_row)\n",
    "def Hankel_matrix(Fourier_minous,L):\n",
    "    to_use=Fourier_minous[:2*L-1]\n",
    "    First_column=to_use[:L]\n",
    "    Last_row=np.roll(to_use,-L+1)[:L]\n",
    "    return hankel(First_column,Last_row)\n",
    "\n",
    "def Covariance_matrix(L,Gamma=Gamma,Lambda=Lambda,beta=0.40824,mu=0,N_size=N_size,Ground=False):\n",
    "    if Ground:\n",
    "        Fourier_plus,Fourier_minous=Get_Bands_Matrix(Gamma=Gamma,Lambda=Lambda,N_size=N_size,beta=beta,mu=mu,Ground=True)\n",
    "    else:\n",
    "        Fourier_plus,Fourier_minous=Get_Bands_Matrix(Gamma=Gamma,Lambda=Lambda,N_size=N_size,beta=beta,mu=mu,Ground=False)\n",
    "    return (Toeplitz_matrix(Fourier_plus,L)+Hankel_matrix(Fourier_minous,L))\n",
    "\n",
    "def Covariance_matrix_from_sub_sample(Fourier_plus,Fourier_minous,L):\n",
    "    return (Toeplitz_matrix(Fourier_plus,L)+Hankel_matrix(Fourier_minous,L))\n",
    "\n",
    "\n",
    "def print_progress(total,step,num=50):\n",
    "    message=\"[\"+\"=\"*int(num*((step/total)))+\" \"*int(num*(1-(step/total)))+\"]\"\n",
    "    message+=\"  \"+str(round(step/total*100,3))+ \" \"+ \"%\"\n",
    "    print(message,end=\"\\r\")\n",
    "    \n",
    "def get_band_of_matrix(Matrix,num_band):\n",
    "    L,C=Matrix.shape\n",
    "    if L!=C:\n",
    "        raise ValueError(\"Only squared matrix can be computed\")\n",
    "    if num_band > 0:\n",
    "        return np.array([[Matrix[i,j] for i in range(num_band,L) if i-j == num_band] for j in range(L-num_band)]).reshape(L-num_band)\n",
    "    elif num_band <0:\n",
    "        return np.array([[Matrix[i,j] for i in range(L) if i-j == num_band] for j in range(-num_band,L)]).reshape(L+num_band)\n",
    "    else:\n",
    "        return np.diagonal(Matrix)"
   ]
  },
  {
   "cell_type": "code",
   "execution_count": 2,
   "metadata": {
    "ExecuteTime": {
     "end_time": "2019-11-25T13:59:07.425479Z",
     "start_time": "2019-11-25T13:59:07.419467Z"
    }
   },
   "outputs": [],
   "source": [
    "f = h5py.File('Data_Fourier.h5','r')\n",
    "name_minous=\"Fourier_minous\"\n",
    "name_plus=\"Fourier_plus\"\n",
    "Data=[i if i%2!=0 else i+1 for i in np.logspace(2,5,dtype=np.int,num=50)]"
   ]
  },
  {
   "cell_type": "code",
   "execution_count": 3,
   "metadata": {
    "ExecuteTime": {
     "end_time": "2019-11-25T13:59:22.692435Z",
     "start_time": "2019-11-25T13:59:12.204113Z"
    }
   },
   "outputs": [
    {
     "data": {
      "image/png": "[encoded data removed]",
      "text/plain": [
       "<Figure size 432x288 with 1 Axes>"
      ]
     },
     "metadata": {
      "needs_background": "light"
     },
     "output_type": "display_data"
    },
    {
     "name": "stdout",
     "output_type": "stream",
     "text": [
      "\n"
     ]
    }
   ],
   "source": [
    "rango = range(10, 500,5)\n",
    "for L in tqdm(rango):\n",
    "    clear_output(wait=True)\n",
    "    n=np.arange(-(L-1)/2,(L-1)/2 +1)\n",
    "    fermi=Fermi_dirac(beta=0.40824,mu=0,n=n,Gamma=Gamma,Lambda=Lambda,N=L)\n",
    "    plt.plot(sorted(fermi*(1-fermi)/2,reverse=True))\n",
    "    plt.show()\n",
    "    "
   ]
  },
  {
   "cell_type": "code",
   "execution_count": 6,
   "metadata": {
    "ExecuteTime": {
     "end_time": "2019-11-25T14:01:22.588322Z",
     "start_time": "2019-11-25T14:01:21.707566Z"
    }
   },
   "outputs": [],
   "source": [
    "F_minous=f[name_minous+\"_\"+str(Data[-1])].value\n",
    "F_plus=f[name_plus+\"_\"+str(Data[-1])].value"
   ]
  },
  {
   "cell_type": "code",
   "execution_count": 9,
   "metadata": {
    "ExecuteTime": {
     "end_time": "2019-11-25T14:10:35.184075Z",
     "start_time": "2019-11-25T14:10:21.157812Z"
    }
   },
   "outputs": [
    {
     "data": {
      "image/png": "[encoded data removed]",
      "text/plain": [
       "<Figure size 432x288 with 1 Axes>"
      ]
     },
     "metadata": {
      "needs_background": "light"
     },
     "output_type": "display_data"
    },
    {
     "name": "stdout",
     "output_type": "stream",
     "text": [
      "\n"
     ]
    }
   ],
   "source": [
    "rango = range(10, 500,5)\n",
    "for L in tqdm(rango):\n",
    "    clear_output(wait=True)\n",
    "    T=Toeplitz_matrix(F_plus[0,:],L)\n",
    "    n=np.arange(-(L-1)/2,(L-1)/2 +1)\n",
    "    fermi=Fermi_dirac(beta=0.40824,mu=0,n=n,Gamma=Gamma,Lambda=Lambda,N=L)\n",
    "    plt.plot(sorted(fermi*(1-fermi)/2,reverse=True))\n",
    "    S=np.linalg.svd(T,compute_uv=False)\n",
    "    plt.plot(S)\n",
    "    plt.show()\n",
    "    "
   ]
  },
  {
   "cell_type": "code",
   "execution_count": null,
   "metadata": {},
   "outputs": [],
   "source": [
    "\n",
    "for number in Data:\n",
    "    print(\"Starting size = {}\".format(number))\n",
    "    F_minous=f[name_minous+\"_\"+str(number)].value\n",
    "    F_plus=f[name_plus+\"_\"+str(number)].value"
   ]
  }
 ],
 "metadata": {
  "kernelspec": {
   "display_name": "Python 3",
   "language": "python",
   "name": "python3"
  },
  "language_info": {
   "codemirror_mode": {
    "name": "ipython",
    "version": 3
   },
   "file_extension": ".py",
   "mimetype": "text/x-python",
   "name": "python",
   "nbconvert_exporter": "python",
   "pygments_lexer": "ipython3",
   "version": "3.7.1"
  },
  "nbTranslate": {
   "displayLangs": [
    "*"
   ],
   "hotkey": "alt-t",
   "langInMainMenu": true,
   "sourceLang": "en",
   "targetLang": "fr",
   "useGoogleTranslate": true
  },
  "toc": {
   "base_numbering": 1,
   "nav_menu": {},
   "number_sections": true,
   "sideBar": true,
   "skip_h1_title": false,
   "title_cell": "Table of Contents",
   "title_sidebar": "Contents",
   "toc_cell": false,
   "toc_position": {},
   "toc_section_display": true,
   "toc_window_display": false
  },
  "varInspector": {
   "cols": {
    "lenName": 16,
    "lenType": 16,
    "lenVar": 40
   },
   "kernels_config": {
    "python": {
     "delete_cmd_postfix": "",
     "delete_cmd_prefix": "del ",
     "library": "var_list.py",
     "varRefreshCmd": "print(var_dic_list())"
    },
    "r": {
     "delete_cmd_postfix": ") ",
     "delete_cmd_prefix": "rm(",
     "library": "var_list.r",
     "varRefreshCmd": "cat(var_dic_list()) "
    }
   },
   "types_to_exclude": [
    "module",
    "function",
    "builtin_function_or_method",
    "instance",
    "_Feature"
   ],
   "window_display": false
  }
 },
 "nbformat": 4,
 "nbformat_minor": 2
}
